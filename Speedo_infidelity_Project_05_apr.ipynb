{
  "nbformat": 4,
  "nbformat_minor": 0,
  "metadata": {
    "colab": {
      "name": " Speedo_infidelity_Project_05_apr",
      "provenance": [],
      "collapsed_sections": [
        "CjNIua7HCLW7",
        "eJTU_zCJXqlS",
        "ElfZBqADDDGp"
      ],
      "include_colab_link": true
    },
    "kernelspec": {
      "name": "python3",
      "display_name": "Python 3"
    },
    "language_info": {
      "name": "python"
    }
  },
  "cells": [
    {
      "cell_type": "markdown",
      "metadata": {
        "id": "view-in-github",
        "colab_type": "text"
      },
      "source": [
        "<a href=\"https://colab.research.google.com/github/jonahokiru/hello-world/blob/master/Speedo_infidelity_Project_05_apr.ipynb\" target=\"_parent\"><img src=\"https://colab.research.google.com/assets/colab-badge.svg\" alt=\"Open In Colab\"/></a>"
      ]
    },
    {
      "cell_type": "markdown",
      "source": [
        "# Business Understanding\n",
        "\n",
        "\n",
        "## Business Overview\n",
        "\n",
        "\n",
        "In a study titled America's Generation Gap in Extramarital Affairs, 20% of older couples noted that they had cheated during their marriage. About 14% of couples under the age of 55 reported adultery in their marriage. Most people who cheat have been married for 20 to 30 years and are between the age of 50 and 60.\n",
        "Since the groundbreaking study of Kinsey (1948) on human sexuality that explored the extramarital sexual behavior of American men and women, a host of factors have been examined as correlates of extramarital sexual behavior. Most prominent among these factors is the role of marital satisfaction on the extramarital activity of husbands and wives (e.g. Glass and Wright, 1977). Other correlates of extramarital sex that were found in previous studies are largely demographic and socio-economic characteristics."
      ],
      "metadata": {
        "id": "QM5vtcCI9eKG"
      }
    },
    {
      "cell_type": "markdown",
      "source": [
        "## Problem Statement.\n",
        "\n",
        "\n",
        "People in most cultures view sexual fidelity as one of the key foundations of a strong marital relationship. When a person engages in extramarital affairs, irrespective of the length of involvement in such an activity and whether or not the spouse is aware of it, the mutual 'trust' in 'sexual fidelity' takes an intrinsic blow. However, most people are unaware of the factors that most contribute to infidelity. This document seeks to enlighten people on the same."
      ],
      "metadata": {
        "id": "_5ZF5B5D9X24"
      }
    },
    {
      "cell_type": "markdown",
      "source": [
        "## Objectives:\n",
        "\n",
        "### General Objective:\n",
        "\n",
        "\n",
        "\n",
        "•To determine what factor(s) contribute(s) to an individual having an extramarital affair.\n",
        "\n",
        "### Specific Objectives:\n",
        "\n",
        "\n",
        "\n",
        "•To determine which gender has more extramarital affairs.\n",
        "\n",
        "\n",
        "\n",
        "•To determine which age/age bracket has more extramarital affairs.\n",
        "\n",
        "\n",
        "\n",
        "•To investigate which education level has the highest number of extramarital affairs.\n",
        "\n",
        "\n",
        "\n",
        "•To investigate which occupation has the highest number of extramarital affairs."
      ],
      "metadata": {
        "id": "BRWzCWrkWkSm"
      }
    },
    {
      "cell_type": "markdown",
      "source": [
        "## Research Questions:\n",
        "\n",
        "\n",
        "\n",
        "• What factor(s) contribute(s) to an individual having an extramarital affair?\n",
        "\n",
        "\n",
        "\n",
        "• Which gender has more extramarital affairs?\n",
        "\n",
        "\n",
        "\n",
        "• Which age/age bracket has more extramarital affairs?\n",
        "\n",
        "\n",
        "\n",
        "• Which education level has the highest number of extramarital affairs?\n",
        "\n",
        "\n",
        "\n",
        "• Which occupation has the highest number of extramarital affairs?"
      ],
      "metadata": {
        "id": "tS9rHSU8_aq0"
      }
    },
    {
      "cell_type": "markdown",
      "source": [
        "## Business Metric of Success\n",
        "\n",
        "\n",
        "\n",
        "•Successfully determining which factor(s) contribute(s) more to extramarital affairs."
      ],
      "metadata": {
        "id": "t65S4MUJ_maW"
      }
    },
    {
      "cell_type": "markdown",
      "source": [
        "# Importing libraries"
      ],
      "metadata": {
        "id": "8vMTEBmGCxpx"
      }
    },
    {
      "cell_type": "code",
      "execution_count": null,
      "metadata": {
        "id": "RZk3enJFCGmg"
      },
      "outputs": [],
      "source": [
        "import pandas as pd\n",
        "import numpy as np\n",
        "import matplotlib.pyplot as plt\n",
        "import seaborn as sns\n",
        "\n",
        "from sklearn.linear_model import LogisticRegression\n",
        "from sklearn.datasets import make_classification\n",
        "from sklearn.model_selection import train_test_split\n",
        "\n",
        "from imblearn import under_sampling \n",
        "from imblearn import over_sampling\n",
        "from imblearn.over_sampling import SMOTE\n",
        "\n",
        "import scipy.stats.distributions as dist\n",
        "\n",
        "from collections import Counter"
      ]
    },
    {
      "cell_type": "markdown",
      "source": [
        "# Loading the dataset"
      ],
      "metadata": {
        "id": "seQsiS41EUjL"
      }
    },
    {
      "cell_type": "code",
      "source": [
        "Affairs=pd.read_csv('/content/Affairs (1).csv')"
      ],
      "metadata": {
        "id": "RQ52o3wzEZvL"
      },
      "execution_count": null,
      "outputs": []
    },
    {
      "cell_type": "markdown",
      "source": [
        "# Data description\n",
        "\n",
        "**affairs**         : How often engaged in extramarital sexual intercourse during the past year; 0=none, 1=once, 2=twice, 3=3 times, 7= 4-10 times, 12=monthly/weekly/daily\n",
        "\n",
        "**gender**: Male or Female\n",
        "\n",
        "**age**: Age\n",
        "\n",
        "**yrs_married**: Number of years married\n",
        "\n",
        "**children**: Yes or No \n",
        "\n",
        "**religiousness**  : How religious, 1 = not, 2 = mildly, 3 = fairly, 4 = strongly\n",
        "\n",
        "**education**     : Level of education, 9 = grade school, 12 = high school, 14 = some college, 16 = college graduate, 17 = some graduate school, 18= graduate,  20 = advanced degree\n",
        "\n",
        "**occupation**     : 1 = student, 2=unskilled worker,farming, agriculture, 3 = semi-skilled, 4 = white-collar; 5 = teacher, counselor, social worker, nurse; artist, writers; technician, skilled worker, 6 = managerial,administrative, business, 7 = professional with advanced degree\n",
        "\n",
        "**rating**  : How rate marriage, 1 = very poor, 2 = poor, 3 = fair, 4 = good, 5 = very good\n",
        "\n",
        "[more info](https://drive.google.com/file/d/1L7lnXGN9UGxkaSp8RTQhHgvFJ5B9BbeX/view?usp=sharing)"
      ],
      "metadata": {
        "id": "_E5k3ckAxbFU"
      }
    },
    {
      "cell_type": "markdown",
      "source": [
        "# Data Exploration"
      ],
      "metadata": {
        "id": "BMCyiGZJFInt"
      }
    },
    {
      "cell_type": "code",
      "source": [
        "#checking the number of records in the data\n",
        "Affairs.shape\n"
      ],
      "metadata": {
        "id": "7vgW5mZoHvrC",
        "colab": {
          "base_uri": "https://localhost:8080/"
        },
        "outputId": "b1def9d6-bf08-43d9-d3a7-10de722ce506"
      },
      "execution_count": null,
      "outputs": [
        {
          "output_type": "execute_result",
          "data": {
            "text/plain": [
              "(601, 11)"
            ]
          },
          "metadata": {},
          "execution_count": 3
        }
      ]
    },
    {
      "cell_type": "markdown",
      "source": [
        "The dataset has 601 rows and 10 columns"
      ],
      "metadata": {
        "id": "UGiGpZSLJbXF"
      }
    },
    {
      "cell_type": "code",
      "source": [
        "# checking the top part of the dataset\n",
        "Affairs.head(4)"
      ],
      "metadata": {
        "id": "8GGiuXjLFVW0",
        "colab": {
          "base_uri": "https://localhost:8080/",
          "height": 256
        },
        "outputId": "ed9eb482-196b-4547-d62b-7c9141c1dc26"
      },
      "execution_count": null,
      "outputs": [
        {
          "output_type": "execute_result",
          "data": {
            "text/plain": [
              "   Unnamed: 0 Country  affairs  gender   age  yearsmarried children  \\\n",
              "0           4     USA        0    male  37.0          10.0       no   \n",
              "1           5     USA        0  female  27.0           4.0       no   \n",
              "2          11     USA        0  female  32.0          15.0      yes   \n",
              "3          16     USA        0    male  57.0          15.0      yes   \n",
              "\n",
              "   religiousness  education  occupation  rating  \n",
              "0              3         18           7       4  \n",
              "1              4         14           6       4  \n",
              "2              1         12           1       4  \n",
              "3              5         18           6       5  "
            ],
            "text/html": [
              "\n",
              "  <div id=\"df-709202a8-d0d9-4c8b-9b47-46b8e8461350\">\n",
              "    <div class=\"colab-df-container\">\n",
              "      <div>\n",
              "<style scoped>\n",
              "    .dataframe tbody tr th:only-of-type {\n",
              "        vertical-align: middle;\n",
              "    }\n",
              "\n",
              "    .dataframe tbody tr th {\n",
              "        vertical-align: top;\n",
              "    }\n",
              "\n",
              "    .dataframe thead th {\n",
              "        text-align: right;\n",
              "    }\n",
              "</style>\n",
              "<table border=\"1\" class=\"dataframe\">\n",
              "  <thead>\n",
              "    <tr style=\"text-align: right;\">\n",
              "      <th></th>\n",
              "      <th>Unnamed: 0</th>\n",
              "      <th>Country</th>\n",
              "      <th>affairs</th>\n",
              "      <th>gender</th>\n",
              "      <th>age</th>\n",
              "      <th>yearsmarried</th>\n",
              "      <th>children</th>\n",
              "      <th>religiousness</th>\n",
              "      <th>education</th>\n",
              "      <th>occupation</th>\n",
              "      <th>rating</th>\n",
              "    </tr>\n",
              "  </thead>\n",
              "  <tbody>\n",
              "    <tr>\n",
              "      <th>0</th>\n",
              "      <td>4</td>\n",
              "      <td>USA</td>\n",
              "      <td>0</td>\n",
              "      <td>male</td>\n",
              "      <td>37.0</td>\n",
              "      <td>10.0</td>\n",
              "      <td>no</td>\n",
              "      <td>3</td>\n",
              "      <td>18</td>\n",
              "      <td>7</td>\n",
              "      <td>4</td>\n",
              "    </tr>\n",
              "    <tr>\n",
              "      <th>1</th>\n",
              "      <td>5</td>\n",
              "      <td>USA</td>\n",
              "      <td>0</td>\n",
              "      <td>female</td>\n",
              "      <td>27.0</td>\n",
              "      <td>4.0</td>\n",
              "      <td>no</td>\n",
              "      <td>4</td>\n",
              "      <td>14</td>\n",
              "      <td>6</td>\n",
              "      <td>4</td>\n",
              "    </tr>\n",
              "    <tr>\n",
              "      <th>2</th>\n",
              "      <td>11</td>\n",
              "      <td>USA</td>\n",
              "      <td>0</td>\n",
              "      <td>female</td>\n",
              "      <td>32.0</td>\n",
              "      <td>15.0</td>\n",
              "      <td>yes</td>\n",
              "      <td>1</td>\n",
              "      <td>12</td>\n",
              "      <td>1</td>\n",
              "      <td>4</td>\n",
              "    </tr>\n",
              "    <tr>\n",
              "      <th>3</th>\n",
              "      <td>16</td>\n",
              "      <td>USA</td>\n",
              "      <td>0</td>\n",
              "      <td>male</td>\n",
              "      <td>57.0</td>\n",
              "      <td>15.0</td>\n",
              "      <td>yes</td>\n",
              "      <td>5</td>\n",
              "      <td>18</td>\n",
              "      <td>6</td>\n",
              "      <td>5</td>\n",
              "    </tr>\n",
              "  </tbody>\n",
              "</table>\n",
              "</div>\n",
              "      <button class=\"colab-df-convert\" onclick=\"convertToInteractive('df-709202a8-d0d9-4c8b-9b47-46b8e8461350')\"\n",
              "              title=\"Convert this dataframe to an interactive table.\"\n",
              "              style=\"display:none;\">\n",
              "        \n",
              "  <svg xmlns=\"http://www.w3.org/2000/svg\" height=\"24px\"viewBox=\"0 0 24 24\"\n",
              "       width=\"24px\">\n",
              "    <path d=\"M0 0h24v24H0V0z\" fill=\"none\"/>\n",
              "    <path d=\"M18.56 5.44l.94 2.06.94-2.06 2.06-.94-2.06-.94-.94-2.06-.94 2.06-2.06.94zm-11 1L8.5 8.5l.94-2.06 2.06-.94-2.06-.94L8.5 2.5l-.94 2.06-2.06.94zm10 10l.94 2.06.94-2.06 2.06-.94-2.06-.94-.94-2.06-.94 2.06-2.06.94z\"/><path d=\"M17.41 7.96l-1.37-1.37c-.4-.4-.92-.59-1.43-.59-.52 0-1.04.2-1.43.59L10.3 9.45l-7.72 7.72c-.78.78-.78 2.05 0 2.83L4 21.41c.39.39.9.59 1.41.59.51 0 1.02-.2 1.41-.59l7.78-7.78 2.81-2.81c.8-.78.8-2.07 0-2.86zM5.41 20L4 18.59l7.72-7.72 1.47 1.35L5.41 20z\"/>\n",
              "  </svg>\n",
              "      </button>\n",
              "      \n",
              "  <style>\n",
              "    .colab-df-container {\n",
              "      display:flex;\n",
              "      flex-wrap:wrap;\n",
              "      gap: 12px;\n",
              "    }\n",
              "\n",
              "    .colab-df-convert {\n",
              "      background-color: #E8F0FE;\n",
              "      border: none;\n",
              "      border-radius: 50%;\n",
              "      cursor: pointer;\n",
              "      display: none;\n",
              "      fill: #1967D2;\n",
              "      height: 32px;\n",
              "      padding: 0 0 0 0;\n",
              "      width: 32px;\n",
              "    }\n",
              "\n",
              "    .colab-df-convert:hover {\n",
              "      background-color: #E2EBFA;\n",
              "      box-shadow: 0px 1px 2px rgba(60, 64, 67, 0.3), 0px 1px 3px 1px rgba(60, 64, 67, 0.15);\n",
              "      fill: #174EA6;\n",
              "    }\n",
              "\n",
              "    [theme=dark] .colab-df-convert {\n",
              "      background-color: #3B4455;\n",
              "      fill: #D2E3FC;\n",
              "    }\n",
              "\n",
              "    [theme=dark] .colab-df-convert:hover {\n",
              "      background-color: #434B5C;\n",
              "      box-shadow: 0px 1px 3px 1px rgba(0, 0, 0, 0.15);\n",
              "      filter: drop-shadow(0px 1px 2px rgba(0, 0, 0, 0.3));\n",
              "      fill: #FFFFFF;\n",
              "    }\n",
              "  </style>\n",
              "\n",
              "      <script>\n",
              "        const buttonEl =\n",
              "          document.querySelector('#df-709202a8-d0d9-4c8b-9b47-46b8e8461350 button.colab-df-convert');\n",
              "        buttonEl.style.display =\n",
              "          google.colab.kernel.accessAllowed ? 'block' : 'none';\n",
              "\n",
              "        async function convertToInteractive(key) {\n",
              "          const element = document.querySelector('#df-709202a8-d0d9-4c8b-9b47-46b8e8461350');\n",
              "          const dataTable =\n",
              "            await google.colab.kernel.invokeFunction('convertToInteractive',\n",
              "                                                     [key], {});\n",
              "          if (!dataTable) return;\n",
              "\n",
              "          const docLinkHtml = 'Like what you see? Visit the ' +\n",
              "            '<a target=\"_blank\" href=https://colab.research.google.com/notebooks/data_table.ipynb>data table notebook</a>'\n",
              "            + ' to learn more about interactive tables.';\n",
              "          element.innerHTML = '';\n",
              "          dataTable['output_type'] = 'display_data';\n",
              "          await google.colab.output.renderOutput(dataTable, element);\n",
              "          const docLink = document.createElement('div');\n",
              "          docLink.innerHTML = docLinkHtml;\n",
              "          element.appendChild(docLink);\n",
              "        }\n",
              "      </script>\n",
              "    </div>\n",
              "  </div>\n",
              "  "
            ]
          },
          "metadata": {},
          "execution_count": 4
        }
      ]
    },
    {
      "cell_type": "code",
      "source": [
        "# previewing the bottom part of the dataset\n",
        "Affairs.tail(3)"
      ],
      "metadata": {
        "id": "wKPMk6OtGZ8b",
        "colab": {
          "base_uri": "https://localhost:8080/",
          "height": 225
        },
        "outputId": "fa59885d-2198-44e5-d9e3-bbd2a78b7af3"
      },
      "execution_count": null,
      "outputs": [
        {
          "output_type": "execute_result",
          "data": {
            "text/plain": [
              "     Unnamed: 0 Country  affairs  gender   age  yearsmarried children  \\\n",
              "598        1954     USA        2    male  32.0          10.0      yes   \n",
              "599        1959     USA        2    male  22.0           7.0      yes   \n",
              "600        9010     USA        1  female  32.0          15.0      yes   \n",
              "\n",
              "     religiousness  education  occupation  rating  \n",
              "598              2         17           6       5  \n",
              "599              3         18           6       2  \n",
              "600              3         14           1       5  "
            ],
            "text/html": [
              "\n",
              "  <div id=\"df-2475207e-ab62-4b5f-b8d8-4fd0b82be3c0\">\n",
              "    <div class=\"colab-df-container\">\n",
              "      <div>\n",
              "<style scoped>\n",
              "    .dataframe tbody tr th:only-of-type {\n",
              "        vertical-align: middle;\n",
              "    }\n",
              "\n",
              "    .dataframe tbody tr th {\n",
              "        vertical-align: top;\n",
              "    }\n",
              "\n",
              "    .dataframe thead th {\n",
              "        text-align: right;\n",
              "    }\n",
              "</style>\n",
              "<table border=\"1\" class=\"dataframe\">\n",
              "  <thead>\n",
              "    <tr style=\"text-align: right;\">\n",
              "      <th></th>\n",
              "      <th>Unnamed: 0</th>\n",
              "      <th>Country</th>\n",
              "      <th>affairs</th>\n",
              "      <th>gender</th>\n",
              "      <th>age</th>\n",
              "      <th>yearsmarried</th>\n",
              "      <th>children</th>\n",
              "      <th>religiousness</th>\n",
              "      <th>education</th>\n",
              "      <th>occupation</th>\n",
              "      <th>rating</th>\n",
              "    </tr>\n",
              "  </thead>\n",
              "  <tbody>\n",
              "    <tr>\n",
              "      <th>598</th>\n",
              "      <td>1954</td>\n",
              "      <td>USA</td>\n",
              "      <td>2</td>\n",
              "      <td>male</td>\n",
              "      <td>32.0</td>\n",
              "      <td>10.0</td>\n",
              "      <td>yes</td>\n",
              "      <td>2</td>\n",
              "      <td>17</td>\n",
              "      <td>6</td>\n",
              "      <td>5</td>\n",
              "    </tr>\n",
              "    <tr>\n",
              "      <th>599</th>\n",
              "      <td>1959</td>\n",
              "      <td>USA</td>\n",
              "      <td>2</td>\n",
              "      <td>male</td>\n",
              "      <td>22.0</td>\n",
              "      <td>7.0</td>\n",
              "      <td>yes</td>\n",
              "      <td>3</td>\n",
              "      <td>18</td>\n",
              "      <td>6</td>\n",
              "      <td>2</td>\n",
              "    </tr>\n",
              "    <tr>\n",
              "      <th>600</th>\n",
              "      <td>9010</td>\n",
              "      <td>USA</td>\n",
              "      <td>1</td>\n",
              "      <td>female</td>\n",
              "      <td>32.0</td>\n",
              "      <td>15.0</td>\n",
              "      <td>yes</td>\n",
              "      <td>3</td>\n",
              "      <td>14</td>\n",
              "      <td>1</td>\n",
              "      <td>5</td>\n",
              "    </tr>\n",
              "  </tbody>\n",
              "</table>\n",
              "</div>\n",
              "      <button class=\"colab-df-convert\" onclick=\"convertToInteractive('df-2475207e-ab62-4b5f-b8d8-4fd0b82be3c0')\"\n",
              "              title=\"Convert this dataframe to an interactive table.\"\n",
              "              style=\"display:none;\">\n",
              "        \n",
              "  <svg xmlns=\"http://www.w3.org/2000/svg\" height=\"24px\"viewBox=\"0 0 24 24\"\n",
              "       width=\"24px\">\n",
              "    <path d=\"M0 0h24v24H0V0z\" fill=\"none\"/>\n",
              "    <path d=\"M18.56 5.44l.94 2.06.94-2.06 2.06-.94-2.06-.94-.94-2.06-.94 2.06-2.06.94zm-11 1L8.5 8.5l.94-2.06 2.06-.94-2.06-.94L8.5 2.5l-.94 2.06-2.06.94zm10 10l.94 2.06.94-2.06 2.06-.94-2.06-.94-.94-2.06-.94 2.06-2.06.94z\"/><path d=\"M17.41 7.96l-1.37-1.37c-.4-.4-.92-.59-1.43-.59-.52 0-1.04.2-1.43.59L10.3 9.45l-7.72 7.72c-.78.78-.78 2.05 0 2.83L4 21.41c.39.39.9.59 1.41.59.51 0 1.02-.2 1.41-.59l7.78-7.78 2.81-2.81c.8-.78.8-2.07 0-2.86zM5.41 20L4 18.59l7.72-7.72 1.47 1.35L5.41 20z\"/>\n",
              "  </svg>\n",
              "      </button>\n",
              "      \n",
              "  <style>\n",
              "    .colab-df-container {\n",
              "      display:flex;\n",
              "      flex-wrap:wrap;\n",
              "      gap: 12px;\n",
              "    }\n",
              "\n",
              "    .colab-df-convert {\n",
              "      background-color: #E8F0FE;\n",
              "      border: none;\n",
              "      border-radius: 50%;\n",
              "      cursor: pointer;\n",
              "      display: none;\n",
              "      fill: #1967D2;\n",
              "      height: 32px;\n",
              "      padding: 0 0 0 0;\n",
              "      width: 32px;\n",
              "    }\n",
              "\n",
              "    .colab-df-convert:hover {\n",
              "      background-color: #E2EBFA;\n",
              "      box-shadow: 0px 1px 2px rgba(60, 64, 67, 0.3), 0px 1px 3px 1px rgba(60, 64, 67, 0.15);\n",
              "      fill: #174EA6;\n",
              "    }\n",
              "\n",
              "    [theme=dark] .colab-df-convert {\n",
              "      background-color: #3B4455;\n",
              "      fill: #D2E3FC;\n",
              "    }\n",
              "\n",
              "    [theme=dark] .colab-df-convert:hover {\n",
              "      background-color: #434B5C;\n",
              "      box-shadow: 0px 1px 3px 1px rgba(0, 0, 0, 0.15);\n",
              "      filter: drop-shadow(0px 1px 2px rgba(0, 0, 0, 0.3));\n",
              "      fill: #FFFFFF;\n",
              "    }\n",
              "  </style>\n",
              "\n",
              "      <script>\n",
              "        const buttonEl =\n",
              "          document.querySelector('#df-2475207e-ab62-4b5f-b8d8-4fd0b82be3c0 button.colab-df-convert');\n",
              "        buttonEl.style.display =\n",
              "          google.colab.kernel.accessAllowed ? 'block' : 'none';\n",
              "\n",
              "        async function convertToInteractive(key) {\n",
              "          const element = document.querySelector('#df-2475207e-ab62-4b5f-b8d8-4fd0b82be3c0');\n",
              "          const dataTable =\n",
              "            await google.colab.kernel.invokeFunction('convertToInteractive',\n",
              "                                                     [key], {});\n",
              "          if (!dataTable) return;\n",
              "\n",
              "          const docLinkHtml = 'Like what you see? Visit the ' +\n",
              "            '<a target=\"_blank\" href=https://colab.research.google.com/notebooks/data_table.ipynb>data table notebook</a>'\n",
              "            + ' to learn more about interactive tables.';\n",
              "          element.innerHTML = '';\n",
              "          dataTable['output_type'] = 'display_data';\n",
              "          await google.colab.output.renderOutput(dataTable, element);\n",
              "          const docLink = document.createElement('div');\n",
              "          docLink.innerHTML = docLinkHtml;\n",
              "          element.appendChild(docLink);\n",
              "        }\n",
              "      </script>\n",
              "    </div>\n",
              "  </div>\n",
              "  "
            ]
          },
          "metadata": {},
          "execution_count": 5
        }
      ]
    },
    {
      "cell_type": "code",
      "source": [
        "# checking the data types, null values and number of entries\n",
        "Affairs.info()"
      ],
      "metadata": {
        "id": "BB85mhQGII0a",
        "colab": {
          "base_uri": "https://localhost:8080/"
        },
        "outputId": "c4aa6a22-b699-4727-9961-491725716f5f"
      },
      "execution_count": null,
      "outputs": [
        {
          "output_type": "stream",
          "name": "stdout",
          "text": [
            "<class 'pandas.core.frame.DataFrame'>\n",
            "RangeIndex: 601 entries, 0 to 600\n",
            "Data columns (total 11 columns):\n",
            " #   Column         Non-Null Count  Dtype  \n",
            "---  ------         --------------  -----  \n",
            " 0   Unnamed: 0     601 non-null    int64  \n",
            " 1   Country        601 non-null    object \n",
            " 2   affairs        601 non-null    int64  \n",
            " 3   gender         601 non-null    object \n",
            " 4   age            601 non-null    float64\n",
            " 5   yearsmarried   601 non-null    float64\n",
            " 6   children       601 non-null    object \n",
            " 7   religiousness  601 non-null    int64  \n",
            " 8   education      601 non-null    int64  \n",
            " 9   occupation     601 non-null    int64  \n",
            " 10  rating         601 non-null    int64  \n",
            "dtypes: float64(2), int64(6), object(3)\n",
            "memory usage: 51.8+ KB\n"
          ]
        }
      ]
    },
    {
      "cell_type": "markdown",
      "source": [
        "The datatypes seem okay"
      ],
      "metadata": {
        "id": "AdvUfEWMx-NG"
      }
    },
    {
      "cell_type": "code",
      "source": [
        "# All variables and their values\n",
        "\n",
        "for col in Affairs.columns:\n",
        "  print(col,\"\\n\",Affairs[col].value_counts(),\"\\n\")\n",
        "  "
      ],
      "metadata": {
        "id": "4OuNth9OauIL",
        "colab": {
          "base_uri": "https://localhost:8080/"
        },
        "outputId": "360f9906-ba54-4641-a21b-c05dc69f19bb"
      },
      "execution_count": null,
      "outputs": [
        {
          "output_type": "stream",
          "name": "stdout",
          "text": [
            "Unnamed: 0 \n",
            " 4       1\n",
            "1719    1\n",
            "1726    1\n",
            "1749    1\n",
            "1752    1\n",
            "       ..\n",
            "916     1\n",
            "920     1\n",
            "921     1\n",
            "925     1\n",
            "9010    1\n",
            "Name: Unnamed: 0, Length: 601, dtype: int64 \n",
            "\n",
            "Country \n",
            " USA    601\n",
            "Name: Country, dtype: int64 \n",
            "\n",
            "affairs \n",
            " 0     451\n",
            "7      42\n",
            "12     38\n",
            "1      34\n",
            "3      19\n",
            "2      17\n",
            "Name: affairs, dtype: int64 \n",
            "\n",
            "gender \n",
            " female    315\n",
            "male      286\n",
            "Name: gender, dtype: int64 \n",
            "\n",
            "age \n",
            " 27.0    153\n",
            "22.0    117\n",
            "32.0    115\n",
            "37.0     88\n",
            "42.0     56\n",
            "47.0     23\n",
            "57.0     22\n",
            "52.0     21\n",
            "17.5      6\n",
            "Name: age, dtype: int64 \n",
            "\n",
            "yearsmarried \n",
            " 15.000    204\n",
            "4.000     105\n",
            "1.500      88\n",
            "7.000      82\n",
            "10.000     70\n",
            "0.750      31\n",
            "0.125      11\n",
            "0.417      10\n",
            "Name: yearsmarried, dtype: int64 \n",
            "\n",
            "children \n",
            " yes    430\n",
            "no     171\n",
            "Name: children, dtype: int64 \n",
            "\n",
            "religiousness \n",
            " 4    190\n",
            "2    164\n",
            "3    129\n",
            "5     70\n",
            "1     48\n",
            "Name: religiousness, dtype: int64 \n",
            "\n",
            "education \n",
            " 14    154\n",
            "16    115\n",
            "18    112\n",
            "17     89\n",
            "20     80\n",
            "12     44\n",
            "9       7\n",
            "Name: education, dtype: int64 \n",
            "\n",
            "occupation \n",
            " 5    204\n",
            "6    143\n",
            "1    113\n",
            "4     68\n",
            "3     47\n",
            "7     13\n",
            "2     13\n",
            "Name: occupation, dtype: int64 \n",
            "\n",
            "rating \n",
            " 5    232\n",
            "4    194\n",
            "3     93\n",
            "2     66\n",
            "1     16\n",
            "Name: rating, dtype: int64 \n",
            "\n"
          ]
        }
      ]
    },
    {
      "cell_type": "markdown",
      "source": [
        "# Data Cleaning"
      ],
      "metadata": {
        "id": "dkgjY9w8K2_I"
      }
    },
    {
      "cell_type": "code",
      "source": [
        "# Droping and renaming columns\n",
        "Affairs.drop(['Unnamed: 0', 'Country'],axis=1, inplace=True)\n",
        "Affairs.head(1)"
      ],
      "metadata": {
        "id": "TJlceDUSLAUw",
        "colab": {
          "base_uri": "https://localhost:8080/",
          "height": 81
        },
        "outputId": "d13c9bb0-bb1a-41ec-e00f-e7c8d2e66e2b"
      },
      "execution_count": null,
      "outputs": [
        {
          "output_type": "execute_result",
          "data": {
            "text/plain": [
              "   affairs gender   age  yearsmarried children  religiousness  education  \\\n",
              "0        0   male  37.0          10.0       no              3         18   \n",
              "\n",
              "   occupation  rating  \n",
              "0           7       4  "
            ],
            "text/html": [
              "\n",
              "  <div id=\"df-163911c8-0773-4043-8a71-5906e14fbdf1\">\n",
              "    <div class=\"colab-df-container\">\n",
              "      <div>\n",
              "<style scoped>\n",
              "    .dataframe tbody tr th:only-of-type {\n",
              "        vertical-align: middle;\n",
              "    }\n",
              "\n",
              "    .dataframe tbody tr th {\n",
              "        vertical-align: top;\n",
              "    }\n",
              "\n",
              "    .dataframe thead th {\n",
              "        text-align: right;\n",
              "    }\n",
              "</style>\n",
              "<table border=\"1\" class=\"dataframe\">\n",
              "  <thead>\n",
              "    <tr style=\"text-align: right;\">\n",
              "      <th></th>\n",
              "      <th>affairs</th>\n",
              "      <th>gender</th>\n",
              "      <th>age</th>\n",
              "      <th>yearsmarried</th>\n",
              "      <th>children</th>\n",
              "      <th>religiousness</th>\n",
              "      <th>education</th>\n",
              "      <th>occupation</th>\n",
              "      <th>rating</th>\n",
              "    </tr>\n",
              "  </thead>\n",
              "  <tbody>\n",
              "    <tr>\n",
              "      <th>0</th>\n",
              "      <td>0</td>\n",
              "      <td>male</td>\n",
              "      <td>37.0</td>\n",
              "      <td>10.0</td>\n",
              "      <td>no</td>\n",
              "      <td>3</td>\n",
              "      <td>18</td>\n",
              "      <td>7</td>\n",
              "      <td>4</td>\n",
              "    </tr>\n",
              "  </tbody>\n",
              "</table>\n",
              "</div>\n",
              "      <button class=\"colab-df-convert\" onclick=\"convertToInteractive('df-163911c8-0773-4043-8a71-5906e14fbdf1')\"\n",
              "              title=\"Convert this dataframe to an interactive table.\"\n",
              "              style=\"display:none;\">\n",
              "        \n",
              "  <svg xmlns=\"http://www.w3.org/2000/svg\" height=\"24px\"viewBox=\"0 0 24 24\"\n",
              "       width=\"24px\">\n",
              "    <path d=\"M0 0h24v24H0V0z\" fill=\"none\"/>\n",
              "    <path d=\"M18.56 5.44l.94 2.06.94-2.06 2.06-.94-2.06-.94-.94-2.06-.94 2.06-2.06.94zm-11 1L8.5 8.5l.94-2.06 2.06-.94-2.06-.94L8.5 2.5l-.94 2.06-2.06.94zm10 10l.94 2.06.94-2.06 2.06-.94-2.06-.94-.94-2.06-.94 2.06-2.06.94z\"/><path d=\"M17.41 7.96l-1.37-1.37c-.4-.4-.92-.59-1.43-.59-.52 0-1.04.2-1.43.59L10.3 9.45l-7.72 7.72c-.78.78-.78 2.05 0 2.83L4 21.41c.39.39.9.59 1.41.59.51 0 1.02-.2 1.41-.59l7.78-7.78 2.81-2.81c.8-.78.8-2.07 0-2.86zM5.41 20L4 18.59l7.72-7.72 1.47 1.35L5.41 20z\"/>\n",
              "  </svg>\n",
              "      </button>\n",
              "      \n",
              "  <style>\n",
              "    .colab-df-container {\n",
              "      display:flex;\n",
              "      flex-wrap:wrap;\n",
              "      gap: 12px;\n",
              "    }\n",
              "\n",
              "    .colab-df-convert {\n",
              "      background-color: #E8F0FE;\n",
              "      border: none;\n",
              "      border-radius: 50%;\n",
              "      cursor: pointer;\n",
              "      display: none;\n",
              "      fill: #1967D2;\n",
              "      height: 32px;\n",
              "      padding: 0 0 0 0;\n",
              "      width: 32px;\n",
              "    }\n",
              "\n",
              "    .colab-df-convert:hover {\n",
              "      background-color: #E2EBFA;\n",
              "      box-shadow: 0px 1px 2px rgba(60, 64, 67, 0.3), 0px 1px 3px 1px rgba(60, 64, 67, 0.15);\n",
              "      fill: #174EA6;\n",
              "    }\n",
              "\n",
              "    [theme=dark] .colab-df-convert {\n",
              "      background-color: #3B4455;\n",
              "      fill: #D2E3FC;\n",
              "    }\n",
              "\n",
              "    [theme=dark] .colab-df-convert:hover {\n",
              "      background-color: #434B5C;\n",
              "      box-shadow: 0px 1px 3px 1px rgba(0, 0, 0, 0.15);\n",
              "      filter: drop-shadow(0px 1px 2px rgba(0, 0, 0, 0.3));\n",
              "      fill: #FFFFFF;\n",
              "    }\n",
              "  </style>\n",
              "\n",
              "      <script>\n",
              "        const buttonEl =\n",
              "          document.querySelector('#df-163911c8-0773-4043-8a71-5906e14fbdf1 button.colab-df-convert');\n",
              "        buttonEl.style.display =\n",
              "          google.colab.kernel.accessAllowed ? 'block' : 'none';\n",
              "\n",
              "        async function convertToInteractive(key) {\n",
              "          const element = document.querySelector('#df-163911c8-0773-4043-8a71-5906e14fbdf1');\n",
              "          const dataTable =\n",
              "            await google.colab.kernel.invokeFunction('convertToInteractive',\n",
              "                                                     [key], {});\n",
              "          if (!dataTable) return;\n",
              "\n",
              "          const docLinkHtml = 'Like what you see? Visit the ' +\n",
              "            '<a target=\"_blank\" href=https://colab.research.google.com/notebooks/data_table.ipynb>data table notebook</a>'\n",
              "            + ' to learn more about interactive tables.';\n",
              "          element.innerHTML = '';\n",
              "          dataTable['output_type'] = 'display_data';\n",
              "          await google.colab.output.renderOutput(dataTable, element);\n",
              "          const docLink = document.createElement('div');\n",
              "          docLink.innerHTML = docLinkHtml;\n",
              "          element.appendChild(docLink);\n",
              "        }\n",
              "      </script>\n",
              "    </div>\n",
              "  </div>\n",
              "  "
            ]
          },
          "metadata": {},
          "execution_count": 8
        }
      ]
    },
    {
      "cell_type": "markdown",
      "source": [
        "The unnamed column was dropped because there was no information on what the data in the column represented."
      ],
      "metadata": {
        "id": "1RqTeGhwyVr2"
      }
    },
    {
      "cell_type": "code",
      "source": [
        "# Checking for the outliers.\n",
        "Affairs.boxplot(figsize=(8,10),color='purple')"
      ],
      "metadata": {
        "id": "Kgi78-iTJ-7t",
        "colab": {
          "base_uri": "https://localhost:8080/",
          "height": 609
        },
        "outputId": "7f96090b-666e-4c41-b1c4-76a409534140"
      },
      "execution_count": null,
      "outputs": [
        {
          "output_type": "execute_result",
          "data": {
            "text/plain": [
              "<matplotlib.axes._subplots.AxesSubplot at 0x7fa3b580d910>"
            ]
          },
          "metadata": {},
          "execution_count": 9
        },
        {
          "output_type": "display_data",
          "data": {
            "text/plain": [
              "<Figure size 576x720 with 1 Axes>"
            ],
            "image/png": "[encoded data removed]"
          },
          "metadata": {
            "needs_background": "light"
          }
        }
      ]
    },
    {
      "cell_type": "markdown",
      "source": [
        "From the above visualisation we can see that the dataset's outliers give insight on the affairs, number of years married for each respondent, age, education, occupation and rating.\n",
        "\n",
        "**Observations**\n",
        "* Most of the respondents record no marital affairs\n",
        "* Most respondents have been married for less than 10 years\n",
        "* Most of the respondent interviewed are above the age of 30\n",
        "* The rest of the numerical values are code for a particular category therefore we'll get more information while doing the EDA."
      ],
      "metadata": {
        "id": "JFHsDaiszJ-V"
      }
    },
    {
      "cell_type": "code",
      "source": [
        "# Identify the missing data\n",
        "Affairs.isnull().sum()"
      ],
      "metadata": {
        "id": "Rbs1X9fxPV5D",
        "colab": {
          "base_uri": "https://localhost:8080/"
        },
        "outputId": "7c13071c-6ec8-4d74-c731-1662991fc2fb"
      },
      "execution_count": null,
      "outputs": [
        {
          "output_type": "execute_result",
          "data": {
            "text/plain": [
              "affairs          0\n",
              "gender           0\n",
              "age              0\n",
              "yearsmarried     0\n",
              "children         0\n",
              "religiousness    0\n",
              "education        0\n",
              "occupation       0\n",
              "rating           0\n",
              "dtype: int64"
            ]
          },
          "metadata": {},
          "execution_count": 10
        }
      ]
    },
    {
      "cell_type": "markdown",
      "source": [
        "No null values found in the dataset."
      ],
      "metadata": {
        "id": "7K1ualGfPh4O"
      }
    },
    {
      "cell_type": "code",
      "source": [
        "# Checking whether the columns are well named for ease of use\n",
        "Affairs.columns"
      ],
      "metadata": {
        "id": "6RQpgPSiP7z2",
        "colab": {
          "base_uri": "https://localhost:8080/"
        },
        "outputId": "0ce20254-57eb-47a5-bd29-d12d14c1be29"
      },
      "execution_count": null,
      "outputs": [
        {
          "output_type": "execute_result",
          "data": {
            "text/plain": [
              "Index(['affairs', 'gender', 'age', 'yearsmarried', 'children', 'religiousness',\n",
              "       'education', 'occupation', 'rating'],\n",
              "      dtype='object')"
            ]
          },
          "metadata": {},
          "execution_count": 11
        }
      ]
    },
    {
      "cell_type": "markdown",
      "source": [
        "The columns are relatively well named"
      ],
      "metadata": {
        "id": "91xYbg0NQA-e"
      }
    },
    {
      "cell_type": "markdown",
      "source": [
        "# Exploratory Data Analysis"
      ],
      "metadata": {
        "id": "ETwmxyBFQpl4"
      }
    },
    {
      "cell_type": "code",
      "source": [
        "# previewing the dataset once more\n",
        "Affairs.head(3)"
      ],
      "metadata": {
        "id": "eeDlOwZHRY7S",
        "colab": {
          "base_uri": "https://localhost:8080/",
          "height": 143
        },
        "outputId": "ecdd6e24-fccf-450e-a96b-5a07545a66bc"
      },
      "execution_count": null,
      "outputs": [
        {
          "output_type": "execute_result",
          "data": {
            "text/plain": [
              "   affairs  gender   age  yearsmarried children  religiousness  education  \\\n",
              "0        0    male  37.0          10.0       no              3         18   \n",
              "1        0  female  27.0           4.0       no              4         14   \n",
              "2        0  female  32.0          15.0      yes              1         12   \n",
              "\n",
              "   occupation  rating  \n",
              "0           7       4  \n",
              "1           6       4  \n",
              "2           1       4  "
            ],
            "text/html": [
              "\n",
              "  <div id=\"df-9698d264-a18f-4c7e-90d9-6a244783b10a\">\n",
              "    <div class=\"colab-df-container\">\n",
              "      <div>\n",
              "<style scoped>\n",
              "    .dataframe tbody tr th:only-of-type {\n",
              "        vertical-align: middle;\n",
              "    }\n",
              "\n",
              "    .dataframe tbody tr th {\n",
              "        vertical-align: top;\n",
              "    }\n",
              "\n",
              "    .dataframe thead th {\n",
              "        text-align: right;\n",
              "    }\n",
              "</style>\n",
              "<table border=\"1\" class=\"dataframe\">\n",
              "  <thead>\n",
              "    <tr style=\"text-align: right;\">\n",
              "      <th></th>\n",
              "      <th>affairs</th>\n",
              "      <th>gender</th>\n",
              "      <th>age</th>\n",
              "      <th>yearsmarried</th>\n",
              "      <th>children</th>\n",
              "      <th>religiousness</th>\n",
              "      <th>education</th>\n",
              "      <th>occupation</th>\n",
              "      <th>rating</th>\n",
              "    </tr>\n",
              "  </thead>\n",
              "  <tbody>\n",
              "    <tr>\n",
              "      <th>0</th>\n",
              "      <td>0</td>\n",
              "      <td>male</td>\n",
              "      <td>37.0</td>\n",
              "      <td>10.0</td>\n",
              "      <td>no</td>\n",
              "      <td>3</td>\n",
              "      <td>18</td>\n",
              "      <td>7</td>\n",
              "      <td>4</td>\n",
              "    </tr>\n",
              "    <tr>\n",
              "      <th>1</th>\n",
              "      <td>0</td>\n",
              "      <td>female</td>\n",
              "      <td>27.0</td>\n",
              "      <td>4.0</td>\n",
              "      <td>no</td>\n",
              "      <td>4</td>\n",
              "      <td>14</td>\n",
              "      <td>6</td>\n",
              "      <td>4</td>\n",
              "    </tr>\n",
              "    <tr>\n",
              "      <th>2</th>\n",
              "      <td>0</td>\n",
              "      <td>female</td>\n",
              "      <td>32.0</td>\n",
              "      <td>15.0</td>\n",
              "      <td>yes</td>\n",
              "      <td>1</td>\n",
              "      <td>12</td>\n",
              "      <td>1</td>\n",
              "      <td>4</td>\n",
              "    </tr>\n",
              "  </tbody>\n",
              "</table>\n",
              "</div>\n",
              "      <button class=\"colab-df-convert\" onclick=\"convertToInteractive('df-9698d264-a18f-4c7e-90d9-6a244783b10a')\"\n",
              "              title=\"Convert this dataframe to an interactive table.\"\n",
              "              style=\"display:none;\">\n",
              "        \n",
              "  <svg xmlns=\"http://www.w3.org/2000/svg\" height=\"24px\"viewBox=\"0 0 24 24\"\n",
              "       width=\"24px\">\n",
              "    <path d=\"M0 0h24v24H0V0z\" fill=\"none\"/>\n",
              "    <path d=\"M18.56 5.44l.94 2.06.94-2.06 2.06-.94-2.06-.94-.94-2.06-.94 2.06-2.06.94zm-11 1L8.5 8.5l.94-2.06 2.06-.94-2.06-.94L8.5 2.5l-.94 2.06-2.06.94zm10 10l.94 2.06.94-2.06 2.06-.94-2.06-.94-.94-2.06-.94 2.06-2.06.94z\"/><path d=\"M17.41 7.96l-1.37-1.37c-.4-.4-.92-.59-1.43-.59-.52 0-1.04.2-1.43.59L10.3 9.45l-7.72 7.72c-.78.78-.78 2.05 0 2.83L4 21.41c.39.39.9.59 1.41.59.51 0 1.02-.2 1.41-.59l7.78-7.78 2.81-2.81c.8-.78.8-2.07 0-2.86zM5.41 20L4 18.59l7.72-7.72 1.47 1.35L5.41 20z\"/>\n",
              "  </svg>\n",
              "      </button>\n",
              "      \n",
              "  <style>\n",
              "    .colab-df-container {\n",
              "      display:flex;\n",
              "      flex-wrap:wrap;\n",
              "      gap: 12px;\n",
              "    }\n",
              "\n",
              "    .colab-df-convert {\n",
              "      background-color: #E8F0FE;\n",
              "      border: none;\n",
              "      border-radius: 50%;\n",
              "      cursor: pointer;\n",
              "      display: none;\n",
              "      fill: #1967D2;\n",
              "      height: 32px;\n",
              "      padding: 0 0 0 0;\n",
              "      width: 32px;\n",
              "    }\n",
              "\n",
              "    .colab-df-convert:hover {\n",
              "      background-color: #E2EBFA;\n",
              "      box-shadow: 0px 1px 2px rgba(60, 64, 67, 0.3), 0px 1px 3px 1px rgba(60, 64, 67, 0.15);\n",
              "      fill: #174EA6;\n",
              "    }\n",
              "\n",
              "    [theme=dark] .colab-df-convert {\n",
              "      background-color: #3B4455;\n",
              "      fill: #D2E3FC;\n",
              "    }\n",
              "\n",
              "    [theme=dark] .colab-df-convert:hover {\n",
              "      background-color: #434B5C;\n",
              "      box-shadow: 0px 1px 3px 1px rgba(0, 0, 0, 0.15);\n",
              "      filter: drop-shadow(0px 1px 2px rgba(0, 0, 0, 0.3));\n",
              "      fill: #FFFFFF;\n",
              "    }\n",
              "  </style>\n",
              "\n",
              "      <script>\n",
              "        const buttonEl =\n",
              "          document.querySelector('#df-9698d264-a18f-4c7e-90d9-6a244783b10a button.colab-df-convert');\n",
              "        buttonEl.style.display =\n",
              "          google.colab.kernel.accessAllowed ? 'block' : 'none';\n",
              "\n",
              "        async function convertToInteractive(key) {\n",
              "          const element = document.querySelector('#df-9698d264-a18f-4c7e-90d9-6a244783b10a');\n",
              "          const dataTable =\n",
              "            await google.colab.kernel.invokeFunction('convertToInteractive',\n",
              "                                                     [key], {});\n",
              "          if (!dataTable) return;\n",
              "\n",
              "          const docLinkHtml = 'Like what you see? Visit the ' +\n",
              "            '<a target=\"_blank\" href=https://colab.research.google.com/notebooks/data_table.ipynb>data table notebook</a>'\n",
              "            + ' to learn more about interactive tables.';\n",
              "          element.innerHTML = '';\n",
              "          dataTable['output_type'] = 'display_data';\n",
              "          await google.colab.output.renderOutput(dataTable, element);\n",
              "          const docLink = document.createElement('div');\n",
              "          docLink.innerHTML = docLinkHtml;\n",
              "          element.appendChild(docLink);\n",
              "        }\n",
              "      </script>\n",
              "    </div>\n",
              "  </div>\n",
              "  "
            ]
          },
          "metadata": {},
          "execution_count": 12
        }
      ]
    },
    {
      "cell_type": "markdown",
      "source": [
        "# Descriptive statistics"
      ],
      "metadata": {
        "id": "MApcxcvoUNOu"
      }
    },
    {
      "cell_type": "code",
      "source": [
        "# Getting the count, mean, standard variation, min, max and quatiles of the columns in the dataset\n",
        "Affairs.describe()"
      ],
      "metadata": {
        "id": "p6PV3eLXUhT2",
        "colab": {
          "base_uri": "https://localhost:8080/",
          "height": 300
        },
        "outputId": "0f0bacc2-555d-4cc8-ad47-87c1f09ab0a5"
      },
      "execution_count": null,
      "outputs": [
        {
          "output_type": "execute_result",
          "data": {
            "text/plain": [
              "          affairs         age  yearsmarried  religiousness   education  \\\n",
              "count  601.000000  601.000000    601.000000     601.000000  601.000000   \n",
              "mean     1.455907   32.487521      8.177696       3.116473   16.166389   \n",
              "std      3.298758    9.288762      5.571303       1.167509    2.402555   \n",
              "min      0.000000   17.500000      0.125000       1.000000    9.000000   \n",
              "25%      0.000000   27.000000      4.000000       2.000000   14.000000   \n",
              "50%      0.000000   32.000000      7.000000       3.000000   16.000000   \n",
              "75%      0.000000   37.000000     15.000000       4.000000   18.000000   \n",
              "max     12.000000   57.000000     15.000000       5.000000   20.000000   \n",
              "\n",
              "       occupation      rating  \n",
              "count  601.000000  601.000000  \n",
              "mean     4.194676    3.931780  \n",
              "std      1.819443    1.103179  \n",
              "min      1.000000    1.000000  \n",
              "25%      3.000000    3.000000  \n",
              "50%      5.000000    4.000000  \n",
              "75%      6.000000    5.000000  \n",
              "max      7.000000    5.000000  "
            ],
            "text/html": [
              "\n",
              "  <div id=\"df-e7af4333-d171-4eba-8cfb-e9fa58a108d8\">\n",
              "    <div class=\"colab-df-container\">\n",
              "      <div>\n",
              "<style scoped>\n",
              "    .dataframe tbody tr th:only-of-type {\n",
              "        vertical-align: middle;\n",
              "    }\n",
              "\n",
              "    .dataframe tbody tr th {\n",
              "        vertical-align: top;\n",
              "    }\n",
              "\n",
              "    .dataframe thead th {\n",
              "        text-align: right;\n",
              "    }\n",
              "</style>\n",
              "<table border=\"1\" class=\"dataframe\">\n",
              "  <thead>\n",
              "    <tr style=\"text-align: right;\">\n",
              "      <th></th>\n",
              "      <th>affairs</th>\n",
              "      <th>age</th>\n",
              "      <th>yearsmarried</th>\n",
              "      <th>religiousness</th>\n",
              "      <th>education</th>\n",
              "      <th>occupation</th>\n",
              "      <th>rating</th>\n",
              "    </tr>\n",
              "  </thead>\n",
              "  <tbody>\n",
              "    <tr>\n",
              "      <th>count</th>\n",
              "      <td>601.000000</td>\n",
              "      <td>601.000000</td>\n",
              "      <td>601.000000</td>\n",
              "      <td>601.000000</td>\n",
              "      <td>601.000000</td>\n",
              "      <td>601.000000</td>\n",
              "      <td>601.000000</td>\n",
              "    </tr>\n",
              "    <tr>\n",
              "      <th>mean</th>\n",
              "      <td>1.455907</td>\n",
              "      <td>32.487521</td>\n",
              "      <td>8.177696</td>\n",
              "      <td>3.116473</td>\n",
              "      <td>16.166389</td>\n",
              "      <td>4.194676</td>\n",
              "      <td>3.931780</td>\n",
              "    </tr>\n",
              "    <tr>\n",
              "      <th>std</th>\n",
              "      <td>3.298758</td>\n",
              "      <td>9.288762</td>\n",
              "      <td>5.571303</td>\n",
              "      <td>1.167509</td>\n",
              "      <td>2.402555</td>\n",
              "      <td>1.819443</td>\n",
              "      <td>1.103179</td>\n",
              "    </tr>\n",
              "    <tr>\n",
              "      <th>min</th>\n",
              "      <td>0.000000</td>\n",
              "      <td>17.500000</td>\n",
              "      <td>0.125000</td>\n",
              "      <td>1.000000</td>\n",
              "      <td>9.000000</td>\n",
              "      <td>1.000000</td>\n",
              "      <td>1.000000</td>\n",
              "    </tr>\n",
              "    <tr>\n",
              "      <th>25%</th>\n",
              "      <td>0.000000</td>\n",
              "      <td>27.000000</td>\n",
              "      <td>4.000000</td>\n",
              "      <td>2.000000</td>\n",
              "      <td>14.000000</td>\n",
              "      <td>3.000000</td>\n",
              "      <td>3.000000</td>\n",
              "    </tr>\n",
              "    <tr>\n",
              "      <th>50%</th>\n",
              "      <td>0.000000</td>\n",
              "      <td>32.000000</td>\n",
              "      <td>7.000000</td>\n",
              "      <td>3.000000</td>\n",
              "      <td>16.000000</td>\n",
              "      <td>5.000000</td>\n",
              "      <td>4.000000</td>\n",
              "    </tr>\n",
              "    <tr>\n",
              "      <th>75%</th>\n",
              "      <td>0.000000</td>\n",
              "      <td>37.000000</td>\n",
              "      <td>15.000000</td>\n",
              "      <td>4.000000</td>\n",
              "      <td>18.000000</td>\n",
              "      <td>6.000000</td>\n",
              "      <td>5.000000</td>\n",
              "    </tr>\n",
              "    <tr>\n",
              "      <th>max</th>\n",
              "      <td>12.000000</td>\n",
              "      <td>57.000000</td>\n",
              "      <td>15.000000</td>\n",
              "      <td>5.000000</td>\n",
              "      <td>20.000000</td>\n",
              "      <td>7.000000</td>\n",
              "      <td>5.000000</td>\n",
              "    </tr>\n",
              "  </tbody>\n",
              "</table>\n",
              "</div>\n",
              "      <button class=\"colab-df-convert\" onclick=\"convertToInteractive('df-e7af4333-d171-4eba-8cfb-e9fa58a108d8')\"\n",
              "              title=\"Convert this dataframe to an interactive table.\"\n",
              "              style=\"display:none;\">\n",
              "        \n",
              "  <svg xmlns=\"http://www.w3.org/2000/svg\" height=\"24px\"viewBox=\"0 0 24 24\"\n",
              "       width=\"24px\">\n",
              "    <path d=\"M0 0h24v24H0V0z\" fill=\"none\"/>\n",
              "    <path d=\"M18.56 5.44l.94 2.06.94-2.06 2.06-.94-2.06-.94-.94-2.06-.94 2.06-2.06.94zm-11 1L8.5 8.5l.94-2.06 2.06-.94-2.06-.94L8.5 2.5l-.94 2.06-2.06.94zm10 10l.94 2.06.94-2.06 2.06-.94-2.06-.94-.94-2.06-.94 2.06-2.06.94z\"/><path d=\"M17.41 7.96l-1.37-1.37c-.4-.4-.92-.59-1.43-.59-.52 0-1.04.2-1.43.59L10.3 9.45l-7.72 7.72c-.78.78-.78 2.05 0 2.83L4 21.41c.39.39.9.59 1.41.59.51 0 1.02-.2 1.41-.59l7.78-7.78 2.81-2.81c.8-.78.8-2.07 0-2.86zM5.41 20L4 18.59l7.72-7.72 1.47 1.35L5.41 20z\"/>\n",
              "  </svg>\n",
              "      </button>\n",
              "      \n",
              "  <style>\n",
              "    .colab-df-container {\n",
              "      display:flex;\n",
              "      flex-wrap:wrap;\n",
              "      gap: 12px;\n",
              "    }\n",
              "\n",
              "    .colab-df-convert {\n",
              "      background-color: #E8F0FE;\n",
              "      border: none;\n",
              "      border-radius: 50%;\n",
              "      cursor: pointer;\n",
              "      display: none;\n",
              "      fill: #1967D2;\n",
              "      height: 32px;\n",
              "      padding: 0 0 0 0;\n",
              "      width: 32px;\n",
              "    }\n",
              "\n",
              "    .colab-df-convert:hover {\n",
              "      background-color: #E2EBFA;\n",
              "      box-shadow: 0px 1px 2px rgba(60, 64, 67, 0.3), 0px 1px 3px 1px rgba(60, 64, 67, 0.15);\n",
              "      fill: #174EA6;\n",
              "    }\n",
              "\n",
              "    [theme=dark] .colab-df-convert {\n",
              "      background-color: #3B4455;\n",
              "      fill: #D2E3FC;\n",
              "    }\n",
              "\n",
              "    [theme=dark] .colab-df-convert:hover {\n",
              "      background-color: #434B5C;\n",
              "      box-shadow: 0px 1px 3px 1px rgba(0, 0, 0, 0.15);\n",
              "      filter: drop-shadow(0px 1px 2px rgba(0, 0, 0, 0.3));\n",
              "      fill: #FFFFFF;\n",
              "    }\n",
              "  </style>\n",
              "\n",
              "      <script>\n",
              "        const buttonEl =\n",
              "          document.querySelector('#df-e7af4333-d171-4eba-8cfb-e9fa58a108d8 button.colab-df-convert');\n",
              "        buttonEl.style.display =\n",
              "          google.colab.kernel.accessAllowed ? 'block' : 'none';\n",
              "\n",
              "        async function convertToInteractive(key) {\n",
              "          const element = document.querySelector('#df-e7af4333-d171-4eba-8cfb-e9fa58a108d8');\n",
              "          const dataTable =\n",
              "            await google.colab.kernel.invokeFunction('convertToInteractive',\n",
              "                                                     [key], {});\n",
              "          if (!dataTable) return;\n",
              "\n",
              "          const docLinkHtml = 'Like what you see? Visit the ' +\n",
              "            '<a target=\"_blank\" href=https://colab.research.google.com/notebooks/data_table.ipynb>data table notebook</a>'\n",
              "            + ' to learn more about interactive tables.';\n",
              "          element.innerHTML = '';\n",
              "          dataTable['output_type'] = 'display_data';\n",
              "          await google.colab.output.renderOutput(dataTable, element);\n",
              "          const docLink = document.createElement('div');\n",
              "          docLink.innerHTML = docLinkHtml;\n",
              "          element.appendChild(docLink);\n",
              "        }\n",
              "      </script>\n",
              "    </div>\n",
              "  </div>\n",
              "  "
            ]
          },
          "metadata": {},
          "execution_count": 13
        }
      ]
    },
    {
      "cell_type": "markdown",
      "source": [
        "**Observtions**\n",
        "* the mean of <font color='green'>*age* </font>is almost equal to the median which means there are no altering outliers as we had already established\n",
        "* the mean of <font color='green'>*years married* </font> is greater than the median therefore the distribution is positively skewed"
      ],
      "metadata": {
        "id": "zzPqTfdRUsYd"
      }
    },
    {
      "cell_type": "code",
      "source": [
        "# Confirming the skew observation\n",
        "Affairs['yearsmarried'].skew()"
      ],
      "metadata": {
        "id": "toj8jrrM2nN0",
        "colab": {
          "base_uri": "https://localhost:8080/"
        },
        "outputId": "52071153-12a4-4e72-f7d4-6c5ad95e75c8"
      },
      "execution_count": null,
      "outputs": [
        {
          "output_type": "execute_result",
          "data": {
            "text/plain": [
              "0.07818880071681064"
            ]
          },
          "metadata": {},
          "execution_count": 14
        }
      ]
    },
    {
      "cell_type": "markdown",
      "source": [
        "The result concurs with the above statement. It is slightly positively skewed"
      ],
      "metadata": {
        "id": "PetQlPfw3aXA"
      }
    },
    {
      "cell_type": "code",
      "source": [
        "# finding out how the individuals rate their marriages\n",
        "# 1 = very poor, 2 = poor, 3 = fair, 4 = good, 5 = very good\n",
        "#\n",
        "Affairs[\"rating\"].value_counts()"
      ],
      "metadata": {
        "id": "itWAOtUVUvNd",
        "colab": {
          "base_uri": "https://localhost:8080/"
        },
        "outputId": "0b0d1b3e-66bb-4633-c6fc-1bf1dfe9a849"
      },
      "execution_count": null,
      "outputs": [
        {
          "output_type": "execute_result",
          "data": {
            "text/plain": [
              "5    232\n",
              "4    194\n",
              "3     93\n",
              "2     66\n",
              "1     16\n",
              "Name: rating, dtype: int64"
            ]
          },
          "metadata": {},
          "execution_count": 15
        }
      ]
    },
    {
      "cell_type": "markdown",
      "source": [
        "**Observations**\n",
        "\n",
        "* Most of the individuals rate their marriage as very good, good, fair, poor and very poor respectively"
      ],
      "metadata": {
        "id": "2mK9h_e43810"
      }
    },
    {
      "cell_type": "code",
      "source": [
        "# Article used to calculate the average income for each category\n",
        "# link: http://www.worldsalaries.org/usa.shtml\n",
        "\n",
        "# create a list of our conditions\n",
        "conditions = [\n",
        "    (Affairs[\"occupation\"] == 1),\n",
        "    (Affairs[\"occupation\"] == 2),\n",
        "    (Affairs[\"occupation\"] == 3),\n",
        "    (Affairs[\"occupation\"] == 4),\n",
        "    (Affairs[\"occupation\"] == 5),\n",
        "    (Affairs[\"occupation\"] == 6),\n",
        "    (Affairs[\"occupation\"] == 7)\n",
        "    ]\n",
        "\n",
        "# create a list of the values we want to assign for each condition\n",
        "values = [3000, 3300, 3800, 4200, 4950, 5200, 10000]\n",
        "\n",
        "# create a new column and use np.select to assign values to it using our lists as arguments\n",
        "Affairs['income'] = np.select(conditions, values)\n",
        "\n",
        "# display updated DataFrame\n",
        "Affairs.head()"
      ],
      "metadata": {
        "id": "_EcTzScXSBmc",
        "colab": {
          "base_uri": "https://localhost:8080/",
          "height": 206
        },
        "outputId": "11c24c27-0347-40f7-8526-2846533fe5b8"
      },
      "execution_count": null,
      "outputs": [
        {
          "output_type": "execute_result",
          "data": {
            "text/plain": [
              "   affairs  gender   age  yearsmarried children  religiousness  education  \\\n",
              "0        0    male  37.0         10.00       no              3         18   \n",
              "1        0  female  27.0          4.00       no              4         14   \n",
              "2        0  female  32.0         15.00      yes              1         12   \n",
              "3        0    male  57.0         15.00      yes              5         18   \n",
              "4        0    male  22.0          0.75       no              2         17   \n",
              "\n",
              "   occupation  rating  income  \n",
              "0           7       4   10000  \n",
              "1           6       4    5200  \n",
              "2           1       4    3000  \n",
              "3           6       5    5200  \n",
              "4           6       3    5200  "
            ],
            "text/html": [
              "\n",
              "  <div id=\"df-4f985321-b97b-4b01-a432-a76dd106d826\">\n",
              "    <div class=\"colab-df-container\">\n",
              "      <div>\n",
              "<style scoped>\n",
              "    .dataframe tbody tr th:only-of-type {\n",
              "        vertical-align: middle;\n",
              "    }\n",
              "\n",
              "    .dataframe tbody tr th {\n",
              "        vertical-align: top;\n",
              "    }\n",
              "\n",
              "    .dataframe thead th {\n",
              "        text-align: right;\n",
              "    }\n",
              "</style>\n",
              "<table border=\"1\" class=\"dataframe\">\n",
              "  <thead>\n",
              "    <tr style=\"text-align: right;\">\n",
              "      <th></th>\n",
              "      <th>affairs</th>\n",
              "      <th>gender</th>\n",
              "      <th>age</th>\n",
              "      <th>yearsmarried</th>\n",
              "      <th>children</th>\n",
              "      <th>religiousness</th>\n",
              "      <th>education</th>\n",
              "      <th>occupation</th>\n",
              "      <th>rating</th>\n",
              "      <th>income</th>\n",
              "    </tr>\n",
              "  </thead>\n",
              "  <tbody>\n",
              "    <tr>\n",
              "      <th>0</th>\n",
              "      <td>0</td>\n",
              "      <td>male</td>\n",
              "      <td>37.0</td>\n",
              "      <td>10.00</td>\n",
              "      <td>no</td>\n",
              "      <td>3</td>\n",
              "      <td>18</td>\n",
              "      <td>7</td>\n",
              "      <td>4</td>\n",
              "      <td>10000</td>\n",
              "    </tr>\n",
              "    <tr>\n",
              "      <th>1</th>\n",
              "      <td>0</td>\n",
              "      <td>female</td>\n",
              "      <td>27.0</td>\n",
              "      <td>4.00</td>\n",
              "      <td>no</td>\n",
              "      <td>4</td>\n",
              "      <td>14</td>\n",
              "      <td>6</td>\n",
              "      <td>4</td>\n",
              "      <td>5200</td>\n",
              "    </tr>\n",
              "    <tr>\n",
              "      <th>2</th>\n",
              "      <td>0</td>\n",
              "      <td>female</td>\n",
              "      <td>32.0</td>\n",
              "      <td>15.00</td>\n",
              "      <td>yes</td>\n",
              "      <td>1</td>\n",
              "      <td>12</td>\n",
              "      <td>1</td>\n",
              "      <td>4</td>\n",
              "      <td>3000</td>\n",
              "    </tr>\n",
              "    <tr>\n",
              "      <th>3</th>\n",
              "      <td>0</td>\n",
              "      <td>male</td>\n",
              "      <td>57.0</td>\n",
              "      <td>15.00</td>\n",
              "      <td>yes</td>\n",
              "      <td>5</td>\n",
              "      <td>18</td>\n",
              "      <td>6</td>\n",
              "      <td>5</td>\n",
              "      <td>5200</td>\n",
              "    </tr>\n",
              "    <tr>\n",
              "      <th>4</th>\n",
              "      <td>0</td>\n",
              "      <td>male</td>\n",
              "      <td>22.0</td>\n",
              "      <td>0.75</td>\n",
              "      <td>no</td>\n",
              "      <td>2</td>\n",
              "      <td>17</td>\n",
              "      <td>6</td>\n",
              "      <td>3</td>\n",
              "      <td>5200</td>\n",
              "    </tr>\n",
              "  </tbody>\n",
              "</table>\n",
              "</div>\n",
              "      <button class=\"colab-df-convert\" onclick=\"convertToInteractive('df-4f985321-b97b-4b01-a432-a76dd106d826')\"\n",
              "              title=\"Convert this dataframe to an interactive table.\"\n",
              "              style=\"display:none;\">\n",
              "        \n",
              "  <svg xmlns=\"http://www.w3.org/2000/svg\" height=\"24px\"viewBox=\"0 0 24 24\"\n",
              "       width=\"24px\">\n",
              "    <path d=\"M0 0h24v24H0V0z\" fill=\"none\"/>\n",
              "    <path d=\"M18.56 5.44l.94 2.06.94-2.06 2.06-.94-2.06-.94-.94-2.06-.94 2.06-2.06.94zm-11 1L8.5 8.5l.94-2.06 2.06-.94-2.06-.94L8.5 2.5l-.94 2.06-2.06.94zm10 10l.94 2.06.94-2.06 2.06-.94-2.06-.94-.94-2.06-.94 2.06-2.06.94z\"/><path d=\"M17.41 7.96l-1.37-1.37c-.4-.4-.92-.59-1.43-.59-.52 0-1.04.2-1.43.59L10.3 9.45l-7.72 7.72c-.78.78-.78 2.05 0 2.83L4 21.41c.39.39.9.59 1.41.59.51 0 1.02-.2 1.41-.59l7.78-7.78 2.81-2.81c.8-.78.8-2.07 0-2.86zM5.41 20L4 18.59l7.72-7.72 1.47 1.35L5.41 20z\"/>\n",
              "  </svg>\n",
              "      </button>\n",
              "      \n",
              "  <style>\n",
              "    .colab-df-container {\n",
              "      display:flex;\n",
              "      flex-wrap:wrap;\n",
              "      gap: 12px;\n",
              "    }\n",
              "\n",
              "    .colab-df-convert {\n",
              "      background-color: #E8F0FE;\n",
              "      border: none;\n",
              "      border-radius: 50%;\n",
              "      cursor: pointer;\n",
              "      display: none;\n",
              "      fill: #1967D2;\n",
              "      height: 32px;\n",
              "      padding: 0 0 0 0;\n",
              "      width: 32px;\n",
              "    }\n",
              "\n",
              "    .colab-df-convert:hover {\n",
              "      background-color: #E2EBFA;\n",
              "      box-shadow: 0px 1px 2px rgba(60, 64, 67, 0.3), 0px 1px 3px 1px rgba(60, 64, 67, 0.15);\n",
              "      fill: #174EA6;\n",
              "    }\n",
              "\n",
              "    [theme=dark] .colab-df-convert {\n",
              "      background-color: #3B4455;\n",
              "      fill: #D2E3FC;\n",
              "    }\n",
              "\n",
              "    [theme=dark] .colab-df-convert:hover {\n",
              "      background-color: #434B5C;\n",
              "      box-shadow: 0px 1px 3px 1px rgba(0, 0, 0, 0.15);\n",
              "      filter: drop-shadow(0px 1px 2px rgba(0, 0, 0, 0.3));\n",
              "      fill: #FFFFFF;\n",
              "    }\n",
              "  </style>\n",
              "\n",
              "      <script>\n",
              "        const buttonEl =\n",
              "          document.querySelector('#df-4f985321-b97b-4b01-a432-a76dd106d826 button.colab-df-convert');\n",
              "        buttonEl.style.display =\n",
              "          google.colab.kernel.accessAllowed ? 'block' : 'none';\n",
              "\n",
              "        async function convertToInteractive(key) {\n",
              "          const element = document.querySelector('#df-4f985321-b97b-4b01-a432-a76dd106d826');\n",
              "          const dataTable =\n",
              "            await google.colab.kernel.invokeFunction('convertToInteractive',\n",
              "                                                     [key], {});\n",
              "          if (!dataTable) return;\n",
              "\n",
              "          const docLinkHtml = 'Like what you see? Visit the ' +\n",
              "            '<a target=\"_blank\" href=https://colab.research.google.com/notebooks/data_table.ipynb>data table notebook</a>'\n",
              "            + ' to learn more about interactive tables.';\n",
              "          element.innerHTML = '';\n",
              "          dataTable['output_type'] = 'display_data';\n",
              "          await google.colab.output.renderOutput(dataTable, element);\n",
              "          const docLink = document.createElement('div');\n",
              "          docLink.innerHTML = docLinkHtml;\n",
              "          element.appendChild(docLink);\n",
              "        }\n",
              "      </script>\n",
              "    </div>\n",
              "  </div>\n",
              "  "
            ]
          },
          "metadata": {},
          "execution_count": 16
        }
      ]
    },
    {
      "cell_type": "code",
      "source": [
        "# Exporting cleaned dataset to excel\n",
        "\n",
        "Affairs.to_excel('Affairs_final.xlsx')\n"
      ],
      "metadata": {
        "id": "Rzbc9vTdPSmK"
      },
      "execution_count": null,
      "outputs": []
    },
    {
      "cell_type": "markdown",
      "source": [
        "# Univariate Analysis"
      ],
      "metadata": {
        "id": "aQFNbOZ95uOd"
      }
    },
    {
      "cell_type": "code",
      "source": [
        "# finding out the gender disparity in our dataset\n",
        "sns.countplot(data=Affairs, x='gender');\n",
        "plt.title(\"Gender Disparity\");"
      ],
      "metadata": {
        "id": "lp3eaV-aVEpm",
        "colab": {
          "base_uri": "https://localhost:8080/",
          "height": 295
        },
        "outputId": "dc74aee8-6baf-483e-c43f-3a046f35355a"
      },
      "execution_count": null,
      "outputs": [
        {
          "output_type": "display_data",
          "data": {
            "text/plain": [
              "<Figure size 432x288 with 1 Axes>"
            ],
            "image/png": "[encoded data removed]"
          },
          "metadata": {
            "needs_background": "light"
          }
        }
      ]
    },
    {
      "cell_type": "markdown",
      "source": [
        "There are more female respondents than male therefore we'll have to perform stratified random sampling to avoid bias "
      ],
      "metadata": {
        "id": "EW8ct98K-Znt"
      }
    },
    {
      "cell_type": "code",
      "source": [
        "# finding out what proportion of our dataset has children\n",
        "plt.pie(Affairs['children'].value_counts(normalize=True), labels =Affairs['children'].value_counts().index,colors = ['Green', 'Red'], autopct = '%1.1f%%', shadow = True,explode=(0.2,0), startangle = 140)\n",
        "plt.axis('equal')\n",
        "plt.title('How many Respondents have children?')\n",
        "plt.show()"
      ],
      "metadata": {
        "id": "lcxDpJtU57x8",
        "colab": {
          "base_uri": "https://localhost:8080/",
          "height": 268
        },
        "outputId": "98b5b1e8-50fb-4503-bc7d-18c0f8ea9816"
      },
      "execution_count": null,
      "outputs": [
        {
          "output_type": "display_data",
          "data": {
            "text/plain": [
              "<Figure size 432x288 with 1 Axes>"
            ],
            "image/png": "[encoded data removed]"
          },
          "metadata": {}
        }
      ]
    },
    {
      "cell_type": "code",
      "source": [
        "# finding out how long our respondents have been married\n",
        "# Number of years married:\n",
        "# 0.125= 3 months or less \n",
        "# 0.417= 4-6months \n",
        "# 0.75= 6months-1year\n",
        "# 1.5= 1-2years \n",
        "# 4.0= 3-5years\n",
        "# 7.0= 6-8years \n",
        "# 10.0= 9-11yrs \n",
        "# 15.0= 12 or more years\n",
        "sns.countplot(data=Affairs, x='yearsmarried')\n",
        "plt.title(\"Time respondents have been married\")\n",
        "plt.xlabel(\"Number of years married\")\n",
        "plt.show()"
      ],
      "metadata": {
        "id": "dfZJib9e_4Bt",
        "colab": {
          "base_uri": "https://localhost:8080/",
          "height": 295
        },
        "outputId": "01bb3c8c-d3a8-4638-9282-59b71195d1bd"
      },
      "execution_count": null,
      "outputs": [
        {
          "output_type": "display_data",
          "data": {
            "text/plain": [
              "<Figure size 432x288 with 1 Axes>"
            ],
            "image/png": "[encoded data removed]"
          },
          "metadata": {
            "needs_background": "light"
          }
        }
      ]
    },
    {
      "cell_type": "markdown",
      "source": [
        "* Most of our respondents have been married for 12 or more years\n",
        "* Next most have been married for 3-5 years \n",
        "* The least have been maried for 4-6 months"
      ],
      "metadata": {
        "id": "fAy0SKroBgyR"
      }
    },
    {
      "cell_type": "code",
      "source": [
        "# prompting system to ignore warnings\n",
        "import warnings\n",
        "warnings.simplefilter(action='ignore', category=FutureWarning)\n",
        "# plotting countplots for the rating, affairs, education and occupation categories\n",
        "fig,axes = plt.subplots(2,2, figsize=(10,10))\n",
        "# plt.title(\"Count plots for rating, affairs, education and occupation\")\n",
        "sns.countplot('rating',data=Affairs,ax=axes[0,0])\n",
        "sns.countplot('affairs',data=Affairs,ax=axes[0,1])\n",
        "sns.countplot('education',data=Affairs,ax=axes[1,0])\n",
        "sns.countplot('occupation',data=Affairs,ax=axes[1,1])\n",
        "plt.show()\n"
      ],
      "metadata": {
        "id": "Hbamv5-5X8Jq",
        "colab": {
          "base_uri": "https://localhost:8080/",
          "height": 606
        },
        "outputId": "475972c3-93cf-4a50-9adb-78e09478ae03"
      },
      "execution_count": null,
      "outputs": [
        {
          "output_type": "display_data",
          "data": {
            "text/plain": [
              "<Figure size 720x720 with 4 Axes>"
            ],
            "image/png": "[encoded data removed]"
          },
          "metadata": {
            "needs_background": "light"
          }
        }
      ]
    },
    {
      "cell_type": "markdown",
      "source": [
        "**Affairs**: 0 = none, 1= once, 2=twice, 3=3 times, 7=4-10 times, 12=daily-monthly\n",
        "* Majority of the resopondents reported no occurence of extramarrital affairs within their marriages\n",
        "* The second largest proportion reported occurrence of 4-10 times\n",
        "\n",
        "**Education**: Level of education, 9 = grade school, 12 = high school, 14 = some college, 16 = college graduate, 17 = some graduate school, 20 = advanced degree\n",
        "* respondents with some colledge education are the majority\n",
        "* The least being those ith grade school as their highest education level\n",
        "\n",
        "\n",
        "**occupation** : 1 = student, 2 = farming, agriculture semi-skilled, or unskilled worker; 3 = white-colloar; 4 = teacher, counselor, social worker, nurse; artist, writers;technician, skilled worker, 5 = managerial, administrative, business, 6 = professional with advanced degree\n",
        "\n",
        "* most of the respondents are in managerial and administrative positions as well as business personel\n",
        "* The second largest portion of the respondents are proffessionals with advanced degree\n",
        "* This discovery suggests that majority of the respondents are literate\n",
        "\n",
        "**rating** : How rate marriage, 1 = very poor, 2 = poor, 3 = fair, 4 = good, 5 = very good\n",
        "*  Most of the respondents rated their marriages as very good, good, fair, poor and very poor respectively.\n",
        "* this suggests that majority of the respondents are happy with their marriages."
      ],
      "metadata": {
        "id": "d9GZxIMk9Fmh"
      }
    },
    {
      "cell_type": "markdown",
      "source": [
        "# Bivariate Analysis"
      ],
      "metadata": {
        "id": "gyeUGIrYEo0U"
      }
    },
    {
      "cell_type": "code",
      "source": [
        "# Correlation matrix\n",
        "\n",
        "Affairs.corr()"
      ],
      "metadata": {
        "id": "cmh458SaQnAX",
        "colab": {
          "base_uri": "https://localhost:8080/",
          "height": 300
        },
        "outputId": "464ba768-28d1-4606-9913-6dc2fb0b7a9c"
      },
      "execution_count": null,
      "outputs": [
        {
          "output_type": "execute_result",
          "data": {
            "text/plain": [
              "                affairs       age  yearsmarried  religiousness  education  \\\n",
              "affairs        1.000000  0.095237      0.186842      -0.144501  -0.002437   \n",
              "age            0.095237  1.000000      0.777546       0.193777   0.134596   \n",
              "yearsmarried   0.186842  0.777546      1.000000       0.218261   0.040003   \n",
              "religiousness -0.144501  0.193777      0.218261       1.000000  -0.042571   \n",
              "education     -0.002437  0.134596      0.040003      -0.042571   1.000000   \n",
              "occupation     0.049612  0.166413      0.044592      -0.039722   0.533605   \n",
              "rating        -0.279512 -0.199000     -0.243119       0.024296   0.109303   \n",
              "income         0.036341  0.168810      0.066461      -0.029826   0.419098   \n",
              "\n",
              "               occupation    rating    income  \n",
              "affairs          0.049612 -0.279512  0.036341  \n",
              "age              0.166413 -0.199000  0.168810  \n",
              "yearsmarried     0.044592 -0.243119  0.066461  \n",
              "religiousness   -0.039722  0.024296 -0.029826  \n",
              "education        0.533605  0.109303  0.419098  \n",
              "occupation       1.000000  0.017422  0.849171  \n",
              "rating           0.017422  1.000000 -0.044841  \n",
              "income           0.849171 -0.044841  1.000000  "
            ],
            "text/html": [
              "\n",
              "  <div id=\"df-e0448150-1c44-455f-8369-00f2006a0f9c\">\n",
              "    <div class=\"colab-df-container\">\n",
              "      <div>\n",
              "<style scoped>\n",
              "    .dataframe tbody tr th:only-of-type {\n",
              "        vertical-align: middle;\n",
              "    }\n",
              "\n",
              "    .dataframe tbody tr th {\n",
              "        vertical-align: top;\n",
              "    }\n",
              "\n",
              "    .dataframe thead th {\n",
              "        text-align: right;\n",
              "    }\n",
              "</style>\n",
              "<table border=\"1\" class=\"dataframe\">\n",
              "  <thead>\n",
              "    <tr style=\"text-align: right;\">\n",
              "      <th></th>\n",
              "      <th>affairs</th>\n",
              "      <th>age</th>\n",
              "      <th>yearsmarried</th>\n",
              "      <th>religiousness</th>\n",
              "      <th>education</th>\n",
              "      <th>occupation</th>\n",
              "      <th>rating</th>\n",
              "      <th>income</th>\n",
              "    </tr>\n",
              "  </thead>\n",
              "  <tbody>\n",
              "    <tr>\n",
              "      <th>affairs</th>\n",
              "      <td>1.000000</td>\n",
              "      <td>0.095237</td>\n",
              "      <td>0.186842</td>\n",
              "      <td>-0.144501</td>\n",
              "      <td>-0.002437</td>\n",
              "      <td>0.049612</td>\n",
              "      <td>-0.279512</td>\n",
              "      <td>0.036341</td>\n",
              "    </tr>\n",
              "    <tr>\n",
              "      <th>age</th>\n",
              "      <td>0.095237</td>\n",
              "      <td>1.000000</td>\n",
              "      <td>0.777546</td>\n",
              "      <td>0.193777</td>\n",
              "      <td>0.134596</td>\n",
              "      <td>0.166413</td>\n",
              "      <td>-0.199000</td>\n",
              "      <td>0.168810</td>\n",
              "    </tr>\n",
              "    <tr>\n",
              "      <th>yearsmarried</th>\n",
              "      <td>0.186842</td>\n",
              "      <td>0.777546</td>\n",
              "      <td>1.000000</td>\n",
              "      <td>0.218261</td>\n",
              "      <td>0.040003</td>\n",
              "      <td>0.044592</td>\n",
              "      <td>-0.243119</td>\n",
              "      <td>0.066461</td>\n",
              "    </tr>\n",
              "    <tr>\n",
              "      <th>religiousness</th>\n",
              "      <td>-0.144501</td>\n",
              "      <td>0.193777</td>\n",
              "      <td>0.218261</td>\n",
              "      <td>1.000000</td>\n",
              "      <td>-0.042571</td>\n",
              "      <td>-0.039722</td>\n",
              "      <td>0.024296</td>\n",
              "      <td>-0.029826</td>\n",
              "    </tr>\n",
              "    <tr>\n",
              "      <th>education</th>\n",
              "      <td>-0.002437</td>\n",
              "      <td>0.134596</td>\n",
              "      <td>0.040003</td>\n",
              "      <td>-0.042571</td>\n",
              "      <td>1.000000</td>\n",
              "      <td>0.533605</td>\n",
              "      <td>0.109303</td>\n",
              "      <td>0.419098</td>\n",
              "    </tr>\n",
              "    <tr>\n",
              "      <th>occupation</th>\n",
              "      <td>0.049612</td>\n",
              "      <td>0.166413</td>\n",
              "      <td>0.044592</td>\n",
              "      <td>-0.039722</td>\n",
              "      <td>0.533605</td>\n",
              "      <td>1.000000</td>\n",
              "      <td>0.017422</td>\n",
              "      <td>0.849171</td>\n",
              "    </tr>\n",
              "    <tr>\n",
              "      <th>rating</th>\n",
              "      <td>-0.279512</td>\n",
              "      <td>-0.199000</td>\n",
              "      <td>-0.243119</td>\n",
              "      <td>0.024296</td>\n",
              "      <td>0.109303</td>\n",
              "      <td>0.017422</td>\n",
              "      <td>1.000000</td>\n",
              "      <td>-0.044841</td>\n",
              "    </tr>\n",
              "    <tr>\n",
              "      <th>income</th>\n",
              "      <td>0.036341</td>\n",
              "      <td>0.168810</td>\n",
              "      <td>0.066461</td>\n",
              "      <td>-0.029826</td>\n",
              "      <td>0.419098</td>\n",
              "      <td>0.849171</td>\n",
              "      <td>-0.044841</td>\n",
              "      <td>1.000000</td>\n",
              "    </tr>\n",
              "  </tbody>\n",
              "</table>\n",
              "</div>\n",
              "      <button class=\"colab-df-convert\" onclick=\"convertToInteractive('df-e0448150-1c44-455f-8369-00f2006a0f9c')\"\n",
              "              title=\"Convert this dataframe to an interactive table.\"\n",
              "              style=\"display:none;\">\n",
              "        \n",
              "  <svg xmlns=\"http://www.w3.org/2000/svg\" height=\"24px\"viewBox=\"0 0 24 24\"\n",
              "       width=\"24px\">\n",
              "    <path d=\"M0 0h24v24H0V0z\" fill=\"none\"/>\n",
              "    <path d=\"M18.56 5.44l.94 2.06.94-2.06 2.06-.94-2.06-.94-.94-2.06-.94 2.06-2.06.94zm-11 1L8.5 8.5l.94-2.06 2.06-.94-2.06-.94L8.5 2.5l-.94 2.06-2.06.94zm10 10l.94 2.06.94-2.06 2.06-.94-2.06-.94-.94-2.06-.94 2.06-2.06.94z\"/><path d=\"M17.41 7.96l-1.37-1.37c-.4-.4-.92-.59-1.43-.59-.52 0-1.04.2-1.43.59L10.3 9.45l-7.72 7.72c-.78.78-.78 2.05 0 2.83L4 21.41c.39.39.9.59 1.41.59.51 0 1.02-.2 1.41-.59l7.78-7.78 2.81-2.81c.8-.78.8-2.07 0-2.86zM5.41 20L4 18.59l7.72-7.72 1.47 1.35L5.41 20z\"/>\n",
              "  </svg>\n",
              "      </button>\n",
              "      \n",
              "  <style>\n",
              "    .colab-df-container {\n",
              "      display:flex;\n",
              "      flex-wrap:wrap;\n",
              "      gap: 12px;\n",
              "    }\n",
              "\n",
              "    .colab-df-convert {\n",
              "      background-color: #E8F0FE;\n",
              "      border: none;\n",
              "      border-radius: 50%;\n",
              "      cursor: pointer;\n",
              "      display: none;\n",
              "      fill: #1967D2;\n",
              "      height: 32px;\n",
              "      padding: 0 0 0 0;\n",
              "      width: 32px;\n",
              "    }\n",
              "\n",
              "    .colab-df-convert:hover {\n",
              "      background-color: #E2EBFA;\n",
              "      box-shadow: 0px 1px 2px rgba(60, 64, 67, 0.3), 0px 1px 3px 1px rgba(60, 64, 67, 0.15);\n",
              "      fill: #174EA6;\n",
              "    }\n",
              "\n",
              "    [theme=dark] .colab-df-convert {\n",
              "      background-color: #3B4455;\n",
              "      fill: #D2E3FC;\n",
              "    }\n",
              "\n",
              "    [theme=dark] .colab-df-convert:hover {\n",
              "      background-color: #434B5C;\n",
              "      box-shadow: 0px 1px 3px 1px rgba(0, 0, 0, 0.15);\n",
              "      filter: drop-shadow(0px 1px 2px rgba(0, 0, 0, 0.3));\n",
              "      fill: #FFFFFF;\n",
              "    }\n",
              "  </style>\n",
              "\n",
              "      <script>\n",
              "        const buttonEl =\n",
              "          document.querySelector('#df-e0448150-1c44-455f-8369-00f2006a0f9c button.colab-df-convert');\n",
              "        buttonEl.style.display =\n",
              "          google.colab.kernel.accessAllowed ? 'block' : 'none';\n",
              "\n",
              "        async function convertToInteractive(key) {\n",
              "          const element = document.querySelector('#df-e0448150-1c44-455f-8369-00f2006a0f9c');\n",
              "          const dataTable =\n",
              "            await google.colab.kernel.invokeFunction('convertToInteractive',\n",
              "                                                     [key], {});\n",
              "          if (!dataTable) return;\n",
              "\n",
              "          const docLinkHtml = 'Like what you see? Visit the ' +\n",
              "            '<a target=\"_blank\" href=https://colab.research.google.com/notebooks/data_table.ipynb>data table notebook</a>'\n",
              "            + ' to learn more about interactive tables.';\n",
              "          element.innerHTML = '';\n",
              "          dataTable['output_type'] = 'display_data';\n",
              "          await google.colab.output.renderOutput(dataTable, element);\n",
              "          const docLink = document.createElement('div');\n",
              "          docLink.innerHTML = docLinkHtml;\n",
              "          element.appendChild(docLink);\n",
              "        }\n",
              "      </script>\n",
              "    </div>\n",
              "  </div>\n",
              "  "
            ]
          },
          "metadata": {},
          "execution_count": 22
        }
      ]
    },
    {
      "cell_type": "code",
      "source": [
        "# Heatmap of correlation\n",
        "\n",
        "corr_matrix = Affairs.corr(method = 'pearson')\n",
        "\n",
        "sns.heatmap(corr_matrix, annot = True)\n",
        "\n",
        "plt.title(\"Correlation matrice for the numerized dataset\")\n",
        "\n",
        "plt.xlabel(\"Household variables\")\n",
        "\n",
        "plt.ylabel(\"Household variables\")\n",
        "\n",
        "plt.show()"
      ],
      "metadata": {
        "id": "U9aFYvldQwqg",
        "colab": {
          "base_uri": "https://localhost:8080/",
          "height": 352
        },
        "outputId": "ee38828a-3959-4cd0-f66d-32514913f1c4"
      },
      "execution_count": null,
      "outputs": [
        {
          "output_type": "display_data",
          "data": {
            "text/plain": [
              "<Figure size 432x288 with 2 Axes>"
            ],
            "image/png": "[encoded data removed]"
          },
          "metadata": {
            "needs_background": "light"
          }
        }
      ]
    },
    {
      "cell_type": "markdown",
      "source": [
        "The correlation matrix and correlation heatmap show that:\n",
        "- \"yearsmarried\" and \"age\" are moderately correlated with r = .78\n",
        "- \"education\" and \"occupation\" are also moderately correlated with r = .53\n",
        "- we also look at \"affairs\" which is not or weakly correlated to the other variables"
      ],
      "metadata": {
        "id": "B08_mAImV73Y"
      }
    },
    {
      "cell_type": "code",
      "source": [
        "# defining a function to plot regression relation between two variables\n",
        "\n",
        "def cor(col1,col2,d):\n",
        "  ans = sns.regplot(x = col1, y = col2, data = Affairs, scatter_kws = {\"color\": \"red\"}, line_kws = {\"color\": \"black\"})\n",
        "  return ans\n",
        "\n",
        "# Scatter plot of \"yearsmarried\" and \"age\"\n",
        "\n",
        "print(cor(\"yearsmarried\", \"age\", Affairs))\n"
      ],
      "metadata": {
        "id": "KGIYVkXNWmD-",
        "colab": {
          "base_uri": "https://localhost:8080/",
          "height": 297
        },
        "outputId": "f20f08fb-4479-4d92-d2a2-1c7d2b39ca7d"
      },
      "execution_count": null,
      "outputs": [
        {
          "output_type": "stream",
          "name": "stdout",
          "text": [
            "AxesSubplot(0.125,0.125;0.775x0.755)\n"
          ]
        },
        {
          "output_type": "display_data",
          "data": {
            "text/plain": [
              "<Figure size 432x288 with 1 Axes>"
            ],
            "image/png": "[encoded data removed]"
          },
          "metadata": {
            "needs_background": "light"
          }
        }
      ]
    },
    {
      "cell_type": "code",
      "source": [
        "# scatter plot of \"occupation\" and \"education\"\n",
        "\n",
        "print(cor(\"occupation\", \"education\", Affairs))"
      ],
      "metadata": {
        "id": "PWMKvt_CX4VD",
        "colab": {
          "base_uri": "https://localhost:8080/",
          "height": 297
        },
        "outputId": "abdd1010-fbf5-4b5d-b5b7-80280fd7d110"
      },
      "execution_count": null,
      "outputs": [
        {
          "output_type": "stream",
          "name": "stdout",
          "text": [
            "AxesSubplot(0.125,0.125;0.775x0.755)\n"
          ]
        },
        {
          "output_type": "display_data",
          "data": {
            "text/plain": [
              "<Figure size 432x288 with 1 Axes>"
            ],
            "image/png": "[encoded data removed]"
          },
          "metadata": {
            "needs_background": "light"
          }
        }
      ]
    },
    {
      "cell_type": "code",
      "source": [
        "# Scatter plot of \"affairs\" and \"age\"\n",
        "\n",
        "print(cor(\"age\", \"affairs\", Affairs))"
      ],
      "metadata": {
        "id": "wYTd8xwVX7Qi",
        "colab": {
          "base_uri": "https://localhost:8080/",
          "height": 297
        },
        "outputId": "c612fbbb-89e3-47c7-9862-e2918ce0c642"
      },
      "execution_count": null,
      "outputs": [
        {
          "output_type": "stream",
          "name": "stdout",
          "text": [
            "AxesSubplot(0.125,0.125;0.775x0.755)\n"
          ]
        },
        {
          "output_type": "display_data",
          "data": {
            "text/plain": [
              "<Figure size 432x288 with 1 Axes>"
            ],
            "image/png": "[encoded data removed]"
          },
          "metadata": {
            "needs_background": "light"
          }
        }
      ]
    },
    {
      "cell_type": "code",
      "source": [
        "# Scatter plot of \"affairs\" and \"yearsmarried\"\n",
        "\n",
        "print(cor(\"affairs\", \"yearsmarried\", Affairs))"
      ],
      "metadata": {
        "id": "T3KB7aB4RGX5",
        "colab": {
          "base_uri": "https://localhost:8080/",
          "height": 297
        },
        "outputId": "c1fbef19-6478-4428-e32e-2f070db365f5"
      },
      "execution_count": null,
      "outputs": [
        {
          "output_type": "stream",
          "name": "stdout",
          "text": [
            "AxesSubplot(0.125,0.125;0.775x0.755)\n"
          ]
        },
        {
          "output_type": "display_data",
          "data": {
            "text/plain": [
              "<Figure size 432x288 with 1 Axes>"
            ],
            "image/png": "[encoded data removed]"
          },
          "metadata": {
            "needs_background": "light"
          }
        }
      ]
    },
    {
      "cell_type": "code",
      "source": [
        "# Scatter plot of \"affairs\" and \"religiousness\"\n",
        "\n",
        "print(cor(\"affairs\", \"religiousness\", Affairs))"
      ],
      "metadata": {
        "id": "c92naRRdRJR-",
        "colab": {
          "base_uri": "https://localhost:8080/",
          "height": 297
        },
        "outputId": "3c322749-e377-4fea-c95b-9fda33d4dfa5"
      },
      "execution_count": null,
      "outputs": [
        {
          "output_type": "stream",
          "name": "stdout",
          "text": [
            "AxesSubplot(0.125,0.125;0.775x0.755)\n"
          ]
        },
        {
          "output_type": "display_data",
          "data": {
            "text/plain": [
              "<Figure size 432x288 with 1 Axes>"
            ],
            "image/png": "[encoded data removed]"
          },
          "metadata": {
            "needs_background": "light"
          }
        }
      ]
    },
    {
      "cell_type": "code",
      "source": [
        "# Scatter plot of \"affairs\" and \"education\"\n",
        "\n",
        "print(cor(\"affairs\", \"education\", Affairs))"
      ],
      "metadata": {
        "id": "peqFMuAYSD4H",
        "colab": {
          "base_uri": "https://localhost:8080/",
          "height": 297
        },
        "outputId": "1003493f-fd04-4ef2-f43b-3e02a01ff91f"
      },
      "execution_count": null,
      "outputs": [
        {
          "output_type": "stream",
          "name": "stdout",
          "text": [
            "AxesSubplot(0.125,0.125;0.775x0.755)\n"
          ]
        },
        {
          "output_type": "display_data",
          "data": {
            "text/plain": [
              "<Figure size 432x288 with 1 Axes>"
            ],
            "image/png": "[encoded data removed]"
          },
          "metadata": {
            "needs_background": "light"
          }
        }
      ]
    },
    {
      "cell_type": "code",
      "source": [
        "# Scatter plot of \"affairs\" and \"occupation\"\n",
        "\n",
        "print(cor(\"affairs\", \"occupation\", Affairs))"
      ],
      "metadata": {
        "id": "4nkcFLQzSlsI",
        "colab": {
          "base_uri": "https://localhost:8080/",
          "height": 297
        },
        "outputId": "5bc71b1a-19ff-49df-d861-7b3dfebbf727"
      },
      "execution_count": null,
      "outputs": [
        {
          "output_type": "stream",
          "name": "stdout",
          "text": [
            "AxesSubplot(0.125,0.125;0.775x0.755)\n"
          ]
        },
        {
          "output_type": "display_data",
          "data": {
            "text/plain": [
              "<Figure size 432x288 with 1 Axes>"
            ],
            "image/png": "[encoded data removed]"
          },
          "metadata": {
            "needs_background": "light"
          }
        }
      ]
    },
    {
      "cell_type": "code",
      "source": [
        "# Scatter plot of \"affairs\" and \"rating\"\n",
        "\n",
        "print(cor(\"affairs\", \"rating\", Affairs))"
      ],
      "metadata": {
        "id": "yVfwlH0uSoyy",
        "colab": {
          "base_uri": "https://localhost:8080/",
          "height": 297
        },
        "outputId": "b6fe89ef-d3dc-411a-aa73-ad4074b52479"
      },
      "execution_count": null,
      "outputs": [
        {
          "output_type": "stream",
          "name": "stdout",
          "text": [
            "AxesSubplot(0.125,0.125;0.775x0.755)\n"
          ]
        },
        {
          "output_type": "display_data",
          "data": {
            "text/plain": [
              "<Figure size 432x288 with 1 Axes>"
            ],
            "image/png": "[encoded data removed]"
          },
          "metadata": {
            "needs_background": "light"
          }
        }
      ]
    },
    {
      "cell_type": "markdown",
      "source": [
        "With respect to the variable \"affairs\", the observation on correlations show there is weak or no correlations with other variables."
      ],
      "metadata": {
        "id": "oura0PXKTegO"
      }
    },
    {
      "cell_type": "markdown",
      "source": [
        "# Multivariate Analysis"
      ],
      "metadata": {
        "id": "TE8qTJMyCOwv"
      }
    },
    {
      "cell_type": "code",
      "source": [
        "# We change all values into categorical variables\n",
        "\n",
        "Affairs_cat = Affairs.copy()\n",
        "\n",
        "for col in Affairs_cat.columns:\n",
        "    if (Affairs_cat[col].dtype != 'age'):\n",
        "        Affairs_cat[col] = Affairs_cat[col].astype('category')\n",
        "        Affairs_cat[col] = Affairs_cat[col].cat.codes\n",
        "        \n",
        "Affairs_cat.head()"
      ],
      "metadata": {
        "id": "dNPgL74FrTYx",
        "colab": {
          "base_uri": "https://localhost:8080/",
          "height": 206
        },
        "outputId": "d2d3c008-2418-47ca-f098-caac12f6d453"
      },
      "execution_count": null,
      "outputs": [
        {
          "output_type": "execute_result",
          "data": {
            "text/plain": [
              "   affairs  gender  age  yearsmarried  children  religiousness  education  \\\n",
              "0        0       1    4             6         0              2          5   \n",
              "1        0       0    2             4         0              3          2   \n",
              "2        0       0    3             7         1              0          1   \n",
              "3        0       1    8             7         1              4          5   \n",
              "4        0       1    1             2         0              1          4   \n",
              "\n",
              "   occupation  rating  income  \n",
              "0           6       3       6  \n",
              "1           5       3       5  \n",
              "2           0       3       0  \n",
              "3           5       4       5  \n",
              "4           5       2       5  "
            ],
            "text/html": [
              "\n",
              "  <div id=\"df-aa85eeaf-8590-44b8-84bf-ce9ac5a4ccbd\">\n",
              "    <div class=\"colab-df-container\">\n",
              "      <div>\n",
              "<style scoped>\n",
              "    .dataframe tbody tr th:only-of-type {\n",
              "        vertical-align: middle;\n",
              "    }\n",
              "\n",
              "    .dataframe tbody tr th {\n",
              "        vertical-align: top;\n",
              "    }\n",
              "\n",
              "    .dataframe thead th {\n",
              "        text-align: right;\n",
              "    }\n",
              "</style>\n",
              "<table border=\"1\" class=\"dataframe\">\n",
              "  <thead>\n",
              "    <tr style=\"text-align: right;\">\n",
              "      <th></th>\n",
              "      <th>affairs</th>\n",
              "      <th>gender</th>\n",
              "      <th>age</th>\n",
              "      <th>yearsmarried</th>\n",
              "      <th>children</th>\n",
              "      <th>religiousness</th>\n",
              "      <th>education</th>\n",
              "      <th>occupation</th>\n",
              "      <th>rating</th>\n",
              "      <th>income</th>\n",
              "    </tr>\n",
              "  </thead>\n",
              "  <tbody>\n",
              "    <tr>\n",
              "      <th>0</th>\n",
              "      <td>0</td>\n",
              "      <td>1</td>\n",
              "      <td>4</td>\n",
              "      <td>6</td>\n",
              "      <td>0</td>\n",
              "      <td>2</td>\n",
              "      <td>5</td>\n",
              "      <td>6</td>\n",
              "      <td>3</td>\n",
              "      <td>6</td>\n",
              "    </tr>\n",
              "    <tr>\n",
              "      <th>1</th>\n",
              "      <td>0</td>\n",
              "      <td>0</td>\n",
              "      <td>2</td>\n",
              "      <td>4</td>\n",
              "      <td>0</td>\n",
              "      <td>3</td>\n",
              "      <td>2</td>\n",
              "      <td>5</td>\n",
              "      <td>3</td>\n",
              "      <td>5</td>\n",
              "    </tr>\n",
              "    <tr>\n",
              "      <th>2</th>\n",
              "      <td>0</td>\n",
              "      <td>0</td>\n",
              "      <td>3</td>\n",
              "      <td>7</td>\n",
              "      <td>1</td>\n",
              "      <td>0</td>\n",
              "      <td>1</td>\n",
              "      <td>0</td>\n",
              "      <td>3</td>\n",
              "      <td>0</td>\n",
              "    </tr>\n",
              "    <tr>\n",
              "      <th>3</th>\n",
              "      <td>0</td>\n",
              "      <td>1</td>\n",
              "      <td>8</td>\n",
              "      <td>7</td>\n",
              "      <td>1</td>\n",
              "      <td>4</td>\n",
              "      <td>5</td>\n",
              "      <td>5</td>\n",
              "      <td>4</td>\n",
              "      <td>5</td>\n",
              "    </tr>\n",
              "    <tr>\n",
              "      <th>4</th>\n",
              "      <td>0</td>\n",
              "      <td>1</td>\n",
              "      <td>1</td>\n",
              "      <td>2</td>\n",
              "      <td>0</td>\n",
              "      <td>1</td>\n",
              "      <td>4</td>\n",
              "      <td>5</td>\n",
              "      <td>2</td>\n",
              "      <td>5</td>\n",
              "    </tr>\n",
              "  </tbody>\n",
              "</table>\n",
              "</div>\n",
              "      <button class=\"colab-df-convert\" onclick=\"convertToInteractive('df-aa85eeaf-8590-44b8-84bf-ce9ac5a4ccbd')\"\n",
              "              title=\"Convert this dataframe to an interactive table.\"\n",
              "              style=\"display:none;\">\n",
              "        \n",
              "  <svg xmlns=\"http://www.w3.org/2000/svg\" height=\"24px\"viewBox=\"0 0 24 24\"\n",
              "       width=\"24px\">\n",
              "    <path d=\"M0 0h24v24H0V0z\" fill=\"none\"/>\n",
              "    <path d=\"M18.56 5.44l.94 2.06.94-2.06 2.06-.94-2.06-.94-.94-2.06-.94 2.06-2.06.94zm-11 1L8.5 8.5l.94-2.06 2.06-.94-2.06-.94L8.5 2.5l-.94 2.06-2.06.94zm10 10l.94 2.06.94-2.06 2.06-.94-2.06-.94-.94-2.06-.94 2.06-2.06.94z\"/><path d=\"M17.41 7.96l-1.37-1.37c-.4-.4-.92-.59-1.43-.59-.52 0-1.04.2-1.43.59L10.3 9.45l-7.72 7.72c-.78.78-.78 2.05 0 2.83L4 21.41c.39.39.9.59 1.41.59.51 0 1.02-.2 1.41-.59l7.78-7.78 2.81-2.81c.8-.78.8-2.07 0-2.86zM5.41 20L4 18.59l7.72-7.72 1.47 1.35L5.41 20z\"/>\n",
              "  </svg>\n",
              "      </button>\n",
              "      \n",
              "  <style>\n",
              "    .colab-df-container {\n",
              "      display:flex;\n",
              "      flex-wrap:wrap;\n",
              "      gap: 12px;\n",
              "    }\n",
              "\n",
              "    .colab-df-convert {\n",
              "      background-color: #E8F0FE;\n",
              "      border: none;\n",
              "      border-radius: 50%;\n",
              "      cursor: pointer;\n",
              "      display: none;\n",
              "      fill: #1967D2;\n",
              "      height: 32px;\n",
              "      padding: 0 0 0 0;\n",
              "      width: 32px;\n",
              "    }\n",
              "\n",
              "    .colab-df-convert:hover {\n",
              "      background-color: #E2EBFA;\n",
              "      box-shadow: 0px 1px 2px rgba(60, 64, 67, 0.3), 0px 1px 3px 1px rgba(60, 64, 67, 0.15);\n",
              "      fill: #174EA6;\n",
              "    }\n",
              "\n",
              "    [theme=dark] .colab-df-convert {\n",
              "      background-color: #3B4455;\n",
              "      fill: #D2E3FC;\n",
              "    }\n",
              "\n",
              "    [theme=dark] .colab-df-convert:hover {\n",
              "      background-color: #434B5C;\n",
              "      box-shadow: 0px 1px 3px 1px rgba(0, 0, 0, 0.15);\n",
              "      filter: drop-shadow(0px 1px 2px rgba(0, 0, 0, 0.3));\n",
              "      fill: #FFFFFF;\n",
              "    }\n",
              "  </style>\n",
              "\n",
              "      <script>\n",
              "        const buttonEl =\n",
              "          document.querySelector('#df-aa85eeaf-8590-44b8-84bf-ce9ac5a4ccbd button.colab-df-convert');\n",
              "        buttonEl.style.display =\n",
              "          google.colab.kernel.accessAllowed ? 'block' : 'none';\n",
              "\n",
              "        async function convertToInteractive(key) {\n",
              "          const element = document.querySelector('#df-aa85eeaf-8590-44b8-84bf-ce9ac5a4ccbd');\n",
              "          const dataTable =\n",
              "            await google.colab.kernel.invokeFunction('convertToInteractive',\n",
              "                                                     [key], {});\n",
              "          if (!dataTable) return;\n",
              "\n",
              "          const docLinkHtml = 'Like what you see? Visit the ' +\n",
              "            '<a target=\"_blank\" href=https://colab.research.google.com/notebooks/data_table.ipynb>data table notebook</a>'\n",
              "            + ' to learn more about interactive tables.';\n",
              "          element.innerHTML = '';\n",
              "          dataTable['output_type'] = 'display_data';\n",
              "          await google.colab.output.renderOutput(dataTable, element);\n",
              "          const docLink = document.createElement('div');\n",
              "          docLink.innerHTML = docLinkHtml;\n",
              "          element.appendChild(docLink);\n",
              "        }\n",
              "      </script>\n",
              "    </div>\n",
              "  </div>\n",
              "  "
            ]
          },
          "metadata": {},
          "execution_count": 32
        }
      ]
    },
    {
      "cell_type": "markdown",
      "source": [
        "We categorized all variables except \"age\""
      ],
      "metadata": {
        "id": "UY4bnnw991Mw"
      }
    },
    {
      "cell_type": "code",
      "source": [
        "# Changing our target variable \"affairs\" into a binary variable with \n",
        "# 0 for no affair and 1 for having an affair\n",
        "\n",
        "affairs_bin = np.where(Affairs_cat['affairs'] == 0, 0, 1)\n",
        "if 'affairs_bin' not in Affairs_cat.columns:\n",
        "  Affairs_cat.insert(1, \"affairs_bin\", affairs_bin)\n",
        "\n",
        "Affairs_cat.head()"
      ],
      "metadata": {
        "id": "O39IulJ6SoBa",
        "colab": {
          "base_uri": "https://localhost:8080/",
          "height": 270
        },
        "outputId": "1660fc7c-cf49-433a-aaed-5a8bd1b568d8"
      },
      "execution_count": null,
      "outputs": [
        {
          "output_type": "execute_result",
          "data": {
            "text/plain": [
              "   affairs  affairs_bin  gender  age  yearsmarried  children  religiousness  \\\n",
              "0        0            0       1    4             6         0              2   \n",
              "1        0            0       0    2             4         0              3   \n",
              "2        0            0       0    3             7         1              0   \n",
              "3        0            0       1    8             7         1              4   \n",
              "4        0            0       1    1             2         0              1   \n",
              "\n",
              "   education  occupation  rating  income  \n",
              "0          5           6       3       6  \n",
              "1          2           5       3       5  \n",
              "2          1           0       3       0  \n",
              "3          5           5       4       5  \n",
              "4          4           5       2       5  "
            ],
            "text/html": [
              "\n",
              "  <div id=\"df-1cd6957a-9bd3-4529-9c4c-349e30a5db61\">\n",
              "    <div class=\"colab-df-container\">\n",
              "      <div>\n",
              "<style scoped>\n",
              "    .dataframe tbody tr th:only-of-type {\n",
              "        vertical-align: middle;\n",
              "    }\n",
              "\n",
              "    .dataframe tbody tr th {\n",
              "        vertical-align: top;\n",
              "    }\n",
              "\n",
              "    .dataframe thead th {\n",
              "        text-align: right;\n",
              "    }\n",
              "</style>\n",
              "<table border=\"1\" class=\"dataframe\">\n",
              "  <thead>\n",
              "    <tr style=\"text-align: right;\">\n",
              "      <th></th>\n",
              "      <th>affairs</th>\n",
              "      <th>affairs_bin</th>\n",
              "      <th>gender</th>\n",
              "      <th>age</th>\n",
              "      <th>yearsmarried</th>\n",
              "      <th>children</th>\n",
              "      <th>religiousness</th>\n",
              "      <th>education</th>\n",
              "      <th>occupation</th>\n",
              "      <th>rating</th>\n",
              "      <th>income</th>\n",
              "    </tr>\n",
              "  </thead>\n",
              "  <tbody>\n",
              "    <tr>\n",
              "      <th>0</th>\n",
              "      <td>0</td>\n",
              "      <td>0</td>\n",
              "      <td>1</td>\n",
              "      <td>4</td>\n",
              "      <td>6</td>\n",
              "      <td>0</td>\n",
              "      <td>2</td>\n",
              "      <td>5</td>\n",
              "      <td>6</td>\n",
              "      <td>3</td>\n",
              "      <td>6</td>\n",
              "    </tr>\n",
              "    <tr>\n",
              "      <th>1</th>\n",
              "      <td>0</td>\n",
              "      <td>0</td>\n",
              "      <td>0</td>\n",
              "      <td>2</td>\n",
              "      <td>4</td>\n",
              "      <td>0</td>\n",
              "      <td>3</td>\n",
              "      <td>2</td>\n",
              "      <td>5</td>\n",
              "      <td>3</td>\n",
              "      <td>5</td>\n",
              "    </tr>\n",
              "    <tr>\n",
              "      <th>2</th>\n",
              "      <td>0</td>\n",
              "      <td>0</td>\n",
              "      <td>0</td>\n",
              "      <td>3</td>\n",
              "      <td>7</td>\n",
              "      <td>1</td>\n",
              "      <td>0</td>\n",
              "      <td>1</td>\n",
              "      <td>0</td>\n",
              "      <td>3</td>\n",
              "      <td>0</td>\n",
              "    </tr>\n",
              "    <tr>\n",
              "      <th>3</th>\n",
              "      <td>0</td>\n",
              "      <td>0</td>\n",
              "      <td>1</td>\n",
              "      <td>8</td>\n",
              "      <td>7</td>\n",
              "      <td>1</td>\n",
              "      <td>4</td>\n",
              "      <td>5</td>\n",
              "      <td>5</td>\n",
              "      <td>4</td>\n",
              "      <td>5</td>\n",
              "    </tr>\n",
              "    <tr>\n",
              "      <th>4</th>\n",
              "      <td>0</td>\n",
              "      <td>0</td>\n",
              "      <td>1</td>\n",
              "      <td>1</td>\n",
              "      <td>2</td>\n",
              "      <td>0</td>\n",
              "      <td>1</td>\n",
              "      <td>4</td>\n",
              "      <td>5</td>\n",
              "      <td>2</td>\n",
              "      <td>5</td>\n",
              "    </tr>\n",
              "  </tbody>\n",
              "</table>\n",
              "</div>\n",
              "      <button class=\"colab-df-convert\" onclick=\"convertToInteractive('df-1cd6957a-9bd3-4529-9c4c-349e30a5db61')\"\n",
              "              title=\"Convert this dataframe to an interactive table.\"\n",
              "              style=\"display:none;\">\n",
              "        \n",
              "  <svg xmlns=\"http://www.w3.org/2000/svg\" height=\"24px\"viewBox=\"0 0 24 24\"\n",
              "       width=\"24px\">\n",
              "    <path d=\"M0 0h24v24H0V0z\" fill=\"none\"/>\n",
              "    <path d=\"M18.56 5.44l.94 2.06.94-2.06 2.06-.94-2.06-.94-.94-2.06-.94 2.06-2.06.94zm-11 1L8.5 8.5l.94-2.06 2.06-.94-2.06-.94L8.5 2.5l-.94 2.06-2.06.94zm10 10l.94 2.06.94-2.06 2.06-.94-2.06-.94-.94-2.06-.94 2.06-2.06.94z\"/><path d=\"M17.41 7.96l-1.37-1.37c-.4-.4-.92-.59-1.43-.59-.52 0-1.04.2-1.43.59L10.3 9.45l-7.72 7.72c-.78.78-.78 2.05 0 2.83L4 21.41c.39.39.9.59 1.41.59.51 0 1.02-.2 1.41-.59l7.78-7.78 2.81-2.81c.8-.78.8-2.07 0-2.86zM5.41 20L4 18.59l7.72-7.72 1.47 1.35L5.41 20z\"/>\n",
              "  </svg>\n",
              "      </button>\n",
              "      \n",
              "  <style>\n",
              "    .colab-df-container {\n",
              "      display:flex;\n",
              "      flex-wrap:wrap;\n",
              "      gap: 12px;\n",
              "    }\n",
              "\n",
              "    .colab-df-convert {\n",
              "      background-color: #E8F0FE;\n",
              "      border: none;\n",
              "      border-radius: 50%;\n",
              "      cursor: pointer;\n",
              "      display: none;\n",
              "      fill: #1967D2;\n",
              "      height: 32px;\n",
              "      padding: 0 0 0 0;\n",
              "      width: 32px;\n",
              "    }\n",
              "\n",
              "    .colab-df-convert:hover {\n",
              "      background-color: #E2EBFA;\n",
              "      box-shadow: 0px 1px 2px rgba(60, 64, 67, 0.3), 0px 1px 3px 1px rgba(60, 64, 67, 0.15);\n",
              "      fill: #174EA6;\n",
              "    }\n",
              "\n",
              "    [theme=dark] .colab-df-convert {\n",
              "      background-color: #3B4455;\n",
              "      fill: #D2E3FC;\n",
              "    }\n",
              "\n",
              "    [theme=dark] .colab-df-convert:hover {\n",
              "      background-color: #434B5C;\n",
              "      box-shadow: 0px 1px 3px 1px rgba(0, 0, 0, 0.15);\n",
              "      filter: drop-shadow(0px 1px 2px rgba(0, 0, 0, 0.3));\n",
              "      fill: #FFFFFF;\n",
              "    }\n",
              "  </style>\n",
              "\n",
              "      <script>\n",
              "        const buttonEl =\n",
              "          document.querySelector('#df-1cd6957a-9bd3-4529-9c4c-349e30a5db61 button.colab-df-convert');\n",
              "        buttonEl.style.display =\n",
              "          google.colab.kernel.accessAllowed ? 'block' : 'none';\n",
              "\n",
              "        async function convertToInteractive(key) {\n",
              "          const element = document.querySelector('#df-1cd6957a-9bd3-4529-9c4c-349e30a5db61');\n",
              "          const dataTable =\n",
              "            await google.colab.kernel.invokeFunction('convertToInteractive',\n",
              "                                                     [key], {});\n",
              "          if (!dataTable) return;\n",
              "\n",
              "          const docLinkHtml = 'Like what you see? Visit the ' +\n",
              "            '<a target=\"_blank\" href=https://colab.research.google.com/notebooks/data_table.ipynb>data table notebook</a>'\n",
              "            + ' to learn more about interactive tables.';\n",
              "          element.innerHTML = '';\n",
              "          dataTable['output_type'] = 'display_data';\n",
              "          await google.colab.output.renderOutput(dataTable, element);\n",
              "          const docLink = document.createElement('div');\n",
              "          docLink.innerHTML = docLinkHtml;\n",
              "          element.appendChild(docLink);\n",
              "        }\n",
              "      </script>\n",
              "    </div>\n",
              "  </div>\n",
              "  "
            ]
          },
          "metadata": {},
          "execution_count": 33
        }
      ]
    },
    {
      "cell_type": "markdown",
      "source": [
        "We create a binary variable for \"affairs\" where 0 is no extra marital affairs and 1 is having an extra marital affair (1, 2, 3, 7, 12)."
      ],
      "metadata": {
        "id": "adv2R75S-wNs"
      }
    },
    {
      "cell_type": "code",
      "source": [
        "# Dropping column \"affairs\" as we will use affairs_bin as the target variable\n",
        "\n",
        "Affairs_cat.drop(\"affairs\", axis = 1, inplace = True)\n",
        "\n",
        "Affairs_cat.shape\n"
      ],
      "metadata": {
        "id": "0YU9BtW3uWZk",
        "colab": {
          "base_uri": "https://localhost:8080/"
        },
        "outputId": "4818bd22-3fd4-4c0d-ccfb-3ed103611e0a"
      },
      "execution_count": null,
      "outputs": [
        {
          "output_type": "execute_result",
          "data": {
            "text/plain": [
              "(601, 10)"
            ]
          },
          "metadata": {},
          "execution_count": 34
        }
      ]
    },
    {
      "cell_type": "code",
      "source": [
        "# Creating dependent and independent variables\n",
        "\n",
        "y = dependent = target =  Affairs_cat[\"affairs_bin\"]\n",
        "\n",
        "X = independent = predictors = Affairs_cat.loc[:,Affairs_cat.columns != \"affairs_bin\"]\n",
        "\n",
        "X.head()"
      ],
      "metadata": {
        "id": "TGQ23sB27RJD",
        "colab": {
          "base_uri": "https://localhost:8080/",
          "height": 206
        },
        "outputId": "a94f33dc-4c67-4617-c97a-8e71a99a013e"
      },
      "execution_count": null,
      "outputs": [
        {
          "output_type": "execute_result",
          "data": {
            "text/plain": [
              "   gender  age  yearsmarried  children  religiousness  education  occupation  \\\n",
              "0       1    4             6         0              2          5           6   \n",
              "1       0    2             4         0              3          2           5   \n",
              "2       0    3             7         1              0          1           0   \n",
              "3       1    8             7         1              4          5           5   \n",
              "4       1    1             2         0              1          4           5   \n",
              "\n",
              "   rating  income  \n",
              "0       3       6  \n",
              "1       3       5  \n",
              "2       3       0  \n",
              "3       4       5  \n",
              "4       2       5  "
            ],
            "text/html": [
              "\n",
              "  <div id=\"df-c63d679a-f620-428f-ae32-5bd113775277\">\n",
              "    <div class=\"colab-df-container\">\n",
              "      <div>\n",
              "<style scoped>\n",
              "    .dataframe tbody tr th:only-of-type {\n",
              "        vertical-align: middle;\n",
              "    }\n",
              "\n",
              "    .dataframe tbody tr th {\n",
              "        vertical-align: top;\n",
              "    }\n",
              "\n",
              "    .dataframe thead th {\n",
              "        text-align: right;\n",
              "    }\n",
              "</style>\n",
              "<table border=\"1\" class=\"dataframe\">\n",
              "  <thead>\n",
              "    <tr style=\"text-align: right;\">\n",
              "      <th></th>\n",
              "      <th>gender</th>\n",
              "      <th>age</th>\n",
              "      <th>yearsmarried</th>\n",
              "      <th>children</th>\n",
              "      <th>religiousness</th>\n",
              "      <th>education</th>\n",
              "      <th>occupation</th>\n",
              "      <th>rating</th>\n",
              "      <th>income</th>\n",
              "    </tr>\n",
              "  </thead>\n",
              "  <tbody>\n",
              "    <tr>\n",
              "      <th>0</th>\n",
              "      <td>1</td>\n",
              "      <td>4</td>\n",
              "      <td>6</td>\n",
              "      <td>0</td>\n",
              "      <td>2</td>\n",
              "      <td>5</td>\n",
              "      <td>6</td>\n",
              "      <td>3</td>\n",
              "      <td>6</td>\n",
              "    </tr>\n",
              "    <tr>\n",
              "      <th>1</th>\n",
              "      <td>0</td>\n",
              "      <td>2</td>\n",
              "      <td>4</td>\n",
              "      <td>0</td>\n",
              "      <td>3</td>\n",
              "      <td>2</td>\n",
              "      <td>5</td>\n",
              "      <td>3</td>\n",
              "      <td>5</td>\n",
              "    </tr>\n",
              "    <tr>\n",
              "      <th>2</th>\n",
              "      <td>0</td>\n",
              "      <td>3</td>\n",
              "      <td>7</td>\n",
              "      <td>1</td>\n",
              "      <td>0</td>\n",
              "      <td>1</td>\n",
              "      <td>0</td>\n",
              "      <td>3</td>\n",
              "      <td>0</td>\n",
              "    </tr>\n",
              "    <tr>\n",
              "      <th>3</th>\n",
              "      <td>1</td>\n",
              "      <td>8</td>\n",
              "      <td>7</td>\n",
              "      <td>1</td>\n",
              "      <td>4</td>\n",
              "      <td>5</td>\n",
              "      <td>5</td>\n",
              "      <td>4</td>\n",
              "      <td>5</td>\n",
              "    </tr>\n",
              "    <tr>\n",
              "      <th>4</th>\n",
              "      <td>1</td>\n",
              "      <td>1</td>\n",
              "      <td>2</td>\n",
              "      <td>0</td>\n",
              "      <td>1</td>\n",
              "      <td>4</td>\n",
              "      <td>5</td>\n",
              "      <td>2</td>\n",
              "      <td>5</td>\n",
              "    </tr>\n",
              "  </tbody>\n",
              "</table>\n",
              "</div>\n",
              "      <button class=\"colab-df-convert\" onclick=\"convertToInteractive('df-c63d679a-f620-428f-ae32-5bd113775277')\"\n",
              "              title=\"Convert this dataframe to an interactive table.\"\n",
              "              style=\"display:none;\">\n",
              "        \n",
              "  <svg xmlns=\"http://www.w3.org/2000/svg\" height=\"24px\"viewBox=\"0 0 24 24\"\n",
              "       width=\"24px\">\n",
              "    <path d=\"M0 0h24v24H0V0z\" fill=\"none\"/>\n",
              "    <path d=\"M18.56 5.44l.94 2.06.94-2.06 2.06-.94-2.06-.94-.94-2.06-.94 2.06-2.06.94zm-11 1L8.5 8.5l.94-2.06 2.06-.94-2.06-.94L8.5 2.5l-.94 2.06-2.06.94zm10 10l.94 2.06.94-2.06 2.06-.94-2.06-.94-.94-2.06-.94 2.06-2.06.94z\"/><path d=\"M17.41 7.96l-1.37-1.37c-.4-.4-.92-.59-1.43-.59-.52 0-1.04.2-1.43.59L10.3 9.45l-7.72 7.72c-.78.78-.78 2.05 0 2.83L4 21.41c.39.39.9.59 1.41.59.51 0 1.02-.2 1.41-.59l7.78-7.78 2.81-2.81c.8-.78.8-2.07 0-2.86zM5.41 20L4 18.59l7.72-7.72 1.47 1.35L5.41 20z\"/>\n",
              "  </svg>\n",
              "      </button>\n",
              "      \n",
              "  <style>\n",
              "    .colab-df-container {\n",
              "      display:flex;\n",
              "      flex-wrap:wrap;\n",
              "      gap: 12px;\n",
              "    }\n",
              "\n",
              "    .colab-df-convert {\n",
              "      background-color: #E8F0FE;\n",
              "      border: none;\n",
              "      border-radius: 50%;\n",
              "      cursor: pointer;\n",
              "      display: none;\n",
              "      fill: #1967D2;\n",
              "      height: 32px;\n",
              "      padding: 0 0 0 0;\n",
              "      width: 32px;\n",
              "    }\n",
              "\n",
              "    .colab-df-convert:hover {\n",
              "      background-color: #E2EBFA;\n",
              "      box-shadow: 0px 1px 2px rgba(60, 64, 67, 0.3), 0px 1px 3px 1px rgba(60, 64, 67, 0.15);\n",
              "      fill: #174EA6;\n",
              "    }\n",
              "\n",
              "    [theme=dark] .colab-df-convert {\n",
              "      background-color: #3B4455;\n",
              "      fill: #D2E3FC;\n",
              "    }\n",
              "\n",
              "    [theme=dark] .colab-df-convert:hover {\n",
              "      background-color: #434B5C;\n",
              "      box-shadow: 0px 1px 3px 1px rgba(0, 0, 0, 0.15);\n",
              "      filter: drop-shadow(0px 1px 2px rgba(0, 0, 0, 0.3));\n",
              "      fill: #FFFFFF;\n",
              "    }\n",
              "  </style>\n",
              "\n",
              "      <script>\n",
              "        const buttonEl =\n",
              "          document.querySelector('#df-c63d679a-f620-428f-ae32-5bd113775277 button.colab-df-convert');\n",
              "        buttonEl.style.display =\n",
              "          google.colab.kernel.accessAllowed ? 'block' : 'none';\n",
              "\n",
              "        async function convertToInteractive(key) {\n",
              "          const element = document.querySelector('#df-c63d679a-f620-428f-ae32-5bd113775277');\n",
              "          const dataTable =\n",
              "            await google.colab.kernel.invokeFunction('convertToInteractive',\n",
              "                                                     [key], {});\n",
              "          if (!dataTable) return;\n",
              "\n",
              "          const docLinkHtml = 'Like what you see? Visit the ' +\n",
              "            '<a target=\"_blank\" href=https://colab.research.google.com/notebooks/data_table.ipynb>data table notebook</a>'\n",
              "            + ' to learn more about interactive tables.';\n",
              "          element.innerHTML = '';\n",
              "          dataTable['output_type'] = 'display_data';\n",
              "          await google.colab.output.renderOutput(dataTable, element);\n",
              "          const docLink = document.createElement('div');\n",
              "          docLink.innerHTML = docLinkHtml;\n",
              "          element.appendChild(docLink);\n",
              "        }\n",
              "      </script>\n",
              "    </div>\n",
              "  </div>\n",
              "  "
            ]
          },
          "metadata": {},
          "execution_count": 35
        }
      ]
    },
    {
      "cell_type": "markdown",
      "source": [
        "# Objective 1: Logistic Regression"
      ],
      "metadata": {
        "id": "WwdA0zpNythC"
      }
    },
    {
      "cell_type": "code",
      "source": [
        "# instantiate a logistic regression model, and fit with X and y\n",
        "model = LogisticRegression()\n",
        "model = model.fit(X, y)\n",
        "\n",
        "# check the accuracy on the training set\n",
        "model.score(X, y)"
      ],
      "metadata": {
        "colab": {
          "base_uri": "https://localhost:8080/"
        },
        "id": "8BuIcoKF2-4o",
        "outputId": "54910652-021b-424f-d1fb-de64fed362e9"
      },
      "execution_count": null,
      "outputs": [
        {
          "output_type": "execute_result",
          "data": {
            "text/plain": [
              "0.7637271214642263"
            ]
          },
          "metadata": {},
          "execution_count": 36
        }
      ]
    },
    {
      "cell_type": "code",
      "source": [
        "y.mean()"
      ],
      "metadata": {
        "colab": {
          "base_uri": "https://localhost:8080/"
        },
        "id": "CAk3zfSS4-SO",
        "outputId": "955d6a6b-4338-48cf-ef24-8e04d2b8864c"
      },
      "execution_count": null,
      "outputs": [
        {
          "output_type": "execute_result",
          "data": {
            "text/plain": [
              "0.24958402662229617"
            ]
          },
          "metadata": {},
          "execution_count": 37
        }
      ]
    },
    {
      "cell_type": "markdown",
      "source": [
        "Only 25% of the respondents had affairs, which means that we could obtain 75% accuracy by always predicting \"no\". \n",
        "So our model is doing slightly better than the null error rate."
      ],
      "metadata": {
        "id": "5MGJyEqE5vGR"
      }
    },
    {
      "cell_type": "code",
      "source": [
        "# examine the coefficients\n",
        "trans = np.transpose(model.coef_)\n",
        "zipi = list(zip(X.columns, trans))\n",
        "pd.DataFrame(zipi)"
      ],
      "metadata": {
        "colab": {
          "base_uri": "https://localhost:8080/",
          "height": 331
        },
        "id": "joBM2sjD6MCi",
        "outputId": "4aeb9f0b-0ad2-4885-9595-35f95b1a6dfe"
      },
      "execution_count": null,
      "outputs": [
        {
          "output_type": "execute_result",
          "data": {
            "text/plain": [
              "               0                       1\n",
              "0         gender   [0.25726051940100275]\n",
              "1            age  [-0.20684422612519965]\n",
              "2   yearsmarried   [0.31093247992751494]\n",
              "3       children   [0.28957489567196865]\n",
              "4  religiousness  [-0.31873367458708773]\n",
              "5      education    [0.0383213462162325]\n",
              "6     occupation  [0.013338301906943717]\n",
              "7         rating    [-0.465451925065118]\n",
              "8         income  [0.013338301906935256]"
            ],
            "text/html": [
              "\n",
              "  <div id=\"df-107dfcf4-9eb0-4229-856e-7e599938495d\">\n",
              "    <div class=\"colab-df-container\">\n",
              "      <div>\n",
              "<style scoped>\n",
              "    .dataframe tbody tr th:only-of-type {\n",
              "        vertical-align: middle;\n",
              "    }\n",
              "\n",
              "    .dataframe tbody tr th {\n",
              "        vertical-align: top;\n",
              "    }\n",
              "\n",
              "    .dataframe thead th {\n",
              "        text-align: right;\n",
              "    }\n",
              "</style>\n",
              "<table border=\"1\" class=\"dataframe\">\n",
              "  <thead>\n",
              "    <tr style=\"text-align: right;\">\n",
              "      <th></th>\n",
              "      <th>0</th>\n",
              "      <th>1</th>\n",
              "    </tr>\n",
              "  </thead>\n",
              "  <tbody>\n",
              "    <tr>\n",
              "      <th>0</th>\n",
              "      <td>gender</td>\n",
              "      <td>[0.25726051940100275]</td>\n",
              "    </tr>\n",
              "    <tr>\n",
              "      <th>1</th>\n",
              "      <td>age</td>\n",
              "      <td>[-0.20684422612519965]</td>\n",
              "    </tr>\n",
              "    <tr>\n",
              "      <th>2</th>\n",
              "      <td>yearsmarried</td>\n",
              "      <td>[0.31093247992751494]</td>\n",
              "    </tr>\n",
              "    <tr>\n",
              "      <th>3</th>\n",
              "      <td>children</td>\n",
              "      <td>[0.28957489567196865]</td>\n",
              "    </tr>\n",
              "    <tr>\n",
              "      <th>4</th>\n",
              "      <td>religiousness</td>\n",
              "      <td>[-0.31873367458708773]</td>\n",
              "    </tr>\n",
              "    <tr>\n",
              "      <th>5</th>\n",
              "      <td>education</td>\n",
              "      <td>[0.0383213462162325]</td>\n",
              "    </tr>\n",
              "    <tr>\n",
              "      <th>6</th>\n",
              "      <td>occupation</td>\n",
              "      <td>[0.013338301906943717]</td>\n",
              "    </tr>\n",
              "    <tr>\n",
              "      <th>7</th>\n",
              "      <td>rating</td>\n",
              "      <td>[-0.465451925065118]</td>\n",
              "    </tr>\n",
              "    <tr>\n",
              "      <th>8</th>\n",
              "      <td>income</td>\n",
              "      <td>[0.013338301906935256]</td>\n",
              "    </tr>\n",
              "  </tbody>\n",
              "</table>\n",
              "</div>\n",
              "      <button class=\"colab-df-convert\" onclick=\"convertToInteractive('df-107dfcf4-9eb0-4229-856e-7e599938495d')\"\n",
              "              title=\"Convert this dataframe to an interactive table.\"\n",
              "              style=\"display:none;\">\n",
              "        \n",
              "  <svg xmlns=\"http://www.w3.org/2000/svg\" height=\"24px\"viewBox=\"0 0 24 24\"\n",
              "       width=\"24px\">\n",
              "    <path d=\"M0 0h24v24H0V0z\" fill=\"none\"/>\n",
              "    <path d=\"M18.56 5.44l.94 2.06.94-2.06 2.06-.94-2.06-.94-.94-2.06-.94 2.06-2.06.94zm-11 1L8.5 8.5l.94-2.06 2.06-.94-2.06-.94L8.5 2.5l-.94 2.06-2.06.94zm10 10l.94 2.06.94-2.06 2.06-.94-2.06-.94-.94-2.06-.94 2.06-2.06.94z\"/><path d=\"M17.41 7.96l-1.37-1.37c-.4-.4-.92-.59-1.43-.59-.52 0-1.04.2-1.43.59L10.3 9.45l-7.72 7.72c-.78.78-.78 2.05 0 2.83L4 21.41c.39.39.9.59 1.41.59.51 0 1.02-.2 1.41-.59l7.78-7.78 2.81-2.81c.8-.78.8-2.07 0-2.86zM5.41 20L4 18.59l7.72-7.72 1.47 1.35L5.41 20z\"/>\n",
              "  </svg>\n",
              "      </button>\n",
              "      \n",
              "  <style>\n",
              "    .colab-df-container {\n",
              "      display:flex;\n",
              "      flex-wrap:wrap;\n",
              "      gap: 12px;\n",
              "    }\n",
              "\n",
              "    .colab-df-convert {\n",
              "      background-color: #E8F0FE;\n",
              "      border: none;\n",
              "      border-radius: 50%;\n",
              "      cursor: pointer;\n",
              "      display: none;\n",
              "      fill: #1967D2;\n",
              "      height: 32px;\n",
              "      padding: 0 0 0 0;\n",
              "      width: 32px;\n",
              "    }\n",
              "\n",
              "    .colab-df-convert:hover {\n",
              "      background-color: #E2EBFA;\n",
              "      box-shadow: 0px 1px 2px rgba(60, 64, 67, 0.3), 0px 1px 3px 1px rgba(60, 64, 67, 0.15);\n",
              "      fill: #174EA6;\n",
              "    }\n",
              "\n",
              "    [theme=dark] .colab-df-convert {\n",
              "      background-color: #3B4455;\n",
              "      fill: #D2E3FC;\n",
              "    }\n",
              "\n",
              "    [theme=dark] .colab-df-convert:hover {\n",
              "      background-color: #434B5C;\n",
              "      box-shadow: 0px 1px 3px 1px rgba(0, 0, 0, 0.15);\n",
              "      filter: drop-shadow(0px 1px 2px rgba(0, 0, 0, 0.3));\n",
              "      fill: #FFFFFF;\n",
              "    }\n",
              "  </style>\n",
              "\n",
              "      <script>\n",
              "        const buttonEl =\n",
              "          document.querySelector('#df-107dfcf4-9eb0-4229-856e-7e599938495d button.colab-df-convert');\n",
              "        buttonEl.style.display =\n",
              "          google.colab.kernel.accessAllowed ? 'block' : 'none';\n",
              "\n",
              "        async function convertToInteractive(key) {\n",
              "          const element = document.querySelector('#df-107dfcf4-9eb0-4229-856e-7e599938495d');\n",
              "          const dataTable =\n",
              "            await google.colab.kernel.invokeFunction('convertToInteractive',\n",
              "                                                     [key], {});\n",
              "          if (!dataTable) return;\n",
              "\n",
              "          const docLinkHtml = 'Like what you see? Visit the ' +\n",
              "            '<a target=\"_blank\" href=https://colab.research.google.com/notebooks/data_table.ipynb>data table notebook</a>'\n",
              "            + ' to learn more about interactive tables.';\n",
              "          element.innerHTML = '';\n",
              "          dataTable['output_type'] = 'display_data';\n",
              "          await google.colab.output.renderOutput(dataTable, element);\n",
              "          const docLink = document.createElement('div');\n",
              "          docLink.innerHTML = docLinkHtml;\n",
              "          element.appendChild(docLink);\n",
              "        }\n",
              "      </script>\n",
              "    </div>\n",
              "  </div>\n",
              "  "
            ]
          },
          "metadata": {},
          "execution_count": 38
        }
      ]
    },
    {
      "cell_type": "markdown",
      "source": [
        "Increases in marriage rating, religiousness and age correspond to a decrease in the likelihood of having an affair. \n",
        "\n",
        "For the lowest likelihood of an increase in having an affair corresponds to the occupation, the education and the income."
      ],
      "metadata": {
        "id": "avqtc4Dg7gDE"
      }
    },
    {
      "cell_type": "markdown",
      "source": [
        "## Model evaluation using a validation set"
      ],
      "metadata": {
        "id": "CjNIua7HCLW7"
      }
    },
    {
      "cell_type": "code",
      "source": [
        "# Splitting the dataset into train and test sets\n",
        "\n",
        "x_train,x_test,y_train,y_test=train_test_split(X,y,test_size=0.3,random_state=1)\n",
        "print(x_train.shape)\n",
        "print(y_train.shape)\n",
        "print(x_test.shape)\n",
        "print(y_test.shape)"
      ],
      "metadata": {
        "id": "Y1aOs-7Sx81o",
        "colab": {
          "base_uri": "https://localhost:8080/"
        },
        "outputId": "702b79a1-6085-4af9-db5f-30d254024350"
      },
      "execution_count": null,
      "outputs": [
        {
          "output_type": "stream",
          "name": "stdout",
          "text": [
            "(420, 9)\n",
            "(420,)\n",
            "(181, 9)\n",
            "(181,)\n"
          ]
        }
      ]
    },
    {
      "cell_type": "code",
      "source": [
        "# Building logistic model\n",
        "\n",
        "affairs_log_model = LogisticRegression(max_iter = 1000)\n",
        "\n",
        "X_log = affairs_log_model.fit(x_train,y_train)"
      ],
      "metadata": {
        "id": "hUl9lZsPyUw_"
      },
      "execution_count": null,
      "outputs": []
    },
    {
      "cell_type": "code",
      "source": [
        "# Predicting y on the x_train and x_test using logistic\n",
        "\n",
        "y_log_train_predicted=affairs_log_model.predict(x_train)\n",
        "\n",
        "y_log_predicted=affairs_log_model.predict(x_test)\n",
        "\n",
        "print(y_log_predicted)"
      ],
      "metadata": {
        "id": "YFt2y5_pKPA4",
        "colab": {
          "base_uri": "https://localhost:8080/"
        },
        "outputId": "7b4484f6-a629-4773-d14b-65858ec072c0"
      },
      "execution_count": null,
      "outputs": [
        {
          "output_type": "stream",
          "name": "stdout",
          "text": [
            "[0 0 0 0 0 0 0 0 0 0 0 0 0 0 0 0 0 0 0 0 0 0 0 0 0 0 0 0 0 0 0 0 0 0 0 0 0\n",
            " 0 0 0 0 0 0 0 0 0 0 0 0 0 0 0 0 0 0 1 0 0 0 0 0 0 0 0 0 0 0 0 1 0 0 1 0 0\n",
            " 1 0 0 0 0 0 0 0 0 0 0 0 0 0 0 0 0 0 1 0 0 1 0 0 0 0 0 0 0 0 0 0 0 0 0 0 0\n",
            " 0 0 0 0 0 0 0 0 0 0 0 0 0 0 0 0 0 0 0 0 0 0 0 0 0 0 0 0 0 0 0 0 0 0 1 0 0\n",
            " 0 0 1 0 0 0 0 0 0 0 0 0 1 0 0 0 0 0 0 0 0 0 0 0 1 1 0 0 0 0 0 0 0]\n"
          ]
        }
      ]
    },
    {
      "cell_type": "code",
      "source": [
        "# Checking accuracy of logistic\n",
        "\n",
        "from sklearn.metrics import accuracy_score, confusion_matrix,roc_curve,classification_report\n",
        "print(\"train set accuracy score: \", accuracy_score(y_train,y_log_train_predicted))\n",
        "print(\"test set accuracy score :\", accuracy_score(y_test,y_log_predicted))"
      ],
      "metadata": {
        "id": "36TUs8W2yZrf",
        "colab": {
          "base_uri": "https://localhost:8080/"
        },
        "outputId": "119c7c5b-9ef5-4561-c15a-46ba0d569b9b"
      },
      "execution_count": null,
      "outputs": [
        {
          "output_type": "stream",
          "name": "stdout",
          "text": [
            "train set accuracy score:  0.7523809523809524\n",
            "test set accuracy score : 0.7734806629834254\n"
          ]
        }
      ]
    },
    {
      "cell_type": "markdown",
      "source": [
        "The use of logistic regression is due to the target variable being a binary outcome (i.e. discrete variable) and hence logistic is the most appropriate model.\n",
        "\n",
        "With the built model, it is possible to use the predictors (gender, age, yearsmarried, children, religiousness, occupation, education, rating and income) to predict whether an individual had an affair in the last 12 months to an accuracy of 77%."
      ],
      "metadata": {
        "id": "1GXad6vuY1Bl"
      }
    },
    {
      "cell_type": "code",
      "source": [
        "# generate class probabilities\n",
        "probs = affairs_log_model.predict_proba(x_test)\n",
        "print(probs)"
      ],
      "metadata": {
        "colab": {
          "base_uri": "https://localhost:8080/"
        },
        "id": "Cm0K_HhwAIRC",
        "outputId": "badcb53a-a285-46fd-bbb0-d595009f2c93"
      },
      "execution_count": null,
      "outputs": [
        {
          "output_type": "stream",
          "name": "stdout",
          "text": [
            "[[0.86391696 0.13608304]\n",
            " [0.80005745 0.19994255]\n",
            " [0.65602602 0.34397398]\n",
            " [0.97809745 0.02190255]\n",
            " [0.86916675 0.13083325]\n",
            " [0.80467117 0.19532883]\n",
            " [0.69353038 0.30646962]\n",
            " [0.65098586 0.34901414]\n",
            " [0.74388446 0.25611554]\n",
            " [0.84683682 0.15316318]\n",
            " [0.8593303  0.1406697 ]\n",
            " [0.90457235 0.09542765]\n",
            " [0.71139121 0.28860879]\n",
            " [0.69092696 0.30907304]\n",
            " [0.78117179 0.21882821]\n",
            " [0.94453084 0.05546916]\n",
            " [0.88404384 0.11595616]\n",
            " [0.85858377 0.14141623]\n",
            " [0.87686567 0.12313433]\n",
            " [0.62348006 0.37651994]\n",
            " [0.79868751 0.20131249]\n",
            " [0.71950676 0.28049324]\n",
            " [0.79321408 0.20678592]\n",
            " [0.92156816 0.07843184]\n",
            " [0.52651365 0.47348635]\n",
            " [0.82361736 0.17638264]\n",
            " [0.71702611 0.28297389]\n",
            " [0.59223564 0.40776436]\n",
            " [0.88771936 0.11228064]\n",
            " [0.87284776 0.12715224]\n",
            " [0.54066809 0.45933191]\n",
            " [0.61210248 0.38789752]\n",
            " [0.76284027 0.23715973]\n",
            " [0.79943043 0.20056957]\n",
            " [0.74426651 0.25573349]\n",
            " [0.84927026 0.15072974]\n",
            " [0.71305891 0.28694109]\n",
            " [0.71146421 0.28853579]\n",
            " [0.85691356 0.14308644]\n",
            " [0.61820754 0.38179246]\n",
            " [0.59232554 0.40767446]\n",
            " [0.85821143 0.14178857]\n",
            " [0.70675024 0.29324976]\n",
            " [0.8786579  0.1213421 ]\n",
            " [0.56017698 0.43982302]\n",
            " [0.93884816 0.06115184]\n",
            " [0.56017698 0.43982302]\n",
            " [0.83743074 0.16256926]\n",
            " [0.68980249 0.31019751]\n",
            " [0.93796272 0.06203728]\n",
            " [0.93386014 0.06613986]\n",
            " [0.78891933 0.21108067]\n",
            " [0.80853668 0.19146332]\n",
            " [0.50718643 0.49281357]\n",
            " [0.63609426 0.36390574]\n",
            " [0.44959816 0.55040184]\n",
            " [0.87554288 0.12445712]\n",
            " [0.53813655 0.46186345]\n",
            " [0.90416674 0.09583326]\n",
            " [0.92058941 0.07941059]\n",
            " [0.83224357 0.16775643]\n",
            " [0.51063955 0.48936045]\n",
            " [0.68794561 0.31205439]\n",
            " [0.84255987 0.15744013]\n",
            " [0.87113455 0.12886545]\n",
            " [0.63690385 0.36309615]\n",
            " [0.90190877 0.09809123]\n",
            " [0.78813023 0.21186977]\n",
            " [0.27582135 0.72417865]\n",
            " [0.84014604 0.15985396]\n",
            " [0.72499592 0.27500408]\n",
            " [0.47901995 0.52098005]\n",
            " [0.78958922 0.21041078]\n",
            " [0.7278644  0.2721356 ]\n",
            " [0.48330523 0.51669477]\n",
            " [0.7925577  0.2074423 ]\n",
            " [0.9220124  0.0779876 ]\n",
            " [0.87263852 0.12736148]\n",
            " [0.54195044 0.45804956]\n",
            " [0.78127087 0.21872913]\n",
            " [0.84080002 0.15919998]\n",
            " [0.66529144 0.33470856]\n",
            " [0.9651911  0.0348089 ]\n",
            " [0.50451928 0.49548072]\n",
            " [0.73512107 0.26487893]\n",
            " [0.56747101 0.43252899]\n",
            " [0.90665342 0.09334658]\n",
            " [0.80370816 0.19629184]\n",
            " [0.7522088  0.2477912 ]\n",
            " [0.84934834 0.15065166]\n",
            " [0.71770897 0.28229103]\n",
            " [0.92429636 0.07570364]\n",
            " [0.49609004 0.50390996]\n",
            " [0.77480402 0.22519598]\n",
            " [0.91580498 0.08419502]\n",
            " [0.42299182 0.57700818]\n",
            " [0.9267465  0.0732535 ]\n",
            " [0.51313628 0.48686372]\n",
            " [0.90061841 0.09938159]\n",
            " [0.62482684 0.37517316]\n",
            " [0.66620773 0.33379227]\n",
            " [0.67572236 0.32427764]\n",
            " [0.5944185  0.4055815 ]\n",
            " [0.83756745 0.16243255]\n",
            " [0.85047206 0.14952794]\n",
            " [0.85473949 0.14526051]\n",
            " [0.6391055  0.3608945 ]\n",
            " [0.65259353 0.34740647]\n",
            " [0.8856975  0.1143025 ]\n",
            " [0.85930181 0.14069819]\n",
            " [0.83756805 0.16243195]\n",
            " [0.81038049 0.18961951]\n",
            " [0.80202054 0.19797946]\n",
            " [0.68313183 0.31686817]\n",
            " [0.82947466 0.17052534]\n",
            " [0.90480325 0.09519675]\n",
            " [0.75750097 0.24249903]\n",
            " [0.84492049 0.15507951]\n",
            " [0.8190134  0.1809866 ]\n",
            " [0.94880541 0.05119459]\n",
            " [0.88496952 0.11503048]\n",
            " [0.5252847  0.4747153 ]\n",
            " [0.62977076 0.37022924]\n",
            " [0.55385294 0.44614706]\n",
            " [0.70028146 0.29971854]\n",
            " [0.78391613 0.21608387]\n",
            " [0.89033973 0.10966027]\n",
            " [0.94423007 0.05576993]\n",
            " [0.7523221  0.2476779 ]\n",
            " [0.91893866 0.08106134]\n",
            " [0.82350942 0.17649058]\n",
            " [0.90874947 0.09125053]\n",
            " [0.88503054 0.11496946]\n",
            " [0.85575441 0.14424559]\n",
            " [0.96227603 0.03772397]\n",
            " [0.90108215 0.09891785]\n",
            " [0.89033973 0.10966027]\n",
            " [0.90056152 0.09943848]\n",
            " [0.89220196 0.10779804]\n",
            " [0.91127653 0.08872347]\n",
            " [0.62445685 0.37554315]\n",
            " [0.51313628 0.48686372]\n",
            " [0.9103929  0.0896071 ]\n",
            " [0.88503449 0.11496551]\n",
            " [0.67972475 0.32027525]\n",
            " [0.43027977 0.56972023]\n",
            " [0.83040751 0.16959249]\n",
            " [0.874313   0.125687  ]\n",
            " [0.76659146 0.23340854]\n",
            " [0.83865088 0.16134912]\n",
            " [0.34335387 0.65664613]\n",
            " [0.93829594 0.06170406]\n",
            " [0.86995801 0.13004199]\n",
            " [0.80752261 0.19247739]\n",
            " [0.7755283  0.2244717 ]\n",
            " [0.58493785 0.41506215]\n",
            " [0.68397977 0.31602023]\n",
            " [0.71547036 0.28452964]\n",
            " [0.69739811 0.30260189]\n",
            " [0.60596202 0.39403798]\n",
            " [0.49370517 0.50629483]\n",
            " [0.79089596 0.20910404]\n",
            " [0.56470076 0.43529924]\n",
            " [0.89033973 0.10966027]\n",
            " [0.543458   0.456542  ]\n",
            " [0.8032907  0.1967093 ]\n",
            " [0.94423007 0.05576993]\n",
            " [0.97451501 0.02548499]\n",
            " [0.5329379  0.4670621 ]\n",
            " [0.69865952 0.30134048]\n",
            " [0.88185359 0.11814641]\n",
            " [0.67048097 0.32951903]\n",
            " [0.49743526 0.50256474]\n",
            " [0.4402076  0.5597924 ]\n",
            " [0.78640401 0.21359599]\n",
            " [0.67113981 0.32886019]\n",
            " [0.95613082 0.04386918]\n",
            " [0.88951102 0.11048898]\n",
            " [0.64147942 0.35852058]\n",
            " [0.60555451 0.39444549]\n",
            " [0.72271039 0.27728961]]\n"
          ]
        }
      ]
    },
    {
      "cell_type": "markdown",
      "source": [
        "In the class probabilities, any time the probability in the second column is above 0.5, the classifier is predicting a 1 (having an affair)."
      ],
      "metadata": {
        "id": "TJ9VsENWNxna"
      }
    },
    {
      "cell_type": "code",
      "source": [
        "# generate evaluation metrics\n",
        "print(accuracy_score(y_test, y_log_predicted))\n"
      ],
      "metadata": {
        "colab": {
          "base_uri": "https://localhost:8080/"
        },
        "id": "cxFov-B2RuQ9",
        "outputId": "2e392e5c-f0d1-4f8a-c0b1-1032ae216857"
      },
      "execution_count": null,
      "outputs": [
        {
          "output_type": "stream",
          "name": "stdout",
          "text": [
            "0.7734806629834254\n"
          ]
        }
      ]
    },
    {
      "cell_type": "markdown",
      "source": [
        "The accuracy is 77%, which is the same as we experienced when training and predicting on the same data."
      ],
      "metadata": {
        "id": "cKeY24xSVp72"
      }
    },
    {
      "cell_type": "code",
      "source": [
        "from sklearn.metrics import confusion_matrix\n",
        "\n",
        "conf_mat = confusion_matrix(y_test,y_log_predicted) \n",
        "\n",
        "print(conf_mat)\n"
      ],
      "metadata": {
        "id": "fLGuCMb_jRgb",
        "colab": {
          "base_uri": "https://localhost:8080/"
        },
        "outputId": "0ed6b831-cc58-4d91-beaf-105691ab43ec"
      },
      "execution_count": null,
      "outputs": [
        {
          "output_type": "stream",
          "name": "stdout",
          "text": [
            "[[131   2]\n",
            " [ 39   9]]\n"
          ]
        }
      ]
    },
    {
      "cell_type": "markdown",
      "source": [
        "## Model Evaluation Using Cross-Validation"
      ],
      "metadata": {
        "id": "eJTU_zCJXqlS"
      }
    },
    {
      "cell_type": "code",
      "source": [
        "\n",
        "from sklearn.model_selection import cross_val_score\n",
        "# evaluate the model using 10-fold cross-validation\n",
        "scores = cross_val_score(LogisticRegression(), X, y, scoring='accuracy', cv=10)\n",
        "print(scores)\n",
        "print(scores.mean())"
      ],
      "metadata": {
        "id": "E_ViuYZ-X-Jg",
        "colab": {
          "base_uri": "https://localhost:8080/"
        },
        "outputId": "5c85b692-046c-4971-f24e-434309bc485d"
      },
      "execution_count": null,
      "outputs": [
        {
          "output_type": "stream",
          "name": "stdout",
          "text": [
            "[0.75409836 0.75       0.71666667 0.76666667 0.78333333 0.75\n",
            " 0.78333333 0.8        0.71666667 0.75      ]\n",
            "0.7570765027322405\n"
          ]
        }
      ]
    },
    {
      "cell_type": "markdown",
      "source": [
        "Looks good. It's still performing at 77% accuracy."
      ],
      "metadata": {
        "id": "bEr61mx-axfR"
      }
    },
    {
      "cell_type": "markdown",
      "source": [
        "### Hypothesis Testing\n",
        "\n",
        "\n",
        "\n"
      ],
      "metadata": {
        "id": "ElfZBqADDDGp"
      }
    },
    {
      "cell_type": "markdown",
      "source": [
        "# Objective 2: To determine which gender has more extramarital affairs."
      ],
      "metadata": {
        "id": "5JtT1ka2LCc9"
      }
    },
    {
      "cell_type": "code",
      "source": [
        "# Countplot of Affairs with respect to gender\n",
        "\n",
        "sns.countplot(x ='gender', hue = \"affairs_bin\", data = Affairs_cat);"
      ],
      "metadata": {
        "colab": {
          "base_uri": "https://localhost:8080/",
          "height": 279
        },
        "id": "LwC9dn5gm0Vz",
        "outputId": "ea6e5348-e56d-4ef8-cb48-31490fe87e8a"
      },
      "execution_count": null,
      "outputs": [
        {
          "output_type": "display_data",
          "data": {
            "text/plain": [
              "<Figure size 432x288 with 1 Axes>"
            ],
            "image/png": "[encoded data removed]"
          },
          "metadata": {
            "needs_background": "light"
          }
        }
      ]
    },
    {
      "cell_type": "markdown",
      "source": [
        "Setting the null and alternative hypothesis\n",
        "\n",
        "\n",
        "\n",
        "Proportion of male having affairs is equal to the proportion of female having affairs.\n",
        "\n",
        "\n",
        "H0: p_males_affairs = p_females_affairs\n",
        "\n",
        "\n",
        "H1: p_males_affairs ≠ p_females_affairs"
      ],
      "metadata": {
        "id": "t-zyAM3uY5Dp"
      }
    },
    {
      "cell_type": "code",
      "source": [
        "# A contingency table of total number of affairs and gender\n",
        "\n",
        "print(pd.crosstab(Affairs_cat['affairs_bin'],Affairs_cat['gender']), \"\\n\")\n",
        "\n",
        "# A contingency table of proportions of affairs and gender \n",
        "\n",
        "print(pd.crosstab(Affairs_cat.affairs_bin,Affairs_cat.gender).apply(lambda r:r/r.sum(),axis=0))"
      ],
      "metadata": {
        "id": "c40StOlfLCNJ",
        "colab": {
          "base_uri": "https://localhost:8080/"
        },
        "outputId": "638fdf24-cb6b-43fa-908e-8a9669efd4b0"
      },
      "execution_count": null,
      "outputs": [
        {
          "output_type": "stream",
          "name": "stdout",
          "text": [
            "gender         0    1\n",
            "affairs_bin          \n",
            "0            243  208\n",
            "1             72   78 \n",
            "\n",
            "gender              0         1\n",
            "affairs_bin                    \n",
            "0            0.771429  0.727273\n",
            "1            0.228571  0.272727\n"
          ]
        }
      ]
    },
    {
      "cell_type": "markdown",
      "source": [
        "Out of 601, 72 males and 78 females had extramarital affairs "
      ],
      "metadata": {
        "id": "KhxGVqX2ITa0"
      }
    },
    {
      "cell_type": "code",
      "source": [
        "Affairs.gender.value_counts()"
      ],
      "metadata": {
        "colab": {
          "base_uri": "https://localhost:8080/"
        },
        "id": "m2UgPyi-Q0Gv",
        "outputId": "361315b1-cecf-4926-bc17-255cf35788a0"
      },
      "execution_count": null,
      "outputs": [
        {
          "output_type": "execute_result",
          "data": {
            "text/plain": [
              "female    315\n",
              "male      286\n",
              "Name: gender, dtype: int64"
            ]
          },
          "metadata": {},
          "execution_count": 49
        }
      ]
    },
    {
      "cell_type": "code",
      "source": [
        "sample = Affairs.groupby(\"gender\", group_keys = False).apply(lambda strata : strata.sample(frac = 0.391))"
      ],
      "metadata": {
        "id": "l2HErQ9rXL7z"
      },
      "execution_count": null,
      "outputs": []
    },
    {
      "cell_type": "code",
      "source": [
        "sample.gender.value_counts()"
      ],
      "metadata": {
        "colab": {
          "base_uri": "https://localhost:8080/"
        },
        "id": "uRsPuaGJXhlc",
        "outputId": "135ebbf2-d952-48e1-f168-a082479c7038"
      },
      "execution_count": null,
      "outputs": [
        {
          "output_type": "execute_result",
          "data": {
            "text/plain": [
              "female    123\n",
              "male      112\n",
              "Name: gender, dtype: int64"
            ]
          },
          "metadata": {},
          "execution_count": 51
        }
      ]
    },
    {
      "cell_type": "code",
      "source": [
        "# z score for two samples with confidence level of 95% is given by\n",
        "\n",
        "# z = [(p1 - p2) - 0]/sqrt(p(1-p)((1/n1)+(1/n2)))\n",
        "\n",
        "p = len(sample[sample['affairs']==1])/len(sample)\n",
        "\n",
        "sample_male = sample[sample[\"gender\"]==\"male\"]\n",
        "\n",
        "p1 = len(sample_male[sample_male['affairs']==1])/len(sample_male)\n",
        "\n",
        "n1 = len(sample_male)\n",
        "\n",
        "sample_female = sample[sample[\"gender\"]==\"female\"]\n",
        "\n",
        "p2 = len(sample_female[sample_female['affairs']==1])/len(sample_female)\n",
        "\n",
        "n2 = len(sample_female)"
      ],
      "metadata": {
        "id": "u-Q9c_c4ZvwD"
      },
      "execution_count": null,
      "outputs": []
    },
    {
      "cell_type": "code",
      "source": [
        "# Calculation of the z score\n",
        "\n",
        "z = ((p1 - p2) - 0)/(p*(1-p)*((1/n1)+(1/n2)))**(1/2)\n",
        "\n",
        "z"
      ],
      "metadata": {
        "colab": {
          "base_uri": "https://localhost:8080/"
        },
        "id": "H64mJGoVcD8Q",
        "outputId": "fbf773c0-71fd-4f52-a152-1bb3bb068bcc"
      },
      "execution_count": null,
      "outputs": [
        {
          "output_type": "execute_result",
          "data": {
            "text/plain": [
              "0.7325998129077003"
            ]
          },
          "metadata": {},
          "execution_count": 53
        }
      ]
    },
    {
      "cell_type": "code",
      "source": [
        "# P value associated with the z score obtained is given by \n",
        "\n",
        "from scipy.stats import norm\n",
        "\n",
        "p_value = 2*(norm.sf(abs(z)))\n",
        "\n",
        "p_value"
      ],
      "metadata": {
        "colab": {
          "base_uri": "https://localhost:8080/"
        },
        "id": "RHLjWrqFiqEP",
        "outputId": "db46e043-6105-44ef-9dc7-a14894870ccc"
      },
      "execution_count": null,
      "outputs": [
        {
          "output_type": "execute_result",
          "data": {
            "text/plain": [
              "0.4638025452578999"
            ]
          },
          "metadata": {},
          "execution_count": 54
        }
      ]
    },
    {
      "cell_type": "markdown",
      "source": [
        "There is not enough evidence to reject the null hypothesis since the p_value is greater than the significance level alpha.\n",
        "\n",
        "There is not a significant difference between the male proportion that have extramarital affairs and the female proportion that have extramarital affairs."
      ],
      "metadata": {
        "id": "hLK0MedhjyOx"
      }
    },
    {
      "cell_type": "markdown",
      "source": [
        "# Objective 3: To determine which age/age bracket has more extramarital affairs."
      ],
      "metadata": {
        "id": "jFjkiqLyYMs6"
      }
    },
    {
      "cell_type": "code",
      "source": [
        "# Calculating the number of records with affairs = 1 \n",
        "# and displaying the list sorted by age in descending order\n",
        "\n",
        "Affairs.age[Affairs['affairs']==1].value_counts()"
      ],
      "metadata": {
        "colab": {
          "base_uri": "https://localhost:8080/"
        },
        "id": "4OisX7W4XwlJ",
        "outputId": "14bac6db-6d62-4eb8-af8a-0ac28618cf3a"
      },
      "execution_count": null,
      "outputs": [
        {
          "output_type": "execute_result",
          "data": {
            "text/plain": [
              "27.0    11\n",
              "32.0     9\n",
              "22.0     7\n",
              "42.0     2\n",
              "52.0     2\n",
              "37.0     1\n",
              "47.0     1\n",
              "17.5     1\n",
              "Name: age, dtype: int64"
            ]
          },
          "metadata": {},
          "execution_count": 56
        }
      ]
    },
    {
      "cell_type": "markdown",
      "source": [
        "The age bracket with the most affairs is [27,32[, followed by the age bracket [32,37[."
      ],
      "metadata": {
        "id": "xCMfEPx3YUkO"
      }
    },
    {
      "cell_type": "markdown",
      "source": [
        "# Objective 4: To investigate which occupation level has the highest number of extramarital affairs."
      ],
      "metadata": {
        "id": "hLDa2MX8YyXH"
      }
    },
    {
      "cell_type": "code",
      "source": [
        "# Calculating the number of records with affairs = 1 \n",
        "# and displaying the list sorted by occupation in descending order\n",
        "\n",
        "Affairs.occupation[Affairs['affairs']==1].value_counts()"
      ],
      "metadata": {
        "colab": {
          "base_uri": "https://localhost:8080/"
        },
        "id": "M0RM28XaYzoh",
        "outputId": "354c2b17-9c97-41d8-cb63-81b21efd2f5b"
      },
      "execution_count": null,
      "outputs": [
        {
          "output_type": "execute_result",
          "data": {
            "text/plain": [
              "5    9\n",
              "1    7\n",
              "4    7\n",
              "6    5\n",
              "2    3\n",
              "3    2\n",
              "7    1\n",
              "Name: occupation, dtype: int64"
            ]
          },
          "metadata": {},
          "execution_count": 57
        }
      ]
    },
    {
      "cell_type": "markdown",
      "source": [
        "The occupation with the highest number of affairs is occupation level 5, i.e. a teacher, a counselor, a social worker, a nurse; an artist, writers; a technician or a skilled worker"
      ],
      "metadata": {
        "id": "rd62yFobZN1Y"
      }
    },
    {
      "cell_type": "markdown",
      "source": [
        "# Objective  5: To investigate which education level has the highest number of extramarital affairs"
      ],
      "metadata": {
        "id": "scPeu0jGZnms"
      }
    },
    {
      "cell_type": "code",
      "source": [
        "# Calculating the number of records with affairs = 1 \n",
        "# and displaying the list sorted by education in descending order\n",
        "\n",
        "Affairs.education[Affairs['affairs']==1].value_counts()"
      ],
      "metadata": {
        "colab": {
          "base_uri": "https://localhost:8080/"
        },
        "id": "XgQu7ASxaIDJ",
        "outputId": "d830fa68-13b4-45c1-e962-c5967b26a4eb"
      },
      "execution_count": null,
      "outputs": [
        {
          "output_type": "execute_result",
          "data": {
            "text/plain": [
              "14    14\n",
              "16     8\n",
              "18     5\n",
              "20     4\n",
              "12     2\n",
              "17     1\n",
              "Name: education, dtype: int64"
            ]
          },
          "metadata": {},
          "execution_count": 58
        }
      ]
    },
    {
      "cell_type": "markdown",
      "source": [
        "The education with the highest number of affairs is education level 14, i.e. some college degree"
      ],
      "metadata": {
        "id": "lTZ_V6hQa14H"
      }
    },
    {
      "cell_type": "markdown",
      "source": [
        "# Follow up questions "
      ],
      "metadata": {
        "id": "29FnlsoLd6pO"
      }
    },
    {
      "cell_type": "markdown",
      "source": [
        "## a) Did we have the right data?"
      ],
      "metadata": {
        "id": "Jdfwws1JeI_M"
      }
    },
    {
      "cell_type": "markdown",
      "source": [
        "We did not have the right data to exhaust all the questions, as it was hard to find data on extramarital affairs."
      ],
      "metadata": {
        "id": "7jkcSEEieVHC"
      }
    },
    {
      "cell_type": "markdown",
      "source": [
        "## b) Do we need other data to answer our questions?"
      ],
      "metadata": {
        "id": "2F3eX7Ome-El"
      }
    },
    {
      "cell_type": "markdown",
      "source": [
        "Other data with up to date records, the income of the respondents, the state of where the respondents live is required to answer the questions in detail."
      ],
      "metadata": {
        "id": "A6njUJopfTvD"
      }
    },
    {
      "cell_type": "markdown",
      "source": [
        "## c) Did we have the right questions?"
      ],
      "metadata": {
        "id": "SeEQ0U2Ye-GR"
      }
    },
    {
      "cell_type": "markdown",
      "source": [
        "We had  the right questions but the dataset did not contain all the required information to answer them."
      ],
      "metadata": {
        "id": "25_m6xR5girn"
      }
    },
    {
      "cell_type": "markdown",
      "source": [
        "# Recommendations"
      ],
      "metadata": {
        "id": "OIr1cdSlg2JZ"
      }
    },
    {
      "cell_type": "markdown",
      "source": [
        "1. More data should be collected on extramarital affairs to aid in future analysis.\n",
        "\n",
        "2. Data from other parts of the world other than the USA should be collected. This will provide a broader  analysis and insight on extramarital affairs.\n",
        "\n",
        "3. Partners who choose to rebuild their relationship after an affair may consider therapy.\n",
        "\n",
        "4. Infidelity therapists should use an integrative approach best suited to the couple seeking help from them."
      ],
      "metadata": {
        "id": "McWaWuj4hITQ"
      }
    }
  ]
}