{
  "nbformat": 4,
  "nbformat_minor": 0,
  "metadata": {
    "colab": {
      "name": "MORINGA_DATA_SCIENCE_PREP_WK4_INDEPNDENT_PROJECT_2022_02_JONAH_OKIRU_COLAB_NOTEBOOK",
      "provenance": [],
      "collapsed_sections": [],
      "authorship_tag": "ABX9TyO6kLDjL8Wi7eiq1Nb0V2Kg",
      "include_colab_link": true
    },
    "kernelspec": {
      "name": "python3",
      "display_name": "Python 3"
    },
    "language_info": {
      "name": "python"
    }
  },
  "cells": [
    {
      "cell_type": "markdown",
      "metadata": {
        "id": "view-in-github",
        "colab_type": "text"
      },
      "source": [
        "<a href=\"https://colab.research.google.com/github/jonahokiru/hello-world/blob/master/MORINGA_DATA_SCIENCE_PREP_WK4_INDEPNDENT_PROJECT_2022_02_JONAH_OKIRU_COLAB_NOTEBOOK.ipynb\" target=\"_parent\"><img src=\"https://colab.research.google.com/assets/colab-badge.svg\" alt=\"Open In Colab\"/></a>"
      ]
    },
    {
      "cell_type": "markdown",
      "source": [
        "**Data cleaning of Autolib data set**"
      ],
      "metadata": {
        "id": "eFGmlTrGs_Wq"
      }
    },
    {
      "cell_type": "code",
      "source": [
        "#loading datasets\n",
        "import pandas as pd\n",
        "import numpy as np\n"
      ],
      "metadata": {
        "id": "DAUxvywI5PMe"
      },
      "execution_count": 1,
      "outputs": []
    },
    {
      "cell_type": "markdown",
      "source": [
        "loading the dataset"
      ],
      "metadata": {
        "id": "TXL1jdjt53Jv"
      }
    },
    {
      "cell_type": "code",
      "source": [
        "#loading the the autolib dataset\n",
        "df =pd.read_csv('Autolib_dataset.csv')\n",
        "df.head(2)"
      ],
      "metadata": {
        "colab": {
          "base_uri": "https://localhost:8080/",
          "height": 263
        },
        "id": "JrUkZ2MG577p",
        "outputId": "830c8bcd-732c-4779-bb82-dcaeca93b72b"
      },
      "execution_count": 2,
      "outputs": [
        {
          "output_type": "execute_result",
          "data": {
            "text/html": [
              "\n",
              "  <div id=\"df-5306264f-e643-4fa9-849e-e3f6982e570d\">\n",
              "    <div class=\"colab-df-container\">\n",
              "      <div>\n",
              "<style scoped>\n",
              "    .dataframe tbody tr th:only-of-type {\n",
              "        vertical-align: middle;\n",
              "    }\n",
              "\n",
              "    .dataframe tbody tr th {\n",
              "        vertical-align: top;\n",
              "    }\n",
              "\n",
              "    .dataframe thead th {\n",
              "        text-align: right;\n",
              "    }\n",
              "</style>\n",
              "<table border=\"1\" class=\"dataframe\">\n",
              "  <thead>\n",
              "    <tr style=\"text-align: right;\">\n",
              "      <th></th>\n",
              "      <th>Address</th>\n",
              "      <th>Cars</th>\n",
              "      <th>Bluecar counter</th>\n",
              "      <th>Utilib counter</th>\n",
              "      <th>Utilib 1.4 counter</th>\n",
              "      <th>Charge Slots</th>\n",
              "      <th>Charging Status</th>\n",
              "      <th>City</th>\n",
              "      <th>Displayed comment</th>\n",
              "      <th>ID</th>\n",
              "      <th>Kind</th>\n",
              "      <th>Geo point</th>\n",
              "      <th>Postal code</th>\n",
              "      <th>Public name</th>\n",
              "      <th>Rental status</th>\n",
              "      <th>Scheduled at</th>\n",
              "      <th>Slots</th>\n",
              "      <th>Station type</th>\n",
              "      <th>Status</th>\n",
              "      <th>Subscription status</th>\n",
              "      <th>year</th>\n",
              "      <th>month</th>\n",
              "      <th>day</th>\n",
              "      <th>hour</th>\n",
              "      <th>minute</th>\n",
              "    </tr>\n",
              "  </thead>\n",
              "  <tbody>\n",
              "    <tr>\n",
              "      <th>0</th>\n",
              "      <td>2 Avenue de Suffren</td>\n",
              "      <td>0</td>\n",
              "      <td>0</td>\n",
              "      <td>0</td>\n",
              "      <td>0</td>\n",
              "      <td>0</td>\n",
              "      <td>nonexistent</td>\n",
              "      <td>Paris</td>\n",
              "      <td>NaN</td>\n",
              "      <td>paris-suffren-2</td>\n",
              "      <td>STATION</td>\n",
              "      <td>48.857, 2.2917</td>\n",
              "      <td>75015</td>\n",
              "      <td>Paris/Suffren/2</td>\n",
              "      <td>operational</td>\n",
              "      <td>NaN</td>\n",
              "      <td>2</td>\n",
              "      <td>station</td>\n",
              "      <td>ok</td>\n",
              "      <td>nonexistent</td>\n",
              "      <td>2018</td>\n",
              "      <td>4</td>\n",
              "      <td>8</td>\n",
              "      <td>11</td>\n",
              "      <td>43</td>\n",
              "    </tr>\n",
              "    <tr>\n",
              "      <th>1</th>\n",
              "      <td>145 Rue Raymond Losserand</td>\n",
              "      <td>6</td>\n",
              "      <td>6</td>\n",
              "      <td>0</td>\n",
              "      <td>0</td>\n",
              "      <td>0</td>\n",
              "      <td>operational</td>\n",
              "      <td>Paris</td>\n",
              "      <td>NaN</td>\n",
              "      <td>paris-raymondlosserand-145</td>\n",
              "      <td>STATION</td>\n",
              "      <td>48.83126, 2.313088</td>\n",
              "      <td>75014</td>\n",
              "      <td>Paris/Raymond Losserand/145</td>\n",
              "      <td>operational</td>\n",
              "      <td>NaN</td>\n",
              "      <td>0</td>\n",
              "      <td>station</td>\n",
              "      <td>ok</td>\n",
              "      <td>nonexistent</td>\n",
              "      <td>2018</td>\n",
              "      <td>4</td>\n",
              "      <td>6</td>\n",
              "      <td>7</td>\n",
              "      <td>24</td>\n",
              "    </tr>\n",
              "  </tbody>\n",
              "</table>\n",
              "</div>\n",
              "      <button class=\"colab-df-convert\" onclick=\"convertToInteractive('df-5306264f-e643-4fa9-849e-e3f6982e570d')\"\n",
              "              title=\"Convert this dataframe to an interactive table.\"\n",
              "              style=\"display:none;\">\n",
              "        \n",
              "  <svg xmlns=\"http://www.w3.org/2000/svg\" height=\"24px\"viewBox=\"0 0 24 24\"\n",
              "       width=\"24px\">\n",
              "    <path d=\"M0 0h24v24H0V0z\" fill=\"none\"/>\n",
              "    <path d=\"M18.56 5.44l.94 2.06.94-2.06 2.06-.94-2.06-.94-.94-2.06-.94 2.06-2.06.94zm-11 1L8.5 8.5l.94-2.06 2.06-.94-2.06-.94L8.5 2.5l-.94 2.06-2.06.94zm10 10l.94 2.06.94-2.06 2.06-.94-2.06-.94-.94-2.06-.94 2.06-2.06.94z\"/><path d=\"M17.41 7.96l-1.37-1.37c-.4-.4-.92-.59-1.43-.59-.52 0-1.04.2-1.43.59L10.3 9.45l-7.72 7.72c-.78.78-.78 2.05 0 2.83L4 21.41c.39.39.9.59 1.41.59.51 0 1.02-.2 1.41-.59l7.78-7.78 2.81-2.81c.8-.78.8-2.07 0-2.86zM5.41 20L4 18.59l7.72-7.72 1.47 1.35L5.41 20z\"/>\n",
              "  </svg>\n",
              "      </button>\n",
              "      \n",
              "  <style>\n",
              "    .colab-df-container {\n",
              "      display:flex;\n",
              "      flex-wrap:wrap;\n",
              "      gap: 12px;\n",
              "    }\n",
              "\n",
              "    .colab-df-convert {\n",
              "      background-color: #E8F0FE;\n",
              "      border: none;\n",
              "      border-radius: 50%;\n",
              "      cursor: pointer;\n",
              "      display: none;\n",
              "      fill: #1967D2;\n",
              "      height: 32px;\n",
              "      padding: 0 0 0 0;\n",
              "      width: 32px;\n",
              "    }\n",
              "\n",
              "    .colab-df-convert:hover {\n",
              "      background-color: #E2EBFA;\n",
              "      box-shadow: 0px 1px 2px rgba(60, 64, 67, 0.3), 0px 1px 3px 1px rgba(60, 64, 67, 0.15);\n",
              "      fill: #174EA6;\n",
              "    }\n",
              "\n",
              "    [theme=dark] .colab-df-convert {\n",
              "      background-color: #3B4455;\n",
              "      fill: #D2E3FC;\n",
              "    }\n",
              "\n",
              "    [theme=dark] .colab-df-convert:hover {\n",
              "      background-color: #434B5C;\n",
              "      box-shadow: 0px 1px 3px 1px rgba(0, 0, 0, 0.15);\n",
              "      filter: drop-shadow(0px 1px 2px rgba(0, 0, 0, 0.3));\n",
              "      fill: #FFFFFF;\n",
              "    }\n",
              "  </style>\n",
              "\n",
              "      <script>\n",
              "        const buttonEl =\n",
              "          document.querySelector('#df-5306264f-e643-4fa9-849e-e3f6982e570d button.colab-df-convert');\n",
              "        buttonEl.style.display =\n",
              "          google.colab.kernel.accessAllowed ? 'block' : 'none';\n",
              "\n",
              "        async function convertToInteractive(key) {\n",
              "          const element = document.querySelector('#df-5306264f-e643-4fa9-849e-e3f6982e570d');\n",
              "          const dataTable =\n",
              "            await google.colab.kernel.invokeFunction('convertToInteractive',\n",
              "                                                     [key], {});\n",
              "          if (!dataTable) return;\n",
              "\n",
              "          const docLinkHtml = 'Like what you see? Visit the ' +\n",
              "            '<a target=\"_blank\" href=https://colab.research.google.com/notebooks/data_table.ipynb>data table notebook</a>'\n",
              "            + ' to learn more about interactive tables.';\n",
              "          element.innerHTML = '';\n",
              "          dataTable['output_type'] = 'display_data';\n",
              "          await google.colab.output.renderOutput(dataTable, element);\n",
              "          const docLink = document.createElement('div');\n",
              "          docLink.innerHTML = docLinkHtml;\n",
              "          element.appendChild(docLink);\n",
              "        }\n",
              "      </script>\n",
              "    </div>\n",
              "  </div>\n",
              "  "
            ],
            "text/plain": [
              "                     Address  Cars  Bluecar counter  ...  day  hour  minute\n",
              "0        2 Avenue de Suffren     0                0  ...    8    11      43\n",
              "1  145 Rue Raymond Losserand     6                6  ...    6     7      24\n",
              "\n",
              "[2 rows x 25 columns]"
            ]
          },
          "metadata": {},
          "execution_count": 2
        }
      ]
    },
    {
      "cell_type": "markdown",
      "source": [
        "1:Checking for the validity of the data"
      ],
      "metadata": {
        "id": "HvjREE4ZtdfP"
      }
    },
    {
      "cell_type": "code",
      "source": [
        "#Procedure 1: Irrelevant data\n",
        "#Data claning action: Removing irrelevant columns\n",
        "#Explanation: They are not needed in the questions\n",
        "#Remove of un neccessary columns in the dataset\n",
        "del df ['Address']\n",
        "del df ['ID']\n",
        "del df ['Displayed comment']\n",
        "del df ['Geo point']\n",
        "del df ['Public name'] \n",
        "del df ['Scheduled at']\n",
        "del df ['year']\n",
        "del df ['month']\n",
        "del df ['day']\n",
        "del df ['minute']\n"
      ],
      "metadata": {
        "id": "vU-qYfxItuQa"
      },
      "execution_count": 3,
      "outputs": []
    },
    {
      "cell_type": "markdown",
      "source": [
        "2: Checking on the accuracy of the dataset"
      ],
      "metadata": {
        "id": "duBKX_6m96zt"
      }
    },
    {
      "cell_type": "code",
      "source": [
        "#procedure 1: In record and cross-dataset errors\n",
        "#Data Cleaning actions: No action taken\n",
        "#Explanations: There were no errors related to accuracy of the data, the data seems to be accurate.\n"
      ],
      "metadata": {
        "id": "2XYuaRFO-Zj_"
      },
      "execution_count": 4,
      "outputs": []
    },
    {
      "cell_type": "markdown",
      "source": [
        "3: Checking for the completeness of the datasets"
      ],
      "metadata": {
        "id": "LROctgbKAcWr"
      }
    },
    {
      "cell_type": "code",
      "source": [
        "#Procedure1: Missing values\n",
        "#Data Cleaning Action: check/count missing values across the dataset\n",
        "#Explanation: help to make the decision whether to drop or keep the missing values\n",
        "df.isnull().sum()\n",
        "#Procedure2: Drop missing values\n",
        "#Data cleaning action: No action taken\n",
        "#Explanation: There were no missing values in the dataset\n"
      ],
      "metadata": {
        "colab": {
          "base_uri": "https://localhost:8080/"
        },
        "id": "aWzRXMtLAsHE",
        "outputId": "257156ad-5004-4276-8571-981e27d42a0d"
      },
      "execution_count": 5,
      "outputs": [
        {
          "output_type": "execute_result",
          "data": {
            "text/plain": [
              "Cars                   0\n",
              "Bluecar counter        0\n",
              "Utilib counter         0\n",
              "Utilib 1.4 counter     0\n",
              "Charge Slots           0\n",
              "Charging Status        0\n",
              "City                   0\n",
              "Kind                   0\n",
              "Postal code            0\n",
              "Rental status          0\n",
              "Slots                  0\n",
              "Station type           0\n",
              "Status                 0\n",
              "Subscription status    0\n",
              "hour                   0\n",
              "dtype: int64"
            ]
          },
          "metadata": {},
          "execution_count": 5
        }
      ]
    },
    {
      "cell_type": "markdown",
      "source": [
        "4: Check for consistency in the datasets"
      ],
      "metadata": {
        "id": "NM90DD8CDLa5"
      }
    },
    {
      "cell_type": "code",
      "source": [
        "#Procedure1: Duplicates\n",
        "#Data Cleaning Action: Check for the observations that are duplicates across the dataset\n",
        "#Explanations: The duplicates observation affects the output of the analysis, hence should be droped incase of any.\n",
        "df.duplicated()"
      ],
      "metadata": {
        "colab": {
          "base_uri": "https://localhost:8080/"
        },
        "id": "_hx1m3-DDrLH",
        "outputId": "c9d8264a-f71f-4ad0-880b-482d150b5afd"
      },
      "execution_count": 6,
      "outputs": [
        {
          "output_type": "execute_result",
          "data": {
            "text/plain": [
              "0       False\n",
              "1       False\n",
              "2       False\n",
              "3       False\n",
              "4       False\n",
              "        ...  \n",
              "4995    False\n",
              "4996    False\n",
              "4997    False\n",
              "4998    False\n",
              "4999    False\n",
              "Length: 5000, dtype: bool"
            ]
          },
          "metadata": {},
          "execution_count": 6
        }
      ]
    },
    {
      "cell_type": "markdown",
      "source": [
        "5:Check for the uniformity across the dataset"
      ],
      "metadata": {
        "id": "6VJgYyEDIhGG"
      }
    },
    {
      "cell_type": "code",
      "source": [
        "#procedure1: Standardization\n",
        "#Data Cleaning Action: check if the datatypes of the columns are uniform\n",
        "#Explanations: For accuracy during the analysis\n",
        "df.info()"
      ],
      "metadata": {
        "colab": {
          "base_uri": "https://localhost:8080/"
        },
        "id": "KwM5P-3BIrt5",
        "outputId": "7761f33a-b8e4-4918-ef94-5677682c925e"
      },
      "execution_count": 7,
      "outputs": [
        {
          "output_type": "stream",
          "name": "stdout",
          "text": [
            "<class 'pandas.core.frame.DataFrame'>\n",
            "RangeIndex: 5000 entries, 0 to 4999\n",
            "Data columns (total 15 columns):\n",
            " #   Column               Non-Null Count  Dtype \n",
            "---  ------               --------------  ----- \n",
            " 0   Cars                 5000 non-null   int64 \n",
            " 1   Bluecar counter      5000 non-null   int64 \n",
            " 2   Utilib counter       5000 non-null   int64 \n",
            " 3   Utilib 1.4 counter   5000 non-null   int64 \n",
            " 4   Charge Slots         5000 non-null   int64 \n",
            " 5   Charging Status      5000 non-null   object\n",
            " 6   City                 5000 non-null   object\n",
            " 7   Kind                 5000 non-null   object\n",
            " 8   Postal code          5000 non-null   int64 \n",
            " 9   Rental status        5000 non-null   object\n",
            " 10  Slots                5000 non-null   int64 \n",
            " 11  Station type         5000 non-null   object\n",
            " 12  Status               5000 non-null   object\n",
            " 13  Subscription status  5000 non-null   object\n",
            " 14  hour                 5000 non-null   int64 \n",
            "dtypes: int64(8), object(7)\n",
            "memory usage: 586.1+ KB\n"
          ]
        }
      ]
    },
    {
      "cell_type": "markdown",
      "source": [
        "8: Checking for the outliers"
      ],
      "metadata": {
        "id": "g93yU9RDsM4f"
      }
    },
    {
      "cell_type": "code",
      "source": [
        "#procedure1 : Outliers\n",
        "#data cleaning action: checking the outliers in the datasets\n",
        "#Explanation: There outliers were not droped since the \n",
        "#the codes for checking the outliers"
      ],
      "metadata": {
        "id": "C0fg2-OTsWke"
      },
      "execution_count": 8,
      "outputs": []
    },
    {
      "cell_type": "markdown",
      "source": [
        "6: Export the cleaned dataset"
      ],
      "metadata": {
        "id": "psU5dHc4KoTa"
      }
    },
    {
      "cell_type": "code",
      "source": [
        "#Export the data frame into csv\n",
        "df.to_csv(\"Autolib_dataset.csv\")\n"
      ],
      "metadata": {
        "id": "NgD8_DEqLFfc"
      },
      "execution_count": 9,
      "outputs": []
    },
    {
      "cell_type": "markdown",
      "source": [
        "**DATA ANALYSIS**"
      ],
      "metadata": {
        "id": "9d2l6wXnNI5P"
      }
    },
    {
      "cell_type": "markdown",
      "source": [
        "**1: Research Question**"
      ],
      "metadata": {
        "id": "186ASDVyOAM-"
      }
    },
    {
      "cell_type": "markdown",
      "source": [
        "1:#The most popular hour of the day for picking up a shared electric car (Bluecar) in the city of Paris over the month of April 2018."
      ],
      "metadata": {
        "id": "j_SJFHLiVS7J"
      }
    },
    {
      "cell_type": "code",
      "source": [
        "#the codes for the above question is as shown below\n",
        "#df.groupby('hour')['Bluecar counter'].count().sort_values(ascending=False).head(1)\n",
        "df.groupby('hour')['Bluecar counter'].count().sort_values(ascending=False).head(1)\n"
      ],
      "metadata": {
        "colab": {
          "base_uri": "https://localhost:8080/"
        },
        "id": "IcEzKlSXEb4C",
        "outputId": "db5ee0e3-41c4-412c-b5d0-ca92326484af"
      },
      "execution_count": 25,
      "outputs": [
        {
          "output_type": "execute_result",
          "data": {
            "text/plain": [
              "hour\n",
              "21    237\n",
              "Name: Bluecar counter, dtype: int64"
            ]
          },
          "metadata": {},
          "execution_count": 25
        }
      ]
    },
    {
      "cell_type": "markdown",
      "source": [
        "2:**Bonus Questions (Optional)**"
      ],
      "metadata": {
        "id": "RrmXsfvbJD9w"
      }
    },
    {
      "cell_type": "markdown",
      "source": [
        "a:The most popular hour for returning cars?"
      ],
      "metadata": {
        "id": "-2ozKJJOJLoT"
      }
    },
    {
      "cell_type": "code",
      "source": [
        "#since the dataset has not specified the exact time of returning cars, makes it much difficult to answer the above \n",
        "#question"
      ],
      "metadata": {
        "id": "sJMO2vJ8JWvJ"
      },
      "execution_count": null,
      "outputs": []
    },
    {
      "cell_type": "markdown",
      "source": [
        "b:What station is the most popular overall?"
      ],
      "metadata": {
        "id": "IzYo0cxaJ_1b"
      }
    },
    {
      "cell_type": "code",
      "source": [
        "df.groupby('Station type')['Station type'].count().sort_values(ascending=False).head(1)"
      ],
      "metadata": {
        "colab": {
          "base_uri": "https://localhost:8080/"
        },
        "id": "l9M5q5lyKUsB",
        "outputId": "e87c3952-80c1-4334-afee-d274c7067222"
      },
      "execution_count": null,
      "outputs": [
        {
          "output_type": "execute_result",
          "data": {
            "text/plain": [
              "Station type\n",
              "station    4615\n",
              "Name: Station type, dtype: int64"
            ]
          },
          "metadata": {},
          "execution_count": 49
        }
      ]
    },
    {
      "cell_type": "markdown",
      "source": [
        "c: The station that is most popular at picking hour?"
      ],
      "metadata": {
        "id": "wsVdrBt4Le6z"
      }
    },
    {
      "cell_type": "code",
      "source": [
        "df.groupby('Station type')['hour'].count().sort_values(ascending=False).head(1)"
      ],
      "metadata": {
        "colab": {
          "base_uri": "https://localhost:8080/"
        },
        "id": "fUQTD96rMTCB",
        "outputId": "36101334-43c5-4c9b-9d73-4755da62d881"
      },
      "execution_count": null,
      "outputs": [
        {
          "output_type": "execute_result",
          "data": {
            "text/plain": [
              "Station type\n",
              "station    4615\n",
              "Name: hour, dtype: int64"
            ]
          },
          "metadata": {},
          "execution_count": 52
        }
      ]
    },
    {
      "cell_type": "markdown",
      "source": [
        "c: Do the results change if you consider Utilib and Utilib 1.4 instead of Blue cars? "
      ],
      "metadata": {
        "id": "A15rz1P3NTgQ"
      }
    },
    {
      "cell_type": "code",
      "source": [
        "# the utilib\n",
        "df.groupby('hour')['Utilib counter'].count().sort_values(ascending=False).head(1)\n"
      ],
      "metadata": {
        "colab": {
          "base_uri": "https://localhost:8080/"
        },
        "id": "2ElvffhNNavG",
        "outputId": "309ed5f6-ff42-417d-d7e3-23d908b6faf0"
      },
      "execution_count": null,
      "outputs": [
        {
          "output_type": "execute_result",
          "data": {
            "text/plain": [
              "hour\n",
              "21    237\n",
              "Name: Utilib counter, dtype: int64"
            ]
          },
          "metadata": {},
          "execution_count": 53
        }
      ]
    },
    {
      "cell_type": "code",
      "source": [
        "#the utilib 1.4\n",
        "df.groupby('hour')['Utilib 1.4 counter'].count().sort_values(ascending=False).head(1)\n"
      ],
      "metadata": {
        "colab": {
          "base_uri": "https://localhost:8080/"
        },
        "id": "aJvL2wtCN-o-",
        "outputId": "d71191b2-9313-407c-8a55-9177a4a604f7"
      },
      "execution_count": null,
      "outputs": [
        {
          "output_type": "execute_result",
          "data": {
            "text/plain": [
              "hour\n",
              "21    237\n",
              "Name: Utilib 1.4 counter, dtype: int64"
            ]
          },
          "metadata": {},
          "execution_count": 54
        }
      ]
    }
  ]
}