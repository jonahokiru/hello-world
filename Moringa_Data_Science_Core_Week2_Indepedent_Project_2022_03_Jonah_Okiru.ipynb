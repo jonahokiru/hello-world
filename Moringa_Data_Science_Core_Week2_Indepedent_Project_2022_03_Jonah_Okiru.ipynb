{
  "nbformat": 4,
  "nbformat_minor": 0,
  "metadata": {
    "colab": {
      "name": "Moringa_Data_Science_Core_Week2_Indepedent_Project_2022_03_Jonah_Okiru",
      "provenance": [],
      "collapsed_sections": [],
      "authorship_tag": "ABX9TyM4WHG0+RfhlYCkaLfmSI0u",
      "include_colab_link": true
    },
    "kernelspec": {
      "name": "python3",
      "display_name": "Python 3"
    },
    "language_info": {
      "name": "python"
    }
  },
  "cells": [
    {
      "cell_type": "markdown",
      "metadata": {
        "id": "view-in-github",
        "colab_type": "text"
      },
      "source": [
        "<a href=\"https://colab.research.google.com/github/jonahokiru/hello-world/blob/master/Moringa_Data_Science_Core_Week2_Indepedent_Project_2022_03_Jonah_Okiru.ipynb\" target=\"_parent\"><img src=\"https://colab.research.google.com/assets/colab-badge.svg\" alt=\"Open In Colab\"/></a>"
      ]
    },
    {
      "cell_type": "markdown",
      "source": [
        "1. **Definintion of the question, the metric for success, the context, experimental design taken and the appropriateness of the available data**"
      ],
      "metadata": {
        "id": "x7rt-VzIw2Ob"
      }
    },
    {
      "cell_type": "markdown",
      "source": [
        "a) The data analytic question"
      ],
      "metadata": {
        "id": "HKraspdoxKwi"
      }
    },
    {
      "cell_type": "markdown",
      "source": [
        "how to predict which individuals are most likely to have or use bank account in Kenya, uganda, Rwanda and Tanzania?"
      ],
      "metadata": {
        "id": "h3Ng6RMexiLA"
      }
    },
    {
      "cell_type": "markdown",
      "source": [
        "b)The metric for success"
      ],
      "metadata": {
        "id": "2G8XTZeC2fbY"
      }
    },
    {
      "cell_type": "markdown",
      "source": [
        "Based on the availlable data , i'm aiming to a chieve a success rate of 70% on my a bove prediction."
      ],
      "metadata": {
        "id": "3GQtebn-4QFO"
      }
    },
    {
      "cell_type": "markdown",
      "source": [
        "c)Understanding the context"
      ],
      "metadata": {
        "id": "3ZRRmTFq4tSy"
      }
    },
    {
      "cell_type": "markdown",
      "source": [
        "In kenya, the adult population whom have access to financial services stands at 83.75% as of the year 2021 and those who are completely cut off from the access of the financial services stands at 11.6%. In uganda the rate stands at 33% for those who have access to financial services and 62% for those whom are completely cut off from the financial services. In Tanzania the rate stands at 73% and those whom are completely cut off is 27% and lastley in Rwanda the rate stands at 93% while those whom are completely cut off stands at 7% (World bank, 2021)."
      ],
      "metadata": {
        "id": "gdhaxyTP47cL"
      }
    },
    {
      "cell_type": "markdown",
      "source": [
        "d) The experimental design"
      ],
      "metadata": {
        "id": "Xk3SXkSKCSbF"
      }
    },
    {
      "cell_type": "markdown",
      "source": [
        "**Hypothesis**: does once ability to have or to use bank accounts depends on the on level of education, type of employment, gender, type of location, cell phone access and respodents age \n",
        "\n",
        "**X-Axis:** level of education, type of employment, gender, type of location, cell phone access and respodents age.\n",
        "\n",
        "**y-Axis:**Has a Bank account.\n",
        "\n",
        "**Experimental set-up:** I hypothesize someone ability to have bank account depends on level of education, type of employment, gender, type of location, cell phone access and respodents age.\n",
        "\n",
        "**Design of the exeperiment:** To perform univariate, bivariate and multivariate analysis on the responses from 23524 respondents from Kenya, Uganda, Tanzania and Rwanda.\n",
        "\n",
        "**Sample size**: the responses from the 23524 respodents will be used in the above experiment.\n"
      ],
      "metadata": {
        "id": "1lT8Qx9dFNtv"
      }
    },
    {
      "cell_type": "markdown",
      "source": [
        "e) Relevance of the data."
      ],
      "metadata": {
        "id": "kkvYCkKPP92g"
      }
    },
    {
      "cell_type": "markdown",
      "source": [
        "The dataset is CSV file and its divided into 12 columns. they include ; country-it contains the country in which the dataset was collected from, the scond column is the year-the values of these column are the years in which the data was collected, the third coulmn is the uniqueid-it contains the unique identifier of each interviewee, the fourth column is location- this column contains the location where interviewee is coming from(rural or urban), the fifth column is the cell phone acess-it states whether the interviewee has access to phone or not, the sixth column is the household size- it states the sizee of the houseld of the respodent, the seven column is the age of the respodent-it states the age of the respodent, the eight column is the gender -it states the gender of the respodent, the ninth column is the relationship with head-it states the relationship of the respodent with the head, the tenth column is marital status-it states the marital status of the respodent, the eleventh column is level of education-it states the level of education of the respodent and the last column is the type of job- it states the type of job the respodent currently engages in."
      ],
      "metadata": {
        "id": "LrraKeaAQyEW"
      }
    },
    {
      "cell_type": "markdown",
      "source": [
        "**2. Find and deal with outliers, anomalies, and missing data within the dataset.**"
      ],
      "metadata": {
        "id": "lf_ffF6EXAUO"
      }
    },
    {
      "cell_type": "markdown",
      "source": [
        "a) Reading the data"
      ],
      "metadata": {
        "id": "6NeOtPDeScrD"
      }
    },
    {
      "cell_type": "code",
      "source": [
        "#Importing the neccessary libraries\n",
        "#import the neccessary libraries\n",
        "import pandas as pd\n",
        "#import numpy\n",
        "import numpy as np\n",
        "# Importing Seaborn\n",
        "import seaborn as sns\n",
        "# Importing Matplotlib\n",
        "import matplotlib.pyplot as plt\n",
        "#Loading the data using pandas Library\n",
        "finitech_df=pd.read_csv('Financial_Dataset.csv')\n",
        "\n"
      ],
      "metadata": {
        "id": "FZ_ai0fLSoRf"
      },
      "execution_count": 142,
      "outputs": []
    },
    {
      "cell_type": "markdown",
      "source": [
        "b)Checking the data"
      ],
      "metadata": {
        "id": "O_wFR1jhUcEF"
      }
    },
    {
      "cell_type": "code",
      "source": [
        "#checking the number of records in the dataset\n",
        "finitech_df.shape"
      ],
      "metadata": {
        "id": "E-oF9XVnUjsv",
        "colab": {
          "base_uri": "https://localhost:8080/"
        },
        "outputId": "7f663606-44aa-4056-9b45-b1b1187ecb91"
      },
      "execution_count": 143,
      "outputs": [
        {
          "output_type": "execute_result",
          "data": {
            "text/plain": [
              "(23524, 13)"
            ]
          },
          "metadata": {},
          "execution_count": 143
        }
      ]
    },
    {
      "cell_type": "code",
      "source": [
        "#previewing the top of our dataset\n",
        "finitech_df.head(8)"
      ],
      "metadata": {
        "id": "NWu_qay4U_Es",
        "colab": {
          "base_uri": "https://localhost:8080/",
          "height": 590
        },
        "outputId": "3fcb86f7-6d50-4256-e11a-b75bbb67f141"
      },
      "execution_count": 144,
      "outputs": [
        {
          "output_type": "execute_result",
          "data": {
            "text/plain": [
              "  country  year    uniqueid Has a Bank account Type of Location  \\\n",
              "0   Kenya  2018  uniqueid_1                Yes            Rural   \n",
              "1   Kenya  2018  uniqueid_2                 No            Rural   \n",
              "2   Kenya  2018  uniqueid_3                Yes            Urban   \n",
              "3   Kenya  2018  uniqueid_4                 No            Rural   \n",
              "4   Kenya  2018  uniqueid_5                 No            Urban   \n",
              "5   Kenya  2018  uniqueid_6                 No            Rural   \n",
              "6   Kenya  2018  uniqueid_7                 No            Rural   \n",
              "7   Kenya  2018  uniqueid_8                 No            Rural   \n",
              "\n",
              "  Cell Phone Access  household_size  Respondent Age gender_of_respondent  \\\n",
              "0               Yes             3.0            24.0               Female   \n",
              "1                No             5.0            70.0               Female   \n",
              "2               Yes             5.0            26.0                 Male   \n",
              "3               Yes             5.0            34.0               Female   \n",
              "4                No             8.0            26.0                 Male   \n",
              "5                No             7.0            26.0               Female   \n",
              "6               Yes             7.0            32.0               Female   \n",
              "7               Yes             1.0            42.0               Female   \n",
              "\n",
              "  The relathip with head           marital_status  \\\n",
              "0                 Spouse  Married/Living together   \n",
              "1      Head of Household                  Widowed   \n",
              "2         Other relative     Single/Never Married   \n",
              "3      Head of Household  Married/Living together   \n",
              "4                  Child     Single/Never Married   \n",
              "5                 Spouse  Married/Living together   \n",
              "6                 Spouse  Married/Living together   \n",
              "7      Head of Household  Married/Living together   \n",
              "\n",
              "               Level of Educuation                   Type of Job  \n",
              "0              Secondary education                 Self employed  \n",
              "1              No formal education          Government Dependent  \n",
              "2  Vocational/Specialised training                 Self employed  \n",
              "3                Primary education     Formally employed Private  \n",
              "4                Primary education           Informally employed  \n",
              "5                Primary education           Informally employed  \n",
              "6                Primary education                 Self employed  \n",
              "7               Tertiary education  Formally employed Government  "
            ],
            "text/html": [
              "\n",
              "  <div id=\"df-d9cbb293-330d-446b-9f69-9c2d92bec4c2\">\n",
              "    <div class=\"colab-df-container\">\n",
              "      <div>\n",
              "<style scoped>\n",
              "    .dataframe tbody tr th:only-of-type {\n",
              "        vertical-align: middle;\n",
              "    }\n",
              "\n",
              "    .dataframe tbody tr th {\n",
              "        vertical-align: top;\n",
              "    }\n",
              "\n",
              "    .dataframe thead th {\n",
              "        text-align: right;\n",
              "    }\n",
              "</style>\n",
              "<table border=\"1\" class=\"dataframe\">\n",
              "  <thead>\n",
              "    <tr style=\"text-align: right;\">\n",
              "      <th></th>\n",
              "      <th>country</th>\n",
              "      <th>year</th>\n",
              "      <th>uniqueid</th>\n",
              "      <th>Has a Bank account</th>\n",
              "      <th>Type of Location</th>\n",
              "      <th>Cell Phone Access</th>\n",
              "      <th>household_size</th>\n",
              "      <th>Respondent Age</th>\n",
              "      <th>gender_of_respondent</th>\n",
              "      <th>The relathip with head</th>\n",
              "      <th>marital_status</th>\n",
              "      <th>Level of Educuation</th>\n",
              "      <th>Type of Job</th>\n",
              "    </tr>\n",
              "  </thead>\n",
              "  <tbody>\n",
              "    <tr>\n",
              "      <th>0</th>\n",
              "      <td>Kenya</td>\n",
              "      <td>2018</td>\n",
              "      <td>uniqueid_1</td>\n",
              "      <td>Yes</td>\n",
              "      <td>Rural</td>\n",
              "      <td>Yes</td>\n",
              "      <td>3.0</td>\n",
              "      <td>24.0</td>\n",
              "      <td>Female</td>\n",
              "      <td>Spouse</td>\n",
              "      <td>Married/Living together</td>\n",
              "      <td>Secondary education</td>\n",
              "      <td>Self employed</td>\n",
              "    </tr>\n",
              "    <tr>\n",
              "      <th>1</th>\n",
              "      <td>Kenya</td>\n",
              "      <td>2018</td>\n",
              "      <td>uniqueid_2</td>\n",
              "      <td>No</td>\n",
              "      <td>Rural</td>\n",
              "      <td>No</td>\n",
              "      <td>5.0</td>\n",
              "      <td>70.0</td>\n",
              "      <td>Female</td>\n",
              "      <td>Head of Household</td>\n",
              "      <td>Widowed</td>\n",
              "      <td>No formal education</td>\n",
              "      <td>Government Dependent</td>\n",
              "    </tr>\n",
              "    <tr>\n",
              "      <th>2</th>\n",
              "      <td>Kenya</td>\n",
              "      <td>2018</td>\n",
              "      <td>uniqueid_3</td>\n",
              "      <td>Yes</td>\n",
              "      <td>Urban</td>\n",
              "      <td>Yes</td>\n",
              "      <td>5.0</td>\n",
              "      <td>26.0</td>\n",
              "      <td>Male</td>\n",
              "      <td>Other relative</td>\n",
              "      <td>Single/Never Married</td>\n",
              "      <td>Vocational/Specialised training</td>\n",
              "      <td>Self employed</td>\n",
              "    </tr>\n",
              "    <tr>\n",
              "      <th>3</th>\n",
              "      <td>Kenya</td>\n",
              "      <td>2018</td>\n",
              "      <td>uniqueid_4</td>\n",
              "      <td>No</td>\n",
              "      <td>Rural</td>\n",
              "      <td>Yes</td>\n",
              "      <td>5.0</td>\n",
              "      <td>34.0</td>\n",
              "      <td>Female</td>\n",
              "      <td>Head of Household</td>\n",
              "      <td>Married/Living together</td>\n",
              "      <td>Primary education</td>\n",
              "      <td>Formally employed Private</td>\n",
              "    </tr>\n",
              "    <tr>\n",
              "      <th>4</th>\n",
              "      <td>Kenya</td>\n",
              "      <td>2018</td>\n",
              "      <td>uniqueid_5</td>\n",
              "      <td>No</td>\n",
              "      <td>Urban</td>\n",
              "      <td>No</td>\n",
              "      <td>8.0</td>\n",
              "      <td>26.0</td>\n",
              "      <td>Male</td>\n",
              "      <td>Child</td>\n",
              "      <td>Single/Never Married</td>\n",
              "      <td>Primary education</td>\n",
              "      <td>Informally employed</td>\n",
              "    </tr>\n",
              "    <tr>\n",
              "      <th>5</th>\n",
              "      <td>Kenya</td>\n",
              "      <td>2018</td>\n",
              "      <td>uniqueid_6</td>\n",
              "      <td>No</td>\n",
              "      <td>Rural</td>\n",
              "      <td>No</td>\n",
              "      <td>7.0</td>\n",
              "      <td>26.0</td>\n",
              "      <td>Female</td>\n",
              "      <td>Spouse</td>\n",
              "      <td>Married/Living together</td>\n",
              "      <td>Primary education</td>\n",
              "      <td>Informally employed</td>\n",
              "    </tr>\n",
              "    <tr>\n",
              "      <th>6</th>\n",
              "      <td>Kenya</td>\n",
              "      <td>2018</td>\n",
              "      <td>uniqueid_7</td>\n",
              "      <td>No</td>\n",
              "      <td>Rural</td>\n",
              "      <td>Yes</td>\n",
              "      <td>7.0</td>\n",
              "      <td>32.0</td>\n",
              "      <td>Female</td>\n",
              "      <td>Spouse</td>\n",
              "      <td>Married/Living together</td>\n",
              "      <td>Primary education</td>\n",
              "      <td>Self employed</td>\n",
              "    </tr>\n",
              "    <tr>\n",
              "      <th>7</th>\n",
              "      <td>Kenya</td>\n",
              "      <td>2018</td>\n",
              "      <td>uniqueid_8</td>\n",
              "      <td>No</td>\n",
              "      <td>Rural</td>\n",
              "      <td>Yes</td>\n",
              "      <td>1.0</td>\n",
              "      <td>42.0</td>\n",
              "      <td>Female</td>\n",
              "      <td>Head of Household</td>\n",
              "      <td>Married/Living together</td>\n",
              "      <td>Tertiary education</td>\n",
              "      <td>Formally employed Government</td>\n",
              "    </tr>\n",
              "  </tbody>\n",
              "</table>\n",
              "</div>\n",
              "      <button class=\"colab-df-convert\" onclick=\"convertToInteractive('df-d9cbb293-330d-446b-9f69-9c2d92bec4c2')\"\n",
              "              title=\"Convert this dataframe to an interactive table.\"\n",
              "              style=\"display:none;\">\n",
              "        \n",
              "  <svg xmlns=\"http://www.w3.org/2000/svg\" height=\"24px\"viewBox=\"0 0 24 24\"\n",
              "       width=\"24px\">\n",
              "    <path d=\"M0 0h24v24H0V0z\" fill=\"none\"/>\n",
              "    <path d=\"M18.56 5.44l.94 2.06.94-2.06 2.06-.94-2.06-.94-.94-2.06-.94 2.06-2.06.94zm-11 1L8.5 8.5l.94-2.06 2.06-.94-2.06-.94L8.5 2.5l-.94 2.06-2.06.94zm10 10l.94 2.06.94-2.06 2.06-.94-2.06-.94-.94-2.06-.94 2.06-2.06.94z\"/><path d=\"M17.41 7.96l-1.37-1.37c-.4-.4-.92-.59-1.43-.59-.52 0-1.04.2-1.43.59L10.3 9.45l-7.72 7.72c-.78.78-.78 2.05 0 2.83L4 21.41c.39.39.9.59 1.41.59.51 0 1.02-.2 1.41-.59l7.78-7.78 2.81-2.81c.8-.78.8-2.07 0-2.86zM5.41 20L4 18.59l7.72-7.72 1.47 1.35L5.41 20z\"/>\n",
              "  </svg>\n",
              "      </button>\n",
              "      \n",
              "  <style>\n",
              "    .colab-df-container {\n",
              "      display:flex;\n",
              "      flex-wrap:wrap;\n",
              "      gap: 12px;\n",
              "    }\n",
              "\n",
              "    .colab-df-convert {\n",
              "      background-color: #E8F0FE;\n",
              "      border: none;\n",
              "      border-radius: 50%;\n",
              "      cursor: pointer;\n",
              "      display: none;\n",
              "      fill: #1967D2;\n",
              "      height: 32px;\n",
              "      padding: 0 0 0 0;\n",
              "      width: 32px;\n",
              "    }\n",
              "\n",
              "    .colab-df-convert:hover {\n",
              "      background-color: #E2EBFA;\n",
              "      box-shadow: 0px 1px 2px rgba(60, 64, 67, 0.3), 0px 1px 3px 1px rgba(60, 64, 67, 0.15);\n",
              "      fill: #174EA6;\n",
              "    }\n",
              "\n",
              "    [theme=dark] .colab-df-convert {\n",
              "      background-color: #3B4455;\n",
              "      fill: #D2E3FC;\n",
              "    }\n",
              "\n",
              "    [theme=dark] .colab-df-convert:hover {\n",
              "      background-color: #434B5C;\n",
              "      box-shadow: 0px 1px 3px 1px rgba(0, 0, 0, 0.15);\n",
              "      filter: drop-shadow(0px 1px 2px rgba(0, 0, 0, 0.3));\n",
              "      fill: #FFFFFF;\n",
              "    }\n",
              "  </style>\n",
              "\n",
              "      <script>\n",
              "        const buttonEl =\n",
              "          document.querySelector('#df-d9cbb293-330d-446b-9f69-9c2d92bec4c2 button.colab-df-convert');\n",
              "        buttonEl.style.display =\n",
              "          google.colab.kernel.accessAllowed ? 'block' : 'none';\n",
              "\n",
              "        async function convertToInteractive(key) {\n",
              "          const element = document.querySelector('#df-d9cbb293-330d-446b-9f69-9c2d92bec4c2');\n",
              "          const dataTable =\n",
              "            await google.colab.kernel.invokeFunction('convertToInteractive',\n",
              "                                                     [key], {});\n",
              "          if (!dataTable) return;\n",
              "\n",
              "          const docLinkHtml = 'Like what you see? Visit the ' +\n",
              "            '<a target=\"_blank\" href=https://colab.research.google.com/notebooks/data_table.ipynb>data table notebook</a>'\n",
              "            + ' to learn more about interactive tables.';\n",
              "          element.innerHTML = '';\n",
              "          dataTable['output_type'] = 'display_data';\n",
              "          await google.colab.output.renderOutput(dataTable, element);\n",
              "          const docLink = document.createElement('div');\n",
              "          docLink.innerHTML = docLinkHtml;\n",
              "          element.appendChild(docLink);\n",
              "        }\n",
              "      </script>\n",
              "    </div>\n",
              "  </div>\n",
              "  "
            ]
          },
          "metadata": {},
          "execution_count": 144
        }
      ]
    },
    {
      "cell_type": "code",
      "source": [
        "#previewing the bottom of the dataset\n",
        "finitech_df.tail(5)"
      ],
      "metadata": {
        "id": "wYGF7BF9VW5l",
        "colab": {
          "base_uri": "https://localhost:8080/",
          "height": 389
        },
        "outputId": "ec33e7d5-9448-4e4a-c1f6-79a655be3d62"
      },
      "execution_count": 145,
      "outputs": [
        {
          "output_type": "execute_result",
          "data": {
            "text/plain": [
              "      country  year       uniqueid Has a Bank account Type of Location  \\\n",
              "23519  Uganda  2018  uniqueid_2113                 No            Rural   \n",
              "23520  Uganda  2018  uniqueid_2114                 No            Rural   \n",
              "23521  Uganda  2018  uniqueid_2115                 No            Rural   \n",
              "23522  Uganda  2018  uniqueid_2116                 No            Urban   \n",
              "23523  Uganda  2018  uniqueid_2117                 No            Rural   \n",
              "\n",
              "      Cell Phone Access  household_size  Respondent Age gender_of_respondent  \\\n",
              "23519               Yes             4.0            48.0               Female   \n",
              "23520               Yes             2.0            27.0               Female   \n",
              "23521               Yes             5.0            27.0               Female   \n",
              "23522               Yes             7.0            30.0               Female   \n",
              "23523               Yes            10.0            20.0                 Male   \n",
              "\n",
              "      The relathip with head        marital_status  Level of Educuation  \\\n",
              "23519      Head of Household    Divorced/Seperated  No formal education   \n",
              "23520      Head of Household  Single/Never Married  Secondary education   \n",
              "23521                 Parent               Widowed    Primary education   \n",
              "23522                 Parent    Divorced/Seperated  Secondary education   \n",
              "23523                  Child  Single/Never Married  Secondary education   \n",
              "\n",
              "         Type of Job  \n",
              "23519   Other Income  \n",
              "23520   Other Income  \n",
              "23521   Other Income  \n",
              "23522  Self employed  \n",
              "23523      No Income  "
            ],
            "text/html": [
              "\n",
              "  <div id=\"df-3d2d1d95-0979-4beb-a959-cfd982328990\">\n",
              "    <div class=\"colab-df-container\">\n",
              "      <div>\n",
              "<style scoped>\n",
              "    .dataframe tbody tr th:only-of-type {\n",
              "        vertical-align: middle;\n",
              "    }\n",
              "\n",
              "    .dataframe tbody tr th {\n",
              "        vertical-align: top;\n",
              "    }\n",
              "\n",
              "    .dataframe thead th {\n",
              "        text-align: right;\n",
              "    }\n",
              "</style>\n",
              "<table border=\"1\" class=\"dataframe\">\n",
              "  <thead>\n",
              "    <tr style=\"text-align: right;\">\n",
              "      <th></th>\n",
              "      <th>country</th>\n",
              "      <th>year</th>\n",
              "      <th>uniqueid</th>\n",
              "      <th>Has a Bank account</th>\n",
              "      <th>Type of Location</th>\n",
              "      <th>Cell Phone Access</th>\n",
              "      <th>household_size</th>\n",
              "      <th>Respondent Age</th>\n",
              "      <th>gender_of_respondent</th>\n",
              "      <th>The relathip with head</th>\n",
              "      <th>marital_status</th>\n",
              "      <th>Level of Educuation</th>\n",
              "      <th>Type of Job</th>\n",
              "    </tr>\n",
              "  </thead>\n",
              "  <tbody>\n",
              "    <tr>\n",
              "      <th>23519</th>\n",
              "      <td>Uganda</td>\n",
              "      <td>2018</td>\n",
              "      <td>uniqueid_2113</td>\n",
              "      <td>No</td>\n",
              "      <td>Rural</td>\n",
              "      <td>Yes</td>\n",
              "      <td>4.0</td>\n",
              "      <td>48.0</td>\n",
              "      <td>Female</td>\n",
              "      <td>Head of Household</td>\n",
              "      <td>Divorced/Seperated</td>\n",
              "      <td>No formal education</td>\n",
              "      <td>Other Income</td>\n",
              "    </tr>\n",
              "    <tr>\n",
              "      <th>23520</th>\n",
              "      <td>Uganda</td>\n",
              "      <td>2018</td>\n",
              "      <td>uniqueid_2114</td>\n",
              "      <td>No</td>\n",
              "      <td>Rural</td>\n",
              "      <td>Yes</td>\n",
              "      <td>2.0</td>\n",
              "      <td>27.0</td>\n",
              "      <td>Female</td>\n",
              "      <td>Head of Household</td>\n",
              "      <td>Single/Never Married</td>\n",
              "      <td>Secondary education</td>\n",
              "      <td>Other Income</td>\n",
              "    </tr>\n",
              "    <tr>\n",
              "      <th>23521</th>\n",
              "      <td>Uganda</td>\n",
              "      <td>2018</td>\n",
              "      <td>uniqueid_2115</td>\n",
              "      <td>No</td>\n",
              "      <td>Rural</td>\n",
              "      <td>Yes</td>\n",
              "      <td>5.0</td>\n",
              "      <td>27.0</td>\n",
              "      <td>Female</td>\n",
              "      <td>Parent</td>\n",
              "      <td>Widowed</td>\n",
              "      <td>Primary education</td>\n",
              "      <td>Other Income</td>\n",
              "    </tr>\n",
              "    <tr>\n",
              "      <th>23522</th>\n",
              "      <td>Uganda</td>\n",
              "      <td>2018</td>\n",
              "      <td>uniqueid_2116</td>\n",
              "      <td>No</td>\n",
              "      <td>Urban</td>\n",
              "      <td>Yes</td>\n",
              "      <td>7.0</td>\n",
              "      <td>30.0</td>\n",
              "      <td>Female</td>\n",
              "      <td>Parent</td>\n",
              "      <td>Divorced/Seperated</td>\n",
              "      <td>Secondary education</td>\n",
              "      <td>Self employed</td>\n",
              "    </tr>\n",
              "    <tr>\n",
              "      <th>23523</th>\n",
              "      <td>Uganda</td>\n",
              "      <td>2018</td>\n",
              "      <td>uniqueid_2117</td>\n",
              "      <td>No</td>\n",
              "      <td>Rural</td>\n",
              "      <td>Yes</td>\n",
              "      <td>10.0</td>\n",
              "      <td>20.0</td>\n",
              "      <td>Male</td>\n",
              "      <td>Child</td>\n",
              "      <td>Single/Never Married</td>\n",
              "      <td>Secondary education</td>\n",
              "      <td>No Income</td>\n",
              "    </tr>\n",
              "  </tbody>\n",
              "</table>\n",
              "</div>\n",
              "      <button class=\"colab-df-convert\" onclick=\"convertToInteractive('df-3d2d1d95-0979-4beb-a959-cfd982328990')\"\n",
              "              title=\"Convert this dataframe to an interactive table.\"\n",
              "              style=\"display:none;\">\n",
              "        \n",
              "  <svg xmlns=\"http://www.w3.org/2000/svg\" height=\"24px\"viewBox=\"0 0 24 24\"\n",
              "       width=\"24px\">\n",
              "    <path d=\"M0 0h24v24H0V0z\" fill=\"none\"/>\n",
              "    <path d=\"M18.56 5.44l.94 2.06.94-2.06 2.06-.94-2.06-.94-.94-2.06-.94 2.06-2.06.94zm-11 1L8.5 8.5l.94-2.06 2.06-.94-2.06-.94L8.5 2.5l-.94 2.06-2.06.94zm10 10l.94 2.06.94-2.06 2.06-.94-2.06-.94-.94-2.06-.94 2.06-2.06.94z\"/><path d=\"M17.41 7.96l-1.37-1.37c-.4-.4-.92-.59-1.43-.59-.52 0-1.04.2-1.43.59L10.3 9.45l-7.72 7.72c-.78.78-.78 2.05 0 2.83L4 21.41c.39.39.9.59 1.41.59.51 0 1.02-.2 1.41-.59l7.78-7.78 2.81-2.81c.8-.78.8-2.07 0-2.86zM5.41 20L4 18.59l7.72-7.72 1.47 1.35L5.41 20z\"/>\n",
              "  </svg>\n",
              "      </button>\n",
              "      \n",
              "  <style>\n",
              "    .colab-df-container {\n",
              "      display:flex;\n",
              "      flex-wrap:wrap;\n",
              "      gap: 12px;\n",
              "    }\n",
              "\n",
              "    .colab-df-convert {\n",
              "      background-color: #E8F0FE;\n",
              "      border: none;\n",
              "      border-radius: 50%;\n",
              "      cursor: pointer;\n",
              "      display: none;\n",
              "      fill: #1967D2;\n",
              "      height: 32px;\n",
              "      padding: 0 0 0 0;\n",
              "      width: 32px;\n",
              "    }\n",
              "\n",
              "    .colab-df-convert:hover {\n",
              "      background-color: #E2EBFA;\n",
              "      box-shadow: 0px 1px 2px rgba(60, 64, 67, 0.3), 0px 1px 3px 1px rgba(60, 64, 67, 0.15);\n",
              "      fill: #174EA6;\n",
              "    }\n",
              "\n",
              "    [theme=dark] .colab-df-convert {\n",
              "      background-color: #3B4455;\n",
              "      fill: #D2E3FC;\n",
              "    }\n",
              "\n",
              "    [theme=dark] .colab-df-convert:hover {\n",
              "      background-color: #434B5C;\n",
              "      box-shadow: 0px 1px 3px 1px rgba(0, 0, 0, 0.15);\n",
              "      filter: drop-shadow(0px 1px 2px rgba(0, 0, 0, 0.3));\n",
              "      fill: #FFFFFF;\n",
              "    }\n",
              "  </style>\n",
              "\n",
              "      <script>\n",
              "        const buttonEl =\n",
              "          document.querySelector('#df-3d2d1d95-0979-4beb-a959-cfd982328990 button.colab-df-convert');\n",
              "        buttonEl.style.display =\n",
              "          google.colab.kernel.accessAllowed ? 'block' : 'none';\n",
              "\n",
              "        async function convertToInteractive(key) {\n",
              "          const element = document.querySelector('#df-3d2d1d95-0979-4beb-a959-cfd982328990');\n",
              "          const dataTable =\n",
              "            await google.colab.kernel.invokeFunction('convertToInteractive',\n",
              "                                                     [key], {});\n",
              "          if (!dataTable) return;\n",
              "\n",
              "          const docLinkHtml = 'Like what you see? Visit the ' +\n",
              "            '<a target=\"_blank\" href=https://colab.research.google.com/notebooks/data_table.ipynb>data table notebook</a>'\n",
              "            + ' to learn more about interactive tables.';\n",
              "          element.innerHTML = '';\n",
              "          dataTable['output_type'] = 'display_data';\n",
              "          await google.colab.output.renderOutput(dataTable, element);\n",
              "          const docLink = document.createElement('div');\n",
              "          docLink.innerHTML = docLinkHtml;\n",
              "          element.appendChild(docLink);\n",
              "        }\n",
              "      </script>\n",
              "    </div>\n",
              "  </div>\n",
              "  "
            ]
          },
          "metadata": {},
          "execution_count": 145
        }
      ]
    },
    {
      "cell_type": "code",
      "source": [
        "#checking the column data types\n",
        "finitech_df.info()"
      ],
      "metadata": {
        "id": "zRoB2xMGV4hP",
        "colab": {
          "base_uri": "https://localhost:8080/"
        },
        "outputId": "06659089-fb20-43a5-f4bc-716dd26bed6b"
      },
      "execution_count": 146,
      "outputs": [
        {
          "output_type": "stream",
          "name": "stdout",
          "text": [
            "<class 'pandas.core.frame.DataFrame'>\n",
            "RangeIndex: 23524 entries, 0 to 23523\n",
            "Data columns (total 13 columns):\n",
            " #   Column                  Non-Null Count  Dtype  \n",
            "---  ------                  --------------  -----  \n",
            " 0   country                 23510 non-null  object \n",
            " 1   year                    23524 non-null  int64  \n",
            " 2   uniqueid                23524 non-null  object \n",
            " 3   Has a Bank account      23488 non-null  object \n",
            " 4   Type of Location        23509 non-null  object \n",
            " 5   Cell Phone Access       23513 non-null  object \n",
            " 6   household_size          23496 non-null  float64\n",
            " 7   Respondent Age          23490 non-null  float64\n",
            " 8   gender_of_respondent    23490 non-null  object \n",
            " 9   The relathip with head  23520 non-null  object \n",
            " 10  marital_status          23492 non-null  object \n",
            " 11  Level of Educuation     23495 non-null  object \n",
            " 12  Type of Job             23494 non-null  object \n",
            "dtypes: float64(2), int64(1), object(10)\n",
            "memory usage: 2.3+ MB\n"
          ]
        }
      ]
    },
    {
      "cell_type": "code",
      "source": [
        "#checking for missing values in the columns\n",
        "finitech_df.isnull().sum()"
      ],
      "metadata": {
        "id": "lDt00l3rhfuL",
        "colab": {
          "base_uri": "https://localhost:8080/"
        },
        "outputId": "fc60e099-6b4f-4b24-c089-d692ecb60b96"
      },
      "execution_count": 147,
      "outputs": [
        {
          "output_type": "execute_result",
          "data": {
            "text/plain": [
              "country                   14\n",
              "year                       0\n",
              "uniqueid                   0\n",
              "Has a Bank account        36\n",
              "Type of Location          15\n",
              "Cell Phone Access         11\n",
              "household_size            28\n",
              "Respondent Age            34\n",
              "gender_of_respondent      34\n",
              "The relathip with head     4\n",
              "marital_status            32\n",
              "Level of Educuation       29\n",
              "Type of Job               30\n",
              "dtype: int64"
            ]
          },
          "metadata": {},
          "execution_count": 147
        }
      ]
    },
    {
      "cell_type": "code",
      "source": [
        "#filling the missing values in the columns of household_size and respodent age  by zero\n",
        "finitech_df['household_size'].fillna(0,inplace=True)\n",
        "finitech_df['Respondent Age'].fillna(0, inplace=True)\n"
      ],
      "metadata": {
        "id": "YCaypvc9h6Sd"
      },
      "execution_count": 148,
      "outputs": []
    },
    {
      "cell_type": "code",
      "source": [
        "#change the data type of age and house hold from float to integer\n",
        "finitech_df['household_size'].astype(int)\n",
        "finitech_df['Respondent Age'].astype(int)"
      ],
      "metadata": {
        "id": "Q-Jzc2SdXVgm",
        "colab": {
          "base_uri": "https://localhost:8080/"
        },
        "outputId": "10b84b9f-dd6c-4d49-fea8-495c285dd992"
      },
      "execution_count": 149,
      "outputs": [
        {
          "output_type": "execute_result",
          "data": {
            "text/plain": [
              "0        24\n",
              "1        70\n",
              "2        26\n",
              "3        34\n",
              "4        26\n",
              "         ..\n",
              "23519    48\n",
              "23520    27\n",
              "23521    27\n",
              "23522    30\n",
              "23523    20\n",
              "Name: Respondent Age, Length: 23524, dtype: int64"
            ]
          },
          "metadata": {},
          "execution_count": 149
        }
      ]
    },
    {
      "cell_type": "code",
      "source": [
        "#checking the  outliers in the age column of the respodents\n",
        "sns.boxplot(finitech_df['Respondent Age'])\n",
        "plt.title('boxplot')\n",
        "plt.show()"
      ],
      "metadata": {
        "id": "JkiEuywipBmp",
        "colab": {
          "base_uri": "https://localhost:8080/",
          "height": 350
        },
        "outputId": "38ed20f1-8571-4c4c-b46f-8ec2832d89e8"
      },
      "execution_count": 150,
      "outputs": [
        {
          "output_type": "stream",
          "name": "stderr",
          "text": [
            "/usr/local/lib/python3.7/dist-packages/seaborn/_decorators.py:43: FutureWarning: Pass the following variable as a keyword arg: x. From version 0.12, the only valid positional argument will be `data`, and passing other arguments without an explicit keyword will result in an error or misinterpretation.\n",
            "  FutureWarning\n"
          ]
        },
        {
          "output_type": "display_data",
          "data": {
            "text/plain": [
              "<Figure size 432x288 with 1 Axes>"
            ],
            "image/png": "[encoded data removed]"
          },
          "metadata": {
            "needs_background": "light"
          }
        }
      ]
    },
    {
      "cell_type": "code",
      "source": [
        "#checking for the outliers in the household size  of the respodents\n",
        "sns.boxplot(finitech_df['household_size'])\n",
        "plt.title('boxplot')\n",
        "plt.show()"
      ],
      "metadata": {
        "id": "rk5VhLMXvIwc",
        "colab": {
          "base_uri": "https://localhost:8080/",
          "height": 351
        },
        "outputId": "1690e058-82c4-47c1-d63c-5a58ad602fee"
      },
      "execution_count": 151,
      "outputs": [
        {
          "output_type": "stream",
          "name": "stderr",
          "text": [
            "/usr/local/lib/python3.7/dist-packages/seaborn/_decorators.py:43: FutureWarning: Pass the following variable as a keyword arg: x. From version 0.12, the only valid positional argument will be `data`, and passing other arguments without an explicit keyword will result in an error or misinterpretation.\n",
            "  FutureWarning\n"
          ]
        },
        {
          "output_type": "display_data",
          "data": {
            "text/plain": [
              "<Figure size 432x288 with 1 Axes>"
            ],
            "image/png": "[encoded data removed]"
          },
          "metadata": {
            "needs_background": "light"
          }
        }
      ]
    },
    {
      "cell_type": "code",
      "source": [
        "#checking for the anomalies in the dataset\n",
        "q_1=finitech_df['Respondent Age'].quantile(.25)\n",
        "q_2= finitech_df['Respondent Age'].quantile(.75)\n",
        "iqr_1= q_2 - q_1\n",
        "anomalies_respodent_lower=[q_1-(1.5*iqr_1)]\n",
        "anomalies_respodent_upper =[q_2 + (1.5*iqr_1)]\n",
        "\n",
        "q_3=finitech_df['household_size'].quantile(.25)\n",
        "q_4=finitech_df['household_size'].quantile(.75)\n",
        "Iqr_2=q_4 - q_3\n",
        "anomalies_houselod_lower=[q_3 - (1.5*Iqr_2)] \n",
        "anomalies_houselod_upper=[q_4 + (1.5*Iqr_2)]\n",
        "\n",
        "\n"
      ],
      "metadata": {
        "id": "lkFr-4Wlvt8j"
      },
      "execution_count": 162,
      "outputs": []
    },
    {
      "cell_type": "code",
      "source": [
        "#More data cleaning\n",
        "#droping unneccessary columns\n",
        "finitech_df.drop(['year', 'uniqueid','household_size', 'The relathip with head', 'marital_status'], axis=1, inplace=True)\n"
      ],
      "metadata": {
        "id": "rAyRCrXlz1cy"
      },
      "execution_count": 59,
      "outputs": []
    },
    {
      "cell_type": "code",
      "source": [
        "#rename some columns\n",
        "finitech_df.rename(columns={'Has a Bank account':'Has_Bank_account', 'Type of Location': 'Type_of_location', 'Cell Phone Access': 'Cell_Phone_Access', 'Respondent Age': 'Respodent_Age', 'Level of Educuation': 'Level_of_Education', 'Type of Job': 'Type_of_Job'}, inplace=True)"
      ],
      "metadata": {
        "id": "flsWCI5d1rnD"
      },
      "execution_count": 60,
      "outputs": []
    },
    {
      "cell_type": "code",
      "source": [
        "#preview the head of the dataset\n",
        "finitech_df.head(3)"
      ],
      "metadata": {
        "id": "MMRbfzY94ivm",
        "colab": {
          "base_uri": "https://localhost:8080/",
          "height": 143
        },
        "outputId": "53cf4915-cb3a-478b-bebf-917b985668d3"
      },
      "execution_count": 61,
      "outputs": [
        {
          "output_type": "execute_result",
          "data": {
            "text/plain": [
              "  country Has_Bank_account Type_of_location Cell_Phone_Access  Respodent_Age  \\\n",
              "0   Kenya              Yes            Rural               Yes           24.0   \n",
              "1   Kenya               No            Rural                No           70.0   \n",
              "2   Kenya              Yes            Urban               Yes           26.0   \n",
              "\n",
              "  gender_of_respondent               Level_of_Education           Type_of_Job  \n",
              "0               Female              Secondary education         Self employed  \n",
              "1               Female              No formal education  Government Dependent  \n",
              "2                 Male  Vocational/Specialised training         Self employed  "
            ],
            "text/html": [
              "\n",
              "  <div id=\"df-4443bcbd-c43b-4692-b44c-1e1cdedfc97f\">\n",
              "    <div class=\"colab-df-container\">\n",
              "      <div>\n",
              "<style scoped>\n",
              "    .dataframe tbody tr th:only-of-type {\n",
              "        vertical-align: middle;\n",
              "    }\n",
              "\n",
              "    .dataframe tbody tr th {\n",
              "        vertical-align: top;\n",
              "    }\n",
              "\n",
              "    .dataframe thead th {\n",
              "        text-align: right;\n",
              "    }\n",
              "</style>\n",
              "<table border=\"1\" class=\"dataframe\">\n",
              "  <thead>\n",
              "    <tr style=\"text-align: right;\">\n",
              "      <th></th>\n",
              "      <th>country</th>\n",
              "      <th>Has_Bank_account</th>\n",
              "      <th>Type_of_location</th>\n",
              "      <th>Cell_Phone_Access</th>\n",
              "      <th>Respodent_Age</th>\n",
              "      <th>gender_of_respondent</th>\n",
              "      <th>Level_of_Education</th>\n",
              "      <th>Type_of_Job</th>\n",
              "    </tr>\n",
              "  </thead>\n",
              "  <tbody>\n",
              "    <tr>\n",
              "      <th>0</th>\n",
              "      <td>Kenya</td>\n",
              "      <td>Yes</td>\n",
              "      <td>Rural</td>\n",
              "      <td>Yes</td>\n",
              "      <td>24.0</td>\n",
              "      <td>Female</td>\n",
              "      <td>Secondary education</td>\n",
              "      <td>Self employed</td>\n",
              "    </tr>\n",
              "    <tr>\n",
              "      <th>1</th>\n",
              "      <td>Kenya</td>\n",
              "      <td>No</td>\n",
              "      <td>Rural</td>\n",
              "      <td>No</td>\n",
              "      <td>70.0</td>\n",
              "      <td>Female</td>\n",
              "      <td>No formal education</td>\n",
              "      <td>Government Dependent</td>\n",
              "    </tr>\n",
              "    <tr>\n",
              "      <th>2</th>\n",
              "      <td>Kenya</td>\n",
              "      <td>Yes</td>\n",
              "      <td>Urban</td>\n",
              "      <td>Yes</td>\n",
              "      <td>26.0</td>\n",
              "      <td>Male</td>\n",
              "      <td>Vocational/Specialised training</td>\n",
              "      <td>Self employed</td>\n",
              "    </tr>\n",
              "  </tbody>\n",
              "</table>\n",
              "</div>\n",
              "      <button class=\"colab-df-convert\" onclick=\"convertToInteractive('df-4443bcbd-c43b-4692-b44c-1e1cdedfc97f')\"\n",
              "              title=\"Convert this dataframe to an interactive table.\"\n",
              "              style=\"display:none;\">\n",
              "        \n",
              "  <svg xmlns=\"http://www.w3.org/2000/svg\" height=\"24px\"viewBox=\"0 0 24 24\"\n",
              "       width=\"24px\">\n",
              "    <path d=\"M0 0h24v24H0V0z\" fill=\"none\"/>\n",
              "    <path d=\"M18.56 5.44l.94 2.06.94-2.06 2.06-.94-2.06-.94-.94-2.06-.94 2.06-2.06.94zm-11 1L8.5 8.5l.94-2.06 2.06-.94-2.06-.94L8.5 2.5l-.94 2.06-2.06.94zm10 10l.94 2.06.94-2.06 2.06-.94-2.06-.94-.94-2.06-.94 2.06-2.06.94z\"/><path d=\"M17.41 7.96l-1.37-1.37c-.4-.4-.92-.59-1.43-.59-.52 0-1.04.2-1.43.59L10.3 9.45l-7.72 7.72c-.78.78-.78 2.05 0 2.83L4 21.41c.39.39.9.59 1.41.59.51 0 1.02-.2 1.41-.59l7.78-7.78 2.81-2.81c.8-.78.8-2.07 0-2.86zM5.41 20L4 18.59l7.72-7.72 1.47 1.35L5.41 20z\"/>\n",
              "  </svg>\n",
              "      </button>\n",
              "      \n",
              "  <style>\n",
              "    .colab-df-container {\n",
              "      display:flex;\n",
              "      flex-wrap:wrap;\n",
              "      gap: 12px;\n",
              "    }\n",
              "\n",
              "    .colab-df-convert {\n",
              "      background-color: #E8F0FE;\n",
              "      border: none;\n",
              "      border-radius: 50%;\n",
              "      cursor: pointer;\n",
              "      display: none;\n",
              "      fill: #1967D2;\n",
              "      height: 32px;\n",
              "      padding: 0 0 0 0;\n",
              "      width: 32px;\n",
              "    }\n",
              "\n",
              "    .colab-df-convert:hover {\n",
              "      background-color: #E2EBFA;\n",
              "      box-shadow: 0px 1px 2px rgba(60, 64, 67, 0.3), 0px 1px 3px 1px rgba(60, 64, 67, 0.15);\n",
              "      fill: #174EA6;\n",
              "    }\n",
              "\n",
              "    [theme=dark] .colab-df-convert {\n",
              "      background-color: #3B4455;\n",
              "      fill: #D2E3FC;\n",
              "    }\n",
              "\n",
              "    [theme=dark] .colab-df-convert:hover {\n",
              "      background-color: #434B5C;\n",
              "      box-shadow: 0px 1px 3px 1px rgba(0, 0, 0, 0.15);\n",
              "      filter: drop-shadow(0px 1px 2px rgba(0, 0, 0, 0.3));\n",
              "      fill: #FFFFFF;\n",
              "    }\n",
              "  </style>\n",
              "\n",
              "      <script>\n",
              "        const buttonEl =\n",
              "          document.querySelector('#df-4443bcbd-c43b-4692-b44c-1e1cdedfc97f button.colab-df-convert');\n",
              "        buttonEl.style.display =\n",
              "          google.colab.kernel.accessAllowed ? 'block' : 'none';\n",
              "\n",
              "        async function convertToInteractive(key) {\n",
              "          const element = document.querySelector('#df-4443bcbd-c43b-4692-b44c-1e1cdedfc97f');\n",
              "          const dataTable =\n",
              "            await google.colab.kernel.invokeFunction('convertToInteractive',\n",
              "                                                     [key], {});\n",
              "          if (!dataTable) return;\n",
              "\n",
              "          const docLinkHtml = 'Like what you see? Visit the ' +\n",
              "            '<a target=\"_blank\" href=https://colab.research.google.com/notebooks/data_table.ipynb>data table notebook</a>'\n",
              "            + ' to learn more about interactive tables.';\n",
              "          element.innerHTML = '';\n",
              "          dataTable['output_type'] = 'display_data';\n",
              "          await google.colab.output.renderOutput(dataTable, element);\n",
              "          const docLink = document.createElement('div');\n",
              "          docLink.innerHTML = docLinkHtml;\n",
              "          element.appendChild(docLink);\n",
              "        }\n",
              "      </script>\n",
              "    </div>\n",
              "  </div>\n",
              "  "
            ]
          },
          "metadata": {},
          "execution_count": 61
        }
      ]
    },
    {
      "cell_type": "markdown",
      "source": [
        "3.*** Perform univariate, bivariate and multivariate analysis recording your observations*** **bold text**"
      ],
      "metadata": {
        "id": "mNwSfHXM5TBu"
      }
    },
    {
      "cell_type": "markdown",
      "source": [
        "**a) Univariate Analysis**\n",
        "\n",
        "1.the central Tendancy"
      ],
      "metadata": {
        "id": "OolWEk845s8h"
      }
    },
    {
      "cell_type": "code",
      "source": [
        "#calculating the central Tendenc\n",
        "#the mean age of the respodents\n",
        "finitech_df['Respodent_Age'].mean()"
      ],
      "metadata": {
        "id": "L4o_gc9C56_s",
        "colab": {
          "base_uri": "https://localhost:8080/"
        },
        "outputId": "789909c0-6524-4406-9956-1616b5b50471"
      },
      "execution_count": 62,
      "outputs": [
        {
          "output_type": "execute_result",
          "data": {
            "text/plain": [
              "38.74821458935555"
            ]
          },
          "metadata": {},
          "execution_count": 62
        }
      ]
    },
    {
      "cell_type": "markdown",
      "source": [
        "the mean age of the respodents was 39 years"
      ],
      "metadata": {
        "id": "iRsXqSab_wO8"
      }
    },
    {
      "cell_type": "code",
      "source": [
        "#the median age of the respodents\n",
        "finitech_df['Respodent_Age'].median()\n"
      ],
      "metadata": {
        "id": "RY4zQ6yALcav",
        "colab": {
          "base_uri": "https://localhost:8080/"
        },
        "outputId": "64c36529-5d35-4900-c570-4ccccbaed2f9"
      },
      "execution_count": 63,
      "outputs": [
        {
          "output_type": "execute_result",
          "data": {
            "text/plain": [
              "35.0"
            ]
          },
          "metadata": {},
          "execution_count": 63
        }
      ]
    },
    {
      "cell_type": "markdown",
      "source": [
        "the respodent age of the respodents was 35 years"
      ],
      "metadata": {
        "id": "MVcjtP8BMGn4"
      }
    },
    {
      "cell_type": "code",
      "source": [
        "#the mode age of the respodents\n",
        "finitech_df['Respodent_Age'].mode()"
      ],
      "metadata": {
        "id": "fCnYqtgHMS3J",
        "colab": {
          "base_uri": "https://localhost:8080/"
        },
        "outputId": "ed1b3f21-0836-44f7-ead8-c0580a196078"
      },
      "execution_count": 64,
      "outputs": [
        {
          "output_type": "execute_result",
          "data": {
            "text/plain": [
              "0    30.0\n",
              "dtype: float64"
            ]
          },
          "metadata": {},
          "execution_count": 64
        }
      ]
    },
    {
      "cell_type": "markdown",
      "source": [
        "The mode age of the respodents was 30 years old"
      ],
      "metadata": {
        "id": "NvAizGJVMrVh"
      }
    },
    {
      "cell_type": "markdown",
      "source": [
        "2.Measure of dispersion"
      ],
      "metadata": {
        "id": "COJADTS9OhTd"
      }
    },
    {
      "cell_type": "code",
      "source": [
        "#calculate the range of the respodents age\n",
        "finitech_df['Respodent_Age'].max() - finitech_df['Respodent_Age'].min()\n"
      ],
      "metadata": {
        "id": "9gTUSWlkOrdB",
        "colab": {
          "base_uri": "https://localhost:8080/"
        },
        "outputId": "5e82c7e2-ed26-4b60-a245-aa0a541b6463"
      },
      "execution_count": 65,
      "outputs": [
        {
          "output_type": "execute_result",
          "data": {
            "text/plain": [
              "100.0"
            ]
          },
          "metadata": {},
          "execution_count": 65
        }
      ]
    },
    {
      "cell_type": "markdown",
      "source": [
        "The ages of the respidents who participate in the survey are 100 years"
      ],
      "metadata": {
        "id": "cPBDl0FTRXwu"
      }
    },
    {
      "cell_type": "code",
      "source": [
        "#calculate the standard deviation\n",
        "finitech_df['Respodent_Age'].std()"
      ],
      "metadata": {
        "id": "Q2BLGuBuR6Ey",
        "colab": {
          "base_uri": "https://localhost:8080/"
        },
        "outputId": "e1bda840-6c15-4d72-aae8-b07e32946b22"
      },
      "execution_count": 66,
      "outputs": [
        {
          "output_type": "execute_result",
          "data": {
            "text/plain": [
              "16.573747281997385"
            ]
          },
          "metadata": {},
          "execution_count": 66
        }
      ]
    },
    {
      "cell_type": "markdown",
      "source": [
        "The std of the respodents age was 16.5, these implies that ages of the respodents deviate from the mean age by 16.5years."
      ],
      "metadata": {
        "id": "R-ih_d4dSOgW"
      }
    },
    {
      "cell_type": "code",
      "source": [
        "#calculate variance of the respodents age\n",
        "finitech_df['Respodent_Age'].var()"
      ],
      "metadata": {
        "id": "zVjh39ugTDmX",
        "colab": {
          "base_uri": "https://localhost:8080/"
        },
        "outputId": "c6ea95d2-94c1-4dfa-85cc-019396c97653"
      },
      "execution_count": 67,
      "outputs": [
        {
          "output_type": "execute_result",
          "data": {
            "text/plain": [
              "274.68909896751575"
            ]
          },
          "metadata": {},
          "execution_count": 67
        }
      ]
    },
    {
      "cell_type": "markdown",
      "source": [
        "The variance of the respodents age was 274.69, these implies the age of the respodents whom participate in the survey are far a part from each other"
      ],
      "metadata": {
        "id": "qj-jX49PTcJ7"
      }
    },
    {
      "cell_type": "code",
      "source": [
        "#calculate interquartile range\n",
        "q1=finitech_df['Respodent_Age'].quantile([0.25])\n",
        "q2=finitech_df['Respodent_Age'].quantile([0.75])\n",
        "iqr=q2-q1\n",
        "iqr"
      ],
      "metadata": {
        "id": "EdpCYPEtUEtM",
        "colab": {
          "base_uri": "https://localhost:8080/"
        },
        "outputId": "0021f9bf-8a3f-4813-e69b-0ce53bda2ffb"
      },
      "execution_count": 68,
      "outputs": [
        {
          "output_type": "execute_result",
          "data": {
            "text/plain": [
              "0.25   NaN\n",
              "0.75   NaN\n",
              "Name: Respodent_Age, dtype: float64"
            ]
          },
          "metadata": {},
          "execution_count": 68
        }
      ]
    },
    {
      "cell_type": "code",
      "source": [
        "#calculate the skewness of the respodent age\n",
        "finitech_df['Respodent_Age'].skew()"
      ],
      "metadata": {
        "id": "dCku6LYDXV0j",
        "colab": {
          "base_uri": "https://localhost:8080/"
        },
        "outputId": "fcc3944a-7d0d-4e16-8c16-097f76af3c9c"
      },
      "execution_count": 69,
      "outputs": [
        {
          "output_type": "execute_result",
          "data": {
            "text/plain": [
              "0.8240328690028457"
            ]
          },
          "metadata": {},
          "execution_count": 69
        }
      ]
    },
    {
      "cell_type": "markdown",
      "source": [
        "the skew of 0.824, implie that the mean of the respodents age  is greater than the median hence respodents age is hhighly skewed."
      ],
      "metadata": {
        "id": "oB58zbqXXsOf"
      }
    },
    {
      "cell_type": "code",
      "source": [
        "#calculate the curtosis\n",
        "finitech_df.kurt()"
      ],
      "metadata": {
        "id": "zoOWo_QpYggh",
        "colab": {
          "base_uri": "https://localhost:8080/"
        },
        "outputId": "c6b01e89-71c6-425b-df24-bca5042232bf"
      },
      "execution_count": 70,
      "outputs": [
        {
          "output_type": "stream",
          "name": "stderr",
          "text": [
            "/usr/local/lib/python3.7/dist-packages/ipykernel_launcher.py:2: FutureWarning: Dropping of nuisance columns in DataFrame reductions (with 'numeric_only=None') is deprecated; in a future version this will raise TypeError.  Select only valid columns before calling the reduction.\n",
            "  \n"
          ]
        },
        {
          "output_type": "execute_result",
          "data": {
            "text/plain": [
              "Respodent_Age    0.111175\n",
              "dtype: float64"
            ]
          },
          "metadata": {},
          "execution_count": 70
        }
      ]
    },
    {
      "cell_type": "markdown",
      "source": [
        "The kurtosis of the respodent age is 0.111175, which implies the respodents age forms a normal distribution."
      ],
      "metadata": {
        "id": "HhJqjEKFZHXU"
      }
    },
    {
      "cell_type": "markdown",
      "source": [
        "3.frequency tables"
      ],
      "metadata": {
        "id": "BW5-OgYtoNvd"
      }
    },
    {
      "cell_type": "code",
      "source": [
        "# countries frequency table\n",
        "finitech_df['country'].value_counts()"
      ],
      "metadata": {
        "id": "v7XSZxFGoTjg",
        "colab": {
          "base_uri": "https://localhost:8080/"
        },
        "outputId": "94f2c428-1e5d-4a81-b179-59614e441c68"
      },
      "execution_count": 71,
      "outputs": [
        {
          "output_type": "execute_result",
          "data": {
            "text/plain": [
              "Rwanda      8735\n",
              "Tanzania    6606\n",
              "Kenya       6068\n",
              "Uganda      2101\n",
              "Name: country, dtype: int64"
            ]
          },
          "metadata": {},
          "execution_count": 71
        }
      ]
    },
    {
      "cell_type": "markdown",
      "source": [
        "The above frequency tables implies that the number of respondents for the survey were as follows; Rwanda 8735, Tanzania 6606, Kenya 6068 and Uganda 2101"
      ],
      "metadata": {
        "id": "4tjfmXDQpEtq"
      }
    },
    {
      "cell_type": "code",
      "source": [
        "# determine the respodent with bank account and those without\n",
        "finitech_df['Has_Bank_account'].value_counts()\n"
      ],
      "metadata": {
        "id": "udUWN2IypuY5",
        "colab": {
          "base_uri": "https://localhost:8080/"
        },
        "outputId": "e1f4c063-7e1c-422b-b8f7-249cf4a2ad19"
      },
      "execution_count": 72,
      "outputs": [
        {
          "output_type": "execute_result",
          "data": {
            "text/plain": [
              "No     20179\n",
              "Yes     3309\n",
              "Name: Has_Bank_account, dtype: int64"
            ]
          },
          "metadata": {},
          "execution_count": 72
        }
      ]
    },
    {
      "cell_type": "markdown",
      "source": [
        "From the dataset the individual with bank accounts were 20179 and those without were 3309"
      ],
      "metadata": {
        "id": "j6zsQZjbqiSC"
      }
    },
    {
      "cell_type": "code",
      "source": [
        "#The location where the respodent come from\n",
        "finitech_df['Type_of_location'].value_counts()"
      ],
      "metadata": {
        "id": "ATxzROl0qwEN",
        "colab": {
          "base_uri": "https://localhost:8080/"
        },
        "outputId": "dc15abf2-c9f2-4962-9f49-2d290aef3ce5"
      },
      "execution_count": 73,
      "outputs": [
        {
          "output_type": "execute_result",
          "data": {
            "text/plain": [
              "Rural    14338\n",
              "Urban     9171\n",
              "Name: Type_of_location, dtype: int64"
            ]
          },
          "metadata": {},
          "execution_count": 73
        }
      ]
    },
    {
      "cell_type": "markdown",
      "source": [
        "From the datset the 14338 respodent come from rural area while 9171 come from town"
      ],
      "metadata": {
        "id": "oTvdKW8brf1I"
      }
    },
    {
      "cell_type": "code",
      "source": [
        "#Access to phone\n",
        "finitech_df['Cell_Phone_Access'].value_counts()"
      ],
      "metadata": {
        "id": "lln8nqjQr3D_",
        "colab": {
          "base_uri": "https://localhost:8080/"
        },
        "outputId": "bd35071a-a619-4a6b-c397-a93644a87abd"
      },
      "execution_count": 74,
      "outputs": [
        {
          "output_type": "execute_result",
          "data": {
            "text/plain": [
              "Yes    17449\n",
              "No      6064\n",
              "Name: Cell_Phone_Access, dtype: int64"
            ]
          },
          "metadata": {},
          "execution_count": 74
        }
      ]
    },
    {
      "cell_type": "markdown",
      "source": [
        "From the dataset 17449 participants had cell phone access while 6064 had no access."
      ],
      "metadata": {
        "id": "LclmtIkxsEKp"
      }
    },
    {
      "cell_type": "code",
      "source": [
        "#gender of the participants\n",
        "finitech_df['gender_of_respondent'].value_counts()"
      ],
      "metadata": {
        "id": "3Fi6axPUsjCZ",
        "colab": {
          "base_uri": "https://localhost:8080/"
        },
        "outputId": "029e57e2-8862-4d4c-dd2e-e61c21853aac"
      },
      "execution_count": 75,
      "outputs": [
        {
          "output_type": "execute_result",
          "data": {
            "text/plain": [
              "Female    13859\n",
              "Male       9631\n",
              "Name: gender_of_respondent, dtype: int64"
            ]
          },
          "metadata": {},
          "execution_count": 75
        }
      ]
    },
    {
      "cell_type": "markdown",
      "source": [
        "From the dataset 13859 participants were female and 9631 were male"
      ],
      "metadata": {
        "id": "18E63eXus1c3"
      }
    },
    {
      "cell_type": "code",
      "source": [
        "#level of education\n",
        "finitech_df['Level_of_Education'].value_counts()"
      ],
      "metadata": {
        "id": "kmOs8dmDtL4D",
        "colab": {
          "base_uri": "https://localhost:8080/"
        },
        "outputId": "2feac391-792e-4dda-87f3-ca93a27f10e0"
      },
      "execution_count": 76,
      "outputs": [
        {
          "output_type": "execute_result",
          "data": {
            "text/plain": [
              "Primary education                  12775\n",
              "No formal education                 4506\n",
              "Secondary education                 4220\n",
              "Tertiary education                  1156\n",
              "Vocational/Specialised training      803\n",
              "6                                     27\n",
              "Other/Dont know/RTA                    8\n",
              "Name: Level_of_Education, dtype: int64"
            ]
          },
          "metadata": {},
          "execution_count": 76
        }
      ]
    },
    {
      "cell_type": "markdown",
      "source": [
        "From the dataset 12775 had primary education, 4506 had no formal education, 4220 had secondary education, 1156 had tertiary education, 803 had vocational/specialised training, 27 had form 6 education and 8 don't know there level of education."
      ],
      "metadata": {
        "id": "RcKl9BB0toKj"
      }
    },
    {
      "cell_type": "code",
      "source": [
        "#type of job of the respodent\n",
        "finitech_df['Type_of_Job'].value_counts()"
      ],
      "metadata": {
        "id": "b5Hfv2LiuZ2d",
        "colab": {
          "base_uri": "https://localhost:8080/"
        },
        "outputId": "d6b03c74-c05a-42bd-8a58-b2870faeea50"
      },
      "execution_count": 77,
      "outputs": [
        {
          "output_type": "execute_result",
          "data": {
            "text/plain": [
              "Self employed                   6428\n",
              "Informally employed             5587\n",
              "Farming and Fishing             5433\n",
              "Remittance Dependent            2524\n",
              "Other Income                    1080\n",
              "Formally employed Private       1055\n",
              "No Income                        627\n",
              "Formally employed Government     387\n",
              "Government Dependent             247\n",
              "Dont Know/Refuse to answer       126\n",
              "Name: Type_of_Job, dtype: int64"
            ]
          },
          "metadata": {},
          "execution_count": 77
        }
      ]
    },
    {
      "cell_type": "markdown",
      "source": [
        "from the dataset the participants employment type were as follows; self employed 6428, informally employed 5587, farming and fishing 5433, remittance dependent 2524, other income 1080, formally employed goverment 387, goverment dependent 247 and  no answer 126"
      ],
      "metadata": {
        "id": "Iu1OhcG4wt0H"
      }
    },
    {
      "cell_type": "markdown",
      "source": [
        "3. Visualization"
      ],
      "metadata": {
        "id": "4qLTQw5Oxnd5"
      }
    },
    {
      "cell_type": "code",
      "source": [
        "#respodent age\n",
        "plt.hist(finitech_df['Respodent_Age'], histtype='bar', rwidth= 0.8)\n",
        "plt.title('Respodent Age')\n",
        "plt.xlabel('age')\n",
        "plt.ylabel('no of respodents')\n",
        "plt.show()"
      ],
      "metadata": {
        "id": "JqATAbAfxwhx",
        "colab": {
          "base_uri": "https://localhost:8080/",
          "height": 295
        },
        "outputId": "09223a04-aa92-42e3-b506-109eb7972605"
      },
      "execution_count": 78,
      "outputs": [
        {
          "output_type": "display_data",
          "data": {
            "text/plain": [
              "<Figure size 432x288 with 1 Axes>"
            ],
            "image/png": "[encoded data removed]"
          },
          "metadata": {
            "needs_background": "light"
          }
        }
      ]
    },
    {
      "cell_type": "markdown",
      "source": [
        "From the histogram above majority of the respodents were of the age between 20 and 40 years."
      ],
      "metadata": {
        "id": "P62giHvhy1iz"
      }
    },
    {
      "cell_type": "code",
      "source": [
        "#Country\n",
        "\n",
        "finitech_df['country'].value_counts()\n"
      ],
      "metadata": {
        "id": "JrUAU0SyzPbq",
        "colab": {
          "base_uri": "https://localhost:8080/"
        },
        "outputId": "7dea433d-2312-43d5-bbb9-5b7f56ecfd22"
      },
      "execution_count": 79,
      "outputs": [
        {
          "output_type": "execute_result",
          "data": {
            "text/plain": [
              "Rwanda      8735\n",
              "Tanzania    6606\n",
              "Kenya       6068\n",
              "Uganda      2101\n",
              "Name: country, dtype: int64"
            ]
          },
          "metadata": {},
          "execution_count": 79
        }
      ]
    },
    {
      "cell_type": "code",
      "source": [
        "#country bar chatts\n",
        "country=('Rwanda', 'Tanzania', 'Kenya', 'Uganda')\n",
        "respodents_per_country=[8735, 6606, 6068, 2101]\n",
        "plt.bar(country, respodents_per_country, color='green')\n",
        "plt.title('Respodents per country')\n",
        "plt.ylabel('No of respodents')\n",
        "plt.xlabel('Country')\n",
        "plt.show()"
      ],
      "metadata": {
        "id": "HL0YmVUC4PvZ",
        "colab": {
          "base_uri": "https://localhost:8080/",
          "height": 295
        },
        "outputId": "b7e2ad5f-828f-400b-d5b4-6a40a618e2bd"
      },
      "execution_count": 80,
      "outputs": [
        {
          "output_type": "display_data",
          "data": {
            "text/plain": [
              "<Figure size 432x288 with 1 Axes>"
            ],
            "image/png": "[encoded data removed]"
          },
          "metadata": {
            "needs_background": "light"
          }
        }
      ]
    },
    {
      "cell_type": "markdown",
      "source": [
        "from the bar graphs above majority of the respodent were from Rwanda, followed by Kenya , then Tanzania  and uganda had the least of all the countries."
      ],
      "metadata": {
        "id": "bKXOCNiX5y9y"
      }
    },
    {
      "cell_type": "code",
      "source": [
        "#bank accounts\n",
        "finitech_df['Has_Bank_account'].value_counts()"
      ],
      "metadata": {
        "id": "cf4QAqJd6dAR",
        "colab": {
          "base_uri": "https://localhost:8080/"
        },
        "outputId": "b0297e8a-5655-4122-c3b8-3564cb945997"
      },
      "execution_count": 81,
      "outputs": [
        {
          "output_type": "execute_result",
          "data": {
            "text/plain": [
              "No     20179\n",
              "Yes     3309\n",
              "Name: Has_Bank_account, dtype: int64"
            ]
          },
          "metadata": {},
          "execution_count": 81
        }
      ]
    },
    {
      "cell_type": "code",
      "source": [
        "#has bank accounts bar chart\n",
        "response=('No', 'Yes')\n",
        "customers_no= [20179, 3309]\n",
        "plt.bar(response, customers_no, color='maroon')\n",
        "plt.title('Customer with bank accounts and those without')\n",
        "plt.ylabel('no of customers')\n",
        "plt.xlabel('response')\n",
        "plt.show()"
      ],
      "metadata": {
        "id": "xL4ZlvKI6v9F",
        "colab": {
          "base_uri": "https://localhost:8080/",
          "height": 295
        },
        "outputId": "5d306f31-07f1-425e-8ad2-b25cd765cc09"
      },
      "execution_count": 82,
      "outputs": [
        {
          "output_type": "display_data",
          "data": {
            "text/plain": [
              "<Figure size 432x288 with 1 Axes>"
            ],
            "image/png": "[encoded data removed]"
          },
          "metadata": {
            "needs_background": "light"
          }
        }
      ]
    },
    {
      "cell_type": "markdown",
      "source": [
        "From the bar graph above, most of the respodents had bank accounts while  asmall number of them didn't have the bank account."
      ],
      "metadata": {
        "id": "fBZspuCr8TwE"
      }
    },
    {
      "cell_type": "markdown",
      "source": [
        ""
      ],
      "metadata": {
        "id": "1kDLbOvS8JZb"
      }
    },
    {
      "cell_type": "code",
      "source": [
        "#location of the respodents\n",
        "finitech_df['Type_of_location'].value_counts()"
      ],
      "metadata": {
        "id": "QSPk5Wei87vg",
        "colab": {
          "base_uri": "https://localhost:8080/"
        },
        "outputId": "50961783-3380-4dba-cf56-78d304274fef"
      },
      "execution_count": 83,
      "outputs": [
        {
          "output_type": "execute_result",
          "data": {
            "text/plain": [
              "Rural    14338\n",
              "Urban     9171\n",
              "Name: Type_of_location, dtype: int64"
            ]
          },
          "metadata": {},
          "execution_count": 83
        }
      ]
    },
    {
      "cell_type": "code",
      "source": [
        "#bar chart of the location of the respodents\n",
        "location=('Rural', 'Urban')\n",
        "No_respodents=[14338, 9171]\n",
        "plt.bar(location, No_respodents, color='yellow')\n",
        "plt.title('Respodents location')\n",
        "plt.ylabel('no of respodents')\n",
        "plt.xlabel('customer location')\n",
        "plt.show()"
      ],
      "metadata": {
        "id": "6L5T1P3e9DWN",
        "colab": {
          "base_uri": "https://localhost:8080/",
          "height": 295
        },
        "outputId": "59fd2d8c-342b-4be9-8abc-158b5732f831"
      },
      "execution_count": 84,
      "outputs": [
        {
          "output_type": "display_data",
          "data": {
            "text/plain": [
              "<Figure size 432x288 with 1 Axes>"
            ],
            "image/png": "[encoded data removed]"
          },
          "metadata": {
            "needs_background": "light"
          }
        }
      ]
    },
    {
      "cell_type": "markdown",
      "source": [
        "From the visuals above majority of the respodents come from rural location."
      ],
      "metadata": {
        "id": "KXBhqdvB-Zg5"
      }
    },
    {
      "cell_type": "code",
      "source": [
        "#Phone cell access\n",
        "finitech_df['Cell_Phone_Access'].value_counts()"
      ],
      "metadata": {
        "id": "4Pwml1Hw-oc_",
        "colab": {
          "base_uri": "https://localhost:8080/"
        },
        "outputId": "e38e8ef8-8f36-471e-fd04-016a0b0ee1f1"
      },
      "execution_count": 85,
      "outputs": [
        {
          "output_type": "execute_result",
          "data": {
            "text/plain": [
              "Yes    17449\n",
              "No      6064\n",
              "Name: Cell_Phone_Access, dtype: int64"
            ]
          },
          "metadata": {},
          "execution_count": 85
        }
      ]
    },
    {
      "cell_type": "code",
      "source": [
        "#Phone cell access bar chart\n",
        "phone_access=('Yes', 'No')\n",
        "Feedback_number=[17449, 6064]\n",
        "plt.bar(phone_access, Feedback_number, color='black')\n",
        "plt.title('Respodent Phone Cell Access')\n",
        "plt.ylabel('No of customers')\n",
        "plt.xlabel('Phone cell acess')\n",
        "plt.show()"
      ],
      "metadata": {
        "id": "j8N3nd8Z_FmP",
        "colab": {
          "base_uri": "https://localhost:8080/",
          "height": 295
        },
        "outputId": "b1b68d0b-f52e-44c6-fe9c-85bf8c45eed4"
      },
      "execution_count": 86,
      "outputs": [
        {
          "output_type": "display_data",
          "data": {
            "text/plain": [
              "<Figure size 432x288 with 1 Axes>"
            ],
            "image/png": "[encoded data removed]"
          },
          "metadata": {
            "needs_background": "light"
          }
        }
      ]
    },
    {
      "cell_type": "markdown",
      "source": [
        "From the visual above most of the respodents had access to phone cell"
      ],
      "metadata": {
        "id": "Ft_cKAslAnjj"
      }
    },
    {
      "cell_type": "code",
      "source": [
        "#gender of the pariticipants\n",
        "finitech_df['gender_of_respondent'].value_counts()"
      ],
      "metadata": {
        "id": "e-0h5dy8AzjU",
        "colab": {
          "base_uri": "https://localhost:8080/"
        },
        "outputId": "f770b3d3-a124-4dd5-a975-e37094b5fa09"
      },
      "execution_count": 87,
      "outputs": [
        {
          "output_type": "execute_result",
          "data": {
            "text/plain": [
              "Female    13859\n",
              "Male       9631\n",
              "Name: gender_of_respondent, dtype: int64"
            ]
          },
          "metadata": {},
          "execution_count": 87
        }
      ]
    },
    {
      "cell_type": "code",
      "source": [
        "#gender bar chart\n",
        "Gender=('Male', 'Female')\n",
        "No=[13859,9631]\n",
        "plt.bar(Gender, No, color='violet')\n",
        "plt.ylabel('no of respodents')\n",
        "plt.xlabel('Gender')\n",
        "plt.show()"
      ],
      "metadata": {
        "id": "useaaXlLBIu5",
        "colab": {
          "base_uri": "https://localhost:8080/",
          "height": 279
        },
        "outputId": "39bede13-dd86-4423-ab42-bcf0d36d88a7"
      },
      "execution_count": 88,
      "outputs": [
        {
          "output_type": "display_data",
          "data": {
            "text/plain": [
              "<Figure size 432x288 with 1 Axes>"
            ],
            "image/png": "[encoded data removed]"
          },
          "metadata": {
            "needs_background": "light"
          }
        }
      ]
    },
    {
      "cell_type": "markdown",
      "source": [
        "From the visuals above majority of the respodent were males."
      ],
      "metadata": {
        "id": "fVnZh5yICHd9"
      }
    },
    {
      "cell_type": "code",
      "source": [
        "#Level of education\n",
        "finitech_df['Level_of_Education'].value_counts()"
      ],
      "metadata": {
        "id": "dvcEZbLPCgI2",
        "colab": {
          "base_uri": "https://localhost:8080/"
        },
        "outputId": "8d2a82af-7145-4452-ad7c-50bd00010e04"
      },
      "execution_count": 89,
      "outputs": [
        {
          "output_type": "execute_result",
          "data": {
            "text/plain": [
              "Primary education                  12775\n",
              "No formal education                 4506\n",
              "Secondary education                 4220\n",
              "Tertiary education                  1156\n",
              "Vocational/Specialised training      803\n",
              "6                                     27\n",
              "Other/Dont know/RTA                    8\n",
              "Name: Level_of_Education, dtype: int64"
            ]
          },
          "metadata": {},
          "execution_count": 89
        }
      ]
    },
    {
      "cell_type": "code",
      "source": [
        "#level of education bar chart\n",
        "Education=('Primary ', 'None ', 'Secondary ',\n",
        "           'Tertiary ', 'Vocational', '6', 'other')\n",
        "respodents=[12775, 4506, 4220, 1156, 803, 27,8]\n",
        "plt.bar(Education, respodents, color='magenta')\n",
        "plt.title('Education level')\n",
        "plt.ylabel('no of respodents')\n",
        "plt.xlabel('education')\n",
        "plt.show()"
      ],
      "metadata": {
        "id": "7XuDefB6Cu_5",
        "colab": {
          "base_uri": "https://localhost:8080/",
          "height": 295
        },
        "outputId": "dc65665a-1b00-4020-e652-2f437c67e1af"
      },
      "execution_count": 90,
      "outputs": [
        {
          "output_type": "display_data",
          "data": {
            "text/plain": [
              "<Figure size 432x288 with 1 Axes>"
            ],
            "image/png": "[encoded data removed]"
          },
          "metadata": {
            "needs_background": "light"
          }
        }
      ]
    },
    {
      "cell_type": "markdown",
      "source": [
        "From the visuals above majority of the respodents had primary education"
      ],
      "metadata": {
        "id": "rtYIeIwcFDCq"
      }
    },
    {
      "cell_type": "code",
      "source": [
        "#job type\n",
        "finitech_df['Type_of_Job'].value_counts()"
      ],
      "metadata": {
        "id": "mRaEs0tfFctH",
        "colab": {
          "base_uri": "https://localhost:8080/"
        },
        "outputId": "a793fcc0-9011-4ff0-a729-b70117a014de"
      },
      "execution_count": 91,
      "outputs": [
        {
          "output_type": "execute_result",
          "data": {
            "text/plain": [
              "Self employed                   6428\n",
              "Informally employed             5587\n",
              "Farming and Fishing             5433\n",
              "Remittance Dependent            2524\n",
              "Other Income                    1080\n",
              "Formally employed Private       1055\n",
              "No Income                        627\n",
              "Formally employed Government     387\n",
              "Government Dependent             247\n",
              "Dont Know/Refuse to answer       126\n",
              "Name: Type_of_Job, dtype: int64"
            ]
          },
          "metadata": {},
          "execution_count": 91
        }
      ]
    },
    {
      "cell_type": "code",
      "source": [
        "#job type bar chart\n",
        "job=('Self', 'informal', 'farming/fishing', 'remmittance', 'other', 'private', 'no income',\n",
        "     'goverment', 'goverment dependent', 'No answer')\n",
        "no_of_employees=[6428, 5587, 5433, 2524, 1080, 1055, 627, 387, 247, 126]\n",
        "plt.barh(job, no_of_employees, color='Blue')\n",
        "plt.title('Job type')\n",
        "plt.ylabel('job')\n",
        "plt.xlabel('no of employees')\n",
        "plt.show()"
      ],
      "metadata": {
        "id": "O86hATU5Fq9A",
        "colab": {
          "base_uri": "https://localhost:8080/",
          "height": 295
        },
        "outputId": "c710356e-e546-46dd-c73e-2190ebac33e7"
      },
      "execution_count": 92,
      "outputs": [
        {
          "output_type": "display_data",
          "data": {
            "text/plain": [
              "<Figure size 432x288 with 1 Axes>"
            ],
            "image/png": "[encoded data removed]"
          },
          "metadata": {
            "needs_background": "light"
          }
        }
      ]
    },
    {
      "cell_type": "markdown",
      "source": [
        "From the visuals majority of the respodents come from the self employment"
      ],
      "metadata": {
        "id": "MzNu7uytMJo6"
      }
    },
    {
      "cell_type": "markdown",
      "source": [
        "**b)Bivariate Analysis**"
      ],
      "metadata": {
        "id": "r9AyU7oMMfjv"
      }
    },
    {
      "cell_type": "code",
      "source": [
        "finitech_df.head(3)"
      ],
      "metadata": {
        "colab": {
          "base_uri": "https://localhost:8080/",
          "height": 143
        },
        "id": "5CgcBdTBrntw",
        "outputId": "57f392a2-27ce-4167-dacc-5fcea7798e6e"
      },
      "execution_count": 93,
      "outputs": [
        {
          "output_type": "execute_result",
          "data": {
            "text/plain": [
              "  country Has_Bank_account Type_of_location Cell_Phone_Access  Respodent_Age  \\\n",
              "0   Kenya              Yes            Rural               Yes           24.0   \n",
              "1   Kenya               No            Rural                No           70.0   \n",
              "2   Kenya              Yes            Urban               Yes           26.0   \n",
              "\n",
              "  gender_of_respondent               Level_of_Education           Type_of_Job  \n",
              "0               Female              Secondary education         Self employed  \n",
              "1               Female              No formal education  Government Dependent  \n",
              "2                 Male  Vocational/Specialised training         Self employed  "
            ],
            "text/html": [
              "\n",
              "  <div id=\"df-69dfe9e7-eade-492e-8d6c-1a742fe5b963\">\n",
              "    <div class=\"colab-df-container\">\n",
              "      <div>\n",
              "<style scoped>\n",
              "    .dataframe tbody tr th:only-of-type {\n",
              "        vertical-align: middle;\n",
              "    }\n",
              "\n",
              "    .dataframe tbody tr th {\n",
              "        vertical-align: top;\n",
              "    }\n",
              "\n",
              "    .dataframe thead th {\n",
              "        text-align: right;\n",
              "    }\n",
              "</style>\n",
              "<table border=\"1\" class=\"dataframe\">\n",
              "  <thead>\n",
              "    <tr style=\"text-align: right;\">\n",
              "      <th></th>\n",
              "      <th>country</th>\n",
              "      <th>Has_Bank_account</th>\n",
              "      <th>Type_of_location</th>\n",
              "      <th>Cell_Phone_Access</th>\n",
              "      <th>Respodent_Age</th>\n",
              "      <th>gender_of_respondent</th>\n",
              "      <th>Level_of_Education</th>\n",
              "      <th>Type_of_Job</th>\n",
              "    </tr>\n",
              "  </thead>\n",
              "  <tbody>\n",
              "    <tr>\n",
              "      <th>0</th>\n",
              "      <td>Kenya</td>\n",
              "      <td>Yes</td>\n",
              "      <td>Rural</td>\n",
              "      <td>Yes</td>\n",
              "      <td>24.0</td>\n",
              "      <td>Female</td>\n",
              "      <td>Secondary education</td>\n",
              "      <td>Self employed</td>\n",
              "    </tr>\n",
              "    <tr>\n",
              "      <th>1</th>\n",
              "      <td>Kenya</td>\n",
              "      <td>No</td>\n",
              "      <td>Rural</td>\n",
              "      <td>No</td>\n",
              "      <td>70.0</td>\n",
              "      <td>Female</td>\n",
              "      <td>No formal education</td>\n",
              "      <td>Government Dependent</td>\n",
              "    </tr>\n",
              "    <tr>\n",
              "      <th>2</th>\n",
              "      <td>Kenya</td>\n",
              "      <td>Yes</td>\n",
              "      <td>Urban</td>\n",
              "      <td>Yes</td>\n",
              "      <td>26.0</td>\n",
              "      <td>Male</td>\n",
              "      <td>Vocational/Specialised training</td>\n",
              "      <td>Self employed</td>\n",
              "    </tr>\n",
              "  </tbody>\n",
              "</table>\n",
              "</div>\n",
              "      <button class=\"colab-df-convert\" onclick=\"convertToInteractive('df-69dfe9e7-eade-492e-8d6c-1a742fe5b963')\"\n",
              "              title=\"Convert this dataframe to an interactive table.\"\n",
              "              style=\"display:none;\">\n",
              "        \n",
              "  <svg xmlns=\"http://www.w3.org/2000/svg\" height=\"24px\"viewBox=\"0 0 24 24\"\n",
              "       width=\"24px\">\n",
              "    <path d=\"M0 0h24v24H0V0z\" fill=\"none\"/>\n",
              "    <path d=\"M18.56 5.44l.94 2.06.94-2.06 2.06-.94-2.06-.94-.94-2.06-.94 2.06-2.06.94zm-11 1L8.5 8.5l.94-2.06 2.06-.94-2.06-.94L8.5 2.5l-.94 2.06-2.06.94zm10 10l.94 2.06.94-2.06 2.06-.94-2.06-.94-.94-2.06-.94 2.06-2.06.94z\"/><path d=\"M17.41 7.96l-1.37-1.37c-.4-.4-.92-.59-1.43-.59-.52 0-1.04.2-1.43.59L10.3 9.45l-7.72 7.72c-.78.78-.78 2.05 0 2.83L4 21.41c.39.39.9.59 1.41.59.51 0 1.02-.2 1.41-.59l7.78-7.78 2.81-2.81c.8-.78.8-2.07 0-2.86zM5.41 20L4 18.59l7.72-7.72 1.47 1.35L5.41 20z\"/>\n",
              "  </svg>\n",
              "      </button>\n",
              "      \n",
              "  <style>\n",
              "    .colab-df-container {\n",
              "      display:flex;\n",
              "      flex-wrap:wrap;\n",
              "      gap: 12px;\n",
              "    }\n",
              "\n",
              "    .colab-df-convert {\n",
              "      background-color: #E8F0FE;\n",
              "      border: none;\n",
              "      border-radius: 50%;\n",
              "      cursor: pointer;\n",
              "      display: none;\n",
              "      fill: #1967D2;\n",
              "      height: 32px;\n",
              "      padding: 0 0 0 0;\n",
              "      width: 32px;\n",
              "    }\n",
              "\n",
              "    .colab-df-convert:hover {\n",
              "      background-color: #E2EBFA;\n",
              "      box-shadow: 0px 1px 2px rgba(60, 64, 67, 0.3), 0px 1px 3px 1px rgba(60, 64, 67, 0.15);\n",
              "      fill: #174EA6;\n",
              "    }\n",
              "\n",
              "    [theme=dark] .colab-df-convert {\n",
              "      background-color: #3B4455;\n",
              "      fill: #D2E3FC;\n",
              "    }\n",
              "\n",
              "    [theme=dark] .colab-df-convert:hover {\n",
              "      background-color: #434B5C;\n",
              "      box-shadow: 0px 1px 3px 1px rgba(0, 0, 0, 0.15);\n",
              "      filter: drop-shadow(0px 1px 2px rgba(0, 0, 0, 0.3));\n",
              "      fill: #FFFFFF;\n",
              "    }\n",
              "  </style>\n",
              "\n",
              "      <script>\n",
              "        const buttonEl =\n",
              "          document.querySelector('#df-69dfe9e7-eade-492e-8d6c-1a742fe5b963 button.colab-df-convert');\n",
              "        buttonEl.style.display =\n",
              "          google.colab.kernel.accessAllowed ? 'block' : 'none';\n",
              "\n",
              "        async function convertToInteractive(key) {\n",
              "          const element = document.querySelector('#df-69dfe9e7-eade-492e-8d6c-1a742fe5b963');\n",
              "          const dataTable =\n",
              "            await google.colab.kernel.invokeFunction('convertToInteractive',\n",
              "                                                     [key], {});\n",
              "          if (!dataTable) return;\n",
              "\n",
              "          const docLinkHtml = 'Like what you see? Visit the ' +\n",
              "            '<a target=\"_blank\" href=https://colab.research.google.com/notebooks/data_table.ipynb>data table notebook</a>'\n",
              "            + ' to learn more about interactive tables.';\n",
              "          element.innerHTML = '';\n",
              "          dataTable['output_type'] = 'display_data';\n",
              "          await google.colab.output.renderOutput(dataTable, element);\n",
              "          const docLink = document.createElement('div');\n",
              "          docLink.innerHTML = docLinkHtml;\n",
              "          element.appendChild(docLink);\n",
              "        }\n",
              "      </script>\n",
              "    </div>\n",
              "  </div>\n",
              "  "
            ]
          },
          "metadata": {},
          "execution_count": 93
        }
      ]
    },
    {
      "cell_type": "markdown",
      "source": [
        "**1)Categorical Numerical**"
      ],
      "metadata": {
        "id": "Yk5k6ACmr8zZ"
      }
    },
    {
      "cell_type": "code",
      "source": [
        "#Has bank account vs respodent age\n",
        "plt.scatter(finitech_df['Has_Bank_account'].astype(str), finitech_df['Respodent_Age'])\n",
        "plt.title('bank accounts in relation to respodents age')\n",
        "plt.ylabel('age (years)')\n",
        "plt.xlabel('has bank account?')\n",
        "plt.show"
      ],
      "metadata": {
        "colab": {
          "base_uri": "https://localhost:8080/",
          "height": 312
        },
        "id": "SGT6eHPRv7Aq",
        "outputId": "ff5cbb0d-d2cc-4138-81c3-37b695c9325b"
      },
      "execution_count": 98,
      "outputs": [
        {
          "output_type": "execute_result",
          "data": {
            "text/plain": [
              "<function matplotlib.pyplot.show>"
            ]
          },
          "metadata": {},
          "execution_count": 98
        },
        {
          "output_type": "display_data",
          "data": {
            "text/plain": [
              "<Figure size 432x288 with 1 Axes>"
            ],
            "image/png": "[encoded data removed]"
          },
          "metadata": {
            "needs_background": "light"
          }
        }
      ]
    },
    {
      "cell_type": "markdown",
      "source": [
        "The scatter plot above points vertical which implies there is no any correllation between possibility of the respondent owning a bank account in relation to their ages."
      ],
      "metadata": {
        "id": "1UEQ24li7lkB"
      }
    },
    {
      "cell_type": "markdown",
      "source": [
        "c)**Multivariate analysis**"
      ],
      "metadata": {
        "id": "vP1PrssOClZo"
      }
    },
    {
      "cell_type": "markdown",
      "source": [
        "a) PCA Principle component anlysis"
      ],
      "metadata": {
        "id": "mru6vE0xQtkf"
      }
    },
    {
      "cell_type": "code",
      "source": [
        "#convert categorical variables to numerical variables\n",
        "finitech_df.head(2)"
      ],
      "metadata": {
        "colab": {
          "base_uri": "https://localhost:8080/",
          "height": 112
        },
        "id": "xvjQyd0UQ30k",
        "outputId": "b4d789d4-dbd5-4ccf-d8d8-465d63e958ae"
      },
      "execution_count": 103,
      "outputs": [
        {
          "output_type": "execute_result",
          "data": {
            "text/plain": [
              "  country Has_Bank_account Type_of_location Cell_Phone_Access  Respodent_Age  \\\n",
              "0   Kenya              Yes            Rural               Yes           24.0   \n",
              "1   Kenya               No            Rural                No           70.0   \n",
              "\n",
              "  gender_of_respondent   Level_of_Education           Type_of_Job  \n",
              "0               Female  Secondary education         Self employed  \n",
              "1               Female  No formal education  Government Dependent  "
            ],
            "text/html": [
              "\n",
              "  <div id=\"df-804ba247-06e0-43d2-b5ee-d52ff95f609e\">\n",
              "    <div class=\"colab-df-container\">\n",
              "      <div>\n",
              "<style scoped>\n",
              "    .dataframe tbody tr th:only-of-type {\n",
              "        vertical-align: middle;\n",
              "    }\n",
              "\n",
              "    .dataframe tbody tr th {\n",
              "        vertical-align: top;\n",
              "    }\n",
              "\n",
              "    .dataframe thead th {\n",
              "        text-align: right;\n",
              "    }\n",
              "</style>\n",
              "<table border=\"1\" class=\"dataframe\">\n",
              "  <thead>\n",
              "    <tr style=\"text-align: right;\">\n",
              "      <th></th>\n",
              "      <th>country</th>\n",
              "      <th>Has_Bank_account</th>\n",
              "      <th>Type_of_location</th>\n",
              "      <th>Cell_Phone_Access</th>\n",
              "      <th>Respodent_Age</th>\n",
              "      <th>gender_of_respondent</th>\n",
              "      <th>Level_of_Education</th>\n",
              "      <th>Type_of_Job</th>\n",
              "    </tr>\n",
              "  </thead>\n",
              "  <tbody>\n",
              "    <tr>\n",
              "      <th>0</th>\n",
              "      <td>Kenya</td>\n",
              "      <td>Yes</td>\n",
              "      <td>Rural</td>\n",
              "      <td>Yes</td>\n",
              "      <td>24.0</td>\n",
              "      <td>Female</td>\n",
              "      <td>Secondary education</td>\n",
              "      <td>Self employed</td>\n",
              "    </tr>\n",
              "    <tr>\n",
              "      <th>1</th>\n",
              "      <td>Kenya</td>\n",
              "      <td>No</td>\n",
              "      <td>Rural</td>\n",
              "      <td>No</td>\n",
              "      <td>70.0</td>\n",
              "      <td>Female</td>\n",
              "      <td>No formal education</td>\n",
              "      <td>Government Dependent</td>\n",
              "    </tr>\n",
              "  </tbody>\n",
              "</table>\n",
              "</div>\n",
              "      <button class=\"colab-df-convert\" onclick=\"convertToInteractive('df-804ba247-06e0-43d2-b5ee-d52ff95f609e')\"\n",
              "              title=\"Convert this dataframe to an interactive table.\"\n",
              "              style=\"display:none;\">\n",
              "        \n",
              "  <svg xmlns=\"http://www.w3.org/2000/svg\" height=\"24px\"viewBox=\"0 0 24 24\"\n",
              "       width=\"24px\">\n",
              "    <path d=\"M0 0h24v24H0V0z\" fill=\"none\"/>\n",
              "    <path d=\"M18.56 5.44l.94 2.06.94-2.06 2.06-.94-2.06-.94-.94-2.06-.94 2.06-2.06.94zm-11 1L8.5 8.5l.94-2.06 2.06-.94-2.06-.94L8.5 2.5l-.94 2.06-2.06.94zm10 10l.94 2.06.94-2.06 2.06-.94-2.06-.94-.94-2.06-.94 2.06-2.06.94z\"/><path d=\"M17.41 7.96l-1.37-1.37c-.4-.4-.92-.59-1.43-.59-.52 0-1.04.2-1.43.59L10.3 9.45l-7.72 7.72c-.78.78-.78 2.05 0 2.83L4 21.41c.39.39.9.59 1.41.59.51 0 1.02-.2 1.41-.59l7.78-7.78 2.81-2.81c.8-.78.8-2.07 0-2.86zM5.41 20L4 18.59l7.72-7.72 1.47 1.35L5.41 20z\"/>\n",
              "  </svg>\n",
              "      </button>\n",
              "      \n",
              "  <style>\n",
              "    .colab-df-container {\n",
              "      display:flex;\n",
              "      flex-wrap:wrap;\n",
              "      gap: 12px;\n",
              "    }\n",
              "\n",
              "    .colab-df-convert {\n",
              "      background-color: #E8F0FE;\n",
              "      border: none;\n",
              "      border-radius: 50%;\n",
              "      cursor: pointer;\n",
              "      display: none;\n",
              "      fill: #1967D2;\n",
              "      height: 32px;\n",
              "      padding: 0 0 0 0;\n",
              "      width: 32px;\n",
              "    }\n",
              "\n",
              "    .colab-df-convert:hover {\n",
              "      background-color: #E2EBFA;\n",
              "      box-shadow: 0px 1px 2px rgba(60, 64, 67, 0.3), 0px 1px 3px 1px rgba(60, 64, 67, 0.15);\n",
              "      fill: #174EA6;\n",
              "    }\n",
              "\n",
              "    [theme=dark] .colab-df-convert {\n",
              "      background-color: #3B4455;\n",
              "      fill: #D2E3FC;\n",
              "    }\n",
              "\n",
              "    [theme=dark] .colab-df-convert:hover {\n",
              "      background-color: #434B5C;\n",
              "      box-shadow: 0px 1px 3px 1px rgba(0, 0, 0, 0.15);\n",
              "      filter: drop-shadow(0px 1px 2px rgba(0, 0, 0, 0.3));\n",
              "      fill: #FFFFFF;\n",
              "    }\n",
              "  </style>\n",
              "\n",
              "      <script>\n",
              "        const buttonEl =\n",
              "          document.querySelector('#df-804ba247-06e0-43d2-b5ee-d52ff95f609e button.colab-df-convert');\n",
              "        buttonEl.style.display =\n",
              "          google.colab.kernel.accessAllowed ? 'block' : 'none';\n",
              "\n",
              "        async function convertToInteractive(key) {\n",
              "          const element = document.querySelector('#df-804ba247-06e0-43d2-b5ee-d52ff95f609e');\n",
              "          const dataTable =\n",
              "            await google.colab.kernel.invokeFunction('convertToInteractive',\n",
              "                                                     [key], {});\n",
              "          if (!dataTable) return;\n",
              "\n",
              "          const docLinkHtml = 'Like what you see? Visit the ' +\n",
              "            '<a target=\"_blank\" href=https://colab.research.google.com/notebooks/data_table.ipynb>data table notebook</a>'\n",
              "            + ' to learn more about interactive tables.';\n",
              "          element.innerHTML = '';\n",
              "          dataTable['output_type'] = 'display_data';\n",
              "          await google.colab.output.renderOutput(dataTable, element);\n",
              "          const docLink = document.createElement('div');\n",
              "          docLink.innerHTML = docLinkHtml;\n",
              "          element.appendChild(docLink);\n",
              "        }\n",
              "      </script>\n",
              "    </div>\n",
              "  </div>\n",
              "  "
            ]
          },
          "metadata": {},
          "execution_count": 103
        }
      ]
    },
    {
      "cell_type": "code",
      "source": [
        "step: 1#finitech_df.drop(columns=['country'], inplace=True)\n",
        "finitechlocat_df = pd.get_dummies(finitech_df['Cell_Phone_Access'])#,'Cell_Phone_Access', 'gender_of_respondent', 'Level_of_Education','Type_of_Job'])\n",
        "df_new = pd.concat([finitech_df, finitechlocat_df], axis=1)\n",
        "df_new.head(2)\n",
        "cell_phone = pd.get_dummies(df_new['Cell_Phone_Access'])#,'Cell_Phone_Access', 'gender_of_respondent', 'Level_of_Education','Type_of_Job'])\n",
        "cell_phonenew = pd.concat([df_new, cell_phone], axis=1)\n",
        "gender = pd.get_dummies(cell_phonenew['Cell_Phone_Access'])#,'Cell_Phone_Access', 'gender_of_respondent', 'Level_of_Education','Type_of_Job'])\n",
        "gender_new = pd.concat([cell_phonenew, gender], axis=1)\n",
        "education = pd.get_dummies(gender_new['Level_of_Education'])\n",
        "education_new = pd.concat([gender_new, education], axis=1)\n",
        "job = pd.get_dummies(education_new['Type_of_Job'])\n",
        "job_new = pd.concat([education_new, job], axis=1)\n",
        "#display the data\n",
        "job_new.head(3)\n",
        "\n",
        "\n",
        "\n"
      ],
      "metadata": {
        "colab": {
          "base_uri": "https://localhost:8080/",
          "height": 324
        },
        "id": "agWHPZ7cRSLK",
        "outputId": "e81ee7d0-8088-4c46-dd77-a5e3ea6236f1"
      },
      "execution_count": 114,
      "outputs": [
        {
          "output_type": "execute_result",
          "data": {
            "text/plain": [
              "  Has_Bank_account Type_of_location Cell_Phone_Access  Respodent_Age  \\\n",
              "0              Yes            Rural               Yes           24.0   \n",
              "1               No            Rural                No           70.0   \n",
              "2              Yes            Urban               Yes           26.0   \n",
              "\n",
              "  gender_of_respondent               Level_of_Education           Type_of_Job  \\\n",
              "0               Female              Secondary education         Self employed   \n",
              "1               Female              No formal education  Government Dependent   \n",
              "2                 Male  Vocational/Specialised training         Self employed   \n",
              "\n",
              "   No  Yes  No  ...  Dont Know/Refuse to answer  Farming and Fishing  \\\n",
              "0   0    1   0  ...                           0                    0   \n",
              "1   1    0   1  ...                           0                    0   \n",
              "2   0    1   0  ...                           0                    0   \n",
              "\n",
              "   Formally employed Government  Formally employed Private  \\\n",
              "0                             0                          0   \n",
              "1                             0                          0   \n",
              "2                             0                          0   \n",
              "\n",
              "   Government Dependent  Informally employed  No Income  Other Income  \\\n",
              "0                     0                    0          0             0   \n",
              "1                     1                    0          0             0   \n",
              "2                     0                    0          0             0   \n",
              "\n",
              "   Remittance Dependent  Self employed  \n",
              "0                     0              1  \n",
              "1                     0              0  \n",
              "2                     0              1  \n",
              "\n",
              "[3 rows x 30 columns]"
            ],
            "text/html": [
              "\n",
              "  <div id=\"df-5efebd14-71f4-4271-81f2-83503f035509\">\n",
              "    <div class=\"colab-df-container\">\n",
              "      <div>\n",
              "<style scoped>\n",
              "    .dataframe tbody tr th:only-of-type {\n",
              "        vertical-align: middle;\n",
              "    }\n",
              "\n",
              "    .dataframe tbody tr th {\n",
              "        vertical-align: top;\n",
              "    }\n",
              "\n",
              "    .dataframe thead th {\n",
              "        text-align: right;\n",
              "    }\n",
              "</style>\n",
              "<table border=\"1\" class=\"dataframe\">\n",
              "  <thead>\n",
              "    <tr style=\"text-align: right;\">\n",
              "      <th></th>\n",
              "      <th>Has_Bank_account</th>\n",
              "      <th>Type_of_location</th>\n",
              "      <th>Cell_Phone_Access</th>\n",
              "      <th>Respodent_Age</th>\n",
              "      <th>gender_of_respondent</th>\n",
              "      <th>Level_of_Education</th>\n",
              "      <th>Type_of_Job</th>\n",
              "      <th>No</th>\n",
              "      <th>Yes</th>\n",
              "      <th>No</th>\n",
              "      <th>...</th>\n",
              "      <th>Dont Know/Refuse to answer</th>\n",
              "      <th>Farming and Fishing</th>\n",
              "      <th>Formally employed Government</th>\n",
              "      <th>Formally employed Private</th>\n",
              "      <th>Government Dependent</th>\n",
              "      <th>Informally employed</th>\n",
              "      <th>No Income</th>\n",
              "      <th>Other Income</th>\n",
              "      <th>Remittance Dependent</th>\n",
              "      <th>Self employed</th>\n",
              "    </tr>\n",
              "  </thead>\n",
              "  <tbody>\n",
              "    <tr>\n",
              "      <th>0</th>\n",
              "      <td>Yes</td>\n",
              "      <td>Rural</td>\n",
              "      <td>Yes</td>\n",
              "      <td>24.0</td>\n",
              "      <td>Female</td>\n",
              "      <td>Secondary education</td>\n",
              "      <td>Self employed</td>\n",
              "      <td>0</td>\n",
              "      <td>1</td>\n",
              "      <td>0</td>\n",
              "      <td>...</td>\n",
              "      <td>0</td>\n",
              "      <td>0</td>\n",
              "      <td>0</td>\n",
              "      <td>0</td>\n",
              "      <td>0</td>\n",
              "      <td>0</td>\n",
              "      <td>0</td>\n",
              "      <td>0</td>\n",
              "      <td>0</td>\n",
              "      <td>1</td>\n",
              "    </tr>\n",
              "    <tr>\n",
              "      <th>1</th>\n",
              "      <td>No</td>\n",
              "      <td>Rural</td>\n",
              "      <td>No</td>\n",
              "      <td>70.0</td>\n",
              "      <td>Female</td>\n",
              "      <td>No formal education</td>\n",
              "      <td>Government Dependent</td>\n",
              "      <td>1</td>\n",
              "      <td>0</td>\n",
              "      <td>1</td>\n",
              "      <td>...</td>\n",
              "      <td>0</td>\n",
              "      <td>0</td>\n",
              "      <td>0</td>\n",
              "      <td>0</td>\n",
              "      <td>1</td>\n",
              "      <td>0</td>\n",
              "      <td>0</td>\n",
              "      <td>0</td>\n",
              "      <td>0</td>\n",
              "      <td>0</td>\n",
              "    </tr>\n",
              "    <tr>\n",
              "      <th>2</th>\n",
              "      <td>Yes</td>\n",
              "      <td>Urban</td>\n",
              "      <td>Yes</td>\n",
              "      <td>26.0</td>\n",
              "      <td>Male</td>\n",
              "      <td>Vocational/Specialised training</td>\n",
              "      <td>Self employed</td>\n",
              "      <td>0</td>\n",
              "      <td>1</td>\n",
              "      <td>0</td>\n",
              "      <td>...</td>\n",
              "      <td>0</td>\n",
              "      <td>0</td>\n",
              "      <td>0</td>\n",
              "      <td>0</td>\n",
              "      <td>0</td>\n",
              "      <td>0</td>\n",
              "      <td>0</td>\n",
              "      <td>0</td>\n",
              "      <td>0</td>\n",
              "      <td>1</td>\n",
              "    </tr>\n",
              "  </tbody>\n",
              "</table>\n",
              "<p>3 rows × 30 columns</p>\n",
              "</div>\n",
              "      <button class=\"colab-df-convert\" onclick=\"convertToInteractive('df-5efebd14-71f4-4271-81f2-83503f035509')\"\n",
              "              title=\"Convert this dataframe to an interactive table.\"\n",
              "              style=\"display:none;\">\n",
              "        \n",
              "  <svg xmlns=\"http://www.w3.org/2000/svg\" height=\"24px\"viewBox=\"0 0 24 24\"\n",
              "       width=\"24px\">\n",
              "    <path d=\"M0 0h24v24H0V0z\" fill=\"none\"/>\n",
              "    <path d=\"M18.56 5.44l.94 2.06.94-2.06 2.06-.94-2.06-.94-.94-2.06-.94 2.06-2.06.94zm-11 1L8.5 8.5l.94-2.06 2.06-.94-2.06-.94L8.5 2.5l-.94 2.06-2.06.94zm10 10l.94 2.06.94-2.06 2.06-.94-2.06-.94-.94-2.06-.94 2.06-2.06.94z\"/><path d=\"M17.41 7.96l-1.37-1.37c-.4-.4-.92-.59-1.43-.59-.52 0-1.04.2-1.43.59L10.3 9.45l-7.72 7.72c-.78.78-.78 2.05 0 2.83L4 21.41c.39.39.9.59 1.41.59.51 0 1.02-.2 1.41-.59l7.78-7.78 2.81-2.81c.8-.78.8-2.07 0-2.86zM5.41 20L4 18.59l7.72-7.72 1.47 1.35L5.41 20z\"/>\n",
              "  </svg>\n",
              "      </button>\n",
              "      \n",
              "  <style>\n",
              "    .colab-df-container {\n",
              "      display:flex;\n",
              "      flex-wrap:wrap;\n",
              "      gap: 12px;\n",
              "    }\n",
              "\n",
              "    .colab-df-convert {\n",
              "      background-color: #E8F0FE;\n",
              "      border: none;\n",
              "      border-radius: 50%;\n",
              "      cursor: pointer;\n",
              "      display: none;\n",
              "      fill: #1967D2;\n",
              "      height: 32px;\n",
              "      padding: 0 0 0 0;\n",
              "      width: 32px;\n",
              "    }\n",
              "\n",
              "    .colab-df-convert:hover {\n",
              "      background-color: #E2EBFA;\n",
              "      box-shadow: 0px 1px 2px rgba(60, 64, 67, 0.3), 0px 1px 3px 1px rgba(60, 64, 67, 0.15);\n",
              "      fill: #174EA6;\n",
              "    }\n",
              "\n",
              "    [theme=dark] .colab-df-convert {\n",
              "      background-color: #3B4455;\n",
              "      fill: #D2E3FC;\n",
              "    }\n",
              "\n",
              "    [theme=dark] .colab-df-convert:hover {\n",
              "      background-color: #434B5C;\n",
              "      box-shadow: 0px 1px 3px 1px rgba(0, 0, 0, 0.15);\n",
              "      filter: drop-shadow(0px 1px 2px rgba(0, 0, 0, 0.3));\n",
              "      fill: #FFFFFF;\n",
              "    }\n",
              "  </style>\n",
              "\n",
              "      <script>\n",
              "        const buttonEl =\n",
              "          document.querySelector('#df-5efebd14-71f4-4271-81f2-83503f035509 button.colab-df-convert');\n",
              "        buttonEl.style.display =\n",
              "          google.colab.kernel.accessAllowed ? 'block' : 'none';\n",
              "\n",
              "        async function convertToInteractive(key) {\n",
              "          const element = document.querySelector('#df-5efebd14-71f4-4271-81f2-83503f035509');\n",
              "          const dataTable =\n",
              "            await google.colab.kernel.invokeFunction('convertToInteractive',\n",
              "                                                     [key], {});\n",
              "          if (!dataTable) return;\n",
              "\n",
              "          const docLinkHtml = 'Like what you see? Visit the ' +\n",
              "            '<a target=\"_blank\" href=https://colab.research.google.com/notebooks/data_table.ipynb>data table notebook</a>'\n",
              "            + ' to learn more about interactive tables.';\n",
              "          element.innerHTML = '';\n",
              "          dataTable['output_type'] = 'display_data';\n",
              "          await google.colab.output.renderOutput(dataTable, element);\n",
              "          const docLink = document.createElement('div');\n",
              "          docLink.innerHTML = docLinkHtml;\n",
              "          element.appendChild(docLink);\n",
              "        }\n",
              "      </script>\n",
              "    </div>\n",
              "  </div>\n",
              "  "
            ]
          },
          "metadata": {},
          "execution_count": 114
        }
      ]
    },
    {
      "cell_type": "code",
      "source": [
        "#step2:drop the columns\n",
        "#job_new.drop(columns=['Type_of_location','Cell_Phone_Access', 'gender_of_respondent', 'Level_of_Education', 'Type_of_Job'], inplace=True)\n",
        "job_new.head(2)"
      ],
      "metadata": {
        "colab": {
          "base_uri": "https://localhost:8080/",
          "height": 240
        },
        "id": "kGkLtQC0WP-E",
        "outputId": "027374b3-d12f-475a-9e7e-23e71519df57"
      },
      "execution_count": 117,
      "outputs": [
        {
          "output_type": "execute_result",
          "data": {
            "text/plain": [
              "  Has_Bank_account  Respodent_Age  No  Yes  No  Yes  No  Yes  6  \\\n",
              "0              Yes           24.0   0    1   0    1   0    1  0   \n",
              "1               No           70.0   1    0   1    0   1    0  0   \n",
              "\n",
              "   No formal education  ...  Dont Know/Refuse to answer  Farming and Fishing  \\\n",
              "0                    0  ...                           0                    0   \n",
              "1                    1  ...                           0                    0   \n",
              "\n",
              "   Formally employed Government  Formally employed Private  \\\n",
              "0                             0                          0   \n",
              "1                             0                          0   \n",
              "\n",
              "   Government Dependent  Informally employed  No Income  Other Income  \\\n",
              "0                     0                    0          0             0   \n",
              "1                     1                    0          0             0   \n",
              "\n",
              "   Remittance Dependent  Self employed  \n",
              "0                     0              1  \n",
              "1                     0              0  \n",
              "\n",
              "[2 rows x 25 columns]"
            ],
            "text/html": [
              "\n",
              "  <div id=\"df-8a43ad75-bd52-466a-83bb-c6d3a1f52c9a\">\n",
              "    <div class=\"colab-df-container\">\n",
              "      <div>\n",
              "<style scoped>\n",
              "    .dataframe tbody tr th:only-of-type {\n",
              "        vertical-align: middle;\n",
              "    }\n",
              "\n",
              "    .dataframe tbody tr th {\n",
              "        vertical-align: top;\n",
              "    }\n",
              "\n",
              "    .dataframe thead th {\n",
              "        text-align: right;\n",
              "    }\n",
              "</style>\n",
              "<table border=\"1\" class=\"dataframe\">\n",
              "  <thead>\n",
              "    <tr style=\"text-align: right;\">\n",
              "      <th></th>\n",
              "      <th>Has_Bank_account</th>\n",
              "      <th>Respodent_Age</th>\n",
              "      <th>No</th>\n",
              "      <th>Yes</th>\n",
              "      <th>No</th>\n",
              "      <th>Yes</th>\n",
              "      <th>No</th>\n",
              "      <th>Yes</th>\n",
              "      <th>6</th>\n",
              "      <th>No formal education</th>\n",
              "      <th>...</th>\n",
              "      <th>Dont Know/Refuse to answer</th>\n",
              "      <th>Farming and Fishing</th>\n",
              "      <th>Formally employed Government</th>\n",
              "      <th>Formally employed Private</th>\n",
              "      <th>Government Dependent</th>\n",
              "      <th>Informally employed</th>\n",
              "      <th>No Income</th>\n",
              "      <th>Other Income</th>\n",
              "      <th>Remittance Dependent</th>\n",
              "      <th>Self employed</th>\n",
              "    </tr>\n",
              "  </thead>\n",
              "  <tbody>\n",
              "    <tr>\n",
              "      <th>0</th>\n",
              "      <td>Yes</td>\n",
              "      <td>24.0</td>\n",
              "      <td>0</td>\n",
              "      <td>1</td>\n",
              "      <td>0</td>\n",
              "      <td>1</td>\n",
              "      <td>0</td>\n",
              "      <td>1</td>\n",
              "      <td>0</td>\n",
              "      <td>0</td>\n",
              "      <td>...</td>\n",
              "      <td>0</td>\n",
              "      <td>0</td>\n",
              "      <td>0</td>\n",
              "      <td>0</td>\n",
              "      <td>0</td>\n",
              "      <td>0</td>\n",
              "      <td>0</td>\n",
              "      <td>0</td>\n",
              "      <td>0</td>\n",
              "      <td>1</td>\n",
              "    </tr>\n",
              "    <tr>\n",
              "      <th>1</th>\n",
              "      <td>No</td>\n",
              "      <td>70.0</td>\n",
              "      <td>1</td>\n",
              "      <td>0</td>\n",
              "      <td>1</td>\n",
              "      <td>0</td>\n",
              "      <td>1</td>\n",
              "      <td>0</td>\n",
              "      <td>0</td>\n",
              "      <td>1</td>\n",
              "      <td>...</td>\n",
              "      <td>0</td>\n",
              "      <td>0</td>\n",
              "      <td>0</td>\n",
              "      <td>0</td>\n",
              "      <td>1</td>\n",
              "      <td>0</td>\n",
              "      <td>0</td>\n",
              "      <td>0</td>\n",
              "      <td>0</td>\n",
              "      <td>0</td>\n",
              "    </tr>\n",
              "  </tbody>\n",
              "</table>\n",
              "<p>2 rows × 25 columns</p>\n",
              "</div>\n",
              "      <button class=\"colab-df-convert\" onclick=\"convertToInteractive('df-8a43ad75-bd52-466a-83bb-c6d3a1f52c9a')\"\n",
              "              title=\"Convert this dataframe to an interactive table.\"\n",
              "              style=\"display:none;\">\n",
              "        \n",
              "  <svg xmlns=\"http://www.w3.org/2000/svg\" height=\"24px\"viewBox=\"0 0 24 24\"\n",
              "       width=\"24px\">\n",
              "    <path d=\"M0 0h24v24H0V0z\" fill=\"none\"/>\n",
              "    <path d=\"M18.56 5.44l.94 2.06.94-2.06 2.06-.94-2.06-.94-.94-2.06-.94 2.06-2.06.94zm-11 1L8.5 8.5l.94-2.06 2.06-.94-2.06-.94L8.5 2.5l-.94 2.06-2.06.94zm10 10l.94 2.06.94-2.06 2.06-.94-2.06-.94-.94-2.06-.94 2.06-2.06.94z\"/><path d=\"M17.41 7.96l-1.37-1.37c-.4-.4-.92-.59-1.43-.59-.52 0-1.04.2-1.43.59L10.3 9.45l-7.72 7.72c-.78.78-.78 2.05 0 2.83L4 21.41c.39.39.9.59 1.41.59.51 0 1.02-.2 1.41-.59l7.78-7.78 2.81-2.81c.8-.78.8-2.07 0-2.86zM5.41 20L4 18.59l7.72-7.72 1.47 1.35L5.41 20z\"/>\n",
              "  </svg>\n",
              "      </button>\n",
              "      \n",
              "  <style>\n",
              "    .colab-df-container {\n",
              "      display:flex;\n",
              "      flex-wrap:wrap;\n",
              "      gap: 12px;\n",
              "    }\n",
              "\n",
              "    .colab-df-convert {\n",
              "      background-color: #E8F0FE;\n",
              "      border: none;\n",
              "      border-radius: 50%;\n",
              "      cursor: pointer;\n",
              "      display: none;\n",
              "      fill: #1967D2;\n",
              "      height: 32px;\n",
              "      padding: 0 0 0 0;\n",
              "      width: 32px;\n",
              "    }\n",
              "\n",
              "    .colab-df-convert:hover {\n",
              "      background-color: #E2EBFA;\n",
              "      box-shadow: 0px 1px 2px rgba(60, 64, 67, 0.3), 0px 1px 3px 1px rgba(60, 64, 67, 0.15);\n",
              "      fill: #174EA6;\n",
              "    }\n",
              "\n",
              "    [theme=dark] .colab-df-convert {\n",
              "      background-color: #3B4455;\n",
              "      fill: #D2E3FC;\n",
              "    }\n",
              "\n",
              "    [theme=dark] .colab-df-convert:hover {\n",
              "      background-color: #434B5C;\n",
              "      box-shadow: 0px 1px 3px 1px rgba(0, 0, 0, 0.15);\n",
              "      filter: drop-shadow(0px 1px 2px rgba(0, 0, 0, 0.3));\n",
              "      fill: #FFFFFF;\n",
              "    }\n",
              "  </style>\n",
              "\n",
              "      <script>\n",
              "        const buttonEl =\n",
              "          document.querySelector('#df-8a43ad75-bd52-466a-83bb-c6d3a1f52c9a button.colab-df-convert');\n",
              "        buttonEl.style.display =\n",
              "          google.colab.kernel.accessAllowed ? 'block' : 'none';\n",
              "\n",
              "        async function convertToInteractive(key) {\n",
              "          const element = document.querySelector('#df-8a43ad75-bd52-466a-83bb-c6d3a1f52c9a');\n",
              "          const dataTable =\n",
              "            await google.colab.kernel.invokeFunction('convertToInteractive',\n",
              "                                                     [key], {});\n",
              "          if (!dataTable) return;\n",
              "\n",
              "          const docLinkHtml = 'Like what you see? Visit the ' +\n",
              "            '<a target=\"_blank\" href=https://colab.research.google.com/notebooks/data_table.ipynb>data table notebook</a>'\n",
              "            + ' to learn more about interactive tables.';\n",
              "          element.innerHTML = '';\n",
              "          dataTable['output_type'] = 'display_data';\n",
              "          await google.colab.output.renderOutput(dataTable, element);\n",
              "          const docLink = document.createElement('div');\n",
              "          docLink.innerHTML = docLinkHtml;\n",
              "          element.appendChild(docLink);\n",
              "        }\n",
              "      </script>\n",
              "    </div>\n",
              "  </div>\n",
              "  "
            ]
          },
          "metadata": {},
          "execution_count": 117
        }
      ]
    },
    {
      "cell_type": "code",
      "source": [
        "#performing pca analysis\n",
        "#step3; reprocessing\n",
        "X=job_new.drop('Has_Bank_account', 1)\n",
        "y=job_new['Has_Bank_account']\n"
      ],
      "metadata": {
        "colab": {
          "base_uri": "https://localhost:8080/"
        },
        "id": "eU0DcYNHXII5",
        "outputId": "e971414c-dd25-4b6e-a722-18d3e00abf09"
      },
      "execution_count": 122,
      "outputs": [
        {
          "output_type": "stream",
          "name": "stderr",
          "text": [
            "/usr/local/lib/python3.7/dist-packages/ipykernel_launcher.py:3: FutureWarning: In a future version of pandas all arguments of DataFrame.drop except for the argument 'labels' will be keyword-only\n",
            "  This is separate from the ipykernel package so we can avoid doing imports until\n"
          ]
        }
      ]
    },
    {
      "cell_type": "code",
      "source": [
        "#step4\n",
        "#splitting the dataset into training set and test set\n",
        "#\n",
        "from sklearn.model_selection import train_test_split\n",
        "X_train, X_test, y_train, y_test = train_test_split(X, y, test_size=0.2, random_state=0)"
      ],
      "metadata": {
        "id": "EEGDLmjiY3aI"
      },
      "execution_count": 123,
      "outputs": []
    },
    {
      "cell_type": "code",
      "source": [
        "#step5: Normalization\n",
        "from sklearn.preprocessing import StandardScaler\n",
        "\n",
        "sc = StandardScaler()\n",
        "X_train = sc.fit_transform(X_train)\n",
        "X_test = sc.transform(X_test)"
      ],
      "metadata": {
        "id": "Jw1QgnHraFL5"
      },
      "execution_count": 124,
      "outputs": []
    },
    {
      "cell_type": "code",
      "source": [
        "#step6: applying pca\n",
        "from sklearn.decomposition import PCA\n",
        "\n",
        "pca = PCA()\n",
        "X_train = pca.fit_transform(X_train)\n",
        "X_test = pca.transform(X_test)"
      ],
      "metadata": {
        "id": "wfq1GdXxaZFE"
      },
      "execution_count": 125,
      "outputs": []
    },
    {
      "cell_type": "code",
      "source": [
        "#step7:Explained variance ratio\n",
        "explained_variance = pca.explained_variance_ratio_\n",
        "explained_variance"
      ],
      "metadata": {
        "colab": {
          "base_uri": "https://localhost:8080/"
        },
        "id": "tdM_pW_IaqkV",
        "outputId": "71b764c7-f003-4e2d-c595-c8e432b4144f"
      },
      "execution_count": 127,
      "outputs": [
        {
          "output_type": "execute_result",
          "data": {
            "text/plain": [
              "array([2.57116402e-01, 7.51754923e-02, 7.04372446e-02, 5.72258081e-02,\n",
              "       5.43630098e-02, 4.97747304e-02, 4.46238282e-02, 4.46068791e-02,\n",
              "       4.36294692e-02, 4.32160233e-02, 4.23182157e-02, 4.18689325e-02,\n",
              "       4.08010844e-02, 4.07616034e-02, 3.95573409e-02, 2.99470618e-02,\n",
              "       2.42898662e-02, 1.55326056e-04, 1.31682201e-04, 1.52802854e-32,\n",
              "       7.72547607e-33, 8.38797788e-34, 3.29570436e-34, 4.90547675e-35])"
            ]
          },
          "metadata": {},
          "execution_count": 127
        }
      ]
    },
    {
      "cell_type": "code",
      "source": [
        "#step:8 using one principal component\n",
        "from sklearn.decomposition import PCA\n",
        "\n",
        "pca = PCA(n_components=1)\n",
        "X_train = pca.fit_transform(X_train)\n",
        "X_test = pca.transform(X_test)\n"
      ],
      "metadata": {
        "id": "zg9JB4kya43V"
      },
      "execution_count": 128,
      "outputs": []
    },
    {
      "cell_type": "code",
      "source": [
        "#step9: Training and making prediction\n",
        "from sklearn.ensemble import RandomForestClassifier\n",
        "\n",
        "classifier = RandomForestClassifier(max_depth=2, random_state=0)\n",
        "classifier.fit(X_train, y_train)\n",
        "\n",
        "# Predicting the Test set results\n",
        "y_pred = classifier.predict(X_test)"
      ],
      "metadata": {
        "id": "M3WyzYTHbe78"
      },
      "execution_count": 131,
      "outputs": []
    },
    {
      "cell_type": "code",
      "source": [
        "#step: 10 performance evaluation\n",
        "from sklearn.metrics import confusion_matrix\n",
        "from sklearn.metrics import accuracy_score\n",
        "\n",
        "cm = confusion_matrix(y_test, y_pred)\n",
        "print(cm)\n",
        "print('Accuracy' , accuracy_score(y_test, y_pred))"
      ],
      "metadata": {
        "id": "Q1MjRW6IcHRH"
      },
      "execution_count": 134,
      "outputs": []
    },
    {
      "cell_type": "code",
      "source": [
        "#step;11\n",
        "from sklearn.decomposition import PCA\n",
        "\n",
        "pca = PCA(n_components=2)\n",
        "X_train = pca.fit_transform(X_train)\n",
        "X_test = pca.transform(X_test)\n"
      ],
      "metadata": {
        "id": "mcKEOApUcyFk"
      },
      "execution_count": 136,
      "outputs": []
    },
    {
      "cell_type": "code",
      "source": [
        "#step:12\n",
        "X_train, X_test, y_train, y_test = train_test_split(X, y, test_size=0.2, random_state=0)\n",
        "\n",
        "sc = StandardScaler()\n",
        "X_train = sc.fit_transform(X_train)\n",
        "X_test = sc.transform(X_test)\n",
        "\n",
        "pca = PCA(n_components=3)\n",
        "X_train = pca.fit_transform(X_train)\n",
        "X_test = pca.transform(X_test)\n",
        "\n",
        "# With three principal components the classification accuracy should again increase to 93.33%\n",
        "classifier = RandomForestClassifier(max_depth=2, random_state=0)\n",
        "classifier.fit(X_train, y_train)\n"
      ],
      "metadata": {
        "id": "67Ez4yVZdKSk"
      },
      "execution_count": 138,
      "outputs": []
    },
    {
      "cell_type": "code",
      "source": [
        "#step13:# Predicting the Test set results\n",
        "y_pred = classifier.predict(X_test)\n",
        "\n",
        "cm = confusion_matrix(y_test, y_pred)\n",
        "print(cm)\n",
        "print('Accuracy' , accuracy_score(y_test, y_pred))"
      ],
      "metadata": {
        "id": "Ale_BGvUdeNj"
      },
      "execution_count": 140,
      "outputs": []
    },
    {
      "cell_type": "markdown",
      "source": [
        "**4 Challenging The Solution**"
      ],
      "metadata": {
        "id": "dXLEQV2WfSWV"
      }
    },
    {
      "cell_type": "markdown",
      "source": [
        "Even though i have manage to get nice answers from the univariate, bivariate and multivariate part. but i still challenge these answers since according to my own observations and conclusions the answer should not hold in particular under the bivariate part. This is because the data availlable were categorical data except one on the age column which makes it much difficult to perform bivariate analysis and the multivariate anlysis directly without converting it to Numerics."
      ],
      "metadata": {
        "id": "Dj62tS9BfuBI"
      }
    },
    {
      "cell_type": "markdown",
      "source": [
        "**5 Follow up Questions**"
      ],
      "metadata": {
        "id": "dMXa2EU6hLWF"
      }
    },
    {
      "cell_type": "markdown",
      "source": [
        "a) Did we had the right data?\n",
        "\n",
        "No, using the provided dataset it was much difficult to perform bivariate and multivariate analysis, due to the non numeric categorical data type\n",
        "\n",
        "b)Do We Need Another Data To Answer The Question\n",
        "\n",
        "Yes another dataset is needed to answer the bivariate and multivariate part properly.\n",
        "\n",
        "c) Do We Have The Right question\n",
        "\n",
        "Yes the question is right, the problem is the dataset.\n"
      ],
      "metadata": {
        "id": "kgWYajYahWRD"
      }
    }
  ]
}