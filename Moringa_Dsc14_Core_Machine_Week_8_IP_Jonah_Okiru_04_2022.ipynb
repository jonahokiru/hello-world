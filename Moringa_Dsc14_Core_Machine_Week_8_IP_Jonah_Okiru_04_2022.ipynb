{
  "cells": [
    {
      "cell_type": "markdown",
      "metadata": {
        "id": "view-in-github",
        "colab_type": "text"
      },
      "source": [
        "<a href=\"https://colab.research.google.com/github/jonahokiru/hello-world/blob/master/Moringa_Dsc14_Core_Machine_Week_8_IP_Jonah_Okiru_04_2022.ipynb\" target=\"_parent\"><img src=\"https://colab.research.google.com/assets/colab-badge.svg\" alt=\"Open In Colab\"/></a>"
      ]
    },
    {
      "cell_type": "markdown",
      "metadata": {
        "id": "4HCm30S-NLuX"
      },
      "source": [
        "# 1. Define the question"
      ]
    },
    {
      "cell_type": "markdown",
      "metadata": {
        "id": "FvD0UVUqNY4J"
      },
      "source": [
        "## a) specifying the question.\n",
        "\n",
        "Use the data collected by the Nairobi hospital on the hypothroid patients, to build a model that determines if the patient symptoms indicates whether the patient has hypothroid or not."
      ]
    },
    {
      "cell_type": "markdown",
      "metadata": {
        "id": "pMqn1_4VPuN8"
      },
      "source": [
        "## b) The metric of success.\n",
        "\n",
        "The model should be in position to determine if the patient has hypothroid or not with the accuracy score of 70%."
      ]
    },
    {
      "cell_type": "markdown",
      "metadata": {
        "id": "ZLrt-CPaQ4BD"
      },
      "source": [
        "## c) Understanding the contest.\n",
        "\n",
        "Nairobi hospital is  a hosiptal in based in Nairobi kenya. The hospital deals with the patients suffering from various types of diseases ranging from acute to chronic. In order to determine the type of disease the patient suffers from the hospital uses the patients symptoms."
      ]
    },
    {
      "cell_type": "markdown",
      "metadata": {
        "id": "HpdslE3SS1ku"
      },
      "source": [
        "## d) Recording the experimental design.\n",
        "\n",
        "Hypothesis: To determine if the detection of hypothroid in patients  is dependent on the symptoms exhibit by the patients.\n",
        "\n",
        "X-axis: AgeSex, on_thyroxine, query_on_thyroxine\n",
        "on_antithyroid_medicationthyroid_surgery, query_hypothyroid, query_hyperthyroid, pregnant, sick, tumor, lithium, goitre, TSH_measured, TSH,T3_measured, T3, TT4_measured, TT4.\n",
        "\n",
        "Y-axis: Status.\n",
        "\n",
        "Experimental set up: I hypothesize the status of hypothroid based on the features stated on the X- axis.\n",
        "\n",
        "Design of the experiment: Analyze the symptoms of 3164 patients."
      ]
    },
    {
      "cell_type": "markdown",
      "metadata": {
        "id": "LksAMTQbZoD5"
      },
      "source": [
        "# 2. Reading the data."
      ]
    },
    {
      "cell_type": "markdown",
      "metadata": {
        "id": "fRrpWF2tac-C"
      },
      "source": [
        "## a) Import the libraries."
      ]
    },
    {
      "cell_type": "code",
      "execution_count": 1,
      "metadata": {
        "id": "7GCw60Pyaofq"
      },
      "outputs": [],
      "source": [
        "import numpy as np\n",
        "import pandas as pd\n",
        "from sklearn.model_selection import train_test_split\n",
        "from sklearn.ensemble import RandomForestRegressor\n",
        "from sklearn import metrics\n",
        "import six\n",
        "import sys\n",
        "sys.modules['sklearn.externals.six'] = six\n",
        "from sklearn.tree import export_graphviz\n",
        "from sklearn.externals.six import StringIO  \n",
        "from IPython.display import Image  \n",
        "import pydotplus\n",
        "import matplotlib.pyplot as plt\n",
        "from sklearn.preprocessing import LabelEncoder\n",
        "labelencoder = LabelEncoder()\n",
        "import seaborn as sns; sns.set(font_scale=1.2)\n",
        "from sklearn.svm import SVC\n",
        "from sklearn.decomposition import PCA\n",
        "from sklearn.model_selection import train_test_split\n",
        "from sklearn.metrics import confusion_matrix,accuracy_score\n",
        "from sklearn.ensemble import AdaBoostClassifier\n",
        "from sklearn.tree import DecisionTreeClassifier\n",
        "from sklearn.datasets import load_breast_cancer\n",
        "from sklearn.metrics import confusion_matrix\n",
        "from sklearn.ensemble import GradientBoostingClassifier"
      ]
    },
    {
      "cell_type": "markdown",
      "metadata": {
        "id": "EgC7oKVeeY_-"
      },
      "source": [
        "## b) Loading Data."
      ]
    },
    {
      "cell_type": "code",
      "execution_count": 2,
      "metadata": {
        "id": "BobrNoyueh0E"
      },
      "outputs": [],
      "source": [
        "hypothroid = pd.read_csv('http://bit.ly/hypothyroid_data')"
      ]
    },
    {
      "cell_type": "markdown",
      "metadata": {
        "id": "cdiYHck5fEg0"
      },
      "source": [
        "## c) Checking the data."
      ]
    },
    {
      "cell_type": "code",
      "execution_count": 3,
      "metadata": {
        "colab": {
          "base_uri": "https://localhost:8080/"
        },
        "id": "o69RH87NfI2x",
        "outputId": "10b03197-b554-42d3-e3f5-6d03cfd8403b"
      },
      "outputs": [
        {
          "output_type": "execute_result",
          "data": {
            "text/plain": [
              "(3163, 26)"
            ]
          },
          "metadata": {},
          "execution_count": 3
        }
      ],
      "source": [
        "#Check the number of record in the dataset\n",
        "hypothroid.shape"
      ]
    },
    {
      "cell_type": "code",
      "execution_count": 4,
      "metadata": {
        "colab": {
          "base_uri": "https://localhost:8080/",
          "height": 205
        },
        "id": "IG-LRj6yffJZ",
        "outputId": "d243ec94-f7d8-4f00-959e-d68fc66f299d"
      },
      "outputs": [
        {
          "output_type": "execute_result",
          "data": {
            "text/plain": [
              "        status age sex on_thyroxine query_on_thyroxine  \\\n",
              "0  hypothyroid  72   M            f                  f   \n",
              "1  hypothyroid  15   F            t                  f   \n",
              "\n",
              "  on_antithyroid_medication thyroid_surgery query_hypothyroid  \\\n",
              "0                         f               f                 f   \n",
              "1                         f               f                 f   \n",
              "\n",
              "  query_hyperthyroid pregnant  ... T3_measured    T3 TT4_measured TT4  \\\n",
              "0                  f        f  ...           y  0.60            y  15   \n",
              "1                  f        f  ...           y  1.70            y  19   \n",
              "\n",
              "  T4U_measured   T4U FTI_measured FTI TBG_measured TBG  \n",
              "0            y  1.48            y  10            n   ?  \n",
              "1            y  1.13            y  17            n   ?  \n",
              "\n",
              "[2 rows x 26 columns]"
            ],
            "text/html": [
              "\n",
              "  <div id=\"df-c255eef3-3f9e-431a-9495-9d06534a0d22\">\n",
              "    <div class=\"colab-df-container\">\n",
              "      <div>\n",
              "<style scoped>\n",
              "    .dataframe tbody tr th:only-of-type {\n",
              "        vertical-align: middle;\n",
              "    }\n",
              "\n",
              "    .dataframe tbody tr th {\n",
              "        vertical-align: top;\n",
              "    }\n",
              "\n",
              "    .dataframe thead th {\n",
              "        text-align: right;\n",
              "    }\n",
              "</style>\n",
              "<table border=\"1\" class=\"dataframe\">\n",
              "  <thead>\n",
              "    <tr style=\"text-align: right;\">\n",
              "      <th></th>\n",
              "      <th>status</th>\n",
              "      <th>age</th>\n",
              "      <th>sex</th>\n",
              "      <th>on_thyroxine</th>\n",
              "      <th>query_on_thyroxine</th>\n",
              "      <th>on_antithyroid_medication</th>\n",
              "      <th>thyroid_surgery</th>\n",
              "      <th>query_hypothyroid</th>\n",
              "      <th>query_hyperthyroid</th>\n",
              "      <th>pregnant</th>\n",
              "      <th>...</th>\n",
              "      <th>T3_measured</th>\n",
              "      <th>T3</th>\n",
              "      <th>TT4_measured</th>\n",
              "      <th>TT4</th>\n",
              "      <th>T4U_measured</th>\n",
              "      <th>T4U</th>\n",
              "      <th>FTI_measured</th>\n",
              "      <th>FTI</th>\n",
              "      <th>TBG_measured</th>\n",
              "      <th>TBG</th>\n",
              "    </tr>\n",
              "  </thead>\n",
              "  <tbody>\n",
              "    <tr>\n",
              "      <th>0</th>\n",
              "      <td>hypothyroid</td>\n",
              "      <td>72</td>\n",
              "      <td>M</td>\n",
              "      <td>f</td>\n",
              "      <td>f</td>\n",
              "      <td>f</td>\n",
              "      <td>f</td>\n",
              "      <td>f</td>\n",
              "      <td>f</td>\n",
              "      <td>f</td>\n",
              "      <td>...</td>\n",
              "      <td>y</td>\n",
              "      <td>0.60</td>\n",
              "      <td>y</td>\n",
              "      <td>15</td>\n",
              "      <td>y</td>\n",
              "      <td>1.48</td>\n",
              "      <td>y</td>\n",
              "      <td>10</td>\n",
              "      <td>n</td>\n",
              "      <td>?</td>\n",
              "    </tr>\n",
              "    <tr>\n",
              "      <th>1</th>\n",
              "      <td>hypothyroid</td>\n",
              "      <td>15</td>\n",
              "      <td>F</td>\n",
              "      <td>t</td>\n",
              "      <td>f</td>\n",
              "      <td>f</td>\n",
              "      <td>f</td>\n",
              "      <td>f</td>\n",
              "      <td>f</td>\n",
              "      <td>f</td>\n",
              "      <td>...</td>\n",
              "      <td>y</td>\n",
              "      <td>1.70</td>\n",
              "      <td>y</td>\n",
              "      <td>19</td>\n",
              "      <td>y</td>\n",
              "      <td>1.13</td>\n",
              "      <td>y</td>\n",
              "      <td>17</td>\n",
              "      <td>n</td>\n",
              "      <td>?</td>\n",
              "    </tr>\n",
              "  </tbody>\n",
              "</table>\n",
              "<p>2 rows × 26 columns</p>\n",
              "</div>\n",
              "      <button class=\"colab-df-convert\" onclick=\"convertToInteractive('df-c255eef3-3f9e-431a-9495-9d06534a0d22')\"\n",
              "              title=\"Convert this dataframe to an interactive table.\"\n",
              "              style=\"display:none;\">\n",
              "        \n",
              "  <svg xmlns=\"http://www.w3.org/2000/svg\" height=\"24px\"viewBox=\"0 0 24 24\"\n",
              "       width=\"24px\">\n",
              "    <path d=\"M0 0h24v24H0V0z\" fill=\"none\"/>\n",
              "    <path d=\"M18.56 5.44l.94 2.06.94-2.06 2.06-.94-2.06-.94-.94-2.06-.94 2.06-2.06.94zm-11 1L8.5 8.5l.94-2.06 2.06-.94-2.06-.94L8.5 2.5l-.94 2.06-2.06.94zm10 10l.94 2.06.94-2.06 2.06-.94-2.06-.94-.94-2.06-.94 2.06-2.06.94z\"/><path d=\"M17.41 7.96l-1.37-1.37c-.4-.4-.92-.59-1.43-.59-.52 0-1.04.2-1.43.59L10.3 9.45l-7.72 7.72c-.78.78-.78 2.05 0 2.83L4 21.41c.39.39.9.59 1.41.59.51 0 1.02-.2 1.41-.59l7.78-7.78 2.81-2.81c.8-.78.8-2.07 0-2.86zM5.41 20L4 18.59l7.72-7.72 1.47 1.35L5.41 20z\"/>\n",
              "  </svg>\n",
              "      </button>\n",
              "      \n",
              "  <style>\n",
              "    .colab-df-container {\n",
              "      display:flex;\n",
              "      flex-wrap:wrap;\n",
              "      gap: 12px;\n",
              "    }\n",
              "\n",
              "    .colab-df-convert {\n",
              "      background-color: #E8F0FE;\n",
              "      border: none;\n",
              "      border-radius: 50%;\n",
              "      cursor: pointer;\n",
              "      display: none;\n",
              "      fill: #1967D2;\n",
              "      height: 32px;\n",
              "      padding: 0 0 0 0;\n",
              "      width: 32px;\n",
              "    }\n",
              "\n",
              "    .colab-df-convert:hover {\n",
              "      background-color: #E2EBFA;\n",
              "      box-shadow: 0px 1px 2px rgba(60, 64, 67, 0.3), 0px 1px 3px 1px rgba(60, 64, 67, 0.15);\n",
              "      fill: #174EA6;\n",
              "    }\n",
              "\n",
              "    [theme=dark] .colab-df-convert {\n",
              "      background-color: #3B4455;\n",
              "      fill: #D2E3FC;\n",
              "    }\n",
              "\n",
              "    [theme=dark] .colab-df-convert:hover {\n",
              "      background-color: #434B5C;\n",
              "      box-shadow: 0px 1px 3px 1px rgba(0, 0, 0, 0.15);\n",
              "      filter: drop-shadow(0px 1px 2px rgba(0, 0, 0, 0.3));\n",
              "      fill: #FFFFFF;\n",
              "    }\n",
              "  </style>\n",
              "\n",
              "      <script>\n",
              "        const buttonEl =\n",
              "          document.querySelector('#df-c255eef3-3f9e-431a-9495-9d06534a0d22 button.colab-df-convert');\n",
              "        buttonEl.style.display =\n",
              "          google.colab.kernel.accessAllowed ? 'block' : 'none';\n",
              "\n",
              "        async function convertToInteractive(key) {\n",
              "          const element = document.querySelector('#df-c255eef3-3f9e-431a-9495-9d06534a0d22');\n",
              "          const dataTable =\n",
              "            await google.colab.kernel.invokeFunction('convertToInteractive',\n",
              "                                                     [key], {});\n",
              "          if (!dataTable) return;\n",
              "\n",
              "          const docLinkHtml = 'Like what you see? Visit the ' +\n",
              "            '<a target=\"_blank\" href=https://colab.research.google.com/notebooks/data_table.ipynb>data table notebook</a>'\n",
              "            + ' to learn more about interactive tables.';\n",
              "          element.innerHTML = '';\n",
              "          dataTable['output_type'] = 'display_data';\n",
              "          await google.colab.output.renderOutput(dataTable, element);\n",
              "          const docLink = document.createElement('div');\n",
              "          docLink.innerHTML = docLinkHtml;\n",
              "          element.appendChild(docLink);\n",
              "        }\n",
              "      </script>\n",
              "    </div>\n",
              "  </div>\n",
              "  "
            ]
          },
          "metadata": {},
          "execution_count": 4
        }
      ],
      "source": [
        "#Preview the top of the dataset\n",
        "hypothroid.head(2)"
      ]
    },
    {
      "cell_type": "code",
      "execution_count": 5,
      "metadata": {
        "colab": {
          "base_uri": "https://localhost:8080/",
          "height": 205
        },
        "id": "HFPznE8rjXog",
        "outputId": "13ff9092-a703-4ef9-a3c2-306a58c94ac4"
      },
      "outputs": [
        {
          "output_type": "execute_result",
          "data": {
            "text/plain": [
              "        status age sex on_thyroxine query_on_thyroxine  \\\n",
              "3161  negative  74   F            f                  f   \n",
              "3162  negative  56   F            t                  f   \n",
              "\n",
              "     on_antithyroid_medication thyroid_surgery query_hypothyroid  \\\n",
              "3161                         f               f                 f   \n",
              "3162                         f               f                 f   \n",
              "\n",
              "     query_hyperthyroid pregnant  ... T3_measured    T3 TT4_measured  TT4  \\\n",
              "3161                  f        f  ...           y  0.10            y   65   \n",
              "3162                  f        f  ...           y  1.80            y  139   \n",
              "\n",
              "     T4U_measured   T4U FTI_measured  FTI TBG_measured TBG  \n",
              "3161            y  0.48            y  137            n   ?  \n",
              "3162            y  0.97            y  143            n   ?  \n",
              "\n",
              "[2 rows x 26 columns]"
            ],
            "text/html": [
              "\n",
              "  <div id=\"df-d3912286-01ab-4a9c-9bd5-b4621aa2909e\">\n",
              "    <div class=\"colab-df-container\">\n",
              "      <div>\n",
              "<style scoped>\n",
              "    .dataframe tbody tr th:only-of-type {\n",
              "        vertical-align: middle;\n",
              "    }\n",
              "\n",
              "    .dataframe tbody tr th {\n",
              "        vertical-align: top;\n",
              "    }\n",
              "\n",
              "    .dataframe thead th {\n",
              "        text-align: right;\n",
              "    }\n",
              "</style>\n",
              "<table border=\"1\" class=\"dataframe\">\n",
              "  <thead>\n",
              "    <tr style=\"text-align: right;\">\n",
              "      <th></th>\n",
              "      <th>status</th>\n",
              "      <th>age</th>\n",
              "      <th>sex</th>\n",
              "      <th>on_thyroxine</th>\n",
              "      <th>query_on_thyroxine</th>\n",
              "      <th>on_antithyroid_medication</th>\n",
              "      <th>thyroid_surgery</th>\n",
              "      <th>query_hypothyroid</th>\n",
              "      <th>query_hyperthyroid</th>\n",
              "      <th>pregnant</th>\n",
              "      <th>...</th>\n",
              "      <th>T3_measured</th>\n",
              "      <th>T3</th>\n",
              "      <th>TT4_measured</th>\n",
              "      <th>TT4</th>\n",
              "      <th>T4U_measured</th>\n",
              "      <th>T4U</th>\n",
              "      <th>FTI_measured</th>\n",
              "      <th>FTI</th>\n",
              "      <th>TBG_measured</th>\n",
              "      <th>TBG</th>\n",
              "    </tr>\n",
              "  </thead>\n",
              "  <tbody>\n",
              "    <tr>\n",
              "      <th>3161</th>\n",
              "      <td>negative</td>\n",
              "      <td>74</td>\n",
              "      <td>F</td>\n",
              "      <td>f</td>\n",
              "      <td>f</td>\n",
              "      <td>f</td>\n",
              "      <td>f</td>\n",
              "      <td>f</td>\n",
              "      <td>f</td>\n",
              "      <td>f</td>\n",
              "      <td>...</td>\n",
              "      <td>y</td>\n",
              "      <td>0.10</td>\n",
              "      <td>y</td>\n",
              "      <td>65</td>\n",
              "      <td>y</td>\n",
              "      <td>0.48</td>\n",
              "      <td>y</td>\n",
              "      <td>137</td>\n",
              "      <td>n</td>\n",
              "      <td>?</td>\n",
              "    </tr>\n",
              "    <tr>\n",
              "      <th>3162</th>\n",
              "      <td>negative</td>\n",
              "      <td>56</td>\n",
              "      <td>F</td>\n",
              "      <td>t</td>\n",
              "      <td>f</td>\n",
              "      <td>f</td>\n",
              "      <td>f</td>\n",
              "      <td>f</td>\n",
              "      <td>f</td>\n",
              "      <td>f</td>\n",
              "      <td>...</td>\n",
              "      <td>y</td>\n",
              "      <td>1.80</td>\n",
              "      <td>y</td>\n",
              "      <td>139</td>\n",
              "      <td>y</td>\n",
              "      <td>0.97</td>\n",
              "      <td>y</td>\n",
              "      <td>143</td>\n",
              "      <td>n</td>\n",
              "      <td>?</td>\n",
              "    </tr>\n",
              "  </tbody>\n",
              "</table>\n",
              "<p>2 rows × 26 columns</p>\n",
              "</div>\n",
              "      <button class=\"colab-df-convert\" onclick=\"convertToInteractive('df-d3912286-01ab-4a9c-9bd5-b4621aa2909e')\"\n",
              "              title=\"Convert this dataframe to an interactive table.\"\n",
              "              style=\"display:none;\">\n",
              "        \n",
              "  <svg xmlns=\"http://www.w3.org/2000/svg\" height=\"24px\"viewBox=\"0 0 24 24\"\n",
              "       width=\"24px\">\n",
              "    <path d=\"M0 0h24v24H0V0z\" fill=\"none\"/>\n",
              "    <path d=\"M18.56 5.44l.94 2.06.94-2.06 2.06-.94-2.06-.94-.94-2.06-.94 2.06-2.06.94zm-11 1L8.5 8.5l.94-2.06 2.06-.94-2.06-.94L8.5 2.5l-.94 2.06-2.06.94zm10 10l.94 2.06.94-2.06 2.06-.94-2.06-.94-.94-2.06-.94 2.06-2.06.94z\"/><path d=\"M17.41 7.96l-1.37-1.37c-.4-.4-.92-.59-1.43-.59-.52 0-1.04.2-1.43.59L10.3 9.45l-7.72 7.72c-.78.78-.78 2.05 0 2.83L4 21.41c.39.39.9.59 1.41.59.51 0 1.02-.2 1.41-.59l7.78-7.78 2.81-2.81c.8-.78.8-2.07 0-2.86zM5.41 20L4 18.59l7.72-7.72 1.47 1.35L5.41 20z\"/>\n",
              "  </svg>\n",
              "      </button>\n",
              "      \n",
              "  <style>\n",
              "    .colab-df-container {\n",
              "      display:flex;\n",
              "      flex-wrap:wrap;\n",
              "      gap: 12px;\n",
              "    }\n",
              "\n",
              "    .colab-df-convert {\n",
              "      background-color: #E8F0FE;\n",
              "      border: none;\n",
              "      border-radius: 50%;\n",
              "      cursor: pointer;\n",
              "      display: none;\n",
              "      fill: #1967D2;\n",
              "      height: 32px;\n",
              "      padding: 0 0 0 0;\n",
              "      width: 32px;\n",
              "    }\n",
              "\n",
              "    .colab-df-convert:hover {\n",
              "      background-color: #E2EBFA;\n",
              "      box-shadow: 0px 1px 2px rgba(60, 64, 67, 0.3), 0px 1px 3px 1px rgba(60, 64, 67, 0.15);\n",
              "      fill: #174EA6;\n",
              "    }\n",
              "\n",
              "    [theme=dark] .colab-df-convert {\n",
              "      background-color: #3B4455;\n",
              "      fill: #D2E3FC;\n",
              "    }\n",
              "\n",
              "    [theme=dark] .colab-df-convert:hover {\n",
              "      background-color: #434B5C;\n",
              "      box-shadow: 0px 1px 3px 1px rgba(0, 0, 0, 0.15);\n",
              "      filter: drop-shadow(0px 1px 2px rgba(0, 0, 0, 0.3));\n",
              "      fill: #FFFFFF;\n",
              "    }\n",
              "  </style>\n",
              "\n",
              "      <script>\n",
              "        const buttonEl =\n",
              "          document.querySelector('#df-d3912286-01ab-4a9c-9bd5-b4621aa2909e button.colab-df-convert');\n",
              "        buttonEl.style.display =\n",
              "          google.colab.kernel.accessAllowed ? 'block' : 'none';\n",
              "\n",
              "        async function convertToInteractive(key) {\n",
              "          const element = document.querySelector('#df-d3912286-01ab-4a9c-9bd5-b4621aa2909e');\n",
              "          const dataTable =\n",
              "            await google.colab.kernel.invokeFunction('convertToInteractive',\n",
              "                                                     [key], {});\n",
              "          if (!dataTable) return;\n",
              "\n",
              "          const docLinkHtml = 'Like what you see? Visit the ' +\n",
              "            '<a target=\"_blank\" href=https://colab.research.google.com/notebooks/data_table.ipynb>data table notebook</a>'\n",
              "            + ' to learn more about interactive tables.';\n",
              "          element.innerHTML = '';\n",
              "          dataTable['output_type'] = 'display_data';\n",
              "          await google.colab.output.renderOutput(dataTable, element);\n",
              "          const docLink = document.createElement('div');\n",
              "          docLink.innerHTML = docLinkHtml;\n",
              "          element.appendChild(docLink);\n",
              "        }\n",
              "      </script>\n",
              "    </div>\n",
              "  </div>\n",
              "  "
            ]
          },
          "metadata": {},
          "execution_count": 5
        }
      ],
      "source": [
        "#preview the bottom of the datasets\n",
        "hypothroid.tail(2)"
      ]
    },
    {
      "cell_type": "code",
      "execution_count": 6,
      "metadata": {
        "colab": {
          "base_uri": "https://localhost:8080/"
        },
        "id": "-4C8KX5rjqLi",
        "outputId": "503c476e-c6bb-4fed-d94b-3a52ced9c9fc"
      },
      "outputs": [
        {
          "output_type": "stream",
          "name": "stdout",
          "text": [
            "<class 'pandas.core.frame.DataFrame'>\n",
            "RangeIndex: 3163 entries, 0 to 3162\n",
            "Data columns (total 26 columns):\n",
            " #   Column                     Non-Null Count  Dtype \n",
            "---  ------                     --------------  ----- \n",
            " 0   status                     3163 non-null   object\n",
            " 1   age                        3163 non-null   object\n",
            " 2   sex                        3163 non-null   object\n",
            " 3   on_thyroxine               3163 non-null   object\n",
            " 4   query_on_thyroxine         3163 non-null   object\n",
            " 5   on_antithyroid_medication  3163 non-null   object\n",
            " 6   thyroid_surgery            3163 non-null   object\n",
            " 7   query_hypothyroid          3163 non-null   object\n",
            " 8   query_hyperthyroid         3163 non-null   object\n",
            " 9   pregnant                   3163 non-null   object\n",
            " 10  sick                       3163 non-null   object\n",
            " 11  tumor                      3163 non-null   object\n",
            " 12  lithium                    3163 non-null   object\n",
            " 13  goitre                     3163 non-null   object\n",
            " 14  TSH_measured               3163 non-null   object\n",
            " 15  TSH                        3163 non-null   object\n",
            " 16  T3_measured                3163 non-null   object\n",
            " 17  T3                         3163 non-null   object\n",
            " 18  TT4_measured               3163 non-null   object\n",
            " 19  TT4                        3163 non-null   object\n",
            " 20  T4U_measured               3163 non-null   object\n",
            " 21  T4U                        3163 non-null   object\n",
            " 22  FTI_measured               3163 non-null   object\n",
            " 23  FTI                        3163 non-null   object\n",
            " 24  TBG_measured               3163 non-null   object\n",
            " 25  TBG                        3163 non-null   object\n",
            "dtypes: object(26)\n",
            "memory usage: 642.6+ KB\n"
          ]
        }
      ],
      "source": [
        "#Check the column of the data\n",
        "hypothroid.info()"
      ]
    },
    {
      "cell_type": "code",
      "execution_count": 7,
      "metadata": {
        "colab": {
          "base_uri": "https://localhost:8080/"
        },
        "id": "8cxmO0A9kKQ2",
        "outputId": "1e849a6f-0a29-4d17-dd45-1bb6f98c9c3c"
      },
      "outputs": [
        {
          "output_type": "execute_result",
          "data": {
            "text/plain": [
              "Index(['status', 'age', 'sex', 'on_thyroxine', 'query_on_thyroxine',\n",
              "       'on_antithyroid_medication', 'thyroid_surgery', 'query_hypothyroid',\n",
              "       'query_hyperthyroid', 'pregnant', 'sick', 'tumor', 'lithium', 'goitre',\n",
              "       'TSH_measured', 'TSH', 'T3_measured', 'T3', 'TT4_measured', 'TT4',\n",
              "       'T4U_measured', 'T4U', 'FTI_measured', 'FTI', 'TBG_measured', 'TBG'],\n",
              "      dtype='object')"
            ]
          },
          "metadata": {},
          "execution_count": 7
        }
      ],
      "source": [
        "#Check the columns name of the data\n",
        "hypothroid.columns"
      ]
    },
    {
      "cell_type": "markdown",
      "metadata": {
        "id": "rHBcIIhAlFBQ"
      },
      "source": [
        "# 3. External data validation."
      ]
    },
    {
      "cell_type": "markdown",
      "metadata": {
        "id": "FReMZ57VnGoQ"
      },
      "source": [
        "## a) Validation [Hypothroid Symptoms](https://www.mayoclinic.org/diseases-conditions/hypothyroidism/symptoms-causes/syc-20350284)"
      ]
    },
    {
      "cell_type": "markdown",
      "metadata": {
        "id": "pTCX42OnoH01"
      },
      "source": [
        "# 4. Tidying the dataset."
      ]
    },
    {
      "cell_type": "code",
      "execution_count": 8,
      "metadata": {
        "colab": {
          "base_uri": "https://localhost:8080/"
        },
        "id": "FQ8Co9rxOueJ",
        "outputId": "2a9fdb94-7b6d-4dc5-9ce9-66519caea9aa"
      },
      "outputs": [
        {
          "output_type": "execute_result",
          "data": {
            "text/plain": [
              "status                       0\n",
              "age                          0\n",
              "sex                          0\n",
              "on_thyroxine                 0\n",
              "query_on_thyroxine           0\n",
              "on_antithyroid_medication    0\n",
              "thyroid_surgery              0\n",
              "query_hypothyroid            0\n",
              "query_hyperthyroid           0\n",
              "pregnant                     0\n",
              "sick                         0\n",
              "tumor                        0\n",
              "lithium                      0\n",
              "goitre                       0\n",
              "TSH_measured                 0\n",
              "TSH                          0\n",
              "T3_measured                  0\n",
              "T3                           0\n",
              "TT4_measured                 0\n",
              "TT4                          0\n",
              "T4U_measured                 0\n",
              "T4U                          0\n",
              "FTI_measured                 0\n",
              "FTI                          0\n",
              "TBG_measured                 0\n",
              "TBG                          0\n",
              "dtype: int64"
            ]
          },
          "metadata": {},
          "execution_count": 8
        }
      ],
      "source": [
        "#Checking for the missing values\n",
        "hypothroid.isnull().sum()"
      ]
    },
    {
      "cell_type": "code",
      "execution_count": 9,
      "metadata": {
        "id": "YYsTrpKq5mQK"
      },
      "outputs": [],
      "source": [
        "#Replace the character of ? in the data.\n",
        "hypothroid ['age']= hypothroid ['age'].str.replace('?', '0', regex=True)\n",
        "hypothroid ['TSH']= hypothroid ['TSH'].str.replace('?', '0', regex=True)\n",
        "hypothroid ['T3']= hypothroid ['T3'].str.replace('?', '0', regex=True)\n",
        "hypothroid ['TT4']= hypothroid ['TT4'].str.replace('?', '0', regex=True)\n",
        "hypothroid ['T4U']= hypothroid ['T4U'].str.replace('?', '0', regex=True)\n",
        "hypothroid ['FTI']= hypothroid ['FTI'].str.replace('?', '0', regex=True)\n",
        "hypothroid ['TBG']= hypothroid ['TBG'].str.replace('?', '0', regex=True)\n",
        "\n",
        "\n",
        "\n"
      ]
    },
    {
      "cell_type": "code",
      "execution_count": 10,
      "metadata": {
        "colab": {
          "base_uri": "https://localhost:8080/",
          "height": 205
        },
        "id": "1bANEzLDCoEF",
        "outputId": "d6d4cf13-c0b1-4feb-b6b8-05fe19e1ed63"
      },
      "outputs": [
        {
          "output_type": "execute_result",
          "data": {
            "text/plain": [
              "        status age sex on_thyroxine query_on_thyroxine  \\\n",
              "0  hypothyroid  72   M            f                  f   \n",
              "1  hypothyroid  15   F            t                  f   \n",
              "\n",
              "  on_antithyroid_medication thyroid_surgery query_hypothyroid  \\\n",
              "0                         f               f                 f   \n",
              "1                         f               f                 f   \n",
              "\n",
              "  query_hyperthyroid pregnant  ... T3_measured    T3 TT4_measured TT4  \\\n",
              "0                  f        f  ...           y  0.60            y  15   \n",
              "1                  f        f  ...           y  1.70            y  19   \n",
              "\n",
              "  T4U_measured   T4U FTI_measured FTI TBG_measured TBG  \n",
              "0            y  1.48            y  10            n   0  \n",
              "1            y  1.13            y  17            n   0  \n",
              "\n",
              "[2 rows x 26 columns]"
            ],
            "text/html": [
              "\n",
              "  <div id=\"df-769c71d7-e6c0-45e6-ae23-6dfcacf2b602\">\n",
              "    <div class=\"colab-df-container\">\n",
              "      <div>\n",
              "<style scoped>\n",
              "    .dataframe tbody tr th:only-of-type {\n",
              "        vertical-align: middle;\n",
              "    }\n",
              "\n",
              "    .dataframe tbody tr th {\n",
              "        vertical-align: top;\n",
              "    }\n",
              "\n",
              "    .dataframe thead th {\n",
              "        text-align: right;\n",
              "    }\n",
              "</style>\n",
              "<table border=\"1\" class=\"dataframe\">\n",
              "  <thead>\n",
              "    <tr style=\"text-align: right;\">\n",
              "      <th></th>\n",
              "      <th>status</th>\n",
              "      <th>age</th>\n",
              "      <th>sex</th>\n",
              "      <th>on_thyroxine</th>\n",
              "      <th>query_on_thyroxine</th>\n",
              "      <th>on_antithyroid_medication</th>\n",
              "      <th>thyroid_surgery</th>\n",
              "      <th>query_hypothyroid</th>\n",
              "      <th>query_hyperthyroid</th>\n",
              "      <th>pregnant</th>\n",
              "      <th>...</th>\n",
              "      <th>T3_measured</th>\n",
              "      <th>T3</th>\n",
              "      <th>TT4_measured</th>\n",
              "      <th>TT4</th>\n",
              "      <th>T4U_measured</th>\n",
              "      <th>T4U</th>\n",
              "      <th>FTI_measured</th>\n",
              "      <th>FTI</th>\n",
              "      <th>TBG_measured</th>\n",
              "      <th>TBG</th>\n",
              "    </tr>\n",
              "  </thead>\n",
              "  <tbody>\n",
              "    <tr>\n",
              "      <th>0</th>\n",
              "      <td>hypothyroid</td>\n",
              "      <td>72</td>\n",
              "      <td>M</td>\n",
              "      <td>f</td>\n",
              "      <td>f</td>\n",
              "      <td>f</td>\n",
              "      <td>f</td>\n",
              "      <td>f</td>\n",
              "      <td>f</td>\n",
              "      <td>f</td>\n",
              "      <td>...</td>\n",
              "      <td>y</td>\n",
              "      <td>0.60</td>\n",
              "      <td>y</td>\n",
              "      <td>15</td>\n",
              "      <td>y</td>\n",
              "      <td>1.48</td>\n",
              "      <td>y</td>\n",
              "      <td>10</td>\n",
              "      <td>n</td>\n",
              "      <td>0</td>\n",
              "    </tr>\n",
              "    <tr>\n",
              "      <th>1</th>\n",
              "      <td>hypothyroid</td>\n",
              "      <td>15</td>\n",
              "      <td>F</td>\n",
              "      <td>t</td>\n",
              "      <td>f</td>\n",
              "      <td>f</td>\n",
              "      <td>f</td>\n",
              "      <td>f</td>\n",
              "      <td>f</td>\n",
              "      <td>f</td>\n",
              "      <td>...</td>\n",
              "      <td>y</td>\n",
              "      <td>1.70</td>\n",
              "      <td>y</td>\n",
              "      <td>19</td>\n",
              "      <td>y</td>\n",
              "      <td>1.13</td>\n",
              "      <td>y</td>\n",
              "      <td>17</td>\n",
              "      <td>n</td>\n",
              "      <td>0</td>\n",
              "    </tr>\n",
              "  </tbody>\n",
              "</table>\n",
              "<p>2 rows × 26 columns</p>\n",
              "</div>\n",
              "      <button class=\"colab-df-convert\" onclick=\"convertToInteractive('df-769c71d7-e6c0-45e6-ae23-6dfcacf2b602')\"\n",
              "              title=\"Convert this dataframe to an interactive table.\"\n",
              "              style=\"display:none;\">\n",
              "        \n",
              "  <svg xmlns=\"http://www.w3.org/2000/svg\" height=\"24px\"viewBox=\"0 0 24 24\"\n",
              "       width=\"24px\">\n",
              "    <path d=\"M0 0h24v24H0V0z\" fill=\"none\"/>\n",
              "    <path d=\"M18.56 5.44l.94 2.06.94-2.06 2.06-.94-2.06-.94-.94-2.06-.94 2.06-2.06.94zm-11 1L8.5 8.5l.94-2.06 2.06-.94-2.06-.94L8.5 2.5l-.94 2.06-2.06.94zm10 10l.94 2.06.94-2.06 2.06-.94-2.06-.94-.94-2.06-.94 2.06-2.06.94z\"/><path d=\"M17.41 7.96l-1.37-1.37c-.4-.4-.92-.59-1.43-.59-.52 0-1.04.2-1.43.59L10.3 9.45l-7.72 7.72c-.78.78-.78 2.05 0 2.83L4 21.41c.39.39.9.59 1.41.59.51 0 1.02-.2 1.41-.59l7.78-7.78 2.81-2.81c.8-.78.8-2.07 0-2.86zM5.41 20L4 18.59l7.72-7.72 1.47 1.35L5.41 20z\"/>\n",
              "  </svg>\n",
              "      </button>\n",
              "      \n",
              "  <style>\n",
              "    .colab-df-container {\n",
              "      display:flex;\n",
              "      flex-wrap:wrap;\n",
              "      gap: 12px;\n",
              "    }\n",
              "\n",
              "    .colab-df-convert {\n",
              "      background-color: #E8F0FE;\n",
              "      border: none;\n",
              "      border-radius: 50%;\n",
              "      cursor: pointer;\n",
              "      display: none;\n",
              "      fill: #1967D2;\n",
              "      height: 32px;\n",
              "      padding: 0 0 0 0;\n",
              "      width: 32px;\n",
              "    }\n",
              "\n",
              "    .colab-df-convert:hover {\n",
              "      background-color: #E2EBFA;\n",
              "      box-shadow: 0px 1px 2px rgba(60, 64, 67, 0.3), 0px 1px 3px 1px rgba(60, 64, 67, 0.15);\n",
              "      fill: #174EA6;\n",
              "    }\n",
              "\n",
              "    [theme=dark] .colab-df-convert {\n",
              "      background-color: #3B4455;\n",
              "      fill: #D2E3FC;\n",
              "    }\n",
              "\n",
              "    [theme=dark] .colab-df-convert:hover {\n",
              "      background-color: #434B5C;\n",
              "      box-shadow: 0px 1px 3px 1px rgba(0, 0, 0, 0.15);\n",
              "      filter: drop-shadow(0px 1px 2px rgba(0, 0, 0, 0.3));\n",
              "      fill: #FFFFFF;\n",
              "    }\n",
              "  </style>\n",
              "\n",
              "      <script>\n",
              "        const buttonEl =\n",
              "          document.querySelector('#df-769c71d7-e6c0-45e6-ae23-6dfcacf2b602 button.colab-df-convert');\n",
              "        buttonEl.style.display =\n",
              "          google.colab.kernel.accessAllowed ? 'block' : 'none';\n",
              "\n",
              "        async function convertToInteractive(key) {\n",
              "          const element = document.querySelector('#df-769c71d7-e6c0-45e6-ae23-6dfcacf2b602');\n",
              "          const dataTable =\n",
              "            await google.colab.kernel.invokeFunction('convertToInteractive',\n",
              "                                                     [key], {});\n",
              "          if (!dataTable) return;\n",
              "\n",
              "          const docLinkHtml = 'Like what you see? Visit the ' +\n",
              "            '<a target=\"_blank\" href=https://colab.research.google.com/notebooks/data_table.ipynb>data table notebook</a>'\n",
              "            + ' to learn more about interactive tables.';\n",
              "          element.innerHTML = '';\n",
              "          dataTable['output_type'] = 'display_data';\n",
              "          await google.colab.output.renderOutput(dataTable, element);\n",
              "          const docLink = document.createElement('div');\n",
              "          docLink.innerHTML = docLinkHtml;\n",
              "          element.appendChild(docLink);\n",
              "        }\n",
              "      </script>\n",
              "    </div>\n",
              "  </div>\n",
              "  "
            ]
          },
          "metadata": {},
          "execution_count": 10
        }
      ],
      "source": [
        "#Preview the dataset\n",
        "hypothroid.head(2)"
      ]
    },
    {
      "cell_type": "code",
      "execution_count": 11,
      "metadata": {
        "id": "i52fg3wxDVzy"
      },
      "outputs": [],
      "source": [
        "#Convert the column data types from objects to categoricals, integ\n",
        "hypothroid['sex'] = hypothroid['sex'].astype('category')\n",
        "hypothroid['status'] = hypothroid['status'].astype('category')\n",
        "hypothroid['on_thyroxine'] = hypothroid['on_thyroxine'].astype('category')\n",
        "hypothroid['query_on_thyroxine'] = hypothroid['query_on_thyroxine'].astype('category')\n",
        "hypothroid['on_antithyroid_medication'] = hypothroid['on_antithyroid_medication'].astype('category')\n",
        "hypothroid['thyroid_surgery'] = hypothroid['thyroid_surgery'].astype('category')\n",
        "hypothroid['query_hypothyroid'] = hypothroid['query_hypothyroid'].astype('category')\n",
        "hypothroid['query_hyperthyroid'] = hypothroid['query_hyperthyroid'].astype('category')\n",
        "hypothroid['pregnant'] = hypothroid['pregnant'].astype('category')\n",
        "hypothroid['sick'] = hypothroid['sick'].astype('category')\n",
        "hypothroid['tumor'] = hypothroid['tumor'].astype('category')\n",
        "hypothroid['lithium'] = hypothroid['lithium'].astype('category')\n",
        "hypothroid['goitre'] = hypothroid['goitre'].astype('category')\n",
        "hypothroid['TSH_measured'] = hypothroid['TSH_measured'].astype('category')\n",
        "hypothroid['T3_measured'] = hypothroid['T3_measured'].astype('category')\n",
        "hypothroid['TT4_measured'] = hypothroid['TT4_measured'].astype('category')\n",
        "hypothroid['T4U_measured'] = hypothroid['T4U_measured'].astype('category')\n",
        "hypothroid['FTI_measured'] = hypothroid['FTI_measured'].astype('category')\n",
        "hypothroid['TBG_measured'] = hypothroid['TBG_measured'].astype('category')\n",
        "hypothroid['age'] = hypothroid['age'].astype('int')\n",
        "hypothroid['TSH'] = hypothroid['TSH'].astype('float')\n",
        "hypothroid['T3'] = hypothroid['T3'].astype('float')\n",
        "hypothroid['TT4'] = hypothroid['TT4'].astype('float')\n",
        "hypothroid['T4U'] = hypothroid['T4U'].astype('float')\n",
        "hypothroid['FTI'] = hypothroid['FTI'].astype('float')\n",
        "hypothroid['TBG'] = hypothroid['TBG'].astype('float')\n",
        "hypothroid['T4U'] = hypothroid['T4U'].astype('float')\n",
        "\n",
        "\n"
      ]
    },
    {
      "cell_type": "code",
      "execution_count": 12,
      "metadata": {
        "colab": {
          "base_uri": "https://localhost:8080/"
        },
        "id": "boolauo9JfHF",
        "outputId": "ed32fac6-29ad-4065-fd0b-6cb51d7cfa3b"
      },
      "outputs": [
        {
          "output_type": "stream",
          "name": "stdout",
          "text": [
            "<class 'pandas.core.frame.DataFrame'>\n",
            "RangeIndex: 3163 entries, 0 to 3162\n",
            "Data columns (total 26 columns):\n",
            " #   Column                     Non-Null Count  Dtype   \n",
            "---  ------                     --------------  -----   \n",
            " 0   status                     3163 non-null   category\n",
            " 1   age                        3163 non-null   int64   \n",
            " 2   sex                        3163 non-null   category\n",
            " 3   on_thyroxine               3163 non-null   category\n",
            " 4   query_on_thyroxine         3163 non-null   category\n",
            " 5   on_antithyroid_medication  3163 non-null   category\n",
            " 6   thyroid_surgery            3163 non-null   category\n",
            " 7   query_hypothyroid          3163 non-null   category\n",
            " 8   query_hyperthyroid         3163 non-null   category\n",
            " 9   pregnant                   3163 non-null   category\n",
            " 10  sick                       3163 non-null   category\n",
            " 11  tumor                      3163 non-null   category\n",
            " 12  lithium                    3163 non-null   category\n",
            " 13  goitre                     3163 non-null   category\n",
            " 14  TSH_measured               3163 non-null   category\n",
            " 15  TSH                        3163 non-null   float64 \n",
            " 16  T3_measured                3163 non-null   category\n",
            " 17  T3                         3163 non-null   float64 \n",
            " 18  TT4_measured               3163 non-null   category\n",
            " 19  TT4                        3163 non-null   float64 \n",
            " 20  T4U_measured               3163 non-null   category\n",
            " 21  T4U                        3163 non-null   float64 \n",
            " 22  FTI_measured               3163 non-null   category\n",
            " 23  FTI                        3163 non-null   float64 \n",
            " 24  TBG_measured               3163 non-null   category\n",
            " 25  TBG                        3163 non-null   float64 \n",
            "dtypes: category(19), float64(6), int64(1)\n",
            "memory usage: 234.1 KB\n"
          ]
        }
      ],
      "source": [
        "#preview the data types of the columns\n",
        "hypothroid.info()"
      ]
    },
    {
      "cell_type": "code",
      "execution_count": 13,
      "metadata": {
        "id": "nGC6gRMsJvEk"
      },
      "outputs": [],
      "source": [
        "#Convert the categorical to numericals\n",
        "hypothroid['sex'] = labelencoder.fit_transform(hypothroid['sex'])\n",
        "hypothroid['status'] = labelencoder.fit_transform(hypothroid['status'])\n",
        "hypothroid['on_thyroxine'] = labelencoder.fit_transform(hypothroid['on_thyroxine'])\n",
        "hypothroid['query_on_thyroxine'] = labelencoder.fit_transform(hypothroid['query_on_thyroxine'])\n",
        "hypothroid['on_antithyroid_medication'] = labelencoder.fit_transform(hypothroid['on_antithyroid_medication'])\n",
        "hypothroid['thyroid_surgery'] = labelencoder.fit_transform(hypothroid['thyroid_surgery'])\n",
        "hypothroid['query_hypothyroid'] = labelencoder.fit_transform(hypothroid['query_hypothyroid'])\n",
        "hypothroid['query_hyperthyroid'] = labelencoder.fit_transform(hypothroid['query_hyperthyroid'])\n",
        "hypothroid['pregnant'] = labelencoder.fit_transform(hypothroid['pregnant'])\n",
        "hypothroid['sick'] = labelencoder.fit_transform(hypothroid['sick'])\n",
        "hypothroid['tumor'] = labelencoder.fit_transform(hypothroid['tumor'])\n",
        "hypothroid['lithium'] = labelencoder.fit_transform(hypothroid['lithium'])\n",
        "hypothroid['goitre'] = labelencoder.fit_transform(hypothroid['goitre'])\n",
        "hypothroid['TSH_measured'] = labelencoder.fit_transform(hypothroid['TSH_measured'])\n",
        "hypothroid['T3_measured'] = labelencoder.fit_transform(hypothroid['T3_measured'])\n",
        "hypothroid['TT4_measured'] = labelencoder.fit_transform(hypothroid['TT4_measured'])\n",
        "hypothroid['T4U_measured'] = labelencoder.fit_transform(hypothroid['T4U_measured'])\n",
        "hypothroid['FTI_measured'] = labelencoder.fit_transform(hypothroid['FTI_measured'])\n",
        "hypothroid['TBG_measured'] = labelencoder.fit_transform(hypothroid['TBG_measured'])\n",
        "\n",
        "\n"
      ]
    },
    {
      "cell_type": "code",
      "execution_count": 14,
      "metadata": {
        "colab": {
          "base_uri": "https://localhost:8080/",
          "height": 205
        },
        "id": "TPSrtTJCOZKp",
        "outputId": "7f612035-0e7b-4d13-b497-903da6689a28"
      },
      "outputs": [
        {
          "output_type": "execute_result",
          "data": {
            "text/plain": [
              "   status  age  sex  on_thyroxine  query_on_thyroxine  \\\n",
              "0       0   72    2             0                   0   \n",
              "1       0   15    1             1                   0   \n",
              "\n",
              "   on_antithyroid_medication  thyroid_surgery  query_hypothyroid  \\\n",
              "0                          0                0                  0   \n",
              "1                          0                0                  0   \n",
              "\n",
              "   query_hyperthyroid  pregnant  ...  T3_measured   T3  TT4_measured   TT4  \\\n",
              "0                   0         0  ...            1  0.6             1  15.0   \n",
              "1                   0         0  ...            1  1.7             1  19.0   \n",
              "\n",
              "   T4U_measured   T4U  FTI_measured   FTI  TBG_measured  TBG  \n",
              "0             1  1.48             1  10.0             0  0.0  \n",
              "1             1  1.13             1  17.0             0  0.0  \n",
              "\n",
              "[2 rows x 26 columns]"
            ],
            "text/html": [
              "\n",
              "  <div id=\"df-efcbafaa-199a-46f9-a44b-3d530121961a\">\n",
              "    <div class=\"colab-df-container\">\n",
              "      <div>\n",
              "<style scoped>\n",
              "    .dataframe tbody tr th:only-of-type {\n",
              "        vertical-align: middle;\n",
              "    }\n",
              "\n",
              "    .dataframe tbody tr th {\n",
              "        vertical-align: top;\n",
              "    }\n",
              "\n",
              "    .dataframe thead th {\n",
              "        text-align: right;\n",
              "    }\n",
              "</style>\n",
              "<table border=\"1\" class=\"dataframe\">\n",
              "  <thead>\n",
              "    <tr style=\"text-align: right;\">\n",
              "      <th></th>\n",
              "      <th>status</th>\n",
              "      <th>age</th>\n",
              "      <th>sex</th>\n",
              "      <th>on_thyroxine</th>\n",
              "      <th>query_on_thyroxine</th>\n",
              "      <th>on_antithyroid_medication</th>\n",
              "      <th>thyroid_surgery</th>\n",
              "      <th>query_hypothyroid</th>\n",
              "      <th>query_hyperthyroid</th>\n",
              "      <th>pregnant</th>\n",
              "      <th>...</th>\n",
              "      <th>T3_measured</th>\n",
              "      <th>T3</th>\n",
              "      <th>TT4_measured</th>\n",
              "      <th>TT4</th>\n",
              "      <th>T4U_measured</th>\n",
              "      <th>T4U</th>\n",
              "      <th>FTI_measured</th>\n",
              "      <th>FTI</th>\n",
              "      <th>TBG_measured</th>\n",
              "      <th>TBG</th>\n",
              "    </tr>\n",
              "  </thead>\n",
              "  <tbody>\n",
              "    <tr>\n",
              "      <th>0</th>\n",
              "      <td>0</td>\n",
              "      <td>72</td>\n",
              "      <td>2</td>\n",
              "      <td>0</td>\n",
              "      <td>0</td>\n",
              "      <td>0</td>\n",
              "      <td>0</td>\n",
              "      <td>0</td>\n",
              "      <td>0</td>\n",
              "      <td>0</td>\n",
              "      <td>...</td>\n",
              "      <td>1</td>\n",
              "      <td>0.6</td>\n",
              "      <td>1</td>\n",
              "      <td>15.0</td>\n",
              "      <td>1</td>\n",
              "      <td>1.48</td>\n",
              "      <td>1</td>\n",
              "      <td>10.0</td>\n",
              "      <td>0</td>\n",
              "      <td>0.0</td>\n",
              "    </tr>\n",
              "    <tr>\n",
              "      <th>1</th>\n",
              "      <td>0</td>\n",
              "      <td>15</td>\n",
              "      <td>1</td>\n",
              "      <td>1</td>\n",
              "      <td>0</td>\n",
              "      <td>0</td>\n",
              "      <td>0</td>\n",
              "      <td>0</td>\n",
              "      <td>0</td>\n",
              "      <td>0</td>\n",
              "      <td>...</td>\n",
              "      <td>1</td>\n",
              "      <td>1.7</td>\n",
              "      <td>1</td>\n",
              "      <td>19.0</td>\n",
              "      <td>1</td>\n",
              "      <td>1.13</td>\n",
              "      <td>1</td>\n",
              "      <td>17.0</td>\n",
              "      <td>0</td>\n",
              "      <td>0.0</td>\n",
              "    </tr>\n",
              "  </tbody>\n",
              "</table>\n",
              "<p>2 rows × 26 columns</p>\n",
              "</div>\n",
              "      <button class=\"colab-df-convert\" onclick=\"convertToInteractive('df-efcbafaa-199a-46f9-a44b-3d530121961a')\"\n",
              "              title=\"Convert this dataframe to an interactive table.\"\n",
              "              style=\"display:none;\">\n",
              "        \n",
              "  <svg xmlns=\"http://www.w3.org/2000/svg\" height=\"24px\"viewBox=\"0 0 24 24\"\n",
              "       width=\"24px\">\n",
              "    <path d=\"M0 0h24v24H0V0z\" fill=\"none\"/>\n",
              "    <path d=\"M18.56 5.44l.94 2.06.94-2.06 2.06-.94-2.06-.94-.94-2.06-.94 2.06-2.06.94zm-11 1L8.5 8.5l.94-2.06 2.06-.94-2.06-.94L8.5 2.5l-.94 2.06-2.06.94zm10 10l.94 2.06.94-2.06 2.06-.94-2.06-.94-.94-2.06-.94 2.06-2.06.94z\"/><path d=\"M17.41 7.96l-1.37-1.37c-.4-.4-.92-.59-1.43-.59-.52 0-1.04.2-1.43.59L10.3 9.45l-7.72 7.72c-.78.78-.78 2.05 0 2.83L4 21.41c.39.39.9.59 1.41.59.51 0 1.02-.2 1.41-.59l7.78-7.78 2.81-2.81c.8-.78.8-2.07 0-2.86zM5.41 20L4 18.59l7.72-7.72 1.47 1.35L5.41 20z\"/>\n",
              "  </svg>\n",
              "      </button>\n",
              "      \n",
              "  <style>\n",
              "    .colab-df-container {\n",
              "      display:flex;\n",
              "      flex-wrap:wrap;\n",
              "      gap: 12px;\n",
              "    }\n",
              "\n",
              "    .colab-df-convert {\n",
              "      background-color: #E8F0FE;\n",
              "      border: none;\n",
              "      border-radius: 50%;\n",
              "      cursor: pointer;\n",
              "      display: none;\n",
              "      fill: #1967D2;\n",
              "      height: 32px;\n",
              "      padding: 0 0 0 0;\n",
              "      width: 32px;\n",
              "    }\n",
              "\n",
              "    .colab-df-convert:hover {\n",
              "      background-color: #E2EBFA;\n",
              "      box-shadow: 0px 1px 2px rgba(60, 64, 67, 0.3), 0px 1px 3px 1px rgba(60, 64, 67, 0.15);\n",
              "      fill: #174EA6;\n",
              "    }\n",
              "\n",
              "    [theme=dark] .colab-df-convert {\n",
              "      background-color: #3B4455;\n",
              "      fill: #D2E3FC;\n",
              "    }\n",
              "\n",
              "    [theme=dark] .colab-df-convert:hover {\n",
              "      background-color: #434B5C;\n",
              "      box-shadow: 0px 1px 3px 1px rgba(0, 0, 0, 0.15);\n",
              "      filter: drop-shadow(0px 1px 2px rgba(0, 0, 0, 0.3));\n",
              "      fill: #FFFFFF;\n",
              "    }\n",
              "  </style>\n",
              "\n",
              "      <script>\n",
              "        const buttonEl =\n",
              "          document.querySelector('#df-efcbafaa-199a-46f9-a44b-3d530121961a button.colab-df-convert');\n",
              "        buttonEl.style.display =\n",
              "          google.colab.kernel.accessAllowed ? 'block' : 'none';\n",
              "\n",
              "        async function convertToInteractive(key) {\n",
              "          const element = document.querySelector('#df-efcbafaa-199a-46f9-a44b-3d530121961a');\n",
              "          const dataTable =\n",
              "            await google.colab.kernel.invokeFunction('convertToInteractive',\n",
              "                                                     [key], {});\n",
              "          if (!dataTable) return;\n",
              "\n",
              "          const docLinkHtml = 'Like what you see? Visit the ' +\n",
              "            '<a target=\"_blank\" href=https://colab.research.google.com/notebooks/data_table.ipynb>data table notebook</a>'\n",
              "            + ' to learn more about interactive tables.';\n",
              "          element.innerHTML = '';\n",
              "          dataTable['output_type'] = 'display_data';\n",
              "          await google.colab.output.renderOutput(dataTable, element);\n",
              "          const docLink = document.createElement('div');\n",
              "          docLink.innerHTML = docLinkHtml;\n",
              "          element.appendChild(docLink);\n",
              "        }\n",
              "      </script>\n",
              "    </div>\n",
              "  </div>\n",
              "  "
            ]
          },
          "metadata": {},
          "execution_count": 14
        }
      ],
      "source": [
        "#Preview the dataset\n",
        "hypothroid.head(2)"
      ]
    },
    {
      "cell_type": "code",
      "execution_count": 15,
      "metadata": {
        "colab": {
          "base_uri": "https://localhost:8080/",
          "height": 289
        },
        "id": "JtoGsKHJSJgh",
        "outputId": "4063d1a6-92c0-4726-e8ce-706e84e3ee51"
      },
      "outputs": [
        {
          "output_type": "execute_result",
          "data": {
            "text/plain": [
              "<matplotlib.axes._subplots.AxesSubplot at 0x7f0aed7b3c50>"
            ]
          },
          "metadata": {},
          "execution_count": 15
        },
        {
          "output_type": "display_data",
          "data": {
            "text/plain": [
              "<Figure size 432x288 with 1 Axes>"
            ],
            "image/png": "[encoded data removed]"
          },
          "metadata": {
            "needs_background": "light"
          }
        }
      ],
      "source": [
        "#Check for the outliers\n",
        "hypothroid.boxplot()"
      ]
    },
    {
      "cell_type": "markdown",
      "metadata": {
        "id": "EU2mRn0PSmkr"
      },
      "source": [
        "# 5. Implementing the solution."
      ]
    },
    {
      "cell_type": "markdown",
      "metadata": {
        "id": "fZPHY3_RTDOq"
      },
      "source": [
        "## a). Part 1: Decision trees"
      ]
    },
    {
      "cell_type": "markdown",
      "metadata": {
        "id": "WHOIDOIgTUWZ"
      },
      "source": [
        "### (i). Random forests."
      ]
    },
    {
      "cell_type": "code",
      "execution_count": 16,
      "metadata": {
        "id": "A5nsOczTTp0G"
      },
      "outputs": [],
      "source": [
        "# Split the datasets into depedent and independent variables\n",
        "y = hypothroid['status'].values\n",
        "test_features = hypothroid.columns.to_list()\n",
        "test_features.remove('status')\n",
        "X = hypothroid [test_features].values"
      ]
    },
    {
      "cell_type": "code",
      "execution_count": 17,
      "metadata": {
        "id": "jT_ZUefGTpyg"
      },
      "outputs": [],
      "source": [
        "#Train using the 75% of the datasets\n",
        "X_train, X_test, y_train, y_test = train_test_split(X, y, test_size=0.25, random_state=0)"
      ]
    },
    {
      "cell_type": "code",
      "execution_count": 18,
      "metadata": {
        "colab": {
          "base_uri": "https://localhost:8080/",
          "height": 300
        },
        "id": "m8aeqWppZLXg",
        "outputId": "be5c9e97-3ee9-4c93-f3dc-59c55f5d6ccc"
      },
      "outputs": [
        {
          "output_type": "execute_result",
          "data": {
            "text/plain": [
              "           Actual   Predicted\n",
              "count  791.000000  791.000000\n",
              "mean     0.954488    0.981037\n",
              "std      0.208556    0.136482\n",
              "min      0.000000    0.000000\n",
              "25%      1.000000    1.000000\n",
              "50%      1.000000    1.000000\n",
              "75%      1.000000    1.000000\n",
              "max      1.000000    1.000000"
            ],
            "text/html": [
              "\n",
              "  <div id=\"df-8fcc0124-54eb-4978-a0e5-7f60ca2fd2ea\">\n",
              "    <div class=\"colab-df-container\">\n",
              "      <div>\n",
              "<style scoped>\n",
              "    .dataframe tbody tr th:only-of-type {\n",
              "        vertical-align: middle;\n",
              "    }\n",
              "\n",
              "    .dataframe tbody tr th {\n",
              "        vertical-align: top;\n",
              "    }\n",
              "\n",
              "    .dataframe thead th {\n",
              "        text-align: right;\n",
              "    }\n",
              "</style>\n",
              "<table border=\"1\" class=\"dataframe\">\n",
              "  <thead>\n",
              "    <tr style=\"text-align: right;\">\n",
              "      <th></th>\n",
              "      <th>Actual</th>\n",
              "      <th>Predicted</th>\n",
              "    </tr>\n",
              "  </thead>\n",
              "  <tbody>\n",
              "    <tr>\n",
              "      <th>count</th>\n",
              "      <td>791.000000</td>\n",
              "      <td>791.000000</td>\n",
              "    </tr>\n",
              "    <tr>\n",
              "      <th>mean</th>\n",
              "      <td>0.954488</td>\n",
              "      <td>0.981037</td>\n",
              "    </tr>\n",
              "    <tr>\n",
              "      <th>std</th>\n",
              "      <td>0.208556</td>\n",
              "      <td>0.136482</td>\n",
              "    </tr>\n",
              "    <tr>\n",
              "      <th>min</th>\n",
              "      <td>0.000000</td>\n",
              "      <td>0.000000</td>\n",
              "    </tr>\n",
              "    <tr>\n",
              "      <th>25%</th>\n",
              "      <td>1.000000</td>\n",
              "      <td>1.000000</td>\n",
              "    </tr>\n",
              "    <tr>\n",
              "      <th>50%</th>\n",
              "      <td>1.000000</td>\n",
              "      <td>1.000000</td>\n",
              "    </tr>\n",
              "    <tr>\n",
              "      <th>75%</th>\n",
              "      <td>1.000000</td>\n",
              "      <td>1.000000</td>\n",
              "    </tr>\n",
              "    <tr>\n",
              "      <th>max</th>\n",
              "      <td>1.000000</td>\n",
              "      <td>1.000000</td>\n",
              "    </tr>\n",
              "  </tbody>\n",
              "</table>\n",
              "</div>\n",
              "      <button class=\"colab-df-convert\" onclick=\"convertToInteractive('df-8fcc0124-54eb-4978-a0e5-7f60ca2fd2ea')\"\n",
              "              title=\"Convert this dataframe to an interactive table.\"\n",
              "              style=\"display:none;\">\n",
              "        \n",
              "  <svg xmlns=\"http://www.w3.org/2000/svg\" height=\"24px\"viewBox=\"0 0 24 24\"\n",
              "       width=\"24px\">\n",
              "    <path d=\"M0 0h24v24H0V0z\" fill=\"none\"/>\n",
              "    <path d=\"M18.56 5.44l.94 2.06.94-2.06 2.06-.94-2.06-.94-.94-2.06-.94 2.06-2.06.94zm-11 1L8.5 8.5l.94-2.06 2.06-.94-2.06-.94L8.5 2.5l-.94 2.06-2.06.94zm10 10l.94 2.06.94-2.06 2.06-.94-2.06-.94-.94-2.06-.94 2.06-2.06.94z\"/><path d=\"M17.41 7.96l-1.37-1.37c-.4-.4-.92-.59-1.43-.59-.52 0-1.04.2-1.43.59L10.3 9.45l-7.72 7.72c-.78.78-.78 2.05 0 2.83L4 21.41c.39.39.9.59 1.41.59.51 0 1.02-.2 1.41-.59l7.78-7.78 2.81-2.81c.8-.78.8-2.07 0-2.86zM5.41 20L4 18.59l7.72-7.72 1.47 1.35L5.41 20z\"/>\n",
              "  </svg>\n",
              "      </button>\n",
              "      \n",
              "  <style>\n",
              "    .colab-df-container {\n",
              "      display:flex;\n",
              "      flex-wrap:wrap;\n",
              "      gap: 12px;\n",
              "    }\n",
              "\n",
              "    .colab-df-convert {\n",
              "      background-color: #E8F0FE;\n",
              "      border: none;\n",
              "      border-radius: 50%;\n",
              "      cursor: pointer;\n",
              "      display: none;\n",
              "      fill: #1967D2;\n",
              "      height: 32px;\n",
              "      padding: 0 0 0 0;\n",
              "      width: 32px;\n",
              "    }\n",
              "\n",
              "    .colab-df-convert:hover {\n",
              "      background-color: #E2EBFA;\n",
              "      box-shadow: 0px 1px 2px rgba(60, 64, 67, 0.3), 0px 1px 3px 1px rgba(60, 64, 67, 0.15);\n",
              "      fill: #174EA6;\n",
              "    }\n",
              "\n",
              "    [theme=dark] .colab-df-convert {\n",
              "      background-color: #3B4455;\n",
              "      fill: #D2E3FC;\n",
              "    }\n",
              "\n",
              "    [theme=dark] .colab-df-convert:hover {\n",
              "      background-color: #434B5C;\n",
              "      box-shadow: 0px 1px 3px 1px rgba(0, 0, 0, 0.15);\n",
              "      filter: drop-shadow(0px 1px 2px rgba(0, 0, 0, 0.3));\n",
              "      fill: #FFFFFF;\n",
              "    }\n",
              "  </style>\n",
              "\n",
              "      <script>\n",
              "        const buttonEl =\n",
              "          document.querySelector('#df-8fcc0124-54eb-4978-a0e5-7f60ca2fd2ea button.colab-df-convert');\n",
              "        buttonEl.style.display =\n",
              "          google.colab.kernel.accessAllowed ? 'block' : 'none';\n",
              "\n",
              "        async function convertToInteractive(key) {\n",
              "          const element = document.querySelector('#df-8fcc0124-54eb-4978-a0e5-7f60ca2fd2ea');\n",
              "          const dataTable =\n",
              "            await google.colab.kernel.invokeFunction('convertToInteractive',\n",
              "                                                     [key], {});\n",
              "          if (!dataTable) return;\n",
              "\n",
              "          const docLinkHtml = 'Like what you see? Visit the ' +\n",
              "            '<a target=\"_blank\" href=https://colab.research.google.com/notebooks/data_table.ipynb>data table notebook</a>'\n",
              "            + ' to learn more about interactive tables.';\n",
              "          element.innerHTML = '';\n",
              "          dataTable['output_type'] = 'display_data';\n",
              "          await google.colab.output.renderOutput(dataTable, element);\n",
              "          const docLink = document.createElement('div');\n",
              "          docLink.innerHTML = docLinkHtml;\n",
              "          element.appendChild(docLink);\n",
              "        }\n",
              "      </script>\n",
              "    </div>\n",
              "  </div>\n",
              "  "
            ]
          },
          "metadata": {},
          "execution_count": 18
        }
      ],
      "source": [
        "#import the model\n",
        "from sklearn.ensemble import RandomForestClassifier\n",
        "\n",
        "forest = RandomForestClassifier(n_estimators=200, min_samples_split=10, max_depth= 4,\n",
        "                                random_state=42, max_features = 2, bootstrap=True)\n",
        "#Trained the model\n",
        "forest = forest.fit(X_train, y_train)\n",
        "# Predict based on the model we've trained\n",
        "y_pred = forest.predict(X_test)\n",
        "\n",
        "comparison_frame = pd.DataFrame({'Actual': y_test.flatten(), 'Predicted': y_pred.flatten()})\n",
        "\n",
        "comparison_frame.describe()\n"
      ]
    },
    {
      "cell_type": "code",
      "execution_count": 19,
      "metadata": {
        "colab": {
          "base_uri": "https://localhost:8080/"
        },
        "id": "BijN-RA7Z-NT",
        "outputId": "800eef5a-9138-45d5-9368-a11cf143d3bd"
      },
      "outputs": [
        {
          "output_type": "stream",
          "name": "stdout",
          "text": [
            "Accuracy: 0.9683944374209861\n"
          ]
        }
      ],
      "source": [
        "from sklearn import metrics\n",
        "\n",
        "# And now we assess the errors\n",
        "\n",
        "print(\"Accuracy:\",metrics.accuracy_score(y_test, y_pred))"
      ]
    },
    {
      "cell_type": "code",
      "execution_count": 20,
      "metadata": {
        "colab": {
          "base_uri": "https://localhost:8080/",
          "height": 518
        },
        "id": "vtfsBaOCbUBm",
        "outputId": "938e2bfe-48f7-4f7d-b268-5d2cb2e29bfc"
      },
      "outputs": [
        {
          "output_type": "execute_result",
          "data": {
            "text/plain": [
              "<IPython.core.display.Image object>"
            ],
            "image/png": "[encoded data removed]"
          },
          "metadata": {},
          "execution_count": 20
        }
      ],
      "source": [
        "#Visualize the random forest\n",
        "#Visualize\n",
        "dot_data = StringIO()\n",
        "# pick a specific tree from the forest\n",
        "tree = forest.estimators_[50]\n",
        "\n",
        "export_graphviz(tree, out_file=dot_data,  \n",
        "                filled=True, rounded=True,\n",
        "                special_characters=True,feature_names = test_features)\n",
        "graph = pydotplus.graph_from_dot_data(dot_data.getvalue())  \n",
        "graph.write_png('deposit_forest.png')\n",
        "Image(graph.create_png())"
      ]
    },
    {
      "cell_type": "code",
      "source": [
        "feature_imp = pd.Series(forest.feature_importances_, index =test_features).sort_values(ascending = False)\n",
        "feature_imp\n"
      ],
      "metadata": {
        "colab": {
          "base_uri": "https://localhost:8080/"
        },
        "id": "KsPA0jX1aseD",
        "outputId": "909480e8-4214-4550-fd1a-64c50bbf41ca"
      },
      "execution_count": 21,
      "outputs": [
        {
          "output_type": "execute_result",
          "data": {
            "text/plain": [
              "TSH                          0.242756\n",
              "TT4                          0.225067\n",
              "FTI                          0.212659\n",
              "T3                           0.054932\n",
              "T4U                          0.046038\n",
              "FTI_measured                 0.031245\n",
              "TSH_measured                 0.029107\n",
              "age                          0.025361\n",
              "TBG                          0.024273\n",
              "TT4_measured                 0.023222\n",
              "TBG_measured                 0.023154\n",
              "T3_measured                  0.014426\n",
              "thyroid_surgery              0.008254\n",
              "on_thyroxine                 0.008201\n",
              "T4U_measured                 0.007053\n",
              "query_hypothyroid            0.006070\n",
              "sick                         0.005427\n",
              "sex                          0.003405\n",
              "on_antithyroid_medication    0.002403\n",
              "pregnant                     0.002303\n",
              "query_hyperthyroid           0.002016\n",
              "query_on_thyroxine           0.001250\n",
              "goitre                       0.000983\n",
              "tumor                        0.000396\n",
              "lithium                      0.000000\n",
              "dtype: float64"
            ]
          },
          "metadata": {},
          "execution_count": 21
        }
      ]
    },
    {
      "cell_type": "markdown",
      "source": [
        "The features that are most impactful in the prediction of random forest classifiers are ;\n",
        "TSH                          0.242756, \n",
        "TT4                          0.225067, \n",
        "FTI                          0.212659, \n",
        "T3                           0.054932, \n",
        "T4U                          0.046038, \n",
        "FTI_measured                 0.031245, \n",
        "TSH_measured                 0.029107, \n",
        "age                          0.025361, \n",
        "TBG                          0.024273, \n",
        "TT4_measured                 0.023222, \n",
        "TBG_measured                 0.023154, \n",
        "T3_measured                  0.014426, \n",
        "thyroid_surgery              0.008254, \n",
        "on_thyroxine                 0.008201, \n",
        "T4U_measured                 0.007053, \n",
        "query_hypothyroid            0.006070, \n",
        "sick                         0.005427, \n",
        "sex                          0.003405, \n",
        "on_antithyroid_medication    0.002403, \n",
        "pregnant                     0.002303, \n",
        "query_hyperthyroid           0.002016, \n",
        "query_on_thyroxine           0.001250, \n",
        "goitre                       0.000983, \n",
        "tumor                        0.000396."
      ],
      "metadata": {
        "id": "PIPFxGeWewI-"
      }
    },
    {
      "cell_type": "markdown",
      "metadata": {
        "id": "v7vl57CIdMRU"
      },
      "source": [
        "### (ii) Ada boost trees"
      ]
    },
    {
      "cell_type": "code",
      "execution_count": 22,
      "metadata": {
        "id": "fPaBZuHzeGbm"
      },
      "outputs": [],
      "source": [
        "#Adaboost model\n",
        "adaboost = AdaBoostClassifier(n_estimators=200, random_state=42\n",
        "                            )\n",
        "adaboost_model=adaboost.fit(X_train, y_train)"
      ]
    },
    {
      "cell_type": "code",
      "execution_count": 23,
      "metadata": {
        "id": "dJ9x0kEciPuQ"
      },
      "outputs": [],
      "source": [
        "#Prediction\n",
        "y_pred=adaboost_model.predict(X_test)"
      ]
    },
    {
      "cell_type": "code",
      "execution_count": 24,
      "metadata": {
        "colab": {
          "base_uri": "https://localhost:8080/"
        },
        "id": "z8LR60p1iq3R",
        "outputId": "09ec55df-2bf5-4691-e02c-f3deb427e1eb"
      },
      "outputs": [
        {
          "output_type": "stream",
          "name": "stdout",
          "text": [
            "Accuracy: 0.9823008849557522\n"
          ]
        }
      ],
      "source": [
        "#The accuracy score of the adaboostclassifiers\n",
        "print(\"Accuracy:\",metrics.accuracy_score(y_test, y_pred))"
      ]
    },
    {
      "cell_type": "code",
      "source": [
        "#Features that are most impactful in the classification of the reandom forest classifier.\n",
        "feature_imp = pd.Series(adaboost_model.feature_importances_, index =test_features).sort_values(ascending = False)\n",
        "feature_imp"
      ],
      "metadata": {
        "colab": {
          "base_uri": "https://localhost:8080/"
        },
        "id": "AeQ7zpfAi3BJ",
        "outputId": "a86ed8c5-241e-4cef-9c33-72e81448b93b"
      },
      "execution_count": 25,
      "outputs": [
        {
          "output_type": "execute_result",
          "data": {
            "text/plain": [
              "TSH                          0.220\n",
              "age                          0.185\n",
              "FTI                          0.165\n",
              "T4U                          0.155\n",
              "TT4                          0.095\n",
              "on_antithyroid_medication    0.055\n",
              "T3                           0.045\n",
              "on_thyroxine                 0.035\n",
              "thyroid_surgery              0.035\n",
              "query_on_thyroxine           0.005\n",
              "sick                         0.005\n",
              "TBG_measured                 0.000\n",
              "FTI_measured                 0.000\n",
              "T4U_measured                 0.000\n",
              "TT4_measured                 0.000\n",
              "goitre                       0.000\n",
              "T3_measured                  0.000\n",
              "TSH_measured                 0.000\n",
              "sex                          0.000\n",
              "lithium                      0.000\n",
              "tumor                        0.000\n",
              "pregnant                     0.000\n",
              "query_hyperthyroid           0.000\n",
              "query_hypothyroid            0.000\n",
              "TBG                          0.000\n",
              "dtype: float64"
            ]
          },
          "metadata": {},
          "execution_count": 25
        }
      ]
    },
    {
      "cell_type": "markdown",
      "source": [
        "The features that are most impactful in the prediction of the adaboost classifier are; \n",
        "TSH                          0.220, \n",
        "age                          0.185, \n",
        "FTI                          0.165, \n",
        "T4U                          0.155, \n",
        "TT4                          0.095, \n",
        "on_antithyroid_medication    0.055, \n",
        "T3                           0.045, \n",
        "on_thyroxine                 0.035, \n",
        "thyroid_surgery              0.035, \n",
        "query_on_thyroxine           0.005, \n",
        "sick                         0.005."
      ],
      "metadata": {
        "id": "LbHG-lNAkPOj"
      }
    },
    {
      "cell_type": "markdown",
      "metadata": {
        "id": "EYYR-xFSjSd6"
      },
      "source": [
        "### (iii). Gradient boost."
      ]
    },
    {
      "cell_type": "code",
      "execution_count": 26,
      "metadata": {
        "id": "f-Y4OoxujPoq"
      },
      "outputs": [],
      "source": [
        "#Gradient boost model\n",
        "gradientboost = GradientBoostingClassifier(n_estimators=200, learning_rate=0.2, random_state=42)\n",
        "gradientboost_model = gradientboost.fit(X_train, y_train)\n"
      ]
    },
    {
      "cell_type": "code",
      "execution_count": 27,
      "metadata": {
        "id": "SFGoD5rGl5ZI"
      },
      "outputs": [],
      "source": [
        "#Prediction\n",
        "y_pred=gradientboost_model.predict(X_test)\n"
      ]
    },
    {
      "cell_type": "code",
      "execution_count": 28,
      "metadata": {
        "colab": {
          "base_uri": "https://localhost:8080/"
        },
        "id": "T9dkHYHumUmR",
        "outputId": "7abd3b69-4999-4d85-fe57-21e4ff088c30"
      },
      "outputs": [
        {
          "output_type": "stream",
          "name": "stdout",
          "text": [
            "Accuracy: 0.9860935524652339\n"
          ]
        }
      ],
      "source": [
        "#Check for the accuracy\n",
        "print(\"Accuracy:\",metrics.accuracy_score(y_test, y_pred))"
      ]
    },
    {
      "cell_type": "code",
      "source": [
        "#Feature importance\n",
        "feature_imp = pd.Series(gradientboost_model.feature_importances_, index =test_features).sort_values(ascending = False)\n",
        "feature_imp"
      ],
      "metadata": {
        "colab": {
          "base_uri": "https://localhost:8080/"
        },
        "id": "bFyW2pNXjRdN",
        "outputId": "17d9ee0c-7ef2-4b5f-b1a1-15d0e17e50d8"
      },
      "execution_count": 29,
      "outputs": [
        {
          "output_type": "execute_result",
          "data": {
            "text/plain": [
              "TSH                          6.102629e-01\n",
              "FTI                          3.199696e-01\n",
              "on_antithyroid_medication    2.049471e-02\n",
              "age                          1.645471e-02\n",
              "T4U                          1.260356e-02\n",
              "TT4                          8.841830e-03\n",
              "query_hypothyroid            5.556081e-03\n",
              "on_thyroxine                 2.108055e-03\n",
              "thyroid_surgery              1.591639e-03\n",
              "T3                           1.555253e-03\n",
              "pregnant                     3.625101e-04\n",
              "T3_measured                  1.387675e-04\n",
              "TT4_measured                 2.294013e-05\n",
              "TSH_measured                 1.800157e-05\n",
              "sex                          1.245018e-05\n",
              "T4U_measured                 4.295808e-06\n",
              "TBG                          2.467279e-06\n",
              "TBG_measured                 1.233840e-07\n",
              "goitre                       6.881628e-08\n",
              "FTI_measured                 7.737494e-09\n",
              "lithium                      0.000000e+00\n",
              "tumor                        0.000000e+00\n",
              "sick                         0.000000e+00\n",
              "query_hyperthyroid           0.000000e+00\n",
              "query_on_thyroxine           0.000000e+00\n",
              "dtype: float64"
            ]
          },
          "metadata": {},
          "execution_count": 29
        }
      ]
    },
    {
      "cell_type": "markdown",
      "source": [
        "The most impactful features of the geadient boost classifiers are ;\n",
        "TSH                          6.102629e-01, \n",
        "FTI                          3.199696e-01, \n",
        "on_antithyroid_medication    2.049471e-02, \n",
        "age                          1.645471e-02, \n",
        "T4U                          1.260356e-02, \n",
        "TT4                          8.841830e-03, \n",
        "query_hypothyroid            5.556081e-03, \n",
        "on_thyroxine                 2.108055e-03, \n",
        "thyroid_surgery              1.591639e-03, \n",
        "T3                           1.555253e-03, \n",
        "pregnant                     3.625101e-04, \n",
        "T3_measured                  1.387675e-04, \n",
        "TT4_measured                 2.294013e-05, \n",
        "TSH_measured                 1.800157e-05, \n",
        "sex                          1.245018e-05, \n",
        "T4U_measured                 4.295808e-06, \n",
        "TBG                          2.467279e-06, \n",
        "TBG_measured                 1.233840e-07, \n",
        "goitre                       6.881628e-08, \n",
        "FTI_measured                 7.737494e-09."
      ],
      "metadata": {
        "id": "2s9ris8mn-Nd"
      }
    },
    {
      "cell_type": "markdown",
      "source": [
        "The model that i trust most is the random forest models these is because the number of features that are impactful in the prediction of the model are more compared to other models, hence making it the most trusted model in the prediction."
      ],
      "metadata": {
        "id": "RWaWDVlwop_8"
      }
    },
    {
      "cell_type": "code",
      "source": [
        ""
      ],
      "metadata": {
        "id": "BTOj_0ZejRbh"
      },
      "execution_count": 29,
      "outputs": []
    },
    {
      "cell_type": "markdown",
      "metadata": {
        "id": "m0MSlnWHnZ4o"
      },
      "source": [
        "# b) Part 2: SVM (Support Vector Machine)\n",
        "\n"
      ]
    },
    {
      "cell_type": "markdown",
      "metadata": {
        "id": "aGRXcigTo4L5"
      },
      "source": [
        "### (i)Linear"
      ]
    },
    {
      "cell_type": "code",
      "execution_count": 30,
      "metadata": {
        "colab": {
          "base_uri": "https://localhost:8080/"
        },
        "id": "mnGD9Z25pwPC",
        "outputId": "cf28df32-fb8f-4987-8ba1-94bdbceafea0"
      },
      "outputs": [
        {
          "output_type": "stream",
          "name": "stdout",
          "text": [
            "<class 'pandas.core.frame.DataFrame'>\n",
            "RangeIndex: 3163 entries, 0 to 3162\n",
            "Data columns (total 26 columns):\n",
            " #   Column                     Non-Null Count  Dtype  \n",
            "---  ------                     --------------  -----  \n",
            " 0   status                     3163 non-null   int64  \n",
            " 1   age                        3163 non-null   int64  \n",
            " 2   sex                        3163 non-null   int64  \n",
            " 3   on_thyroxine               3163 non-null   int64  \n",
            " 4   query_on_thyroxine         3163 non-null   int64  \n",
            " 5   on_antithyroid_medication  3163 non-null   int64  \n",
            " 6   thyroid_surgery            3163 non-null   int64  \n",
            " 7   query_hypothyroid          3163 non-null   int64  \n",
            " 8   query_hyperthyroid         3163 non-null   int64  \n",
            " 9   pregnant                   3163 non-null   int64  \n",
            " 10  sick                       3163 non-null   int64  \n",
            " 11  tumor                      3163 non-null   int64  \n",
            " 12  lithium                    3163 non-null   int64  \n",
            " 13  goitre                     3163 non-null   int64  \n",
            " 14  TSH_measured               3163 non-null   int64  \n",
            " 15  TSH                        3163 non-null   float64\n",
            " 16  T3_measured                3163 non-null   int64  \n",
            " 17  T3                         3163 non-null   float64\n",
            " 18  TT4_measured               3163 non-null   int64  \n",
            " 19  TT4                        3163 non-null   float64\n",
            " 20  T4U_measured               3163 non-null   int64  \n",
            " 21  T4U                        3163 non-null   float64\n",
            " 22  FTI_measured               3163 non-null   int64  \n",
            " 23  FTI                        3163 non-null   float64\n",
            " 24  TBG_measured               3163 non-null   int64  \n",
            " 25  TBG                        3163 non-null   float64\n",
            "dtypes: float64(6), int64(20)\n",
            "memory usage: 642.6 KB\n"
          ]
        }
      ],
      "source": [
        "## Applying the reduction algorithm: PCA. To reduce the number of features to  2 for easy visualization\n",
        "hypothroid.info()"
      ]
    },
    {
      "cell_type": "code",
      "execution_count": 31,
      "metadata": {
        "id": "s8K_zW0xruS9"
      },
      "outputs": [],
      "source": [
        "# The two features used for T3_measured, TT4 \n",
        "X_1 = hypothroid [['T3_measured', 'TT4']].values\n"
      ]
    },
    {
      "cell_type": "code",
      "execution_count": 32,
      "metadata": {
        "id": "L_oZWXXnvElI"
      },
      "outputs": [],
      "source": [
        "#Train the model again y and X1 variables\n",
        "#Train using the 75% of the datasets\n",
        "X_1_train, X_1_test, y_train, y_test = train_test_split(X_1, y, test_size=0.25, random_state=0)"
      ]
    },
    {
      "cell_type": "code",
      "execution_count": 33,
      "metadata": {
        "id": "luOjyfJSsoYL"
      },
      "outputs": [],
      "source": [
        "#Apply the linear model\n",
        "# Fit the model\n",
        "linear = SVC(kernel= 'linear', C = 10, gamma = 'auto')\n",
        "linear_model = linear.fit(X_1_train,y_train)"
      ]
    },
    {
      "cell_type": "code",
      "execution_count": 34,
      "metadata": {
        "id": "ju5PTpHqwGgG"
      },
      "outputs": [],
      "source": [
        "#Make the prediction using the linear model\n",
        "y_pred= linear_model.predict(X_1_test)"
      ]
    },
    {
      "cell_type": "code",
      "execution_count": 35,
      "metadata": {
        "colab": {
          "base_uri": "https://localhost:8080/"
        },
        "id": "1FbpxTbUwcIF",
        "outputId": "57353679-f1c9-4fea-8440-970e63545a01"
      },
      "outputs": [
        {
          "output_type": "stream",
          "name": "stdout",
          "text": [
            "Accuracy: 0.9683944374209861\n",
            "[[ 17  19]\n",
            " [  6 749]]\n"
          ]
        }
      ],
      "source": [
        "#Check the accuracy score and confusion matrix of the linear model\n",
        "print(\"Accuracy:\",metrics.accuracy_score(y_test, y_pred))\n",
        "print(confusion_matrix(y_test, y_pred))"
      ]
    },
    {
      "cell_type": "code",
      "execution_count": 36,
      "metadata": {
        "colab": {
          "base_uri": "https://localhost:8080/",
          "height": 363
        },
        "id": "8KnHun9LjuvE",
        "outputId": "7b09cca6-7792-4bab-bb78-c6ea31a515bc"
      },
      "outputs": [
        {
          "output_type": "stream",
          "name": "stderr",
          "text": [
            "*c* argument looks like a single numeric RGB or RGBA sequence, which should be avoided as value-mapping will have precedence in case its length matches with *x* & *y*.  Please use the *color* keyword-argument or provide a 2-D array with a single row if you intend to specify the same RGB or RGBA value for all points.\n",
            "*c* argument looks like a single numeric RGB or RGBA sequence, which should be avoided as value-mapping will have precedence in case its length matches with *x* & *y*.  Please use the *color* keyword-argument or provide a 2-D array with a single row if you intend to specify the same RGB or RGBA value for all points.\n"
          ]
        },
        {
          "output_type": "display_data",
          "data": {
            "text/plain": [
              "<Figure size 432x288 with 1 Axes>"
            ],
            "image/png": "[encoded data removed]"
          },
          "metadata": {
            "needs_background": "light"
          }
        }
      ],
      "source": [
        "#Visualize the linear model.\n",
        "from matplotlib.colors import ListedColormap\n",
        "X_set, y_set = X_1_test, y_test\n",
        "X1, X2 = np.meshgrid(np.arange(start = X_set[:, 0].min() - 1, stop = X_set[:, 0].max() + 1, step = 0.01),\n",
        "                     np.arange(start = X_set[:, 1].min() - 1, stop = X_set[:, 1].max() + 1, step = 0.01))\n",
        "plt.contourf(X1, X2, linear_model.predict(np.array([X1.ravel(), X2.ravel()]).T).reshape(X1.shape),\n",
        "             alpha = 0.75, cmap = ListedColormap(('blue', 'yellow')))\n",
        "plt.xlim(X1.min(), X1.max())\n",
        "plt.ylim(X2.min(), X2.max())\n",
        "for i, j in enumerate(np.unique(y_set)):\n",
        "    plt.scatter(X_set[y_set == j, 0], X_set[y_set == j, 1],\n",
        "                c = ListedColormap(('red', 'green'))(i), label = j)\n",
        "plt.title('Hypothroid symptoms classifications')\n",
        "plt.xlabel('T3_measured')\n",
        "plt.ylabel('TT4')\n",
        "plt.legend()\n",
        "plt.show()"
      ]
    },
    {
      "cell_type": "markdown",
      "metadata": {
        "id": "F-d5jHXk8pqc"
      },
      "source": [
        "### (ii) Radial basis function."
      ]
    },
    {
      "cell_type": "code",
      "execution_count": 37,
      "metadata": {
        "id": "c259Jd-IwIYt"
      },
      "outputs": [],
      "source": [
        "#Radial basis function rbf\n",
        "from sklearn.svm import SVC\n",
        "rbf = SVC(kernel ='rbf',gamma='auto', C=10, random_state = 0)\n",
        "rbf_model = rbf.fit(X_1_train, y_train)\n"
      ]
    },
    {
      "cell_type": "code",
      "execution_count": 38,
      "metadata": {
        "id": "X7EeFOi23xTG"
      },
      "outputs": [],
      "source": [
        "#predict the model\n",
        "y_pred = rbf_model.predict(X_1_test)"
      ]
    },
    {
      "cell_type": "code",
      "execution_count": 39,
      "metadata": {
        "colab": {
          "base_uri": "https://localhost:8080/"
        },
        "id": "mQaynhP24Jar",
        "outputId": "ca17e8cd-148b-41e5-c989-b33465177cb9"
      },
      "outputs": [
        {
          "output_type": "stream",
          "name": "stdout",
          "text": [
            "Accuracy: 0.9683944374209861\n",
            "[[ 23  13]\n",
            " [ 12 743]]\n"
          ]
        }
      ],
      "source": [
        "#Model evaluation\n",
        "#Check the accuracy score and confusion matrix of the linear model\n",
        "print(\"Accuracy:\",metrics.accuracy_score(y_test, y_pred))\n",
        "print(confusion_matrix(y_test, y_pred))"
      ]
    },
    {
      "cell_type": "code",
      "execution_count": 40,
      "metadata": {
        "id": "4z4ykfGnk3UL",
        "colab": {
          "base_uri": "https://localhost:8080/",
          "height": 363
        },
        "outputId": "3bf0779c-1c28-4049-9f38-fe3c193244c7"
      },
      "outputs": [
        {
          "output_type": "stream",
          "name": "stderr",
          "text": [
            "*c* argument looks like a single numeric RGB or RGBA sequence, which should be avoided as value-mapping will have precedence in case its length matches with *x* & *y*.  Please use the *color* keyword-argument or provide a 2-D array with a single row if you intend to specify the same RGB or RGBA value for all points.\n",
            "*c* argument looks like a single numeric RGB or RGBA sequence, which should be avoided as value-mapping will have precedence in case its length matches with *x* & *y*.  Please use the *color* keyword-argument or provide a 2-D array with a single row if you intend to specify the same RGB or RGBA value for all points.\n"
          ]
        },
        {
          "output_type": "display_data",
          "data": {
            "text/plain": [
              "<Figure size 432x288 with 1 Axes>"
            ],
            "image/png": "[encoded data removed]"
          },
          "metadata": {
            "needs_background": "light"
          }
        }
      ],
      "source": [
        "#Visualize the rbf model\n",
        "from matplotlib.colors import ListedColormap\n",
        "X_set, y_set = X_1_test, y_test\n",
        "X1, X2 = np.meshgrid(np.arange(start = X_set[:, 0].min() - 1, stop = X_set[:, 0].max() + 1, step = 0.01),\n",
        "                     np.arange(start = X_set[:, 1].min() - 1, stop = X_set[:, 1].max() + 1, step = 0.01))\n",
        "plt.contourf(X1, X2, rbf_model.predict(np.array([X1.ravel(), X2.ravel()]).T).reshape(X1.shape),\n",
        "             alpha = 0.75, cmap = ListedColormap(('red', 'green')))\n",
        "plt.xlim(X1.min(), X1.max())\n",
        "plt.ylim(X2.min(), X2.max())\n",
        "for i, j in enumerate(np.unique(y_set)):\n",
        "    plt.scatter(X_set[y_set == j, 0], X_set[y_set == j, 1],\n",
        "                c = ListedColormap(('blue', 'yellow'))(i), label = j)\n",
        "plt.title('Hypothroid symptoms classifications')\n",
        "plt.xlabel('T3_measured')\n",
        "plt.ylabel('TT4')\n",
        "plt.legend()\n",
        "plt.show()"
      ]
    },
    {
      "cell_type": "markdown",
      "metadata": {
        "id": "geLltAzq4yKD"
      },
      "source": [
        "### (iii) Polynomial kernel."
      ]
    },
    {
      "cell_type": "code",
      "execution_count": 42,
      "metadata": {
        "id": "yIe81AA95EVK"
      },
      "outputs": [],
      "source": [
        "#polynomial model \n",
        "from sklearn.svm import SVC\n",
        "poly = SVC(kernel ='poly', degree = 2, gamma = 'auto', C = 10, random_state = 0)\n",
        "poly_model = poly.fit(X_1_train, y_train)\n"
      ]
    },
    {
      "cell_type": "code",
      "execution_count": 43,
      "metadata": {
        "id": "tBaqA2Wu6JVT"
      },
      "outputs": [],
      "source": [
        "#Prediction model\n",
        "y_pred = poly_model.predict(X_1_test)"
      ]
    },
    {
      "cell_type": "code",
      "source": [
        ""
      ],
      "metadata": {
        "id": "YwtnINSl4qxO"
      },
      "execution_count": null,
      "outputs": []
    },
    {
      "cell_type": "code",
      "execution_count": 44,
      "metadata": {
        "id": "KZZ1ZXFb6d6M",
        "colab": {
          "base_uri": "https://localhost:8080/"
        },
        "outputId": "c2b095f2-9997-4b48-87db-047664df0362"
      },
      "outputs": [
        {
          "output_type": "stream",
          "name": "stdout",
          "text": [
            "Accuracy: 0.95448798988622\n",
            "[[  0  36]\n",
            " [  0 755]]\n"
          ]
        }
      ],
      "source": [
        "#Model evaluation\n",
        "#Check the accuracy score and confusion matrix of the polynomial model\n",
        "print(\"Accuracy:\",metrics.accuracy_score(y_test, y_pred))\n",
        "print(confusion_matrix(y_test, y_pred))"
      ]
    },
    {
      "cell_type": "code",
      "execution_count": 45,
      "metadata": {
        "id": "NHtrvg0Cmq64",
        "colab": {
          "base_uri": "https://localhost:8080/",
          "height": 363
        },
        "outputId": "7405240f-bc53-47bb-c575-8fd91bab7895"
      },
      "outputs": [
        {
          "output_type": "stream",
          "name": "stderr",
          "text": [
            "*c* argument looks like a single numeric RGB or RGBA sequence, which should be avoided as value-mapping will have precedence in case its length matches with *x* & *y*.  Please use the *color* keyword-argument or provide a 2-D array with a single row if you intend to specify the same RGB or RGBA value for all points.\n",
            "*c* argument looks like a single numeric RGB or RGBA sequence, which should be avoided as value-mapping will have precedence in case its length matches with *x* & *y*.  Please use the *color* keyword-argument or provide a 2-D array with a single row if you intend to specify the same RGB or RGBA value for all points.\n"
          ]
        },
        {
          "output_type": "display_data",
          "data": {
            "text/plain": [
              "<Figure size 432x288 with 1 Axes>"
            ],
            "image/png": "[encoded data removed]"
          },
          "metadata": {
            "needs_background": "light"
          }
        }
      ],
      "source": [
        "#Visualize the the polynomial model\n",
        "from matplotlib.colors import ListedColormap\n",
        "X_set, y_set = X_1_test, y_test\n",
        "X1, X2 = np.meshgrid(np.arange(start = X_set[:, 0].min() - 1, stop = X_set[:, 0].max() + 1, step = 0.01),\n",
        "                     np.arange(start = X_set[:, 1].min() - 1, stop = X_set[:, 1].max() + 1, step = 0.01))\n",
        "plt.contourf(X1, X2, poly_model.predict(np.array([X1.ravel(), X2.ravel()]).T).reshape(X1.shape),\n",
        "             alpha = 0.75, cmap = ListedColormap(('blue', 'yellow')))\n",
        "plt.xlim(X1.min(), X1.max())\n",
        "plt.ylim(X2.min(), X2.max())\n",
        "for i, j in enumerate(np.unique(y_set)):\n",
        "    plt.scatter(X_set[y_set == j, 0], X_set[y_set == j, 1],\n",
        "                c = ListedColormap(('red', 'green'))(i), label = j)\n",
        "plt.title('Hypothroid symptoms classifications')\n",
        "plt.xlabel('T3_measured')\n",
        "plt.ylabel('TT4')\n",
        "plt.legend()\n",
        "plt.show()"
      ]
    },
    {
      "cell_type": "markdown",
      "source": [
        "The kernel that performs best in the prediction is the rbf kernel."
      ],
      "metadata": {
        "id": "--VgDJmYyyF7"
      }
    },
    {
      "cell_type": "markdown",
      "source": [
        "The rbf kernel with the more features."
      ],
      "metadata": {
        "id": "0WrpNgza0CGf"
      }
    },
    {
      "cell_type": "code",
      "source": [
        "#Radial basis function rbf\n",
        "from sklearn.svm import SVC\n",
        "rbf = SVC(kernel ='rbf',gamma='auto', C=10, random_state = 0)\n",
        "rbf_model = rbf.fit(X_train, y_train)\n",
        "\n",
        "#predict the model\n",
        "y_pred = rbf_model.predict(X_test)\n",
        "#Model evaluation\n",
        "#Check the accuracy score and confusion matrix of the linear model\n",
        "print(\"Accuracy:\",metrics.accuracy_score(y_test, y_pred))\n",
        "print(confusion_matrix(y_test, y_pred))\n"
      ],
      "metadata": {
        "colab": {
          "base_uri": "https://localhost:8080/"
        },
        "id": "OZP18SAQ25uv",
        "outputId": "6a2fbaf7-1554-4b97-f8fb-2dfee3016ed9"
      },
      "execution_count": 46,
      "outputs": [
        {
          "output_type": "stream",
          "name": "stdout",
          "text": [
            "Accuracy: 0.9595448798988622\n",
            "[[  4  32]\n",
            " [  0 755]]\n"
          ]
        }
      ]
    },
    {
      "cell_type": "markdown",
      "source": [
        "The accuracy score of the rbf model with the two features is 96.84% compared to the one where more features are used which is slightly lower at  95.96%. This is beacuse with more features included in the model the impact of features in creating the model is weaken by the features that have weak impact in the prediction of the model compared to when the two features are used where the impacts are less thus having high accuracy score."
      ],
      "metadata": {
        "id": "Lh4LBnqh8B9t"
      }
    },
    {
      "cell_type": "markdown",
      "source": [
        "# 6. Challenging the solution."
      ],
      "metadata": {
        "id": "9dreZvUn-W2S"
      }
    },
    {
      "cell_type": "markdown",
      "source": [
        "Even though the classifier models implemented achieve accuracy scored above the one set by the metric score of success, the impact of some features in the prediction of the models were still much less impactfull. Which still posses some doubtfullness about the accuracy of the models."
      ],
      "metadata": {
        "id": "ynmHUpsv-_NK"
      }
    },
    {
      "cell_type": "markdown",
      "source": [
        "# 7. Follow up questions."
      ],
      "metadata": {
        "id": "3kdUJ1sjCWLf"
      }
    },
    {
      "cell_type": "markdown",
      "source": [
        "### a). Do we have the right data?\n",
        "\n",
        "Yes the data was appropriate since it had the number of features to be used to build the models.Futhermore the data was of appropriate size to be used for the project."
      ],
      "metadata": {
        "id": "PzTBQpbcCrpd"
      }
    },
    {
      "cell_type": "markdown",
      "source": [
        "### b) Do we need another data to answer the question.\n",
        "\n",
        "We don't need another data to answer the questions since the data we had was appropriate for the project."
      ],
      "metadata": {
        "id": "kCKBt8LLDe-2"
      }
    },
    {
      "cell_type": "markdown",
      "source": [
        "### c) Do we have the right question.\n",
        "\n",
        "Yes the question was appropriate. "
      ],
      "metadata": {
        "id": "dvu5zetHD_NW"
      }
    }
  ],
  "metadata": {
    "colab": {
      "collapsed_sections": [],
      "name": "Moringa_Dsc14_Core_Machine_Week 8_IP_Jonah_Okiru_04_2022",
      "provenance": [],
      "authorship_tag": "ABX9TyNzN3Ahmz4sUVeEotmH4cYl",
      "include_colab_link": true
    },
    "kernelspec": {
      "display_name": "Python 3",
      "name": "python3"
    },
    "language_info": {
      "name": "python"
    }
  },
  "nbformat": 4,
  "nbformat_minor": 0
}