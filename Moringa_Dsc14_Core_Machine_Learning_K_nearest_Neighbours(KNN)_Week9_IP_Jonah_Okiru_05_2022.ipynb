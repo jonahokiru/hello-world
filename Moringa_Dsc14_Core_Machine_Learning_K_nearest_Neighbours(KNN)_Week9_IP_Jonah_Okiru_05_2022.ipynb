{
  "nbformat": 4,
  "nbformat_minor": 0,
  "metadata": {
    "colab": {
      "name": "Moringa_Dsc14_Core_Machine_Learning_K-nearest_Neighbours(KNN)_Week9_IP_Jonah_Okiru_05_2022",
      "provenance": [],
      "collapsed_sections": [],
      "authorship_tag": "ABX9TyOt+kROfKjifprKuvHCDRNY",
      "include_colab_link": true
    },
    "kernelspec": {
      "name": "python3",
      "display_name": "Python 3"
    },
    "language_info": {
      "name": "python"
    }
  },
  "cells": [
    {
      "cell_type": "markdown",
      "metadata": {
        "id": "view-in-github",
        "colab_type": "text"
      },
      "source": [
        "<a href=\"https://colab.research.google.com/github/jonahokiru/hello-world/blob/master/Moringa_Dsc14_Core_Machine_Learning_K_nearest_Neighbours(KNN)_Week9_IP_Jonah_Okiru_05_2022.ipynb\" target=\"_parent\"><img src=\"https://colab.research.google.com/assets/colab-badge.svg\" alt=\"Open In Colab\"/></a>"
      ]
    },
    {
      "cell_type": "markdown",
      "source": [
        "# 1. Define the question."
      ],
      "metadata": {
        "id": "aF9WjpmRwQIA"
      }
    },
    {
      "cell_type": "markdown",
      "source": [
        "## a) Specify the data analytic question.\n",
        "\n",
        "To predict weather the pasenger survived or died given the passengers information."
      ],
      "metadata": {
        "id": "5KvpHZtNOlXZ"
      }
    },
    {
      "cell_type": "markdown",
      "source": [
        "## b) Define the metric of success.\n",
        "\n",
        "> To predict if the passenger survived or died with the accuracy score of 80%."
      ],
      "metadata": {
        "id": "6coDTCLmP1ZA"
      }
    },
    {
      "cell_type": "markdown",
      "source": [
        "### c) Understanding the context.\n",
        "\n",
        "The titanic data frame describe the survival status of individual passengers\n",
        "on the Titanic. The titanic data frame does not contain information from the crew, but it does contain actual ages of half of the passengers. The principal source for data about Titanic passengers is the Encyclopedia Titanica. The datasets used here were begun by a variety of researchers. One of the original sources is Eaton & Haas (1994) Titanic:Triumph and Tragedy, Patrick Stephens Ltd, which includes a passenger list created by many researchers and edited by Michael A. Findlay. The variables on our extracted dataset are pclass, survived, name, age, embarked, embarked, room, ticket, boat, and sex."
      ],
      "metadata": {
        "id": "ot_mbOk8Q0-t"
      }
    },
    {
      "cell_type": "markdown",
      "source": [
        "## d) Record the experimental design.\n",
        "\n",
        "Hypothesis: Predict the wether the passenger died or survived given the passengers information.\n",
        "\n",
        "Y- axis: Survived(1=yes, 0=no)\n",
        "\n",
        "X-axis: class, Name, Sex, Age, SibSp, Parch, Ticket, Fare, Cabin, Embarked.\n",
        "\n",
        "Experimental setup: predict wether the passenger survived or not based on the features stated on the X-axis.\n",
        "\n",
        "Design of the experiment: Analyze the data from 891 passengers."
      ],
      "metadata": {
        "id": "7ntxcJCdTJ_6"
      }
    },
    {
      "cell_type": "markdown",
      "source": [
        "## e) Relevance of the data.\n",
        "\n",
        "The provided data had enough number of features and records to aid in the building of the KNN algaorithm."
      ],
      "metadata": {
        "id": "SPqUcBM0OdIM"
      }
    },
    {
      "cell_type": "markdown",
      "source": [
        "# 2. Read the data."
      ],
      "metadata": {
        "id": "KTbL2rPowl9C"
      }
    },
    {
      "cell_type": "code",
      "source": [
        "#import the neccessary libraries\n",
        "import numpy as np\n",
        "import matplotlib.pyplot as plt\n",
        "import pandas as pd"
      ],
      "metadata": {
        "id": "Nk0aAye8yVWc"
      },
      "execution_count": null,
      "outputs": []
    },
    {
      "cell_type": "code",
      "source": [
        "#load the data\n",
        "train=pd.read_csv('https://archive.org/download/train5_202002/train%20%285%29.csv')"
      ],
      "metadata": {
        "id": "CGuicvIkyYfD"
      },
      "execution_count": null,
      "outputs": []
    },
    {
      "cell_type": "markdown",
      "source": [
        "# 3. Checking the data."
      ],
      "metadata": {
        "id": "SKypf9mMwuB7"
      }
    },
    {
      "cell_type": "code",
      "source": [
        "#Determine the number of records in the dataset\n",
        "train.shape"
      ],
      "metadata": {
        "colab": {
          "base_uri": "https://localhost:8080/"
        },
        "id": "3KMjgNeKy29M",
        "outputId": "1291daf7-8db4-4236-930c-dc5568f53c30"
      },
      "execution_count": null,
      "outputs": [
        {
          "output_type": "execute_result",
          "data": {
            "text/plain": [
              "(891, 12)"
            ]
          },
          "metadata": {},
          "execution_count": 47
        }
      ]
    },
    {
      "cell_type": "markdown",
      "source": [
        "The data set has 891 records and 11 features and one label column."
      ],
      "metadata": {
        "id": "yrUv5glwQo5q"
      }
    },
    {
      "cell_type": "code",
      "source": [
        "#preview of the top of the dataset\n",
        "train.head(2)"
      ],
      "metadata": {
        "colab": {
          "base_uri": "https://localhost:8080/",
          "height": 112
        },
        "id": "2nNHnNZGzLcN",
        "outputId": "c86a34f9-fbc3-446c-9ff5-2974e1a4a579"
      },
      "execution_count": null,
      "outputs": [
        {
          "output_type": "execute_result",
          "data": {
            "text/plain": [
              "   PassengerId  Survived  Pclass  \\\n",
              "0            1         0       3   \n",
              "1            2         1       1   \n",
              "\n",
              "                                                Name     Sex   Age  SibSp  \\\n",
              "0                            Braund, Mr. Owen Harris    male  22.0      1   \n",
              "1  Cumings, Mrs. John Bradley (Florence Briggs Th...  female  38.0      1   \n",
              "\n",
              "   Parch     Ticket     Fare Cabin Embarked  \n",
              "0      0  A/5 21171   7.2500   NaN        S  \n",
              "1      0   PC 17599  71.2833   C85        C  "
            ],
            "text/html": [
              "\n",
              "  <div id=\"df-e5f1efd5-8d1a-4572-bc46-a2d62f518114\">\n",
              "    <div class=\"colab-df-container\">\n",
              "      <div>\n",
              "<style scoped>\n",
              "    .dataframe tbody tr th:only-of-type {\n",
              "        vertical-align: middle;\n",
              "    }\n",
              "\n",
              "    .dataframe tbody tr th {\n",
              "        vertical-align: top;\n",
              "    }\n",
              "\n",
              "    .dataframe thead th {\n",
              "        text-align: right;\n",
              "    }\n",
              "</style>\n",
              "<table border=\"1\" class=\"dataframe\">\n",
              "  <thead>\n",
              "    <tr style=\"text-align: right;\">\n",
              "      <th></th>\n",
              "      <th>PassengerId</th>\n",
              "      <th>Survived</th>\n",
              "      <th>Pclass</th>\n",
              "      <th>Name</th>\n",
              "      <th>Sex</th>\n",
              "      <th>Age</th>\n",
              "      <th>SibSp</th>\n",
              "      <th>Parch</th>\n",
              "      <th>Ticket</th>\n",
              "      <th>Fare</th>\n",
              "      <th>Cabin</th>\n",
              "      <th>Embarked</th>\n",
              "    </tr>\n",
              "  </thead>\n",
              "  <tbody>\n",
              "    <tr>\n",
              "      <th>0</th>\n",
              "      <td>1</td>\n",
              "      <td>0</td>\n",
              "      <td>3</td>\n",
              "      <td>Braund, Mr. Owen Harris</td>\n",
              "      <td>male</td>\n",
              "      <td>22.0</td>\n",
              "      <td>1</td>\n",
              "      <td>0</td>\n",
              "      <td>A/5 21171</td>\n",
              "      <td>7.2500</td>\n",
              "      <td>NaN</td>\n",
              "      <td>S</td>\n",
              "    </tr>\n",
              "    <tr>\n",
              "      <th>1</th>\n",
              "      <td>2</td>\n",
              "      <td>1</td>\n",
              "      <td>1</td>\n",
              "      <td>Cumings, Mrs. John Bradley (Florence Briggs Th...</td>\n",
              "      <td>female</td>\n",
              "      <td>38.0</td>\n",
              "      <td>1</td>\n",
              "      <td>0</td>\n",
              "      <td>PC 17599</td>\n",
              "      <td>71.2833</td>\n",
              "      <td>C85</td>\n",
              "      <td>C</td>\n",
              "    </tr>\n",
              "  </tbody>\n",
              "</table>\n",
              "</div>\n",
              "      <button class=\"colab-df-convert\" onclick=\"convertToInteractive('df-e5f1efd5-8d1a-4572-bc46-a2d62f518114')\"\n",
              "              title=\"Convert this dataframe to an interactive table.\"\n",
              "              style=\"display:none;\">\n",
              "        \n",
              "  <svg xmlns=\"http://www.w3.org/2000/svg\" height=\"24px\"viewBox=\"0 0 24 24\"\n",
              "       width=\"24px\">\n",
              "    <path d=\"M0 0h24v24H0V0z\" fill=\"none\"/>\n",
              "    <path d=\"M18.56 5.44l.94 2.06.94-2.06 2.06-.94-2.06-.94-.94-2.06-.94 2.06-2.06.94zm-11 1L8.5 8.5l.94-2.06 2.06-.94-2.06-.94L8.5 2.5l-.94 2.06-2.06.94zm10 10l.94 2.06.94-2.06 2.06-.94-2.06-.94-.94-2.06-.94 2.06-2.06.94z\"/><path d=\"M17.41 7.96l-1.37-1.37c-.4-.4-.92-.59-1.43-.59-.52 0-1.04.2-1.43.59L10.3 9.45l-7.72 7.72c-.78.78-.78 2.05 0 2.83L4 21.41c.39.39.9.59 1.41.59.51 0 1.02-.2 1.41-.59l7.78-7.78 2.81-2.81c.8-.78.8-2.07 0-2.86zM5.41 20L4 18.59l7.72-7.72 1.47 1.35L5.41 20z\"/>\n",
              "  </svg>\n",
              "      </button>\n",
              "      \n",
              "  <style>\n",
              "    .colab-df-container {\n",
              "      display:flex;\n",
              "      flex-wrap:wrap;\n",
              "      gap: 12px;\n",
              "    }\n",
              "\n",
              "    .colab-df-convert {\n",
              "      background-color: #E8F0FE;\n",
              "      border: none;\n",
              "      border-radius: 50%;\n",
              "      cursor: pointer;\n",
              "      display: none;\n",
              "      fill: #1967D2;\n",
              "      height: 32px;\n",
              "      padding: 0 0 0 0;\n",
              "      width: 32px;\n",
              "    }\n",
              "\n",
              "    .colab-df-convert:hover {\n",
              "      background-color: #E2EBFA;\n",
              "      box-shadow: 0px 1px 2px rgba(60, 64, 67, 0.3), 0px 1px 3px 1px rgba(60, 64, 67, 0.15);\n",
              "      fill: #174EA6;\n",
              "    }\n",
              "\n",
              "    [theme=dark] .colab-df-convert {\n",
              "      background-color: #3B4455;\n",
              "      fill: #D2E3FC;\n",
              "    }\n",
              "\n",
              "    [theme=dark] .colab-df-convert:hover {\n",
              "      background-color: #434B5C;\n",
              "      box-shadow: 0px 1px 3px 1px rgba(0, 0, 0, 0.15);\n",
              "      filter: drop-shadow(0px 1px 2px rgba(0, 0, 0, 0.3));\n",
              "      fill: #FFFFFF;\n",
              "    }\n",
              "  </style>\n",
              "\n",
              "      <script>\n",
              "        const buttonEl =\n",
              "          document.querySelector('#df-e5f1efd5-8d1a-4572-bc46-a2d62f518114 button.colab-df-convert');\n",
              "        buttonEl.style.display =\n",
              "          google.colab.kernel.accessAllowed ? 'block' : 'none';\n",
              "\n",
              "        async function convertToInteractive(key) {\n",
              "          const element = document.querySelector('#df-e5f1efd5-8d1a-4572-bc46-a2d62f518114');\n",
              "          const dataTable =\n",
              "            await google.colab.kernel.invokeFunction('convertToInteractive',\n",
              "                                                     [key], {});\n",
              "          if (!dataTable) return;\n",
              "\n",
              "          const docLinkHtml = 'Like what you see? Visit the ' +\n",
              "            '<a target=\"_blank\" href=https://colab.research.google.com/notebooks/data_table.ipynb>data table notebook</a>'\n",
              "            + ' to learn more about interactive tables.';\n",
              "          element.innerHTML = '';\n",
              "          dataTable['output_type'] = 'display_data';\n",
              "          await google.colab.output.renderOutput(dataTable, element);\n",
              "          const docLink = document.createElement('div');\n",
              "          docLink.innerHTML = docLinkHtml;\n",
              "          element.appendChild(docLink);\n",
              "        }\n",
              "      </script>\n",
              "    </div>\n",
              "  </div>\n",
              "  "
            ]
          },
          "metadata": {},
          "execution_count": 48
        }
      ]
    },
    {
      "cell_type": "code",
      "source": [
        "#Preview of the bottom of the dataset\n",
        "train.tail(2)"
      ],
      "metadata": {
        "colab": {
          "base_uri": "https://localhost:8080/",
          "height": 112
        },
        "id": "2gYGWcIIzZec",
        "outputId": "171c2135-7b64-4aec-a3dc-1a2c7257ecf2"
      },
      "execution_count": null,
      "outputs": [
        {
          "output_type": "execute_result",
          "data": {
            "text/plain": [
              "     PassengerId  Survived  Pclass                   Name   Sex   Age  SibSp  \\\n",
              "889          890         1       1  Behr, Mr. Karl Howell  male  26.0      0   \n",
              "890          891         0       3    Dooley, Mr. Patrick  male  32.0      0   \n",
              "\n",
              "     Parch  Ticket   Fare Cabin Embarked  \n",
              "889      0  111369  30.00  C148        C  \n",
              "890      0  370376   7.75   NaN        Q  "
            ],
            "text/html": [
              "\n",
              "  <div id=\"df-da376aba-2dc2-4637-a0f3-3b43275935a1\">\n",
              "    <div class=\"colab-df-container\">\n",
              "      <div>\n",
              "<style scoped>\n",
              "    .dataframe tbody tr th:only-of-type {\n",
              "        vertical-align: middle;\n",
              "    }\n",
              "\n",
              "    .dataframe tbody tr th {\n",
              "        vertical-align: top;\n",
              "    }\n",
              "\n",
              "    .dataframe thead th {\n",
              "        text-align: right;\n",
              "    }\n",
              "</style>\n",
              "<table border=\"1\" class=\"dataframe\">\n",
              "  <thead>\n",
              "    <tr style=\"text-align: right;\">\n",
              "      <th></th>\n",
              "      <th>PassengerId</th>\n",
              "      <th>Survived</th>\n",
              "      <th>Pclass</th>\n",
              "      <th>Name</th>\n",
              "      <th>Sex</th>\n",
              "      <th>Age</th>\n",
              "      <th>SibSp</th>\n",
              "      <th>Parch</th>\n",
              "      <th>Ticket</th>\n",
              "      <th>Fare</th>\n",
              "      <th>Cabin</th>\n",
              "      <th>Embarked</th>\n",
              "    </tr>\n",
              "  </thead>\n",
              "  <tbody>\n",
              "    <tr>\n",
              "      <th>889</th>\n",
              "      <td>890</td>\n",
              "      <td>1</td>\n",
              "      <td>1</td>\n",
              "      <td>Behr, Mr. Karl Howell</td>\n",
              "      <td>male</td>\n",
              "      <td>26.0</td>\n",
              "      <td>0</td>\n",
              "      <td>0</td>\n",
              "      <td>111369</td>\n",
              "      <td>30.00</td>\n",
              "      <td>C148</td>\n",
              "      <td>C</td>\n",
              "    </tr>\n",
              "    <tr>\n",
              "      <th>890</th>\n",
              "      <td>891</td>\n",
              "      <td>0</td>\n",
              "      <td>3</td>\n",
              "      <td>Dooley, Mr. Patrick</td>\n",
              "      <td>male</td>\n",
              "      <td>32.0</td>\n",
              "      <td>0</td>\n",
              "      <td>0</td>\n",
              "      <td>370376</td>\n",
              "      <td>7.75</td>\n",
              "      <td>NaN</td>\n",
              "      <td>Q</td>\n",
              "    </tr>\n",
              "  </tbody>\n",
              "</table>\n",
              "</div>\n",
              "      <button class=\"colab-df-convert\" onclick=\"convertToInteractive('df-da376aba-2dc2-4637-a0f3-3b43275935a1')\"\n",
              "              title=\"Convert this dataframe to an interactive table.\"\n",
              "              style=\"display:none;\">\n",
              "        \n",
              "  <svg xmlns=\"http://www.w3.org/2000/svg\" height=\"24px\"viewBox=\"0 0 24 24\"\n",
              "       width=\"24px\">\n",
              "    <path d=\"M0 0h24v24H0V0z\" fill=\"none\"/>\n",
              "    <path d=\"M18.56 5.44l.94 2.06.94-2.06 2.06-.94-2.06-.94-.94-2.06-.94 2.06-2.06.94zm-11 1L8.5 8.5l.94-2.06 2.06-.94-2.06-.94L8.5 2.5l-.94 2.06-2.06.94zm10 10l.94 2.06.94-2.06 2.06-.94-2.06-.94-.94-2.06-.94 2.06-2.06.94z\"/><path d=\"M17.41 7.96l-1.37-1.37c-.4-.4-.92-.59-1.43-.59-.52 0-1.04.2-1.43.59L10.3 9.45l-7.72 7.72c-.78.78-.78 2.05 0 2.83L4 21.41c.39.39.9.59 1.41.59.51 0 1.02-.2 1.41-.59l7.78-7.78 2.81-2.81c.8-.78.8-2.07 0-2.86zM5.41 20L4 18.59l7.72-7.72 1.47 1.35L5.41 20z\"/>\n",
              "  </svg>\n",
              "      </button>\n",
              "      \n",
              "  <style>\n",
              "    .colab-df-container {\n",
              "      display:flex;\n",
              "      flex-wrap:wrap;\n",
              "      gap: 12px;\n",
              "    }\n",
              "\n",
              "    .colab-df-convert {\n",
              "      background-color: #E8F0FE;\n",
              "      border: none;\n",
              "      border-radius: 50%;\n",
              "      cursor: pointer;\n",
              "      display: none;\n",
              "      fill: #1967D2;\n",
              "      height: 32px;\n",
              "      padding: 0 0 0 0;\n",
              "      width: 32px;\n",
              "    }\n",
              "\n",
              "    .colab-df-convert:hover {\n",
              "      background-color: #E2EBFA;\n",
              "      box-shadow: 0px 1px 2px rgba(60, 64, 67, 0.3), 0px 1px 3px 1px rgba(60, 64, 67, 0.15);\n",
              "      fill: #174EA6;\n",
              "    }\n",
              "\n",
              "    [theme=dark] .colab-df-convert {\n",
              "      background-color: #3B4455;\n",
              "      fill: #D2E3FC;\n",
              "    }\n",
              "\n",
              "    [theme=dark] .colab-df-convert:hover {\n",
              "      background-color: #434B5C;\n",
              "      box-shadow: 0px 1px 3px 1px rgba(0, 0, 0, 0.15);\n",
              "      filter: drop-shadow(0px 1px 2px rgba(0, 0, 0, 0.3));\n",
              "      fill: #FFFFFF;\n",
              "    }\n",
              "  </style>\n",
              "\n",
              "      <script>\n",
              "        const buttonEl =\n",
              "          document.querySelector('#df-da376aba-2dc2-4637-a0f3-3b43275935a1 button.colab-df-convert');\n",
              "        buttonEl.style.display =\n",
              "          google.colab.kernel.accessAllowed ? 'block' : 'none';\n",
              "\n",
              "        async function convertToInteractive(key) {\n",
              "          const element = document.querySelector('#df-da376aba-2dc2-4637-a0f3-3b43275935a1');\n",
              "          const dataTable =\n",
              "            await google.colab.kernel.invokeFunction('convertToInteractive',\n",
              "                                                     [key], {});\n",
              "          if (!dataTable) return;\n",
              "\n",
              "          const docLinkHtml = 'Like what you see? Visit the ' +\n",
              "            '<a target=\"_blank\" href=https://colab.research.google.com/notebooks/data_table.ipynb>data table notebook</a>'\n",
              "            + ' to learn more about interactive tables.';\n",
              "          element.innerHTML = '';\n",
              "          dataTable['output_type'] = 'display_data';\n",
              "          await google.colab.output.renderOutput(dataTable, element);\n",
              "          const docLink = document.createElement('div');\n",
              "          docLink.innerHTML = docLinkHtml;\n",
              "          element.appendChild(docLink);\n",
              "        }\n",
              "      </script>\n",
              "    </div>\n",
              "  </div>\n",
              "  "
            ]
          },
          "metadata": {},
          "execution_count": 49
        }
      ]
    },
    {
      "cell_type": "code",
      "source": [
        "#Check the columns datatypes\n",
        "train.info()"
      ],
      "metadata": {
        "colab": {
          "base_uri": "https://localhost:8080/"
        },
        "id": "8zaAItiPzn8d",
        "outputId": "86a269af-211e-41f5-fb0a-6999764a2fe9"
      },
      "execution_count": null,
      "outputs": [
        {
          "output_type": "stream",
          "name": "stdout",
          "text": [
            "<class 'pandas.core.frame.DataFrame'>\n",
            "RangeIndex: 891 entries, 0 to 890\n",
            "Data columns (total 12 columns):\n",
            " #   Column       Non-Null Count  Dtype  \n",
            "---  ------       --------------  -----  \n",
            " 0   PassengerId  891 non-null    int64  \n",
            " 1   Survived     891 non-null    int64  \n",
            " 2   Pclass       891 non-null    int64  \n",
            " 3   Name         891 non-null    object \n",
            " 4   Sex          891 non-null    object \n",
            " 5   Age          714 non-null    float64\n",
            " 6   SibSp        891 non-null    int64  \n",
            " 7   Parch        891 non-null    int64  \n",
            " 8   Ticket       891 non-null    object \n",
            " 9   Fare         891 non-null    float64\n",
            " 10  Cabin        204 non-null    object \n",
            " 11  Embarked     889 non-null    object \n",
            "dtypes: float64(2), int64(5), object(5)\n",
            "memory usage: 83.7+ KB\n"
          ]
        }
      ]
    },
    {
      "cell_type": "markdown",
      "source": [
        "The columns datatypes of the datasets are 2 columns(floats), 5 columns(Integer), 5 columns(Objects) respectively."
      ],
      "metadata": {
        "id": "d67Wt5kWQ0GS"
      }
    },
    {
      "cell_type": "markdown",
      "source": [
        "# 4. External data source validation."
      ],
      "metadata": {
        "id": "qjB1XVIrw34R"
      }
    },
    {
      "cell_type": "markdown",
      "source": [
        "[Link](https://www.kaggle.com/competitions/titanic/data)"
      ],
      "metadata": {
        "id": "VjNh9XdzV2tK"
      }
    },
    {
      "cell_type": "markdown",
      "source": [
        "# 5. Tidying the data."
      ],
      "metadata": {
        "id": "_PXP-upmxBsy"
      }
    },
    {
      "cell_type": "code",
      "source": [
        "#Check for the outliers in the data.\n",
        "train.boxplot()"
      ],
      "metadata": {
        "colab": {
          "base_uri": "https://localhost:8080/",
          "height": 340
        },
        "id": "QweMZdMd0BoO",
        "outputId": "c932e4fc-4706-42df-f321-adbbe1771748"
      },
      "execution_count": null,
      "outputs": [
        {
          "output_type": "stream",
          "name": "stderr",
          "text": [
            "/usr/local/lib/python3.7/dist-packages/matplotlib/cbook/__init__.py:1376: VisibleDeprecationWarning: Creating an ndarray from ragged nested sequences (which is a list-or-tuple of lists-or-tuples-or ndarrays with different lengths or shapes) is deprecated. If you meant to do this, you must specify 'dtype=object' when creating the ndarray.\n",
            "  X = np.atleast_1d(X.T if isinstance(X, np.ndarray) else np.asarray(X))\n"
          ]
        },
        {
          "output_type": "execute_result",
          "data": {
            "text/plain": [
              "<matplotlib.axes._subplots.AxesSubplot at 0x7f04f8e4c950>"
            ]
          },
          "metadata": {},
          "execution_count": 51
        },
        {
          "output_type": "display_data",
          "data": {
            "text/plain": [
              "<Figure size 432x288 with 1 Axes>"
            ],
            "image/png": "[encoded data removed]"
          },
          "metadata": {
            "needs_background": "light"
          }
        }
      ]
    },
    {
      "cell_type": "markdown",
      "source": [
        "The above visualizations displays the boxplots of the floats and intenger datatypes features. From the visualizations outliers is detected  in the fare, age, sibsp and parch features."
      ],
      "metadata": {
        "id": "9NjAiX1VRW01"
      }
    },
    {
      "cell_type": "code",
      "source": [
        "#Check for the percentage of missing data in each column of the dataset\n",
        "train.isnull().sum()/len(train) * 100"
      ],
      "metadata": {
        "colab": {
          "base_uri": "https://localhost:8080/"
        },
        "id": "jiJnw8c50Veg",
        "outputId": "7db706a8-cc7d-44a2-ee23-d431ecb451a8"
      },
      "execution_count": null,
      "outputs": [
        {
          "output_type": "execute_result",
          "data": {
            "text/plain": [
              "PassengerId     0.000000\n",
              "Survived        0.000000\n",
              "Pclass          0.000000\n",
              "Name            0.000000\n",
              "Sex             0.000000\n",
              "Age            19.865320\n",
              "SibSp           0.000000\n",
              "Parch           0.000000\n",
              "Ticket          0.000000\n",
              "Fare            0.000000\n",
              "Cabin          77.104377\n",
              "Embarked        0.224467\n",
              "dtype: float64"
            ]
          },
          "metadata": {},
          "execution_count": 52
        }
      ]
    },
    {
      "cell_type": "markdown",
      "source": [
        "The columns with the missing values are cabin(77% of the values missing), age(19% of the values missing) and embarked(0.225% of the values missing). The other remaining columns does not coontain the any missing values."
      ],
      "metadata": {
        "id": "B0ILUnxoTaz7"
      }
    },
    {
      "cell_type": "code",
      "source": [
        "#Dealing with missing data\n",
        "#For the cabin column since more than 77% of the data is missing, the column would be dropped.\n",
        "# and for the column of age around 20% of the dataset is missing, since the missing data is only 20% \n",
        "# i will replace it with average of the column since the missing data wouldn't have much effect on the data\n",
        "# and for the embarked column less than 1% of the data is missing, i will replace it with the previous value in the column\n",
        "\n",
        "#Drop the cabin column\n",
        "train.drop(['Cabin'], axis=1, inplace =True)\n",
        "\n",
        "#Replace the missing value of the age column with mean of the age column\n",
        "train['Age'].fillna(train['Age'].mean(), inplace=True)\n",
        "\n",
        "#Replace the missing value in the embarked column with previous value in the \n",
        "#column.\n",
        "train['Embarked'].fillna(method='pad', inplace=True)"
      ],
      "metadata": {
        "id": "0AsQAgl51m94"
      },
      "execution_count": null,
      "outputs": []
    },
    {
      "cell_type": "code",
      "source": [
        "#Further data cleaning\n",
        "#drop the name column and the passenger id columns since they're not needed in the building the model\n",
        "train.drop(['PassengerId', 'Name'], axis=1, inplace=True)"
      ],
      "metadata": {
        "id": "oiJl66pJ5wgX"
      },
      "execution_count": null,
      "outputs": []
    },
    {
      "cell_type": "markdown",
      "source": [
        "# 6. Exploratory data Analysis."
      ],
      "metadata": {
        "id": "Is55BcvBxLti"
      }
    },
    {
      "cell_type": "markdown",
      "source": [
        "## (i)Plot of the univariates."
      ],
      "metadata": {
        "id": "Rdz7iXCuO4-f"
      }
    },
    {
      "cell_type": "code",
      "source": [
        "import seaborn as sns\n",
        "#Univariate visualization of the passengers who survived, died\n",
        "sns.countplot(x=train['Survived'], data=train)"
      ],
      "metadata": {
        "colab": {
          "base_uri": "https://localhost:8080/",
          "height": 297
        },
        "id": "gT1Dz0w7eZz0",
        "outputId": "8e864ee6-0678-4374-f6dc-7dd13a245fcf"
      },
      "execution_count": null,
      "outputs": [
        {
          "output_type": "execute_result",
          "data": {
            "text/plain": [
              "<matplotlib.axes._subplots.AxesSubplot at 0x7f04f8c247d0>"
            ]
          },
          "metadata": {},
          "execution_count": 55
        },
        {
          "output_type": "display_data",
          "data": {
            "text/plain": [
              "<Figure size 432x288 with 1 Axes>"
            ],
            "image/png": "[encoded data removed]"
          },
          "metadata": {
            "needs_background": "light"
          }
        }
      ]
    },
    {
      "cell_type": "markdown",
      "source": [
        "From the survived univariate visualization displayed above the number of passengers who died is more than those who survived."
      ],
      "metadata": {
        "id": "UW9TpJi0XzXB"
      }
    },
    {
      "cell_type": "code",
      "source": [
        "#Univariate visulization of class\n",
        "sns.countplot(x=train['Pclass'], data=train)"
      ],
      "metadata": {
        "colab": {
          "base_uri": "https://localhost:8080/",
          "height": 297
        },
        "id": "K7kt37MWYKpw",
        "outputId": "f0b0b04d-f56a-4ee1-f125-58d6a61bae0c"
      },
      "execution_count": null,
      "outputs": [
        {
          "output_type": "execute_result",
          "data": {
            "text/plain": [
              "<matplotlib.axes._subplots.AxesSubplot at 0x7f04f8bdb110>"
            ]
          },
          "metadata": {},
          "execution_count": 56
        },
        {
          "output_type": "display_data",
          "data": {
            "text/plain": [
              "<Figure size 432x288 with 1 Axes>"
            ],
            "image/png": "[encoded data removed]"
          },
          "metadata": {
            "needs_background": "light"
          }
        }
      ]
    },
    {
      "cell_type": "markdown",
      "source": [
        "From the visualization displayed above most of the passengers were from the 3 class, followed by class 1 and class2 respectively."
      ],
      "metadata": {
        "id": "7BWSuhtCfDn8"
      }
    },
    {
      "cell_type": "code",
      "source": [
        "#univariate visualization of the sex of the passengers\n",
        "sns.countplot(x=train['Sex'], data=train)"
      ],
      "metadata": {
        "colab": {
          "base_uri": "https://localhost:8080/",
          "height": 299
        },
        "id": "BYh4718KfUwj",
        "outputId": "1f38fd55-15d9-499b-c273-cb6f2a13ade8"
      },
      "execution_count": null,
      "outputs": [
        {
          "output_type": "execute_result",
          "data": {
            "text/plain": [
              "<matplotlib.axes._subplots.AxesSubplot at 0x7f04f8b48ad0>"
            ]
          },
          "metadata": {},
          "execution_count": 57
        },
        {
          "output_type": "display_data",
          "data": {
            "text/plain": [
              "<Figure size 432x288 with 1 Axes>"
            ],
            "image/png": "[encoded data removed]"
          },
          "metadata": {
            "needs_background": "light"
          }
        }
      ]
    },
    {
      "cell_type": "markdown",
      "source": [
        "From the visualization , we noted that the majority of the passengers were male."
      ],
      "metadata": {
        "id": "zylnB823fr-b"
      }
    },
    {
      "cell_type": "code",
      "source": [
        "#univariate visualization of the SibSp\n",
        "sns.countplot(x=train['SibSp'], data=train)"
      ],
      "metadata": {
        "colab": {
          "base_uri": "https://localhost:8080/",
          "height": 297
        },
        "id": "qHm_jan2iMPr",
        "outputId": "58121126-b387-4930-a33f-370b513ed1f8"
      },
      "execution_count": null,
      "outputs": [
        {
          "output_type": "execute_result",
          "data": {
            "text/plain": [
              "<matplotlib.axes._subplots.AxesSubplot at 0x7f04f8b25c50>"
            ]
          },
          "metadata": {},
          "execution_count": 58
        },
        {
          "output_type": "display_data",
          "data": {
            "text/plain": [
              "<Figure size 432x288 with 1 Axes>"
            ],
            "image/png": "[encoded data removed]"
          },
          "metadata": {
            "needs_background": "light"
          }
        }
      ]
    },
    {
      "cell_type": "code",
      "source": [
        "#Univariate visualization of the tickets\n",
        "sns.countplot(x=train['Ticket'], data=train)\n"
      ],
      "metadata": {
        "colab": {
          "base_uri": "https://localhost:8080/",
          "height": 297
        },
        "id": "0EKXV_mUi341",
        "outputId": "82c717f3-8618-41e0-b0a3-5e855aed5594"
      },
      "execution_count": null,
      "outputs": [
        {
          "output_type": "execute_result",
          "data": {
            "text/plain": [
              "<matplotlib.axes._subplots.AxesSubplot at 0x7f04f891f950>"
            ]
          },
          "metadata": {},
          "execution_count": 59
        },
        {
          "output_type": "display_data",
          "data": {
            "text/plain": [
              "<Figure size 432x288 with 1 Axes>"
            ],
            "image/png": "[encoded data removed]"
          },
          "metadata": {
            "needs_background": "light"
          }
        }
      ]
    },
    {
      "cell_type": "code",
      "source": [
        "#Univaraite visualization of Embarked\n",
        "sns.countplot(x=train['Embarked'], data=train)"
      ],
      "metadata": {
        "colab": {
          "base_uri": "https://localhost:8080/",
          "height": 297
        },
        "id": "821kAUNijny0",
        "outputId": "f3c41d7a-121f-49de-c00a-0f9fee42e567"
      },
      "execution_count": null,
      "outputs": [
        {
          "output_type": "execute_result",
          "data": {
            "text/plain": [
              "<matplotlib.axes._subplots.AxesSubplot at 0x7f04f8526710>"
            ]
          },
          "metadata": {},
          "execution_count": 60
        },
        {
          "output_type": "display_data",
          "data": {
            "text/plain": [
              "<Figure size 432x288 with 1 Axes>"
            ],
            "image/png": "[encoded data removed]"
          },
          "metadata": {
            "needs_background": "light"
          }
        }
      ]
    },
    {
      "cell_type": "markdown",
      "source": [
        "From the visualization the S embarked had the highest follwed by c and d respectively."
      ],
      "metadata": {
        "id": "NW1rhy9sj7Aq"
      }
    },
    {
      "cell_type": "markdown",
      "source": [
        "### (ii)Plot of the bivariates"
      ],
      "metadata": {
        "id": "Thh2IwCEkScM"
      }
    },
    {
      "cell_type": "code",
      "source": [
        "#Bivariate plot of survived vs age\n",
        "plt.scatter(x=train['Survived'], y=train['Age'])\n",
        "plt.title('Survived vs age')\n",
        "plt.xlabel('Survived')\n",
        "plt.ylabel('age')\n",
        "plt.show()"
      ],
      "metadata": {
        "colab": {
          "base_uri": "https://localhost:8080/",
          "height": 295
        },
        "id": "S8MR3peomAWZ",
        "outputId": "c3cb963b-1676-41d2-f176-8a862f12d3e9"
      },
      "execution_count": null,
      "outputs": [
        {
          "output_type": "display_data",
          "data": {
            "text/plain": [
              "<Figure size 432x288 with 1 Axes>"
            ],
            "image/png": "[encoded data removed]"
          },
          "metadata": {
            "needs_background": "light"
          }
        }
      ]
    },
    {
      "cell_type": "markdown",
      "source": [
        "From the bivariate visualization above the age of the customers who survived and those who didn't ranges from 0 to 80 for those who survived and 0 to 75 for those who didn't survived."
      ],
      "metadata": {
        "id": "CZczZoP-pZt2"
      }
    },
    {
      "cell_type": "code",
      "source": [
        "#Bivariate plot of survived vs fair\n",
        "plt.scatter(x=train['Survived'], y= train['Fare'])\n",
        "plt.title('Survived vs fare')\n",
        "plt.xlabel('survived')\n",
        "plt.ylabel('fare')\n",
        "plt.show()"
      ],
      "metadata": {
        "colab": {
          "base_uri": "https://localhost:8080/",
          "height": 295
        },
        "id": "plpi9hKtnx40",
        "outputId": "490ddb81-f2b8-4c17-f3fb-ac341b8d24ec"
      },
      "execution_count": null,
      "outputs": [
        {
          "output_type": "display_data",
          "data": {
            "text/plain": [
              "<Figure size 432x288 with 1 Axes>"
            ],
            "image/png": "[encoded data removed]"
          },
          "metadata": {
            "needs_background": "light"
          }
        }
      ]
    },
    {
      "cell_type": "markdown",
      "source": [
        "From the bivariate visualization we can conclude that the majority of the passengers who lost there lives they had pay the fare of less than $200."
      ],
      "metadata": {
        "id": "fJzWeTzQqG4f"
      }
    },
    {
      "cell_type": "markdown",
      "source": [
        "### (iii)Features reduction."
      ],
      "metadata": {
        "id": "aHAxVxUhrR4h"
      }
    },
    {
      "cell_type": "code",
      "source": [
        "#Change the categorical variables to numericals using label encoding\n",
        "from sklearn.preprocessing import LabelEncoder\n",
        "# creating instance of labelencoder\n",
        "labelencoder = LabelEncoder()\n",
        "train['Sex'] = labelencoder.fit_transform(train['Sex'])\n",
        "train['Ticket'] = labelencoder.fit_transform(train['Ticket'])\n",
        "train['Embarked'] = labelencoder.fit_transform(train['Embarked'])\n"
      ],
      "metadata": {
        "id": "bDfDN1JMtC4m"
      },
      "execution_count": null,
      "outputs": []
    },
    {
      "cell_type": "markdown",
      "source": [
        "Conversion of categorical variables from objects to numericals is importance since machine learning models only identify numerical values."
      ],
      "metadata": {
        "id": "gEsR3YOnK-Zm"
      }
    },
    {
      "cell_type": "code",
      "source": [
        "#Split the data into response variable y and predictor varaiable X(The features).\n",
        "X= train.drop(['Survived'], axis=1).values\n",
        "y= train['Survived'].values"
      ],
      "metadata": {
        "id": "Txok8GXDr4Hc"
      },
      "execution_count": null,
      "outputs": []
    },
    {
      "cell_type": "code",
      "source": [
        "#Apply the PCA reduction technique on the predictor variable X to reduce the number of feautres to 2.\n",
        "from sklearn.decomposition import PCA\n",
        "pca = PCA(n_components=2)\n",
        "principalComponents = pca.fit_transform(X)\n",
        "principalComponents"
      ],
      "metadata": {
        "colab": {
          "base_uri": "https://localhost:8080/"
        },
        "id": "OPTvvzEIsl7c",
        "outputId": "b990a500-4b67-413f-c8f9-c46046298464"
      },
      "execution_count": null,
      "outputs": [
        {
          "output_type": "execute_result",
          "data": {
            "text/plain": [
              "array([[ 184.59526876,  -24.4491308 ],\n",
              "       [ 257.28461942,   40.26959423],\n",
              "       [ 330.57169931,  -23.12120276],\n",
              "       ...,\n",
              "       [ 336.49868257,   -7.47506798],\n",
              "       [-330.50007502,   -3.53626411],\n",
              "       [ 127.54918297,  -23.91121514]])"
            ]
          },
          "metadata": {},
          "execution_count": 65
        }
      ]
    },
    {
      "cell_type": "markdown",
      "source": [
        "PCA helps in reducing the size of the features so that KNN models can classify the models clases with high level of accuracy."
      ],
      "metadata": {
        "id": "anr79YJvLjRz"
      }
    },
    {
      "cell_type": "markdown",
      "source": [
        "# 7. Implementing the solution."
      ],
      "metadata": {
        "id": "xJbuWpIxxVTW"
      }
    },
    {
      "cell_type": "markdown",
      "source": [
        "### (i). randomly partioning the dataset into 80-20 sets."
      ],
      "metadata": {
        "id": "sZpvJFHzAPn5"
      }
    },
    {
      "cell_type": "code",
      "source": [
        "#Split the data into train and test sets\n",
        "from sklearn.model_selection import train_test_split\n",
        "X_train, X_test, y_train, y_test =train_test_split(X, y, test_size=0.2, random_state=2)\n"
      ],
      "metadata": {
        "id": "cHk9h4LZvfwY"
      },
      "execution_count": null,
      "outputs": []
    },
    {
      "cell_type": "markdown",
      "source": [
        "Splitting the data into test and training set helps in avoididng overfitting, as it gives us the idea on how the algorithm performs on the testing face, since the algorathm is tested on unseen data.\n",
        "\n",
        "\n",
        "\n",
        "\n"
      ],
      "metadata": {
        "id": "JEdoSn98EnOt"
      }
    },
    {
      "cell_type": "code",
      "source": [
        "#Feature scaling\n",
        "from sklearn.preprocessing import StandardScaler\n",
        "scaler=StandardScaler()\n",
        "scaler= scaler.fit(X_train)\n",
        "X_train = scaler.transform(X_train)\n",
        "X_test = scaler.transform(X_test)"
      ],
      "metadata": {
        "id": "sxVYimG6xBrR"
      },
      "execution_count": null,
      "outputs": []
    },
    {
      "cell_type": "markdown",
      "source": [
        "Since KNN models is the distanced based algorithm, scaling of the features is importance as it helps all the features to contribute equally in the generations of the final results."
      ],
      "metadata": {
        "id": "QrWfSB8ZWfU4"
      }
    },
    {
      "cell_type": "code",
      "source": [
        "#Find the optimal k value for the kNeighbors claffier.\n",
        "error_rate = []\n",
        "for j in range(1,100):\n",
        " knn = KNeighborsClassifier(n_neighbors=j)\n",
        " knn.fit(X_train,y_train)\n",
        " pred_j = knn.predict(X_test)\n",
        " error_rate.append(np.mean(pred_j != y_test))\n",
        "\n",
        "plt.figure(figsize=(14,8))\n",
        "plt.plot(range(1,100),error_rate,color='green', linestyle='dotted', \n",
        "         marker='o',markerfacecolor='blue', markersize=12)\n",
        "plt.title('Error Rate vs. K Value')\n",
        "plt.xlabel('K')\n",
        "plt.ylabel('Error Rate')\n",
        "print(\"Minimum error:-\",min(error_rate),\"at K =\",error_rate.index(min(error_rate)))"
      ],
      "metadata": {
        "colab": {
          "base_uri": "https://localhost:8080/",
          "height": 531
        },
        "id": "wc3FAfqkKTGc",
        "outputId": "35cd1422-908b-4ffe-ea63-6e01b9a7f08d"
      },
      "execution_count": null,
      "outputs": [
        {
          "output_type": "stream",
          "name": "stdout",
          "text": [
            "Minimum error:- 0.19553072625698323 at K = 2\n"
          ]
        },
        {
          "output_type": "display_data",
          "data": {
            "text/plain": [
              "<Figure size 1008x576 with 1 Axes>"
            ],
            "image/png": "[encoded data removed]"
          },
          "metadata": {
            "needs_background": "light"
          }
        }
      ]
    },
    {
      "cell_type": "markdown",
      "source": [
        "The above codes finds the optimal value of k , that will be used by the algorithm when classifying the classes based on the votes of it's neighbors."
      ],
      "metadata": {
        "id": "rxqZIX8HGGA9"
      }
    },
    {
      "cell_type": "code",
      "source": [
        "#Training and prediction\n",
        "from sklearn.neighbors import KNeighborsClassifier\n",
        "classifier = KNeighborsClassifier(n_neighbors=2, metric='euclidean')\n",
        "classifier.fit(X_train, y_train)"
      ],
      "metadata": {
        "colab": {
          "base_uri": "https://localhost:8080/"
        },
        "id": "3-UrTgrcyNKt",
        "outputId": "adbae3c3-3564-4a1b-9985-14acf72b8b9d"
      },
      "execution_count": null,
      "outputs": [
        {
          "output_type": "execute_result",
          "data": {
            "text/plain": [
              "KNeighborsClassifier(metric='euclidean', n_neighbors=2)"
            ]
          },
          "metadata": {},
          "execution_count": 69
        }
      ]
    },
    {
      "cell_type": "code",
      "source": [
        "#The prediction\n",
        "y_pred=classifier.predict(X_test)\n",
        "y_pred"
      ],
      "metadata": {
        "colab": {
          "base_uri": "https://localhost:8080/"
        },
        "id": "AbWZUN0Tzp1H",
        "outputId": "88576580-1489-4711-ff3c-e50f5190396e"
      },
      "execution_count": null,
      "outputs": [
        {
          "output_type": "execute_result",
          "data": {
            "text/plain": [
              "array([1, 0, 1, 0, 0, 0, 0, 0, 0, 0, 0, 1, 1, 0, 0, 0, 1, 0, 0, 0, 0, 0,\n",
              "       0, 0, 0, 1, 0, 0, 0, 0, 0, 0, 0, 0, 0, 0, 1, 0, 0, 0, 0, 0, 1, 0,\n",
              "       0, 0, 1, 0, 0, 1, 0, 0, 0, 0, 0, 0, 1, 0, 0, 0, 0, 1, 0, 0, 1, 0,\n",
              "       1, 0, 0, 0, 0, 0, 1, 0, 0, 1, 0, 1, 1, 0, 1, 0, 0, 0, 1, 1, 0, 0,\n",
              "       1, 0, 0, 0, 0, 0, 0, 0, 0, 1, 0, 0, 0, 0, 0, 1, 0, 0, 1, 0, 0, 0,\n",
              "       1, 0, 0, 0, 1, 1, 0, 0, 0, 0, 1, 0, 0, 0, 0, 0, 0, 1, 0, 0, 0, 0,\n",
              "       0, 1, 0, 0, 0, 0, 0, 0, 1, 1, 1, 1, 0, 1, 0, 0, 0, 1, 0, 1, 0, 0,\n",
              "       1, 0, 0, 1, 1, 0, 0, 0, 0, 0, 1, 1, 0, 0, 1, 0, 0, 0, 0, 0, 0, 0,\n",
              "       0, 0, 0])"
            ]
          },
          "metadata": {},
          "execution_count": 70
        }
      ]
    },
    {
      "cell_type": "markdown",
      "source": [
        "Test the performance of the model by passing the test set of the data through it ."
      ],
      "metadata": {
        "id": "CW8dFEu9Z9IO"
      }
    },
    {
      "cell_type": "code",
      "source": [
        "#Evaluate the alogarithm using classification report and confusion matrix\n",
        "from sklearn.metrics import classification_report, confusion_matrix, accuracy_score\n",
        "#Confusion matrix and classification report.\n",
        "print(accuracy_score(y_test, y_pred))\n",
        "print(confusion_matrix(y_test, y_pred))\n",
        "print(classification_report(y_test, y_pred))\n"
      ],
      "metadata": {
        "colab": {
          "base_uri": "https://localhost:8080/"
        },
        "id": "ezVU6X2Az_50",
        "outputId": "c700fa43-7bdf-4d27-d880-cd2c9a52f4c8"
      },
      "execution_count": null,
      "outputs": [
        {
          "output_type": "stream",
          "name": "stdout",
          "text": [
            "0.7486033519553073\n",
            "[[95  5]\n",
            " [40 39]]\n",
            "              precision    recall  f1-score   support\n",
            "\n",
            "           0       0.70      0.95      0.81       100\n",
            "           1       0.89      0.49      0.63        79\n",
            "\n",
            "    accuracy                           0.75       179\n",
            "   macro avg       0.80      0.72      0.72       179\n",
            "weighted avg       0.78      0.75      0.73       179\n",
            "\n"
          ]
        }
      ]
    },
    {
      "cell_type": "markdown",
      "source": [
        "With the split of the data into 80-20 set, the accuracy score of the model achieved is 75%,the true positive and negative of the model is 95 and 39 respectively. While the true negative and positive of the model is 40 and 5 respectively, with the k(n_neighbors)=2, and metric= euclidean."
      ],
      "metadata": {
        "id": "5yBPCYOvHE7C"
      }
    },
    {
      "cell_type": "markdown",
      "source": [
        "### (ii). Randomly partioning the data into 70-30 sets."
      ],
      "metadata": {
        "id": "RFKg5tNtAwEV"
      }
    },
    {
      "cell_type": "code",
      "source": [
        "#Split the data into train and test sets\n",
        "from sklearn.model_selection import train_test_split\n",
        "X_train, X_test, y_train, y_test =train_test_split(X, y, test_size=0.3, random_state=2)"
      ],
      "metadata": {
        "id": "XXyiE0KKBA5X"
      },
      "execution_count": null,
      "outputs": []
    },
    {
      "cell_type": "markdown",
      "source": [
        "Splitting the data into test and training set helps in avoididng overfitting, as it gives us the idea on how the algorithm performs on the testing face, since the algorathm is tested on unseen data."
      ],
      "metadata": {
        "id": "c1axa19_KkXB"
      }
    },
    {
      "cell_type": "code",
      "source": [
        "#Feature scaling\n",
        "from sklearn.preprocessing import StandardScaler\n",
        "scaler=StandardScaler()\n",
        "scaler= scaler.fit(X_train)\n",
        "X_train = scaler.transform(X_train)\n",
        "X_test = scaler.transform(X_test)"
      ],
      "metadata": {
        "id": "OiPnpOfRBLia"
      },
      "execution_count": null,
      "outputs": []
    },
    {
      "cell_type": "markdown",
      "source": [
        "Since KNN models is the distanced based algorithm, scaling of the features is importance as it helps all the features to contribute equally in the generations of the final results."
      ],
      "metadata": {
        "id": "A36JQKVTKzE7"
      }
    },
    {
      "cell_type": "code",
      "source": [
        "#Training and prediction\n",
        "from sklearn.neighbors import KNeighborsClassifier\n",
        "classifier = KNeighborsClassifier(n_neighbors=2, metric='euclidean')\n",
        "classifier.fit(X_train, y_train)"
      ],
      "metadata": {
        "colab": {
          "base_uri": "https://localhost:8080/"
        },
        "id": "bWw-upSIBR8u",
        "outputId": "351e7ef0-7273-46fb-f42f-45aa38044f73"
      },
      "execution_count": null,
      "outputs": [
        {
          "output_type": "execute_result",
          "data": {
            "text/plain": [
              "KNeighborsClassifier(metric='euclidean', n_neighbors=2)"
            ]
          },
          "metadata": {},
          "execution_count": 74
        }
      ]
    },
    {
      "cell_type": "code",
      "source": [
        "#The prediction\n",
        "y_pred=classifier.predict(X_test)\n",
        "y_pred"
      ],
      "metadata": {
        "colab": {
          "base_uri": "https://localhost:8080/"
        },
        "id": "tDMqIMLvBR6y",
        "outputId": "83e996d2-2505-4558-a259-e9351832126b"
      },
      "execution_count": null,
      "outputs": [
        {
          "output_type": "execute_result",
          "data": {
            "text/plain": [
              "array([1, 0, 1, 0, 0, 0, 0, 0, 0, 0, 0, 1, 1, 0, 0, 0, 1, 0, 0, 0, 0, 0,\n",
              "       0, 0, 0, 1, 0, 0, 0, 0, 0, 0, 0, 0, 0, 0, 1, 0, 0, 0, 0, 0, 1, 0,\n",
              "       0, 0, 1, 0, 0, 1, 0, 0, 0, 0, 0, 0, 1, 0, 0, 0, 0, 1, 0, 0, 1, 0,\n",
              "       1, 0, 0, 0, 0, 0, 1, 0, 0, 1, 0, 1, 1, 0, 1, 0, 0, 0, 1, 1, 0, 0,\n",
              "       0, 0, 0, 0, 0, 0, 0, 0, 0, 1, 0, 0, 0, 0, 1, 1, 0, 0, 1, 0, 0, 0,\n",
              "       1, 0, 0, 0, 1, 1, 0, 0, 0, 0, 1, 0, 0, 0, 0, 0, 0, 1, 0, 0, 0, 0,\n",
              "       1, 1, 0, 0, 0, 0, 0, 0, 1, 1, 1, 1, 0, 1, 0, 0, 0, 1, 0, 1, 0, 0,\n",
              "       1, 0, 0, 1, 1, 0, 0, 0, 0, 0, 1, 1, 0, 0, 1, 0, 0, 0, 0, 0, 0, 0,\n",
              "       0, 0, 0, 0, 0, 0, 0, 0, 0, 0, 0, 1, 0, 0, 1, 0, 0, 0, 0, 0, 0, 0,\n",
              "       0, 0, 0, 1, 0, 0, 1, 0, 0, 0, 0, 0, 1, 0, 0, 0, 0, 1, 0, 1, 0, 0,\n",
              "       0, 0, 1, 1, 0, 0, 1, 0, 1, 0, 1, 0, 0, 0, 0, 0, 0, 1, 0, 1, 0, 0,\n",
              "       0, 0, 0, 0, 0, 0, 0, 0, 0, 0, 1, 0, 0, 0, 0, 0, 0, 0, 0, 0, 0, 1,\n",
              "       0, 0, 0, 1])"
            ]
          },
          "metadata": {},
          "execution_count": 75
        }
      ]
    },
    {
      "cell_type": "markdown",
      "source": [
        "Test the performance of the model by passing the test set of the data through it "
      ],
      "metadata": {
        "id": "pNqNBHc7a3ml"
      }
    },
    {
      "cell_type": "code",
      "source": [
        "#Evaluate the alogarithm using classification report and confusion matrix\n",
        "from sklearn.metrics import classification_report, confusion_matrix, accuracy_score\n",
        "#Confusion matrix and classification report.\n",
        "print(accuracy_score(y_test, y_pred))\n",
        "print(confusion_matrix(y_test, y_pred))\n",
        "print(classification_report(y_test, y_pred))"
      ],
      "metadata": {
        "colab": {
          "base_uri": "https://localhost:8080/"
        },
        "id": "IIwo0hGGBcod",
        "outputId": "cad8786b-5200-4e4b-ee5f-9688e7319b38"
      },
      "execution_count": null,
      "outputs": [
        {
          "output_type": "stream",
          "name": "stdout",
          "text": [
            "0.7611940298507462\n",
            "[[151   9]\n",
            " [ 55  53]]\n",
            "              precision    recall  f1-score   support\n",
            "\n",
            "           0       0.73      0.94      0.83       160\n",
            "           1       0.85      0.49      0.62       108\n",
            "\n",
            "    accuracy                           0.76       268\n",
            "   macro avg       0.79      0.72      0.72       268\n",
            "weighted avg       0.78      0.76      0.74       268\n",
            "\n"
          ]
        }
      ]
    },
    {
      "cell_type": "markdown",
      "source": [
        "With the split of the data into 70-30 set, the accuracy score of the model is 76%,the true positive and negative increased  of the model increased to  151 and 53 respectively. While the flase positive and negative also increased to 55 and 9 respectively, with the k(n_neighbors)=2, and metric= euclidean."
      ],
      "metadata": {
        "id": "4nigiRkBHuG7"
      }
    },
    {
      "cell_type": "markdown",
      "source": [
        "### (iii). Randomly partioning the data into 60-40 sets."
      ],
      "metadata": {
        "id": "XkXShvK3Bqd5"
      }
    },
    {
      "cell_type": "code",
      "source": [
        "#Split the data into train and test sets\n",
        "from sklearn.model_selection import train_test_split\n",
        "X_train, X_test, y_train, y_test =train_test_split(X, y, test_size=0.4, random_state=2)"
      ],
      "metadata": {
        "id": "PYliNi4wB5Lz"
      },
      "execution_count": null,
      "outputs": []
    },
    {
      "cell_type": "markdown",
      "source": [
        "Splitting the data into test and training set helps in avoiding overfitting, as it gives us the idea on how the algorithm performs on the testing face, before the algorathm is tested on unseen data."
      ],
      "metadata": {
        "id": "GF-KcIGiKnhY"
      }
    },
    {
      "cell_type": "code",
      "source": [
        "#Feature scaling\n",
        "from sklearn.preprocessing import StandardScaler\n",
        "scaler=StandardScaler()\n",
        "scaler= scaler.fit(X_train)\n",
        "X_train = scaler.transform(X_train)\n",
        "X_test = scaler.transform(X_test)"
      ],
      "metadata": {
        "id": "oWXZZvbmCAvd"
      },
      "execution_count": null,
      "outputs": []
    },
    {
      "cell_type": "markdown",
      "source": [
        "Since KNN models is the distanced based algorithm, scaling of the features is importance as it helps all the features to contribute equally in the generations of the final results."
      ],
      "metadata": {
        "id": "diGXRy2GK16K"
      }
    },
    {
      "cell_type": "code",
      "source": [
        "#Training and prediction\n",
        "from sklearn.neighbors import KNeighborsClassifier\n",
        "classifier = KNeighborsClassifier(n_neighbors=2, metric='euclidean')\n",
        "classifier.fit(X_train, y_train)"
      ],
      "metadata": {
        "colab": {
          "base_uri": "https://localhost:8080/"
        },
        "id": "MEh_8cYXCGH3",
        "outputId": "b176c636-b740-457f-f7de-f134e1c01389"
      },
      "execution_count": null,
      "outputs": [
        {
          "output_type": "execute_result",
          "data": {
            "text/plain": [
              "KNeighborsClassifier(metric='euclidean', n_neighbors=2)"
            ]
          },
          "metadata": {},
          "execution_count": 79
        }
      ]
    },
    {
      "cell_type": "code",
      "source": [
        "#The prediction\n",
        "y_pred=classifier.predict(X_test)\n",
        "y_pred"
      ],
      "metadata": {
        "colab": {
          "base_uri": "https://localhost:8080/"
        },
        "id": "VxOdQSMzCK5x",
        "outputId": "7498e2b1-05f0-4427-d00c-6748a85fa040"
      },
      "execution_count": null,
      "outputs": [
        {
          "output_type": "execute_result",
          "data": {
            "text/plain": [
              "array([0, 0, 1, 0, 0, 0, 0, 0, 0, 0, 0, 1, 1, 0, 0, 0, 1, 0, 0, 0, 0, 0,\n",
              "       0, 0, 0, 1, 0, 0, 0, 0, 0, 0, 0, 0, 0, 0, 1, 0, 0, 0, 0, 0, 1, 0,\n",
              "       0, 0, 1, 0, 0, 1, 0, 0, 0, 0, 0, 0, 1, 0, 0, 0, 0, 1, 0, 0, 1, 0,\n",
              "       1, 0, 0, 0, 0, 0, 1, 0, 0, 1, 0, 1, 1, 0, 1, 0, 0, 0, 1, 1, 0, 0,\n",
              "       0, 1, 0, 0, 0, 0, 0, 0, 0, 1, 0, 0, 0, 0, 1, 1, 0, 0, 1, 1, 0, 0,\n",
              "       0, 0, 0, 0, 0, 1, 0, 0, 0, 0, 1, 0, 0, 0, 0, 0, 0, 1, 0, 0, 0, 0,\n",
              "       1, 1, 0, 0, 0, 0, 0, 0, 1, 1, 1, 1, 0, 1, 0, 0, 0, 1, 0, 0, 0, 0,\n",
              "       1, 0, 0, 1, 1, 0, 0, 0, 0, 0, 1, 1, 0, 0, 1, 0, 0, 0, 0, 0, 0, 0,\n",
              "       0, 0, 0, 0, 0, 0, 0, 0, 1, 0, 0, 0, 0, 0, 1, 0, 0, 0, 0, 0, 0, 0,\n",
              "       0, 0, 0, 1, 0, 0, 1, 0, 0, 0, 0, 0, 1, 0, 0, 0, 0, 1, 0, 1, 0, 0,\n",
              "       0, 0, 1, 1, 0, 0, 1, 0, 1, 0, 1, 0, 0, 0, 0, 0, 0, 1, 0, 1, 0, 0,\n",
              "       0, 0, 0, 0, 0, 0, 0, 0, 0, 0, 1, 0, 0, 0, 0, 0, 0, 0, 0, 0, 0, 1,\n",
              "       0, 0, 0, 1, 0, 1, 0, 0, 0, 0, 0, 0, 1, 1, 1, 0, 1, 0, 0, 0, 0, 0,\n",
              "       1, 0, 1, 0, 1, 0, 0, 0, 1, 0, 0, 1, 0, 0, 1, 0, 0, 1, 0, 1, 0, 1,\n",
              "       0, 1, 0, 1, 0, 1, 0, 1, 1, 0, 0, 1, 1, 1, 0, 0, 1, 0, 0, 0, 0, 0,\n",
              "       0, 0, 0, 0, 0, 0, 0, 0, 0, 0, 0, 0, 0, 1, 0, 0, 0, 0, 0, 0, 0, 0,\n",
              "       0, 1, 1, 0, 0])"
            ]
          },
          "metadata": {},
          "execution_count": 80
        }
      ]
    },
    {
      "cell_type": "markdown",
      "source": [
        "Test the performance of the model by passing the test set of the data through it "
      ],
      "metadata": {
        "id": "MyOejsEOat4G"
      }
    },
    {
      "cell_type": "code",
      "source": [
        "#Evaluate the alogarithm using classification report and confusion matrix\n",
        "from sklearn.metrics import classification_report, confusion_matrix, accuracy_score\n",
        "#Confusion matrix and classification report.\n",
        "print(accuracy_score(y_test, y_pred))\n",
        "print(confusion_matrix(y_test, y_pred))\n",
        "print(classification_report(y_test, y_pred))"
      ],
      "metadata": {
        "colab": {
          "base_uri": "https://localhost:8080/"
        },
        "id": "NZ2Fyd8VCQD3",
        "outputId": "ba5b6350-4eab-4451-9eb5-ef34e587b97c"
      },
      "execution_count": null,
      "outputs": [
        {
          "output_type": "stream",
          "name": "stdout",
          "text": [
            "0.7591036414565826\n",
            "[[197  12]\n",
            " [ 74  74]]\n",
            "              precision    recall  f1-score   support\n",
            "\n",
            "           0       0.73      0.94      0.82       209\n",
            "           1       0.86      0.50      0.63       148\n",
            "\n",
            "    accuracy                           0.76       357\n",
            "   macro avg       0.79      0.72      0.73       357\n",
            "weighted avg       0.78      0.76      0.74       357\n",
            "\n"
          ]
        }
      ]
    },
    {
      "cell_type": "markdown",
      "source": [
        "With the split of the data into 60-40 set, the accuracy score of the model is 76%,the true positive and negative increased to  197 and 74 respectively, While the false positive and negative is 74 and 12 respectively, with the k(n_neighbors)=2, and metric= euclidean."
      ],
      "metadata": {
        "id": "SIrTnm53KIDZ"
      }
    },
    {
      "cell_type": "markdown",
      "source": [
        "The KNN model performnce can further be improved by properly splitting the data into a proper test size. The test size should properly selected so that to avoid overfitting hence inaccurate models. From the classifications above it has been clearly noted accuracy score increases with the increase in test size, as the test size increases, the the size of the training data decreases, thus making the model to have less data to learn from, hence making model to shift its classification towards overfitting during the test ."
      ],
      "metadata": {
        "id": "REf3a3SlMIdf"
      }
    },
    {
      "cell_type": "markdown",
      "source": [
        "# 8. Challenging the solution."
      ],
      "metadata": {
        "id": "o8LS2uZTxcwK"
      }
    },
    {
      "cell_type": "markdown",
      "source": [
        "Even though the model managed to achieve the high accuracy scores it still failed to achieve the set metric of success score of 80%. which posses the question about the effectiveness of the model in the prediction the data."
      ],
      "metadata": {
        "id": "tYn5RGGDXEO6"
      }
    },
    {
      "cell_type": "markdown",
      "source": [
        "# 9. Follow up question."
      ],
      "metadata": {
        "id": "Q0DRVYcmxlqs"
      }
    },
    {
      "cell_type": "markdown",
      "source": [
        "### a) Do we have the right data.\n",
        "\n",
        "Yes, the data was appropriate, since it had enough number of features to be used in building of the model."
      ],
      "metadata": {
        "id": "C-Mr0VLBYPFG"
      }
    },
    {
      "cell_type": "markdown",
      "source": [
        "### b) Do we need another data to answer the question.\n",
        "\n",
        "No, we don't need another data to answer the question the provided data was appropriate for the project."
      ],
      "metadata": {
        "id": "Gr0i1dNeYniv"
      }
    },
    {
      "cell_type": "markdown",
      "source": [
        "### c) Do we have the right question.\n",
        "\n",
        "Yes, the question was appropriate."
      ],
      "metadata": {
        "id": "r36sFonQZGoo"
      }
    }
  ]
}